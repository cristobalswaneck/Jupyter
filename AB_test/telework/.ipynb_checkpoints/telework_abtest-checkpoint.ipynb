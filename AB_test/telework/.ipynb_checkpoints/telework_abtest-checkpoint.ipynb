{
 "cells": [
  {
   "cell_type": "code",
   "execution_count": 10,
   "id": "96c84589",
   "metadata": {},
   "outputs": [],
   "source": [
    "# Tratamiento de datos\n",
    "# ==============================================================================\n",
    "import pandas as pd\n",
    "import numpy as np\n",
    "\n",
    "# Gráficos\n",
    "# ==============================================================================\n",
    "import matplotlib.pyplot as plt\n",
    "from matplotlib import style\n",
    "import seaborn as sns\n",
    "\n",
    "# Configuración matplotlib\n",
    "# ==============================================================================\n",
    "style.use('ggplot') or plt.style.use('ggplot')\n",
    "\n",
    "# Configuración warnings\n",
    "# ==============================================================================\n",
    "import warnings\n",
    "warnings.filterwarnings('ignore')\n",
    "\n",
    "# Varios\n",
    "# ==============================================================================\n",
    "from tqdm import tqdm"
   ]
  },
  {
   "cell_type": "code",
   "execution_count": 11,
   "id": "c640eea4",
   "metadata": {
    "scrolled": true
   },
   "outputs": [
    {
     "name": "stdout",
     "output_type": "stream",
     "text": [
      "<class 'pandas.core.frame.DataFrame'>\n",
      "RangeIndex: 356 entries, 0 to 355\n",
      "Data columns (total 2 columns):\n",
      " #   Column  Non-Null Count  Dtype  \n",
      "---  ------  --------------  -----  \n",
      " 0   grupo   356 non-null    object \n",
      " 1   valor   356 non-null    float64\n",
      "dtypes: float64(1), object(1)\n",
      "memory usage: 5.7+ KB\n"
     ]
    }
   ],
   "source": [
    "# Datos\n",
    "# ==============================================================================\n",
    "url = 'https://raw.githubusercontent.com/JoaquinAmatRodrigo/Estadistica-con-R/' \\\n",
    "      + 'master/datos/AfterSchool.csv'\n",
    "datos = pd.read_csv(url)\n",
    "datos = datos[['Treatment', 'Delinq']]\n",
    "datos = datos.rename(columns={'Treatment': 'grupo', 'Delinq': 'valor'})\n",
    "datos['grupo'] = np.where(datos['grupo'] == 0, 'control', 'tratamiento')\n",
    "datos.info()"
   ]
  },
  {
   "cell_type": "code",
   "execution_count": 12,
   "id": "7949e4d9",
   "metadata": {},
   "outputs": [
    {
     "data": {
      "text/html": [
       "<div>\n",
       "<style scoped>\n",
       "    .dataframe tbody tr th:only-of-type {\n",
       "        vertical-align: middle;\n",
       "    }\n",
       "\n",
       "    .dataframe tbody tr th {\n",
       "        vertical-align: top;\n",
       "    }\n",
       "\n",
       "    .dataframe thead th {\n",
       "        text-align: right;\n",
       "    }\n",
       "</style>\n",
       "<table border=\"1\" class=\"dataframe\">\n",
       "  <thead>\n",
       "    <tr style=\"text-align: right;\">\n",
       "      <th></th>\n",
       "      <th>grupo</th>\n",
       "      <th>valor</th>\n",
       "    </tr>\n",
       "  </thead>\n",
       "  <tbody>\n",
       "    <tr>\n",
       "      <th>0</th>\n",
       "      <td>control</td>\n",
       "      <td>44.463082</td>\n",
       "    </tr>\n",
       "    <tr>\n",
       "      <th>1</th>\n",
       "      <td>control</td>\n",
       "      <td>76.813612</td>\n",
       "    </tr>\n",
       "    <tr>\n",
       "      <th>2</th>\n",
       "      <td>control</td>\n",
       "      <td>50.933188</td>\n",
       "    </tr>\n",
       "    <tr>\n",
       "      <th>3</th>\n",
       "      <td>control</td>\n",
       "      <td>44.463082</td>\n",
       "    </tr>\n",
       "    <tr>\n",
       "      <th>4</th>\n",
       "      <td>control</td>\n",
       "      <td>44.463082</td>\n",
       "    </tr>\n",
       "    <tr>\n",
       "      <th>...</th>\n",
       "      <td>...</td>\n",
       "      <td>...</td>\n",
       "    </tr>\n",
       "    <tr>\n",
       "      <th>351</th>\n",
       "      <td>tratamiento</td>\n",
       "      <td>70.343506</td>\n",
       "    </tr>\n",
       "    <tr>\n",
       "      <th>352</th>\n",
       "      <td>tratamiento</td>\n",
       "      <td>57.403294</td>\n",
       "    </tr>\n",
       "    <tr>\n",
       "      <th>353</th>\n",
       "      <td>tratamiento</td>\n",
       "      <td>44.463082</td>\n",
       "    </tr>\n",
       "    <tr>\n",
       "      <th>354</th>\n",
       "      <td>tratamiento</td>\n",
       "      <td>44.463082</td>\n",
       "    </tr>\n",
       "    <tr>\n",
       "      <th>355</th>\n",
       "      <td>tratamiento</td>\n",
       "      <td>44.463082</td>\n",
       "    </tr>\n",
       "  </tbody>\n",
       "</table>\n",
       "<p>356 rows × 2 columns</p>\n",
       "</div>"
      ],
      "text/plain": [
       "           grupo      valor\n",
       "0        control  44.463082\n",
       "1        control  76.813612\n",
       "2        control  50.933188\n",
       "3        control  44.463082\n",
       "4        control  44.463082\n",
       "..           ...        ...\n",
       "351  tratamiento  70.343506\n",
       "352  tratamiento  57.403294\n",
       "353  tratamiento  44.463082\n",
       "354  tratamiento  44.463082\n",
       "355  tratamiento  44.463082\n",
       "\n",
       "[356 rows x 2 columns]"
      ]
     },
     "execution_count": 12,
     "metadata": {},
     "output_type": "execute_result"
    }
   ],
   "source": [
    "datos"
   ]
  },
  {
   "cell_type": "code",
   "execution_count": 13,
   "id": "43f4661b",
   "metadata": {},
   "outputs": [],
   "source": [
    "df_csv = pd.read_csv('data.csv')#, encoding='latin-1', sep='|', header=None)"
   ]
  },
  {
   "cell_type": "code",
   "execution_count": 128,
   "id": "4b6159db",
   "metadata": {},
   "outputs": [],
   "source": [
    "datos=df_csv[['trace_version','visualizaciones']]"
   ]
  },
  {
   "cell_type": "code",
   "execution_count": 129,
   "id": "91724b2d",
   "metadata": {},
   "outputs": [
    {
     "data": {
      "text/html": [
       "<div>\n",
       "<style scoped>\n",
       "    .dataframe tbody tr th:only-of-type {\n",
       "        vertical-align: middle;\n",
       "    }\n",
       "\n",
       "    .dataframe tbody tr th {\n",
       "        vertical-align: top;\n",
       "    }\n",
       "\n",
       "    .dataframe thead th {\n",
       "        text-align: right;\n",
       "    }\n",
       "</style>\n",
       "<table border=\"1\" class=\"dataframe\">\n",
       "  <thead>\n",
       "    <tr style=\"text-align: right;\">\n",
       "      <th></th>\n",
       "      <th>trace_version</th>\n",
       "      <th>visualizaciones</th>\n",
       "    </tr>\n",
       "  </thead>\n",
       "  <tbody>\n",
       "    <tr>\n",
       "      <th>0</th>\n",
       "      <td>teleworking_active</td>\n",
       "      <td>258</td>\n",
       "    </tr>\n",
       "    <tr>\n",
       "      <th>1</th>\n",
       "      <td>teleworking_inactive</td>\n",
       "      <td>20</td>\n",
       "    </tr>\n",
       "    <tr>\n",
       "      <th>2</th>\n",
       "      <td>teleworking_active</td>\n",
       "      <td>45</td>\n",
       "    </tr>\n",
       "    <tr>\n",
       "      <th>3</th>\n",
       "      <td>teleworking_active</td>\n",
       "      <td>407</td>\n",
       "    </tr>\n",
       "    <tr>\n",
       "      <th>4</th>\n",
       "      <td>teleworking_inactive</td>\n",
       "      <td>139</td>\n",
       "    </tr>\n",
       "    <tr>\n",
       "      <th>...</th>\n",
       "      <td>...</td>\n",
       "      <td>...</td>\n",
       "    </tr>\n",
       "    <tr>\n",
       "      <th>143397</th>\n",
       "      <td>teleworking_inactive</td>\n",
       "      <td>1</td>\n",
       "    </tr>\n",
       "    <tr>\n",
       "      <th>143398</th>\n",
       "      <td>teleworking_active</td>\n",
       "      <td>1</td>\n",
       "    </tr>\n",
       "    <tr>\n",
       "      <th>143399</th>\n",
       "      <td>teleworking_inactive</td>\n",
       "      <td>2</td>\n",
       "    </tr>\n",
       "    <tr>\n",
       "      <th>143400</th>\n",
       "      <td>teleworking_inactive</td>\n",
       "      <td>1</td>\n",
       "    </tr>\n",
       "    <tr>\n",
       "      <th>143401</th>\n",
       "      <td>teleworking_active</td>\n",
       "      <td>1</td>\n",
       "    </tr>\n",
       "  </tbody>\n",
       "</table>\n",
       "<p>143402 rows × 2 columns</p>\n",
       "</div>"
      ],
      "text/plain": [
       "               trace_version  visualizaciones\n",
       "0         teleworking_active              258\n",
       "1       teleworking_inactive               20\n",
       "2         teleworking_active               45\n",
       "3         teleworking_active              407\n",
       "4       teleworking_inactive              139\n",
       "...                      ...              ...\n",
       "143397  teleworking_inactive                1\n",
       "143398    teleworking_active                1\n",
       "143399  teleworking_inactive                2\n",
       "143400  teleworking_inactive                1\n",
       "143401    teleworking_active                1\n",
       "\n",
       "[143402 rows x 2 columns]"
      ]
     },
     "execution_count": 129,
     "metadata": {},
     "output_type": "execute_result"
    }
   ],
   "source": [
    "datos"
   ]
  },
  {
   "cell_type": "code",
   "execution_count": 130,
   "id": "6d9ae459",
   "metadata": {},
   "outputs": [],
   "source": [
    "datos=datos[(datos['visualizaciones']<100) & (datos['visualizaciones']>=0)]"
   ]
  },
  {
   "cell_type": "code",
   "execution_count": 131,
   "id": "6eeeaaa3",
   "metadata": {},
   "outputs": [
    {
     "data": {
      "text/html": [
       "<div>\n",
       "<style scoped>\n",
       "    .dataframe tbody tr th:only-of-type {\n",
       "        vertical-align: middle;\n",
       "    }\n",
       "\n",
       "    .dataframe tbody tr th {\n",
       "        vertical-align: top;\n",
       "    }\n",
       "\n",
       "    .dataframe thead th {\n",
       "        text-align: right;\n",
       "    }\n",
       "</style>\n",
       "<table border=\"1\" class=\"dataframe\">\n",
       "  <thead>\n",
       "    <tr style=\"text-align: right;\">\n",
       "      <th></th>\n",
       "      <th>trace_version</th>\n",
       "      <th>visualizaciones</th>\n",
       "    </tr>\n",
       "  </thead>\n",
       "  <tbody>\n",
       "    <tr>\n",
       "      <th>1</th>\n",
       "      <td>teleworking_inactive</td>\n",
       "      <td>20</td>\n",
       "    </tr>\n",
       "    <tr>\n",
       "      <th>2</th>\n",
       "      <td>teleworking_active</td>\n",
       "      <td>45</td>\n",
       "    </tr>\n",
       "    <tr>\n",
       "      <th>5</th>\n",
       "      <td>teleworking_inactive</td>\n",
       "      <td>31</td>\n",
       "    </tr>\n",
       "    <tr>\n",
       "      <th>6</th>\n",
       "      <td>teleworking_inactive</td>\n",
       "      <td>13</td>\n",
       "    </tr>\n",
       "    <tr>\n",
       "      <th>7</th>\n",
       "      <td>teleworking_active</td>\n",
       "      <td>57</td>\n",
       "    </tr>\n",
       "    <tr>\n",
       "      <th>...</th>\n",
       "      <td>...</td>\n",
       "      <td>...</td>\n",
       "    </tr>\n",
       "    <tr>\n",
       "      <th>143397</th>\n",
       "      <td>teleworking_inactive</td>\n",
       "      <td>1</td>\n",
       "    </tr>\n",
       "    <tr>\n",
       "      <th>143398</th>\n",
       "      <td>teleworking_active</td>\n",
       "      <td>1</td>\n",
       "    </tr>\n",
       "    <tr>\n",
       "      <th>143399</th>\n",
       "      <td>teleworking_inactive</td>\n",
       "      <td>2</td>\n",
       "    </tr>\n",
       "    <tr>\n",
       "      <th>143400</th>\n",
       "      <td>teleworking_inactive</td>\n",
       "      <td>1</td>\n",
       "    </tr>\n",
       "    <tr>\n",
       "      <th>143401</th>\n",
       "      <td>teleworking_active</td>\n",
       "      <td>1</td>\n",
       "    </tr>\n",
       "  </tbody>\n",
       "</table>\n",
       "<p>124982 rows × 2 columns</p>\n",
       "</div>"
      ],
      "text/plain": [
       "               trace_version  visualizaciones\n",
       "1       teleworking_inactive               20\n",
       "2         teleworking_active               45\n",
       "5       teleworking_inactive               31\n",
       "6       teleworking_inactive               13\n",
       "7         teleworking_active               57\n",
       "...                      ...              ...\n",
       "143397  teleworking_inactive                1\n",
       "143398    teleworking_active                1\n",
       "143399  teleworking_inactive                2\n",
       "143400  teleworking_inactive                1\n",
       "143401    teleworking_active                1\n",
       "\n",
       "[124982 rows x 2 columns]"
      ]
     },
     "execution_count": 131,
     "metadata": {},
     "output_type": "execute_result"
    }
   ],
   "source": [
    "datos"
   ]
  },
  {
   "cell_type": "code",
   "execution_count": 132,
   "id": "28425d6e",
   "metadata": {},
   "outputs": [
    {
     "data": {
      "image/png": "[encoded data removed]",
      "text/plain": [
       "<Figure size 432x504 with 2 Axes>"
      ]
     },
     "metadata": {},
     "output_type": "display_data"
    }
   ],
   "source": [
    "# Gráficos distribución observada\n",
    "# ==============================================================================\n",
    "fig, axs = plt.subplots(nrows=2, ncols=1, figsize=(6, 7))\n",
    "sns.violinplot(\n",
    "    x     = datos.visualizaciones,\n",
    "    y     = datos.trace_version,\n",
    "    color = \".8\",\n",
    "    ax    = axs[0]\n",
    ")\n",
    "sns.stripplot(\n",
    "    x    = datos.visualizaciones,\n",
    "    y    = datos.trace_version,\n",
    "    data = datos,\n",
    "    size = 4,\n",
    "    jitter  = 0.1,\n",
    "    palette = 'tab10',\n",
    "    ax = axs[0]\n",
    ")\n",
    "axs[0].set_title('Distribución de valores por grupo')\n",
    "axs[0].set_ylabel('trace_version')\n",
    "axs[0].set_xlabel('visualizaciones');\n",
    "\n",
    "for grupo in datos.trace_version.unique():\n",
    "    datos_temp = datos[datos.trace_version == grupo]['visualizaciones']\n",
    "    datos_temp.plot.kde(ax=axs[1], label=grupo)\n",
    "    axs[1].plot(datos_temp, np.full_like(datos_temp, 0), '|k', markeredgewidth=1)\n",
    "\n",
    "axs[1].set_title('Distribución de valores por grupo')\n",
    "axs[1].set_xlabel('visualizaciones');\n",
    "axs[1].legend()\n",
    "\n",
    "fig.tight_layout();"
   ]
  },
  {
   "cell_type": "code",
   "execution_count": 133,
   "id": "ed6e645f",
   "metadata": {},
   "outputs": [
    {
     "data": {
      "text/html": [
       "<div>\n",
       "<style scoped>\n",
       "    .dataframe tbody tr th:only-of-type {\n",
       "        vertical-align: middle;\n",
       "    }\n",
       "\n",
       "    .dataframe tbody tr th {\n",
       "        vertical-align: top;\n",
       "    }\n",
       "\n",
       "    .dataframe thead tr th {\n",
       "        text-align: left;\n",
       "    }\n",
       "\n",
       "    .dataframe thead tr:last-of-type th {\n",
       "        text-align: right;\n",
       "    }\n",
       "</style>\n",
       "<table border=\"1\" class=\"dataframe\">\n",
       "  <thead>\n",
       "    <tr>\n",
       "      <th></th>\n",
       "      <th colspan=\"8\" halign=\"left\">visualizaciones</th>\n",
       "    </tr>\n",
       "    <tr>\n",
       "      <th></th>\n",
       "      <th>count</th>\n",
       "      <th>mean</th>\n",
       "      <th>std</th>\n",
       "      <th>min</th>\n",
       "      <th>25%</th>\n",
       "      <th>50%</th>\n",
       "      <th>75%</th>\n",
       "      <th>max</th>\n",
       "    </tr>\n",
       "    <tr>\n",
       "      <th>trace_version</th>\n",
       "      <th></th>\n",
       "      <th></th>\n",
       "      <th></th>\n",
       "      <th></th>\n",
       "      <th></th>\n",
       "      <th></th>\n",
       "      <th></th>\n",
       "      <th></th>\n",
       "    </tr>\n",
       "  </thead>\n",
       "  <tbody>\n",
       "    <tr>\n",
       "      <th>teleworking_active</th>\n",
       "      <td>62246.0</td>\n",
       "      <td>25.930309</td>\n",
       "      <td>23.678838</td>\n",
       "      <td>0.0</td>\n",
       "      <td>7.0</td>\n",
       "      <td>18.0</td>\n",
       "      <td>38.0</td>\n",
       "      <td>99.0</td>\n",
       "    </tr>\n",
       "    <tr>\n",
       "      <th>teleworking_inactive</th>\n",
       "      <td>62736.0</td>\n",
       "      <td>27.049700</td>\n",
       "      <td>24.084352</td>\n",
       "      <td>0.0</td>\n",
       "      <td>8.0</td>\n",
       "      <td>19.0</td>\n",
       "      <td>40.0</td>\n",
       "      <td>99.0</td>\n",
       "    </tr>\n",
       "  </tbody>\n",
       "</table>\n",
       "</div>"
      ],
      "text/plain": [
       "                     visualizaciones                                        \\\n",
       "                               count       mean        std  min  25%   50%   \n",
       "trace_version                                                                \n",
       "teleworking_active           62246.0  25.930309  23.678838  0.0  7.0  18.0   \n",
       "teleworking_inactive         62736.0  27.049700  24.084352  0.0  8.0  19.0   \n",
       "\n",
       "                                  \n",
       "                       75%   max  \n",
       "trace_version                     \n",
       "teleworking_active    38.0  99.0  \n",
       "teleworking_inactive  40.0  99.0  "
      ]
     },
     "execution_count": 133,
     "metadata": {},
     "output_type": "execute_result"
    }
   ],
   "source": [
    "# Estadísticos descriptivos por grupo\n",
    "# ==============================================================================\n",
    "datos.groupby(by='trace_version').describe()"
   ]
  },
  {
   "cell_type": "code",
   "execution_count": 134,
   "id": "e537c528",
   "metadata": {},
   "outputs": [],
   "source": [
    "def dif_mean(x1, x2):\n",
    "    '''\n",
    "    Función para calcular la diferencia de medias entre dos grupos.\n",
    "    \n",
    "    Parameters\n",
    "    ----------\n",
    "    x1 : numpy array\n",
    "         valores de la muestra 1.\n",
    "         \n",
    "    x2 : numpy array\n",
    "         valores de la muestra 2.\n",
    "         \n",
    "    Returns\n",
    "    -------\n",
    "    estadístico: float\n",
    "        valor del estadístico.\n",
    "    '''\n",
    "    \n",
    "    estadistico = np.mean(x1) - np.mean(x2)\n",
    "    return(estadistico)"
   ]
  },
  {
   "cell_type": "code",
   "execution_count": 135,
   "id": "c8abaeed",
   "metadata": {},
   "outputs": [
    {
     "name": "stdout",
     "output_type": "stream",
     "text": [
      "Diferencia observada: 1.119391556687038\n"
     ]
    }
   ],
   "source": [
    "dif_observada = dif_mean(\n",
    "                    x1 = datos[datos.trace_version == 'teleworking_inactive']['visualizaciones'],\n",
    "                    x2 = datos[datos.trace_version == 'teleworking_active']['visualizaciones']\n",
    "                )\n",
    "print(f\"Diferencia observada: {dif_observada}\")"
   ]
  },
  {
   "cell_type": "code",
   "execution_count": 136,
   "id": "fa3e4499",
   "metadata": {},
   "outputs": [],
   "source": [
    "def permutaciones(x1, x2, fun_estadistico, n_iteraciones=9999):\n",
    "    '''\n",
    "    Función para calcular el valor del estadístico en múltiples permutaciones\n",
    "    de dos muestras.\n",
    "    \n",
    "    Parameters\n",
    "    ----------\n",
    "    x1 : numpy array\n",
    "         valores de la muestra 1.\n",
    "         \n",
    "    x2 : numpy array\n",
    "         valores de la muestra 2.\n",
    " \n",
    "    fun_estadistico : function\n",
    "        función que recibe como argumento las dos muestras y devuelve el valor\n",
    "        del estadístico.\n",
    "        \n",
    "    n_iteraciones : int\n",
    "        número de permutaciones calculadas (default `9999`).\n",
    "        \n",
    "    Returns\n",
    "    -------\n",
    "    distribuciones: numpy array\n",
    "        valor del estadístico en cada permutación.\n",
    "    '''\n",
    "    \n",
    "    n_x1 = len(x1)\n",
    "    n_x2 = len(x2)\n",
    "    pool_datos = np.hstack((x1, x2))\n",
    "    \n",
    "    resulados_permutaciones = np.full(shape=n_iteraciones, fill_value=np.nan)\n",
    "    \n",
    "    for i in tqdm(range(n_iteraciones)):\n",
    "        np.random.shuffle(pool_datos)\n",
    "        estadistico = fun_estadistico(pool_datos[:n_x1], pool_datos[n_x1:])\n",
    "        resulados_permutaciones[i] = estadistico\n",
    "        \n",
    "    return resulados_permutaciones"
   ]
  },
  {
   "cell_type": "code",
   "execution_count": 137,
   "id": "19bd5bfd",
   "metadata": {},
   "outputs": [
    {
     "name": "stderr",
     "output_type": "stream",
     "text": [
      "100%|██████████| 9999/9999 [00:19<00:00, 509.02it/s]\n"
     ]
    }
   ],
   "source": [
    "dist_permut = permutaciones(\n",
    "                x1 = datos[datos.trace_version == 'teleworking_inactive']['visualizaciones'],\n",
    "                x2 = datos[datos.trace_version == 'teleworking_active']['visualizaciones'],\n",
    "                fun_estadistico = dif_mean,\n",
    "                n_iteraciones   = 9999\n",
    "              )"
   ]
  },
  {
   "cell_type": "code",
   "execution_count": 138,
   "id": "5206fe56",
   "metadata": {},
   "outputs": [
    {
     "data": {
      "image/png": "[encoded data removed]",
      "text/plain": [
       "<Figure size 504x288 with 1 Axes>"
      ]
     },
     "metadata": {},
     "output_type": "display_data"
    }
   ],
   "source": [
    "# Distribución de permutaciones\n",
    "# ==============================================================================\n",
    "fig, ax = plt.subplots(ncols=1, nrows=1, figsize=(7,4))\n",
    "ax.hist(dist_permut, bins=30, density=True, color='#3182bd', alpha=0.5)\n",
    "ax.axvline(x=dist_permut.mean(), color='black', label='media distribución')\n",
    "ax.axvline(x=dif_observada, color='red', label='diferencia observada')\n",
    "ax.axvline(x=-dif_observada, color='red')\n",
    "\n",
    "ax.set_title('Distribución de permutaciones')\n",
    "ax.set_xlabel('diferencia de medias')\n",
    "ax.set_ylabel('densidad')\n",
    "ax.legend();"
   ]
  },
  {
   "cell_type": "code",
   "execution_count": 139,
   "id": "485de9d4",
   "metadata": {},
   "outputs": [
    {
     "data": {
      "text/plain": [
       "count    9999.000000\n",
       "mean        0.001175\n",
       "std         0.134622\n",
       "min        -0.603443\n",
       "25%        -0.089233\n",
       "50%         0.002862\n",
       "75%         0.090012\n",
       "max         0.477145\n",
       "dtype: float64"
      ]
     },
     "execution_count": 139,
     "metadata": {},
     "output_type": "execute_result"
    }
   ],
   "source": [
    "pd.Series(dist_permut).describe()"
   ]
  },
  {
   "cell_type": "code",
   "execution_count": 140,
   "id": "1699961a",
   "metadata": {},
   "outputs": [
    {
     "name": "stdout",
     "output_type": "stream",
     "text": [
      "p-value sin corrección: 0.0\n",
      "p-value con corrección: 0.00010001000100010001\n"
     ]
    }
   ],
   "source": [
    "# P-value empírico con y sin corrección\n",
    "# ==============================================================================\n",
    "p_value = (sum(np.abs(dist_permut) > np.abs(dif_observada)))/len(dist_permut)\n",
    "p_value_correc = (sum(np.abs(dist_permut) > np.abs(dif_observada)) + 1)/len(dist_permut + 1)\n",
    "print(f\"p-value sin corrección: {p_value}\")\n",
    "print(f\"p-value con corrección: {p_value_correc}\")"
   ]
  },
  {
   "cell_type": "markdown",
   "id": "375d2b31",
   "metadata": {},
   "source": [
    "# con boostraping"
   ]
  },
  {
   "cell_type": "code",
   "execution_count": 141,
   "id": "19d74e9a",
   "metadata": {},
   "outputs": [],
   "source": [
    "def calcular_estadistico(x):\n",
    "    '''\n",
    "    Función para calcular el estadístico de interés.\n",
    "    \n",
    "    Parameters\n",
    "    ----------\n",
    "    x : numpy array\n",
    "         valores de la muestra.\n",
    "         \n",
    "    Returns\n",
    "    -------\n",
    "    estadístico: float\n",
    "        valor del estadístico.\n",
    "    '''\n",
    "    estadistico = np.mean(x)\n",
    "    \n",
    "    return(estadistico)\n",
    "\n",
    "\n",
    "def bootstraping_2_grupos(x1, x2, fun_estadistico, n_iteraciones=9999):\n",
    "    '''\n",
    "    Función para calcular la diferencia de un estadístico entre dos grupos en\n",
    "    múltiples muestras generadas mediante muestreo repetido con reposición\n",
    "    (bootstrapping).\n",
    "    \n",
    "    Parameters\n",
    "    ----------\n",
    "    x1 : numpy array\n",
    "         valores de la muestra del grupo 1.\n",
    "         \n",
    "    x2 : numpy array\n",
    "         valores de la muestra del grupo 2.\n",
    " \n",
    "    fun_estadistico : function\n",
    "        función que recibe como argumento una muestra y devuelve el valor\n",
    "        del estadístico.\n",
    "        \n",
    "    n_iteraciones : int\n",
    "        número iteraciones (default `9999`).\n",
    "        \n",
    "    Returns\n",
    "    -------\n",
    "    distribuciones: numpy array\n",
    "        diferencia entre ambos grupos en cada muestra de bootstrapping.\n",
    "    '''\n",
    "    \n",
    "    n1 = len(x1)\n",
    "    n2 = len(x2)\n",
    "    pool = np.hstack((x1, x2))\n",
    "    dist_boot = np.full(shape=n_iteraciones, fill_value=np.nan)\n",
    "    \n",
    "    for i in tqdm(range(n_iteraciones)):\n",
    "        # Se crea una nueva muestra\n",
    "        resample = np.random.choice(pool, size=n1+n2, replace=True)\n",
    "        # Se reparten las observaciones en dos grupos y se calcula el estadístico\n",
    "        estadistico_1 = fun_estadistico(resample[:n1])\n",
    "        estadistico_2 = fun_estadistico(resample[n1:])\n",
    "        # Diferencia entre estadísticos\n",
    "        dist_boot[i]  = estadistico_1 - estadistico_2\n",
    "        \n",
    "    return dist_boot"
   ]
  },
  {
   "cell_type": "code",
   "execution_count": 142,
   "id": "2be82d2c",
   "metadata": {},
   "outputs": [
    {
     "name": "stderr",
     "output_type": "stream",
     "text": [
      "100%|██████████| 9999/9999 [00:09<00:00, 1084.58it/s]\n"
     ]
    }
   ],
   "source": [
    "dist_boot = bootstraping_2_grupos(\n",
    "                x1 = datos[datos.trace_version == 'teleworking_inactive']['visualizaciones'],\n",
    "                x2 = datos[datos.trace_version == 'teleworking_active']['visualizaciones'],\n",
    "                fun_estadistico = calcular_estadistico,\n",
    "                n_iteraciones   = 9999\n",
    "            )"
   ]
  },
  {
   "cell_type": "code",
   "execution_count": 143,
   "id": "0d615355",
   "metadata": {},
   "outputs": [
    {
     "data": {
      "image/png": "[encoded data removed]",
      "text/plain": [
       "<Figure size 504x288 with 1 Axes>"
      ]
     },
     "metadata": {},
     "output_type": "display_data"
    }
   ],
   "source": [
    "# Distribución de bootstrapping\n",
    "# ==============================================================================\n",
    "dif_observada = datos.visualizaciones[datos.trace_version == 'teleworking_inactive'].mean() \\\n",
    "                - datos.visualizaciones[datos.trace_version == 'teleworking_active'].mean()\n",
    "\n",
    "fig, ax = plt.subplots(ncols=1, nrows=1, figsize=(7,4))\n",
    "ax.hist(dist_boot, bins=30, density=True, color='#3182bd', alpha=0.5)\n",
    "ax.axvline(x=dif_observada, color='red', label='diferencia observada')\n",
    "ax.axvline(x=-dif_observada, color='red')\n",
    "\n",
    "ax.set_title('Distribución de bootstrapping')\n",
    "ax.set_xlabel('diferencia de medias')\n",
    "ax.set_ylabel('densidad')\n",
    "ax.legend();"
   ]
  },
  {
   "cell_type": "code",
   "execution_count": 144,
   "id": "64709188",
   "metadata": {},
   "outputs": [
    {
     "data": {
      "text/plain": [
       "count    9999.000000\n",
       "mean        0.001846\n",
       "std         0.133805\n",
       "min        -0.511241\n",
       "25%        -0.087641\n",
       "50%         0.002333\n",
       "75%         0.091007\n",
       "max         0.530390\n",
       "dtype: float64"
      ]
     },
     "execution_count": 144,
     "metadata": {},
     "output_type": "execute_result"
    }
   ],
   "source": [
    "pd.Series(dist_boot).describe()\n"
   ]
  },
  {
   "cell_type": "code",
   "execution_count": 145,
   "id": "84a55b87",
   "metadata": {},
   "outputs": [
    {
     "name": "stdout",
     "output_type": "stream",
     "text": [
      "p-value sin corrección: 0.0\n",
      "p-value con corrección: 0.00010001000100010001\n"
     ]
    }
   ],
   "source": [
    "# P-value empírico con y sin corrección\n",
    "# ==============================================================================\n",
    "p_value = (sum(np.abs(dist_boot) > np.abs(dif_observada)))/len(dist_boot)\n",
    "p_value_correc = (sum(np.abs(dist_boot) > np.abs(dif_observada)) + 1)/len(dist_boot + 1)\n",
    "print(f\"p-value sin corrección: {p_value}\")\n",
    "print(f\"p-value con corrección: {p_value_correc}\")"
   ]
  },
  {
   "cell_type": "markdown",
   "id": "27607099",
   "metadata": {},
   "source": [
    "# 2"
   ]
  },
  {
   "cell_type": "code",
   "execution_count": 146,
   "id": "6a69c10e",
   "metadata": {},
   "outputs": [],
   "source": [
    "def calcular_estadistico(x):\n",
    "    '''\n",
    "    Función para calcular el estadístico de interés.\n",
    "    \n",
    "    Parameters\n",
    "    ----------\n",
    "    x : numpy array\n",
    "         valores de la muestra.\n",
    "         \n",
    "    Returns\n",
    "    -------\n",
    "    estadístico: float\n",
    "        valor del estadístico.\n",
    "    '''\n",
    "    estadistico = np.mean(x)\n",
    "    \n",
    "    return(estadistico)\n",
    "\n",
    "\n",
    "def bootstraping_2_grupos(x1, x2, fun_estadistico, n_iteraciones=9999):\n",
    "    '''\n",
    "    Función para calcular la diferencia de un estadístico entre dos grupos en\n",
    "    múltiples muestras generadas mediante muestreo repetido con reposición\n",
    "    (bootstrapping) de forma separada para cada grupo.\n",
    "    \n",
    "    Parameters\n",
    "    ----------\n",
    "    x1 : numpy array\n",
    "         valores de la muestra del grupo 1.\n",
    "         \n",
    "    x2 : numpy array\n",
    "         valores de la muestra del grupo 2.\n",
    " \n",
    "    fun_estadistico : function\n",
    "        función que recibe como argumento una muestra y devuelve el valor\n",
    "        del estadístico.\n",
    "        \n",
    "    n_iteraciones : int\n",
    "        número iteraciones (default `9999`).\n",
    "        \n",
    "    Returns\n",
    "    -------\n",
    "    distribuciones: numpy array\n",
    "        diferencia entre ambos grupos en cada muestra de bootstrapping.\n",
    "    '''\n",
    "    \n",
    "    n1 = len(x1)\n",
    "    n2 = len(x2)\n",
    "    dist_boot = np.full(shape=n_iteraciones, fill_value=np.nan)\n",
    "    \n",
    "    for i in tqdm(range(n_iteraciones)):\n",
    "        # Se crea una nueva muestra de cada grupo\n",
    "        resample_1 = np.random.choice(x1, size=n1, replace=True)\n",
    "        resample_2 = np.random.choice(x2, size=n2, replace=True)\n",
    "        # Se calcula el estadístico para cada grupo\n",
    "        estadistico_1 = fun_estadistico(resample_1)\n",
    "        estadistico_2 = fun_estadistico(resample_2)\n",
    "        # Diferencia entre estadísticos\n",
    "        dist_boot[i]  = estadistico_1 - estadistico_2\n",
    "        \n",
    "    return dist_boot"
   ]
  },
  {
   "cell_type": "code",
   "execution_count": 150,
   "id": "d81638d8",
   "metadata": {},
   "outputs": [
    {
     "name": "stderr",
     "output_type": "stream",
     "text": [
      "100%|██████████| 9999/9999 [00:09<00:00, 1059.84it/s]\n"
     ]
    }
   ],
   "source": [
    "dist_boot = bootstraping_2_grupos(\n",
    "                x2 = datos[datos.trace_version == 'teleworking_inactive']['visualizaciones'],\n",
    "                x1 = datos[datos.trace_version == 'teleworking_active']['visualizaciones'],\n",
    "                fun_estadistico = calcular_estadistico,\n",
    "                n_iteraciones   = 9999\n",
    "            )"
   ]
  },
  {
   "cell_type": "code",
   "execution_count": 151,
   "id": "6e6d4295",
   "metadata": {},
   "outputs": [
    {
     "name": "stdout",
     "output_type": "stream",
     "text": [
      "-------------------------------\n",
      "Intervalo basado en percentiles\n",
      "-------------------------------\n",
      "[-1.3877308  -0.85564205]\n"
     ]
    }
   ],
   "source": [
    "# Intervalo IC basado en percentiles de la distribución bootstrapping\n",
    "# ==============================================================================\n",
    "# Un IC del 95% debe abarcar desde el cuantil 0.025 al 0.975\n",
    "cuantiles = np.quantile(a = dist_boot, q = [0.025, 0.975])\n",
    "print('-------------------------------')\n",
    "print('Intervalo basado en percentiles')\n",
    "print('-------------------------------')\n",
    "print(cuantiles)"
   ]
  },
  {
   "cell_type": "code",
   "execution_count": 152,
   "id": "5074c66a",
   "metadata": {},
   "outputs": [
    {
     "data": {
      "image/png": "[encoded data removed]",
      "text/plain": [
       "<Figure size 504x288 with 1 Axes>"
      ]
     },
     "metadata": {},
     "output_type": "display_data"
    }
   ],
   "source": [
    "# Gráfico intervalo de confianza del 95%\n",
    "# ==============================================================================\n",
    "fig, ax = plt.subplots(ncols=1, nrows=1, figsize=(7,4))\n",
    "ax.hist(dist_boot, bins=30, density=True, color='#3182bd', alpha=0.5)\n",
    "ax.axvline(x=dif_observada, color='red', label='diferencia observada')\n",
    "ax.axvline(x=cuantiles[0], color='black', linestyle='--', label='IC 95%')\n",
    "ax.axvline(x=cuantiles[1], color='black', linestyle='--')\n",
    "ax.hlines(y=0.001, xmin=cuantiles[0], xmax=cuantiles[1], color='black')\n",
    "ax.set_title('Intervalo bootstrapping basado en percentiles')\n",
    "ax.set_xlabel('media')\n",
    "ax.set_ylabel('densidad')\n",
    "ax.legend();"
   ]
  },
  {
   "cell_type": "code",
   "execution_count": null,
   "id": "98a11f5d",
   "metadata": {},
   "outputs": [],
   "source": []
  },
  {
   "cell_type": "code",
   "execution_count": null,
   "id": "bc489953",
   "metadata": {},
   "outputs": [],
   "source": []
  },
  {
   "cell_type": "code",
   "execution_count": null,
   "id": "bf5e625f",
   "metadata": {},
   "outputs": [],
   "source": []
  }
 ],
 "metadata": {
  "kernelspec": {
   "display_name": "Python 3",
   "language": "python",
   "name": "python3"
  },
  "language_info": {
   "codemirror_mode": {
    "name": "ipython",
    "version": 3
   },
   "file_extension": ".py",
   "mimetype": "text/x-python",
   "name": "python",
   "nbconvert_exporter": "python",
   "pygments_lexer": "ipython3",
   "version": "3.8.10"
  }
 },
 "nbformat": 4,
 "nbformat_minor": 5
}
