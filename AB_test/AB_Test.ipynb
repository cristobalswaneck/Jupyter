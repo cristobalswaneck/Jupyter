{
 "cells": [
  {
   "cell_type": "code",
   "execution_count": 1,
   "metadata": {},
   "outputs": [],
   "source": [
    "%matplotlib inline"
   ]
  },
  {
   "cell_type": "code",
   "execution_count": 2,
   "metadata": {},
   "outputs": [],
   "source": [
    "import numpy as np\n",
    "import matplotlib.pyplot as plt\n",
    "plt.ion()\n",
    "import scipy.stats"
   ]
  },
  {
   "cell_type": "code",
   "execution_count": 9,
   "metadata": {},
   "outputs": [],
   "source": [
    "p_a = .018 # assume we have a base click rate of 1,8% for our original design (A group)\n",
    "p_b = .02 # we want to detect an increase in click rate to 2%, otherwise not worth changing the design\n",
    "\n",
    "p = (p_a + p_b)/2."
   ]
  },
  {
   "cell_type": "code",
   "execution_count": 10,
   "metadata": {},
   "outputs": [
    {
     "name": "stdout",
     "output_type": "stream",
     "text": [
      "You need 57618.0  samples in each group to get a 5% false positive and 20% false negative rate given effect size\n"
     ]
    }
   ],
   "source": [
    "Z8 = scipy.stats.norm.ppf(.8) # we will need this to ensure 80% power (20% false negative rate)\n",
    "Z95 = scipy.stats.norm.ppf(1 - .05) # we will need this for 5% false positive rate (95% confidence level), one-tailed\n",
    "Z975 = scipy.stats.norm.ppf(1 - .025) # 5% false positive rate for two-tailed case\n",
    "\n",
    "ES = abs(p_b - p_a)/np.sqrt(p*(1-p))\n",
    "\n",
    "num_tails = 1 # presumably we are testing design b because we think it will improve the click rate...\n",
    "\n",
    "if num_tails == 2:\n",
    "    n = 2*((Z975 + Z8)/ES)**2  # two-tailed\n",
    "else:\n",
    "    n = 2*((Z95 + Z8)/ES)**2 # one-tailed\n",
    "\n",
    "print ('You need', round(n), ' samples in each group to get a 5% false positive and 20% false negative rate given effect size')"
   ]
  },
  {
   "cell_type": "code",
   "execution_count": 7,
   "metadata": {},
   "outputs": [
    {
     "name": "stdout",
     "output_type": "stream",
     "text": [
      "0.21499999999999997 false negative rate, we expect it to be close to 20%\n",
      "0.0463 false positive rate, we expect it to be close to 5%\n"
     ]
    }
   ],
   "source": [
    "n_a = int(round(n))\n",
    "n_b = int(round(n))\n",
    "\n",
    "num_experiments = 10000\n",
    "\n",
    "conversions_a = np.random.random((n_a, num_experiments)) < p_a\n",
    "conversions_b_null = np.random.random((n_b, num_experiments)) < p_a\n",
    "conversions_b = np.random.random((n_b, num_experiments)) < p_b\n",
    "\n",
    "mean_a = np.mean(conversions_a, axis=0)\n",
    "mean_b_null = np.mean(conversions_b_null, axis=0)\n",
    "mean_b = np.mean(conversions_b, axis=0)\n",
    "\n",
    "#s_a = np.std(conversions_a, ddof=1)\n",
    "#s_b_null = np.std(conversions_b_null, ddof=1)\n",
    "#s_b = np.std(conversions_b, ddof=1)\n",
    "# equivalent:\n",
    "s_a = np.sqrt(np.sum((conversions_a - mean_a[np.newaxis, :])**2, axis=0)/(n_a - 1))\n",
    "s_b_null = np.sqrt(np.sum((conversions_b_null - mean_b_null[np.newaxis, :])**2, axis=0)/(n_b - 1))\n",
    "s_b = np.sqrt(np.sum((conversions_b - mean_b[np.newaxis, :])**2, axis=0)/(n_b - 1))\n",
    "\n",
    "sp = np.sqrt(s_a**2/n_a + s_b**2/n_b)\n",
    "sp_null = np.sqrt(s_a**2/n_a + s_b_null**2/n_b)\n",
    "\n",
    "if num_tails == 2:\n",
    "    t = abs(mean_b - mean_a) / sp # two-tailed\n",
    "    t_null = abs(mean_b_null - mean_a) / sp_null # two-tailed\n",
    "    results = t > Z975  # two-tailed\n",
    "    results_null = t_null > Z975  # two-tailed\n",
    "else:\n",
    "    t = (mean_b - mean_a) / sp # one-tailed\n",
    "    t_null = (mean_b_null - mean_a) / sp_null # one-tailed\n",
    "    results = t > Z95 # one-tailed\n",
    "    results_null = t_null > Z95 # one-tailed\n",
    "\n",
    "false_negative_rate = 1 - np.sum(results).astype('float')/len(results)\n",
    "false_positive_rate = np.sum(results_null).astype('float')/len(results_null)\n",
    "\n",
    "print (false_negative_rate, \"false negative rate, we expect it to be close to 20%\")\n",
    "print (false_positive_rate, \"false positive rate, we expect it to be close to 5%\")"
   ]
  },
  {
   "cell_type": "code",
   "execution_count": 8,
   "metadata": {},
   "outputs": [
    {
     "data": {
      "text/plain": [
       "Text(0.016, 100, '5.0% false positives')"
      ]
     },
     "execution_count": 8,
     "metadata": {},
     "output_type": "execute_result"
    },
    {
     "data": {
      "image/png": "[encoded data removed]",
      "text/plain": [
       "<Figure size 432x288 with 1 Axes>"
      ]
     },
     "metadata": {
      "needs_background": "light"
     },
     "output_type": "display_data"
    }
   ],
   "source": [
    "fig = plt.figure()\n",
    "ax = fig.add_subplot(111)\n",
    "\n",
    "n, bins, p = ax.hist(mean_b - mean_a, np.linspace(-.04, .06, 88), color=[.8, .8, 1])\n",
    "n, bins, p = ax.hist(mean_b_null - mean_a, bins, color=[1, .8, .8])\n",
    "\n",
    "n, bins, p = ax.hist(mean_b[results==False] - mean_a[results==False], bins, color='b', alpha=.6)\n",
    "n, bins, p = ax.hist(mean_b_null[results_null] - mean_a[results_null], bins, color='r', alpha=.6)\n",
    "\n",
    "ax.text(-.02, 600, 'Null true', color='r')\n",
    "ax.text(.03, 500, 'Minimum true effect size', color='b')\n",
    "\n",
    "ax.text(.016, 300, str(round(false_negative_rate*100))+\"% false negatives\", color='b')\n",
    "ax.text(.016, 100, str(round(false_positive_rate*100))+\"% false positives\", color='r')"
   ]
  },
  {
   "cell_type": "code",
   "execution_count": null,
   "metadata": {},
   "outputs": [],
   "source": []
  }
 ],
 "metadata": {
  "kernelspec": {
   "display_name": "Python 3",
   "language": "python",
   "name": "python3"
  },
  "language_info": {
   "codemirror_mode": {
    "name": "ipython",
    "version": 3
   },
   "file_extension": ".py",
   "mimetype": "text/x-python",
   "name": "python",
   "nbconvert_exporter": "python",
   "pygments_lexer": "ipython3",
   "version": "3.7.2"
  }
 },
 "nbformat": 4,
 "nbformat_minor": 2
}
