{
 "cells": [
  {
   "cell_type": "code",
   "execution_count": 1,
   "metadata": {},
   "outputs": [],
   "source": [
    "import psycopg2\n",
    "import numpy as np\n",
    "import pandas as pd\n",
    "import datetime as dt\n",
    "import cx_Oracle\n",
    "import csv"
   ]
  },
  {
   "cell_type": "code",
   "execution_count": 2,
   "metadata": {},
   "outputs": [
    {
     "name": "stdout",
     "output_type": "stream",
     "text": [
      "11.2.0.3.0\n"
     ]
    }
   ],
   "source": [
    "con =  cx_Oracle.connect('comprasweb_ij/Xxxx1234!@10.10.2.223/MKTG')\n",
    "print(con.version)\n",
    "\n",
    "df = pd.read_sql_query('''\n",
    "SELECT * FROM \n",
    "(\n",
    "---- Query Importe anual\n",
    "SELECT \n",
    "\t--(DENSE_RANK() OVER(ORDER BY IMPORTE_TOTAL DESC)) AS ranking_cliente,\n",
    "\tde.EM_ID_CLIENTE,\n",
    "\tde.EM_ID,\n",
    "\tde.EM_NOMBRE,\n",
    "\ts.importe_total AS importe_365\n",
    "FROM\n",
    "\tEMPLEO_ES.EMPRESAS_MATRICES de \n",
    "INNER JOIN\n",
    "\t(--s\n",
    "\t\tSELECT\t\n",
    "\t\t\tCOD_EMPRESA,\n",
    "\t\t\tsum(s.importe) AS importe_total\n",
    "\t\tFROM\t\n",
    "\t\t\tDWHPRO.FACT_ENTERPRISE_SALES s\n",
    "\t\tWHERE\t\n",
    "\t\t\tto_date(s.FECHA_IMPUTACION, 'yyyymmdd') BETWEEN CURRENT_DATE -366 AND CURRENT_DATE -1\n",
    "\t\t\thaving sum(s.importe) > 0\n",
    "\t\tGROUP BY\n",
    "\t\t\ts.COD_EMPRESA \n",
    "\t)s\n",
    "\tON de.EM_ID_CLIENTE = s.COD_EMPRESA \n",
    "WHERE  \n",
    "de.EM_PRUEBA <> 1 \n",
    "AND de.EM_ESTADO = 1\n",
    ")\n",
    "--WHERE \n",
    "--ranking_cliente <= 100\n",
    "--ORDER BY \n",
    "--RANKING_CLIENTE ASC \n",
    "''', con)\n",
    "importe_df = df\n",
    "df_save = df\n",
    "importe_df.head()\n",
    "\n",
    "con.close()"
   ]
  },
  {
   "cell_type": "code",
   "execution_count": 3,
   "metadata": {
    "scrolled": true
   },
   "outputs": [
    {
     "data": {
      "text/html": [
       "<div>\n",
       "<style scoped>\n",
       "    .dataframe tbody tr th:only-of-type {\n",
       "        vertical-align: middle;\n",
       "    }\n",
       "\n",
       "    .dataframe tbody tr th {\n",
       "        vertical-align: top;\n",
       "    }\n",
       "\n",
       "    .dataframe thead th {\n",
       "        text-align: right;\n",
       "    }\n",
       "</style>\n",
       "<table border=\"1\" class=\"dataframe\">\n",
       "  <thead>\n",
       "    <tr style=\"text-align: right;\">\n",
       "      <th></th>\n",
       "      <th>RANKING_CLIENTE</th>\n",
       "      <th>EM_ID_CLIENTE</th>\n",
       "      <th>EM_ID</th>\n",
       "      <th>EM_NOMBRE</th>\n",
       "      <th>IMPORTE_365</th>\n",
       "    </tr>\n",
       "  </thead>\n",
       "  <tbody>\n",
       "    <tr>\n",
       "      <th>0</th>\n",
       "      <td>1</td>\n",
       "      <td>8600653408</td>\n",
       "      <td>48660368</td>\n",
       "      <td>Eurovendex</td>\n",
       "      <td>625071.82</td>\n",
       "    </tr>\n",
       "    <tr>\n",
       "      <th>1</th>\n",
       "      <td>1</td>\n",
       "      <td>8600653408</td>\n",
       "      <td>9574632660</td>\n",
       "      <td>Adecco No Redireccionamiento</td>\n",
       "      <td>625071.82</td>\n",
       "    </tr>\n",
       "    <tr>\n",
       "      <th>2</th>\n",
       "      <td>1</td>\n",
       "      <td>8600653408</td>\n",
       "      <td>27958188850</td>\n",
       "      <td>Spring</td>\n",
       "      <td>625071.82</td>\n",
       "    </tr>\n",
       "    <tr>\n",
       "      <th>3</th>\n",
       "      <td>1</td>\n",
       "      <td>8600653408</td>\n",
       "      <td>79620258</td>\n",
       "      <td>Adecco</td>\n",
       "      <td>625071.82</td>\n",
       "    </tr>\n",
       "    <tr>\n",
       "      <th>4</th>\n",
       "      <td>2</td>\n",
       "      <td>8600632686</td>\n",
       "      <td>48723483</td>\n",
       "      <td>EUROFIRMS</td>\n",
       "      <td>342165.00</td>\n",
       "    </tr>\n",
       "  </tbody>\n",
       "</table>\n",
       "</div>"
      ],
      "text/plain": [
       "   RANKING_CLIENTE  EM_ID_CLIENTE        EM_ID                     EM_NOMBRE  \\\n",
       "0                1     8600653408     48660368                    Eurovendex   \n",
       "1                1     8600653408   9574632660  Adecco No Redireccionamiento   \n",
       "2                1     8600653408  27958188850                        Spring   \n",
       "3                1     8600653408     79620258                        Adecco   \n",
       "4                2     8600632686     48723483                     EUROFIRMS   \n",
       "\n",
       "   IMPORTE_365  \n",
       "0    625071.82  \n",
       "1    625071.82  \n",
       "2    625071.82  \n",
       "3    625071.82  \n",
       "4    342165.00  "
      ]
     },
     "execution_count": 3,
     "metadata": {},
     "output_type": "execute_result"
    }
   ],
   "source": [
    "importe_df.head()"
   ]
  },
  {
   "cell_type": "code",
   "execution_count": 4,
   "metadata": {},
   "outputs": [
    {
     "data": {
      "text/plain": [
       "(195, 5)"
      ]
     },
     "execution_count": 4,
     "metadata": {},
     "output_type": "execute_result"
    }
   ],
   "source": [
    "importe_df.shape"
   ]
  },
  {
   "cell_type": "code",
   "execution_count": 5,
   "metadata": {},
   "outputs": [
    {
     "name": "stdout",
     "output_type": "stream",
     "text": [
      "11.2.0.3.0\n"
     ]
    }
   ],
   "source": [
    "con =  cx_Oracle.connect('comprasweb_ij/Xxxx1234!@10.10.2.223/MKTG')\n",
    "print(con.version)\n",
    "\n",
    "df = pd.read_sql_query('''\n",
    "--Cantidad de experiencias con empresas normalizadas y review \n",
    "--a \n",
    "SELECT \n",
    "\tt.ID_EXPERIENCIA_NORM,\n",
    "\tt.DESC_EXPERIENCIA_NORMALIZADO,\n",
    "\tMEDIAN(t.RATINGEVENTOBJECTSCORE) mediana,\n",
    "\tsum(t.RATINGEVENTOBJECTSCORE)/\n",
    "\tcount(t.RATINGEVENTOBJECTSCORE) promedio,\n",
    "\tcount(t.RATINGEVENTOBJECTSCORE) cantidad\n",
    "FROM \n",
    "(--t --SI NO FUNCIONA AGREGAR DESDE ACA A JUPYTER Y SACAR PROMEDIOS DESDE EL NOTEBOOK\n",
    "SELECT * \n",
    "FROM --DISTINCT para empresas\n",
    "(\n",
    "SELECT \n",
    "\tRATINGEVENTOBJECTTARGETID,\n",
    "\ts.DT,\n",
    "\tTRUNC(s.RATINGEVENTOBJECTINSTANT) AS fecha_review,\n",
    "\ts.RATINGEVENTOBJECTSCORE,\n",
    "\ts.REVIEWNAME,\n",
    "\ts.REVIEWVALUE\n",
    "FROM DWHPRO.COMPANY_REVIEW s \n",
    "--WHERE to_date(DT) BETWEEN to_date('01/09/2018') AND to_date('31/12/2019')\n",
    ")t \n",
    "pivot (\n",
    "min(REVIEWVALUE) value FOR REVIEWNAME IN ('title', 'description')\n",
    ")\n",
    "INNER JOIN \n",
    "DWHPRO.EXPERIENCIAS_COMPANY_NORM e ON ID_EXPERIENCIA = RATINGEVENTOBJECTTARGETID\n",
    "WHERE 1=1\n",
    "--AND CREATED_AT >= TO_DATE('2019-01-01','YYYY-mm-dd')\n",
    "AND NORMALIZATION_MODEL IS NOT NULL\n",
    "AND SCORE >= 0.7\n",
    "AND ID_EXPERIENCIA_NORM <> '-1'\n",
    ")t \n",
    "GROUP BY \n",
    "t.ID_EXPERIENCIA_NORM,\n",
    "t.DESC_EXPERIENCIA_NORMALIZADO\n",
    "''', con)\n",
    "score_df = df\n",
    "df_save_2 = df\n",
    "score_df.head()\n",
    "\n",
    "con.close()"
   ]
  },
  {
   "cell_type": "code",
   "execution_count": 6,
   "metadata": {},
   "outputs": [
    {
     "data": {
      "text/html": [
       "<div>\n",
       "<style scoped>\n",
       "    .dataframe tbody tr th:only-of-type {\n",
       "        vertical-align: middle;\n",
       "    }\n",
       "\n",
       "    .dataframe tbody tr th {\n",
       "        vertical-align: top;\n",
       "    }\n",
       "\n",
       "    .dataframe thead th {\n",
       "        text-align: right;\n",
       "    }\n",
       "</style>\n",
       "<table border=\"1\" class=\"dataframe\">\n",
       "  <thead>\n",
       "    <tr style=\"text-align: right;\">\n",
       "      <th></th>\n",
       "      <th>ID_EXPERIENCIA_NORM</th>\n",
       "      <th>DESC_EXPERIENCIA_NORMALIZADO</th>\n",
       "      <th>MEDIANA</th>\n",
       "      <th>PROMEDIO</th>\n",
       "      <th>CANTIDAD</th>\n",
       "    </tr>\n",
       "  </thead>\n",
       "  <tbody>\n",
       "    <tr>\n",
       "      <th>414</th>\n",
       "      <td>309</td>\n",
       "      <td>Mercadona</td>\n",
       "      <td>5.0</td>\n",
       "      <td>4.235902</td>\n",
       "      <td>4256</td>\n",
       "    </tr>\n",
       "  </tbody>\n",
       "</table>\n",
       "</div>"
      ],
      "text/plain": [
       "    ID_EXPERIENCIA_NORM DESC_EXPERIENCIA_NORMALIZADO  MEDIANA  PROMEDIO  \\\n",
       "414                 309                    Mercadona      5.0  4.235902   \n",
       "\n",
       "     CANTIDAD  \n",
       "414      4256  "
      ]
     },
     "execution_count": 6,
     "metadata": {},
     "output_type": "execute_result"
    }
   ],
   "source": [
    "score_df[score_df['DESC_EXPERIENCIA_NORMALIZADO']=='Mercadona']"
   ]
  },
  {
   "cell_type": "code",
   "execution_count": 8,
   "metadata": {},
   "outputs": [
    {
     "name": "stdout",
     "output_type": "stream",
     "text": [
      "11.2.0.3.0\n"
     ]
    }
   ],
   "source": [
    "con =  cx_Oracle.connect('comprasweb_ij/Xxxx1234!@10.10.2.223/MKTG')\n",
    "print(con.version)\n",
    "\n",
    "df = pd.read_sql_query('''\n",
    "--perfiles, matrices y normalizacion\n",
    "SELECT \n",
    "ID_PUESTO_NORM ID_EXPERIENCIA_NORM,\n",
    "DESC_OFERTA_NORMALIZADO DESC_EXPERIENCIA_NORMALIZADO,\n",
    "EP_MATRIZ EM_ID\n",
    "FROM DWHPRO.OFERTAS_COMPANY_NORM cn \n",
    "LEFT JOIN \n",
    "EMPLEO_ES.EMPRESAS_PERFILES ep ON cn.ID_OFERTA = ep.EP_ID\n",
    "WHERE 1=1\n",
    "AND NORMALIZATION_MODEL IS NOT NULL\n",
    "AND SCORE >= 0.7\n",
    "GROUP BY \n",
    "ID_PUESTO_NORM,\n",
    "DESC_OFERTA_NORMALIZADO,\n",
    "EP_MATRIZ\n",
    "''', con)\n",
    "perfil_df = df\n",
    "df_save_3 = df\n",
    "perfil_df.head()\n",
    "\n",
    "con.close()"
   ]
  },
  {
   "cell_type": "code",
   "execution_count": 9,
   "metadata": {},
   "outputs": [],
   "source": [
    "score_matriz = perfil_df.merge(score_df,how='inner',on = 'DESC_EXPERIENCIA_NORMALIZADO') "
   ]
  },
  {
   "cell_type": "code",
   "execution_count": 10,
   "metadata": {},
   "outputs": [
    {
     "data": {
      "text/plain": [
       "(29651, 7)"
      ]
     },
     "execution_count": 10,
     "metadata": {},
     "output_type": "execute_result"
    }
   ],
   "source": [
    "score_matriz.shape"
   ]
  },
  {
   "cell_type": "code",
   "execution_count": 11,
   "metadata": {
    "scrolled": true
   },
   "outputs": [
    {
     "data": {
      "text/html": [
       "<div>\n",
       "<style scoped>\n",
       "    .dataframe tbody tr th:only-of-type {\n",
       "        vertical-align: middle;\n",
       "    }\n",
       "\n",
       "    .dataframe tbody tr th {\n",
       "        vertical-align: top;\n",
       "    }\n",
       "\n",
       "    .dataframe thead th {\n",
       "        text-align: right;\n",
       "    }\n",
       "</style>\n",
       "<table border=\"1\" class=\"dataframe\">\n",
       "  <thead>\n",
       "    <tr style=\"text-align: right;\">\n",
       "      <th></th>\n",
       "      <th>ID_EXPERIENCIA_NORM_x</th>\n",
       "      <th>DESC_EXPERIENCIA_NORMALIZADO</th>\n",
       "      <th>EM_ID</th>\n",
       "      <th>ID_EXPERIENCIA_NORM_y</th>\n",
       "      <th>MEDIANA</th>\n",
       "      <th>PROMEDIO</th>\n",
       "      <th>CANTIDAD</th>\n",
       "    </tr>\n",
       "  </thead>\n",
       "  <tbody>\n",
       "    <tr>\n",
       "      <th>0</th>\n",
       "      <td>2498</td>\n",
       "      <td>Johnson Controls</td>\n",
       "      <td>4.879788e+07</td>\n",
       "      <td>2498</td>\n",
       "      <td>5.0</td>\n",
       "      <td>4.328</td>\n",
       "      <td>125</td>\n",
       "    </tr>\n",
       "    <tr>\n",
       "      <th>1</th>\n",
       "      <td>2498</td>\n",
       "      <td>Johnson Controls</td>\n",
       "      <td>3.070372e+10</td>\n",
       "      <td>2498</td>\n",
       "      <td>5.0</td>\n",
       "      <td>4.328</td>\n",
       "      <td>125</td>\n",
       "    </tr>\n",
       "    <tr>\n",
       "      <th>2</th>\n",
       "      <td>2498</td>\n",
       "      <td>Johnson Controls</td>\n",
       "      <td>2.519039e+09</td>\n",
       "      <td>2498</td>\n",
       "      <td>5.0</td>\n",
       "      <td>4.328</td>\n",
       "      <td>125</td>\n",
       "    </tr>\n",
       "    <tr>\n",
       "      <th>3</th>\n",
       "      <td>2498</td>\n",
       "      <td>Johnson Controls</td>\n",
       "      <td>2.565047e+09</td>\n",
       "      <td>2498</td>\n",
       "      <td>5.0</td>\n",
       "      <td>4.328</td>\n",
       "      <td>125</td>\n",
       "    </tr>\n",
       "    <tr>\n",
       "      <th>4</th>\n",
       "      <td>2498</td>\n",
       "      <td>Johnson Controls</td>\n",
       "      <td>4.838940e+07</td>\n",
       "      <td>2498</td>\n",
       "      <td>5.0</td>\n",
       "      <td>4.328</td>\n",
       "      <td>125</td>\n",
       "    </tr>\n",
       "  </tbody>\n",
       "</table>\n",
       "</div>"
      ],
      "text/plain": [
       "  ID_EXPERIENCIA_NORM_x DESC_EXPERIENCIA_NORMALIZADO         EM_ID  \\\n",
       "0                  2498             Johnson Controls  4.879788e+07   \n",
       "1                  2498             Johnson Controls  3.070372e+10   \n",
       "2                  2498             Johnson Controls  2.519039e+09   \n",
       "3                  2498             Johnson Controls  2.565047e+09   \n",
       "4                  2498             Johnson Controls  4.838940e+07   \n",
       "\n",
       "  ID_EXPERIENCIA_NORM_y  MEDIANA  PROMEDIO  CANTIDAD  \n",
       "0                  2498      5.0     4.328       125  \n",
       "1                  2498      5.0     4.328       125  \n",
       "2                  2498      5.0     4.328       125  \n",
       "3                  2498      5.0     4.328       125  \n",
       "4                  2498      5.0     4.328       125  "
      ]
     },
     "execution_count": 11,
     "metadata": {},
     "output_type": "execute_result"
    }
   ],
   "source": [
    "score_matriz.head()"
   ]
  },
  {
   "cell_type": "code",
   "execution_count": 12,
   "metadata": {},
   "outputs": [],
   "source": [
    "big_frame = score_matriz.merge(importe_df,how='inner',on = 'EM_ID')"
   ]
  },
  {
   "cell_type": "code",
   "execution_count": 13,
   "metadata": {},
   "outputs": [
    {
     "data": {
      "text/plain": [
       "(362, 11)"
      ]
     },
     "execution_count": 13,
     "metadata": {},
     "output_type": "execute_result"
    }
   ],
   "source": [
    "big_frame.shape"
   ]
  },
  {
   "cell_type": "markdown",
   "metadata": {},
   "source": [
    "### Exportar data"
   ]
  },
  {
   "cell_type": "code",
   "execution_count": 224,
   "metadata": {},
   "outputs": [],
   "source": [
    "big_frame.to_csv('score_top_ingresos_cruce_em_id_norm.csv', index= False)\n",
    "#, sep=';')"
   ]
  },
  {
   "cell_type": "code",
   "execution_count": 34,
   "metadata": {},
   "outputs": [],
   "source": [
    "score_matriz.to_csv('score_top_reviews_em.csv', index= False)\n",
    "#, sep=';')"
   ]
  },
  {
   "cell_type": "code",
   "execution_count": 35,
   "metadata": {},
   "outputs": [],
   "source": [
    "score_df.to_csv('score_top_reviews.csv', index= False)\n",
    "#, sep=';')"
   ]
  },
  {
   "cell_type": "code",
   "execution_count": 37,
   "metadata": {},
   "outputs": [],
   "source": [
    "importe_df.to_csv('score_top_ingresos.csv', index= False)\n",
    "#, sep=';')"
   ]
  },
  {
   "cell_type": "code",
   "execution_count": 50,
   "metadata": {},
   "outputs": [],
   "source": [
    "#Load the data \n",
    "df_csv = pd.read_csv('exp_norm_2034.csv')#, encoding='latin-1', sep='|', header=None)"
   ]
  },
  {
   "cell_type": "code",
   "execution_count": 52,
   "metadata": {
    "scrolled": true
   },
   "outputs": [],
   "source": [
    "#Load the data \n",
    "df_csv2 = pd.read_csv('reviews_all_data.csv')#, encoding='latin-1', sep='|', header=None)"
   ]
  },
  {
   "cell_type": "code",
   "execution_count": 66,
   "metadata": {},
   "outputs": [],
   "source": [
    "#Load the data \n",
    "df_csv4 = pd.read_csv('ds_2034.csv')#, encoding='latin-1', sep='|', header=None)"
   ]
  },
  {
   "cell_type": "code",
   "execution_count": 77,
   "metadata": {
    "scrolled": true
   },
   "outputs": [],
   "source": [
    "df_csv = df_csv.rename(columns={\"ne_exp_id\": \"EXPERIENCE_ID\"})"
   ]
  }
 ],
 "metadata": {
  "kernelspec": {
   "display_name": "Python 3",
   "language": "python",
   "name": "python3"
  },
  "language_info": {
   "codemirror_mode": {
    "name": "ipython",
    "version": 3
   },
   "file_extension": ".py",
   "mimetype": "text/x-python",
   "name": "python",
   "nbconvert_exporter": "python",
   "pygments_lexer": "ipython3",
   "version": "3.7.7"
  }
 },
 "nbformat": 4,
 "nbformat_minor": 2
}
