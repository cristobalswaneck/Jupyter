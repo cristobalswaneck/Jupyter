{
 "cells": [
  {
   "cell_type": "code",
   "execution_count": 1,
   "metadata": {},
   "outputs": [],
   "source": [
    "import psycopg2\n",
    "import numpy as np\n",
    "import pandas as pd\n",
    "import datetime as dt\n",
    "import cx_Oracle\n",
    "import csv"
   ]
  },
  {
   "cell_type": "markdown",
   "metadata": {},
   "source": [
    "#### SQL Reviews"
   ]
  },
  {
   "cell_type": "code",
   "execution_count": 2,
   "metadata": {},
   "outputs": [
    {
     "name": "stdout",
     "output_type": "stream",
     "text": [
      "11.2.0.3.0\n"
     ]
    }
   ],
   "source": [
    "con =  cx_Oracle.connect('comprasweb_ij/Xxxx1234!@10.10.2.223/MKTG')\n",
    "print(con.version)\n",
    "\n",
    "df = pd.read_sql_query('''\n",
    "SELECT * FROM \n",
    "(\n",
    "SELECT \n",
    "RATINGEVENTOBJECTTARGETID,\n",
    "s.DT,\n",
    "s.RATINGEVENTOBJECTSCORE,\n",
    "REPLACE(s.REVIEWNAME, '?', 'n') AS REVIEWNAME,\n",
    "REPLACE(s.REVIEWVALUE, '?', 'n') AS REVIEWVALUE\n",
    "FROM DWHPRO.COMPANY_REVIEW s\n",
    ")t \n",
    "pivot (\n",
    "min(REVIEWVALUE) value FOR REVIEWNAME IN ('title', 'description')\n",
    ")\n",
    "''', con)\n",
    "review = df\n",
    "df_save = df\n",
    "review.head()\n",
    "\n",
    "con.close()"
   ]
  },
  {
   "cell_type": "code",
   "execution_count": 3,
   "metadata": {},
   "outputs": [
    {
     "data": {
      "text/html": [
       "<div>\n",
       "<style scoped>\n",
       "    .dataframe tbody tr th:only-of-type {\n",
       "        vertical-align: middle;\n",
       "    }\n",
       "\n",
       "    .dataframe tbody tr th {\n",
       "        vertical-align: top;\n",
       "    }\n",
       "\n",
       "    .dataframe thead th {\n",
       "        text-align: right;\n",
       "    }\n",
       "</style>\n",
       "<table border=\"1\" class=\"dataframe\">\n",
       "  <thead>\n",
       "    <tr style=\"text-align: right;\">\n",
       "      <th></th>\n",
       "      <th>RATINGEVENTOBJECTTARGETID</th>\n",
       "      <th>DT</th>\n",
       "      <th>RATINGEVENTOBJECTSCORE</th>\n",
       "      <th>'title'_VALUE</th>\n",
       "      <th>'description'_VALUE</th>\n",
       "    </tr>\n",
       "  </thead>\n",
       "  <tbody>\n",
       "    <tr>\n",
       "      <th>0</th>\n",
       "      <td>34191594985</td>\n",
       "      <td>2019-01-13</td>\n",
       "      <td>4</td>\n",
       "      <td>.</td>\n",
       "      <td>.</td>\n",
       "    </tr>\n",
       "    <tr>\n",
       "      <th>1</th>\n",
       "      <td>27203188658</td>\n",
       "      <td>2018-09-04</td>\n",
       "      <td>5</td>\n",
       "      <td>Se puede hablar sin ningun problemas con ellos.</td>\n",
       "      <td>Mi valoracion es muy buena,Tanto como persona ...</td>\n",
       "    </tr>\n",
       "    <tr>\n",
       "      <th>2</th>\n",
       "      <td>34197307040</td>\n",
       "      <td>2019-07-17</td>\n",
       "      <td>5</td>\n",
       "      <td>10</td>\n",
       "      <td>10</td>\n",
       "    </tr>\n",
       "    <tr>\n",
       "      <th>3</th>\n",
       "      <td>23212224558</td>\n",
       "      <td>2019-07-17</td>\n",
       "      <td>3</td>\n",
       "      <td>Buen trabajo pero la empresa pone demasiadas t...</td>\n",
       "      <td>Es un trabajo bastante comodo, pero a la hora ...</td>\n",
       "    </tr>\n",
       "    <tr>\n",
       "      <th>4</th>\n",
       "      <td>34196877334</td>\n",
       "      <td>2019-08-29</td>\n",
       "      <td>4</td>\n",
       "      <td>Buen ambiente de trabajo, buen sueldo y la rel...</td>\n",
       "      <td>Buen ambiente de trabajo, buen sueldo y la rel...</td>\n",
       "    </tr>\n",
       "  </tbody>\n",
       "</table>\n",
       "</div>"
      ],
      "text/plain": [
       "   RATINGEVENTOBJECTTARGETID         DT  RATINGEVENTOBJECTSCORE  \\\n",
       "0                34191594985 2019-01-13                       4   \n",
       "1                27203188658 2018-09-04                       5   \n",
       "2                34197307040 2019-07-17                       5   \n",
       "3                23212224558 2019-07-17                       3   \n",
       "4                34196877334 2019-08-29                       4   \n",
       "\n",
       "                                       'title'_VALUE  \\\n",
       "0                                                  .   \n",
       "1    Se puede hablar sin ningun problemas con ellos.   \n",
       "2                                                 10   \n",
       "3  Buen trabajo pero la empresa pone demasiadas t...   \n",
       "4  Buen ambiente de trabajo, buen sueldo y la rel...   \n",
       "\n",
       "                                 'description'_VALUE  \n",
       "0                                                  .  \n",
       "1  Mi valoracion es muy buena,Tanto como persona ...  \n",
       "2                                                 10  \n",
       "3  Es un trabajo bastante comodo, pero a la hora ...  \n",
       "4  Buen ambiente de trabajo, buen sueldo y la rel...  "
      ]
     },
     "execution_count": 3,
     "metadata": {},
     "output_type": "execute_result"
    }
   ],
   "source": [
    "review.head()"
   ]
  },
  {
   "cell_type": "code",
   "execution_count": 4,
   "metadata": {},
   "outputs": [
    {
     "data": {
      "text/plain": [
       "(1636201, 5)"
      ]
     },
     "execution_count": 4,
     "metadata": {},
     "output_type": "execute_result"
    }
   ],
   "source": [
    "review.shape"
   ]
  },
  {
   "cell_type": "code",
   "execution_count": 5,
   "metadata": {
    "scrolled": true
   },
   "outputs": [
    {
     "data": {
      "text/html": [
       "<div>\n",
       "<style scoped>\n",
       "    .dataframe tbody tr th:only-of-type {\n",
       "        vertical-align: middle;\n",
       "    }\n",
       "\n",
       "    .dataframe tbody tr th {\n",
       "        vertical-align: top;\n",
       "    }\n",
       "\n",
       "    .dataframe thead th {\n",
       "        text-align: right;\n",
       "    }\n",
       "</style>\n",
       "<table border=\"1\" class=\"dataframe\">\n",
       "  <thead>\n",
       "    <tr style=\"text-align: right;\">\n",
       "      <th></th>\n",
       "      <th>EXPERIENCE_ID</th>\n",
       "      <th>DATE_REVIEW</th>\n",
       "      <th>SCORE</th>\n",
       "      <th>TITLE</th>\n",
       "      <th>DESCRIPTION</th>\n",
       "    </tr>\n",
       "  </thead>\n",
       "  <tbody>\n",
       "    <tr>\n",
       "      <th>0</th>\n",
       "      <td>34191594985</td>\n",
       "      <td>2019-01-13</td>\n",
       "      <td>4</td>\n",
       "      <td>.</td>\n",
       "      <td>.</td>\n",
       "    </tr>\n",
       "    <tr>\n",
       "      <th>1</th>\n",
       "      <td>27203188658</td>\n",
       "      <td>2018-09-04</td>\n",
       "      <td>5</td>\n",
       "      <td>Se puede hablar sin ningun problemas con ellos.</td>\n",
       "      <td>Mi valoracion es muy buena,Tanto como persona ...</td>\n",
       "    </tr>\n",
       "    <tr>\n",
       "      <th>2</th>\n",
       "      <td>34197307040</td>\n",
       "      <td>2019-07-17</td>\n",
       "      <td>5</td>\n",
       "      <td>10</td>\n",
       "      <td>10</td>\n",
       "    </tr>\n",
       "    <tr>\n",
       "      <th>3</th>\n",
       "      <td>23212224558</td>\n",
       "      <td>2019-07-17</td>\n",
       "      <td>3</td>\n",
       "      <td>Buen trabajo pero la empresa pone demasiadas t...</td>\n",
       "      <td>Es un trabajo bastante comodo, pero a la hora ...</td>\n",
       "    </tr>\n",
       "    <tr>\n",
       "      <th>4</th>\n",
       "      <td>34196877334</td>\n",
       "      <td>2019-08-29</td>\n",
       "      <td>4</td>\n",
       "      <td>Buen ambiente de trabajo, buen sueldo y la rel...</td>\n",
       "      <td>Buen ambiente de trabajo, buen sueldo y la rel...</td>\n",
       "    </tr>\n",
       "  </tbody>\n",
       "</table>\n",
       "</div>"
      ],
      "text/plain": [
       "   EXPERIENCE_ID DATE_REVIEW  SCORE  \\\n",
       "0    34191594985  2019-01-13      4   \n",
       "1    27203188658  2018-09-04      5   \n",
       "2    34197307040  2019-07-17      5   \n",
       "3    23212224558  2019-07-17      3   \n",
       "4    34196877334  2019-08-29      4   \n",
       "\n",
       "                                               TITLE  \\\n",
       "0                                                  .   \n",
       "1    Se puede hablar sin ningun problemas con ellos.   \n",
       "2                                                 10   \n",
       "3  Buen trabajo pero la empresa pone demasiadas t...   \n",
       "4  Buen ambiente de trabajo, buen sueldo y la rel...   \n",
       "\n",
       "                                         DESCRIPTION  \n",
       "0                                                  .  \n",
       "1  Mi valoracion es muy buena,Tanto como persona ...  \n",
       "2                                                 10  \n",
       "3  Es un trabajo bastante comodo, pero a la hora ...  \n",
       "4  Buen ambiente de trabajo, buen sueldo y la rel...  "
      ]
     },
     "execution_count": 5,
     "metadata": {},
     "output_type": "execute_result"
    }
   ],
   "source": [
    "review = review.rename(index=str, \n",
    "                       columns=\n",
    "                       {\"RATINGEVENTOBJECTTARGETID\": \"EXPERIENCE_ID\"\n",
    "                       ,\"'title'_VALUE\": \"TITLE\"\n",
    "                       ,\"DT\": \"DATE_REVIEW\" \n",
    "                       ,\"'description'_VALUE\": \"DESCRIPTION\"\n",
    "                       ,\"RATINGEVENTOBJECTSCORE\": \"SCORE\"}\n",
    "                      )\n",
    "review.head()"
   ]
  },
  {
   "cell_type": "code",
   "execution_count": 6,
   "metadata": {},
   "outputs": [],
   "source": [
    "review.to_csv('reviews_all_data.csv', index= False)\n",
    "#, sep=';')"
   ]
  },
  {
   "cell_type": "markdown",
   "metadata": {},
   "source": [
    "#### Load csv"
   ]
  },
  {
   "cell_type": "code",
   "execution_count": 5,
   "metadata": {},
   "outputs": [],
   "source": [
    "#Load the data \n",
    "df_csv = pd.read_csv('reviews_all_data.csv')#, encoding='latin-1', sep='|', header=None)"
   ]
  },
  {
   "cell_type": "code",
   "execution_count": 6,
   "metadata": {},
   "outputs": [
    {
     "data": {
      "text/html": [
       "<div>\n",
       "<style scoped>\n",
       "    .dataframe tbody tr th:only-of-type {\n",
       "        vertical-align: middle;\n",
       "    }\n",
       "\n",
       "    .dataframe tbody tr th {\n",
       "        vertical-align: top;\n",
       "    }\n",
       "\n",
       "    .dataframe thead th {\n",
       "        text-align: right;\n",
       "    }\n",
       "</style>\n",
       "<table border=\"1\" class=\"dataframe\">\n",
       "  <thead>\n",
       "    <tr style=\"text-align: right;\">\n",
       "      <th></th>\n",
       "      <th>EXPERIENCE_ID</th>\n",
       "      <th>DATE_REVIEW</th>\n",
       "      <th>SCORE</th>\n",
       "      <th>TITLE</th>\n",
       "      <th>DESCRIPTION</th>\n",
       "    </tr>\n",
       "  </thead>\n",
       "  <tbody>\n",
       "    <tr>\n",
       "      <th>0</th>\n",
       "      <td>34121772802</td>\n",
       "      <td>2018-09-08</td>\n",
       "      <td>2</td>\n",
       "      <td>:)</td>\n",
       "      <td>NaN</td>\n",
       "    </tr>\n",
       "    <tr>\n",
       "      <th>1</th>\n",
       "      <td>33824903220</td>\n",
       "      <td>2018-09-08</td>\n",
       "      <td>5</td>\n",
       "      <td>muy bien y contento</td>\n",
       "      <td>muy bien y contento</td>\n",
       "    </tr>\n",
       "    <tr>\n",
       "      <th>2</th>\n",
       "      <td>34120310630</td>\n",
       "      <td>2018-09-08</td>\n",
       "      <td>5</td>\n",
       "      <td>TEAM BUILDING</td>\n",
       "      <td>NaN</td>\n",
       "    </tr>\n",
       "    <tr>\n",
       "      <th>3</th>\n",
       "      <td>34121040078</td>\n",
       "      <td>2018-09-08</td>\n",
       "      <td>5</td>\n",
       "      <td>Formacion profesional de gran valor</td>\n",
       "      <td>NaN</td>\n",
       "    </tr>\n",
       "    <tr>\n",
       "      <th>4</th>\n",
       "      <td>34120994936</td>\n",
       "      <td>2018-09-08</td>\n",
       "      <td>5</td>\n",
       "      <td>Buen trato con los trabajadores.</td>\n",
       "      <td>NaN</td>\n",
       "    </tr>\n",
       "  </tbody>\n",
       "</table>\n",
       "</div>"
      ],
      "text/plain": [
       "   EXPERIENCE_ID DATE_REVIEW  SCORE                                TITLE  \\\n",
       "0    34121772802  2018-09-08      2                                   :)   \n",
       "1    33824903220  2018-09-08      5                  muy bien y contento   \n",
       "2    34120310630  2018-09-08      5                        TEAM BUILDING   \n",
       "3    34121040078  2018-09-08      5  Formacion profesional de gran valor   \n",
       "4    34120994936  2018-09-08      5     Buen trato con los trabajadores.   \n",
       "\n",
       "           DESCRIPTION  \n",
       "0                  NaN  \n",
       "1  muy bien y contento  \n",
       "2                  NaN  \n",
       "3                  NaN  \n",
       "4                  NaN  "
      ]
     },
     "execution_count": 6,
     "metadata": {},
     "output_type": "execute_result"
    }
   ],
   "source": [
    "df_csv.head()"
   ]
  },
  {
   "cell_type": "code",
   "execution_count": 7,
   "metadata": {},
   "outputs": [],
   "source": [
    "review = df_csv"
   ]
  },
  {
   "cell_type": "markdown",
   "metadata": {},
   "source": [
    "### Experiencias Company Norm desde BBDD"
   ]
  },
  {
   "cell_type": "code",
   "execution_count": null,
   "metadata": {},
   "outputs": [],
   "source": [
    "#Lista para filtrar en SQL   #= ('Dentix', 'Vivanta') #tuples object para empresas\n",
    "lista_empresas =(\n",
    "'KPMG'\n",
    ",'PwC'\n",
    ",'EY'\n",
    ",'Deloitte'\n",
    ",'Banco Santander'\n",
    ",'BBVA'\n",
    ",'Bankinter'\n",
    ",'ING Direct'\n",
    ",'ING Nationale-Nederlanden'\n",
    ",'Repsol'\n",
    ",'Repsol YPF'\n",
    ",'Sopra Steria'\n",
    ",'Sopra Group'\n",
    ",'Atos Global Delivery Center Canarias'\n",
    ",'Atos'\n",
    ",'Capgemini'\n",
    ",'Sogeti'\n",
    ")"
   ]
  },
  {
   "cell_type": "code",
   "execution_count": null,
   "metadata": {},
   "outputs": [],
   "source": [
    "con =  cx_Oracle.connect('comprasweb_ij/Xxxx1234!@10.10.2.223/MKTG')\n",
    "print(con.version)\n",
    "\n",
    "df = pd.read_sql_query\n",
    "sql = '''\n",
    "SELECT \n",
    "ID_EXPERIENCIA\n",
    ",DESC_EXPERIENCIA_NORMALIZADO\n",
    "FROM DWHPRO.EXPERIENCIAS_COMPANY_NORM\n",
    "WHERE 1=1\n",
    "--AND CREATED_AT >= TO_DATE('2019-01-01','YYYY-mm-dd')\n",
    "AND NORMALIZATION_MODEL IS NOT NULL\n",
    "AND SCORE > 0.7\n",
    "AND DESC_EXPERIENCIA_NORMALIZADO in {}'''.format(lista_empresas)\n",
    "\n",
    "df = pd.read_sql_query(sql,con)\n",
    "\n",
    "exp_df = df\n",
    "df_save = df\n",
    "\n",
    "\n",
    "con.close()"
   ]
  },
  {
   "cell_type": "code",
   "execution_count": 7,
   "metadata": {},
   "outputs": [
    {
     "name": "stdout",
     "output_type": "stream",
     "text": [
      "11.2.0.3.0\n"
     ]
    }
   ],
   "source": [
    "#TODAS LAS EXP NORMALIZADAS\n",
    "con =  cx_Oracle.connect('comprasweb_ij/Xxxx1234!@10.10.2.223/MKTG')\n",
    "print(con.version)\n",
    "\n",
    "df = pd.read_sql_query\n",
    "sql = '''\n",
    "SELECT \n",
    "ID_EXPERIENCIA as EXPERIENCE_ID\n",
    ",ID_EXPERIENCIA_NORM\n",
    ",DESC_EXPERIENCIA_NORMALIZADO\n",
    "FROM DWHPRO.EXPERIENCIAS_COMPANY_NORM\n",
    "WHERE 1=1\n",
    "AND NORMALIZATION_MODEL IS NOT NULL\n",
    "AND SCORE = 1\n",
    "'''\n",
    "\n",
    "df = pd.read_sql_query(sql,con)\n",
    "\n",
    "exp_df = df\n",
    "df_save = df\n",
    "\n",
    "con.close()"
   ]
  },
  {
   "cell_type": "markdown",
   "metadata": {},
   "source": [
    "#### To csv"
   ]
  },
  {
   "cell_type": "code",
   "execution_count": 8,
   "metadata": {},
   "outputs": [],
   "source": [
    "exp_df.to_csv('exp_comp_norm_all_data.csv', index= False)\n",
    "#, sep=';')"
   ]
  },
  {
   "cell_type": "markdown",
   "metadata": {},
   "source": [
    "#### Read csv"
   ]
  },
  {
   "cell_type": "code",
   "execution_count": 8,
   "metadata": {},
   "outputs": [],
   "source": [
    "#Load the data \n",
    "df_csv = pd.read_csv('exp_comp_norm_all_data.csv')#, encoding='latin-1', sep='|', header=None)"
   ]
  },
  {
   "cell_type": "code",
   "execution_count": 9,
   "metadata": {},
   "outputs": [],
   "source": [
    "exp_df = df_csv"
   ]
  },
  {
   "cell_type": "code",
   "execution_count": 9,
   "metadata": {},
   "outputs": [
    {
     "data": {
      "text/html": [
       "<div>\n",
       "<style scoped>\n",
       "    .dataframe tbody tr th:only-of-type {\n",
       "        vertical-align: middle;\n",
       "    }\n",
       "\n",
       "    .dataframe tbody tr th {\n",
       "        vertical-align: top;\n",
       "    }\n",
       "\n",
       "    .dataframe thead th {\n",
       "        text-align: right;\n",
       "    }\n",
       "</style>\n",
       "<table border=\"1\" class=\"dataframe\">\n",
       "  <thead>\n",
       "    <tr style=\"text-align: right;\">\n",
       "      <th></th>\n",
       "      <th>EXPERIENCE_ID</th>\n",
       "      <th>DATE_REVIEW</th>\n",
       "      <th>SCORE</th>\n",
       "      <th>TITLE</th>\n",
       "      <th>DESCRIPTION</th>\n",
       "    </tr>\n",
       "  </thead>\n",
       "  <tbody>\n",
       "    <tr>\n",
       "      <th>0</th>\n",
       "      <td>34191594985</td>\n",
       "      <td>2019-01-13</td>\n",
       "      <td>4</td>\n",
       "      <td>.</td>\n",
       "      <td>.</td>\n",
       "    </tr>\n",
       "    <tr>\n",
       "      <th>1</th>\n",
       "      <td>27203188658</td>\n",
       "      <td>2018-09-04</td>\n",
       "      <td>5</td>\n",
       "      <td>Se puede hablar sin ningun problemas con ellos.</td>\n",
       "      <td>Mi valoracion es muy buena,Tanto como persona ...</td>\n",
       "    </tr>\n",
       "    <tr>\n",
       "      <th>2</th>\n",
       "      <td>34197307040</td>\n",
       "      <td>2019-07-17</td>\n",
       "      <td>5</td>\n",
       "      <td>10</td>\n",
       "      <td>10</td>\n",
       "    </tr>\n",
       "    <tr>\n",
       "      <th>3</th>\n",
       "      <td>23212224558</td>\n",
       "      <td>2019-07-17</td>\n",
       "      <td>3</td>\n",
       "      <td>Buen trabajo pero la empresa pone demasiadas t...</td>\n",
       "      <td>Es un trabajo bastante comodo, pero a la hora ...</td>\n",
       "    </tr>\n",
       "    <tr>\n",
       "      <th>4</th>\n",
       "      <td>34196877334</td>\n",
       "      <td>2019-08-29</td>\n",
       "      <td>4</td>\n",
       "      <td>Buen ambiente de trabajo, buen sueldo y la rel...</td>\n",
       "      <td>Buen ambiente de trabajo, buen sueldo y la rel...</td>\n",
       "    </tr>\n",
       "  </tbody>\n",
       "</table>\n",
       "</div>"
      ],
      "text/plain": [
       "   EXPERIENCE_ID DATE_REVIEW  SCORE  \\\n",
       "0    34191594985  2019-01-13      4   \n",
       "1    27203188658  2018-09-04      5   \n",
       "2    34197307040  2019-07-17      5   \n",
       "3    23212224558  2019-07-17      3   \n",
       "4    34196877334  2019-08-29      4   \n",
       "\n",
       "                                               TITLE  \\\n",
       "0                                                  .   \n",
       "1    Se puede hablar sin ningun problemas con ellos.   \n",
       "2                                                 10   \n",
       "3  Buen trabajo pero la empresa pone demasiadas t...   \n",
       "4  Buen ambiente de trabajo, buen sueldo y la rel...   \n",
       "\n",
       "                                         DESCRIPTION  \n",
       "0                                                  .  \n",
       "1  Mi valoracion es muy buena,Tanto como persona ...  \n",
       "2                                                 10  \n",
       "3  Es un trabajo bastante comodo, pero a la hora ...  \n",
       "4  Buen ambiente de trabajo, buen sueldo y la rel...  "
      ]
     },
     "execution_count": 9,
     "metadata": {},
     "output_type": "execute_result"
    }
   ],
   "source": [
    "review.head()"
   ]
  },
  {
   "cell_type": "code",
   "execution_count": 10,
   "metadata": {
    "scrolled": true
   },
   "outputs": [
    {
     "data": {
      "text/plain": [
       "(8777485, 3)"
      ]
     },
     "execution_count": 10,
     "metadata": {},
     "output_type": "execute_result"
    }
   ],
   "source": [
    "exp_df.shape"
   ]
  },
  {
   "cell_type": "code",
   "execution_count": 11,
   "metadata": {},
   "outputs": [
    {
     "data": {
      "text/html": [
       "<div>\n",
       "<style scoped>\n",
       "    .dataframe tbody tr th:only-of-type {\n",
       "        vertical-align: middle;\n",
       "    }\n",
       "\n",
       "    .dataframe tbody tr th {\n",
       "        vertical-align: top;\n",
       "    }\n",
       "\n",
       "    .dataframe thead th {\n",
       "        text-align: right;\n",
       "    }\n",
       "</style>\n",
       "<table border=\"1\" class=\"dataframe\">\n",
       "  <thead>\n",
       "    <tr style=\"text-align: right;\">\n",
       "      <th></th>\n",
       "      <th>EXPERIENCE_ID</th>\n",
       "      <th>ID_EXPERIENCIA_NORM</th>\n",
       "      <th>DESC_EXPERIENCIA_NORMALIZADO</th>\n",
       "    </tr>\n",
       "  </thead>\n",
       "  <tbody>\n",
       "    <tr>\n",
       "      <th>0</th>\n",
       "      <td>195920240</td>\n",
       "      <td>1731</td>\n",
       "      <td>Eurest</td>\n",
       "    </tr>\n",
       "    <tr>\n",
       "      <th>1</th>\n",
       "      <td>195922906</td>\n",
       "      <td>4270</td>\n",
       "      <td>CUTASA</td>\n",
       "    </tr>\n",
       "    <tr>\n",
       "      <th>2</th>\n",
       "      <td>195923019</td>\n",
       "      <td>2385</td>\n",
       "      <td>Sol Melia</td>\n",
       "    </tr>\n",
       "    <tr>\n",
       "      <th>3</th>\n",
       "      <td>195928229</td>\n",
       "      <td>1554</td>\n",
       "      <td>SEAT</td>\n",
       "    </tr>\n",
       "    <tr>\n",
       "      <th>4</th>\n",
       "      <td>195931051</td>\n",
       "      <td>1975</td>\n",
       "      <td>Aegon Seguros</td>\n",
       "    </tr>\n",
       "  </tbody>\n",
       "</table>\n",
       "</div>"
      ],
      "text/plain": [
       "   EXPERIENCE_ID ID_EXPERIENCIA_NORM DESC_EXPERIENCIA_NORMALIZADO\n",
       "0      195920240                1731                       Eurest\n",
       "1      195922906                4270                       CUTASA\n",
       "2      195923019                2385                    Sol Melia\n",
       "3      195928229                1554                         SEAT\n",
       "4      195931051                1975                Aegon Seguros"
      ]
     },
     "execution_count": 11,
     "metadata": {},
     "output_type": "execute_result"
    }
   ],
   "source": [
    "exp_df.head()"
   ]
  },
  {
   "cell_type": "markdown",
   "metadata": {},
   "source": [
    "### ahora cantidad de reviews con empresas norm al 100%"
   ]
  },
  {
   "cell_type": "code",
   "execution_count": 12,
   "metadata": {},
   "outputs": [],
   "source": [
    "#revie con empresa norm\n",
    "reviews_norm = review.merge(exp_df,how='inner',on = 'EXPERIENCE_ID')"
   ]
  },
  {
   "cell_type": "code",
   "execution_count": 14,
   "metadata": {},
   "outputs": [
    {
     "name": "stdout",
     "output_type": "stream",
     "text": [
      "11.2.0.3.0\n"
     ]
    }
   ],
   "source": [
    "con =  cx_Oracle.connect('comprasweb_ij/Xxxx1234!@10.10.2.223/MKTG')\n",
    "print(con.version)\n",
    "\n",
    "df = pd.read_sql_query\n",
    "sql ='''\n",
    "SELECT \n",
    "DESC_OFERTA_NORMALIZADO as DESC_EXPERIENCIA_NORMALIZADO\n",
    "FROM DWHPRO.OFERTAS_COMPANY_NORM\n",
    "WHERE 1=1\n",
    "AND NORMALIZATION_MODEL IS NOT NULL\n",
    "--AND SCORE >= 0.8\n",
    "AND SCORE = 1\n",
    "AND ID_PUESTO_NORM <> '-1'\n",
    "group by \n",
    "DESC_OFERTA_NORMALIZADO\n",
    "'''\n",
    "\n",
    "df = pd.read_sql_query(sql,con)\n",
    "\n",
    "perfil_norm = df\n",
    "\n",
    "con.close()"
   ]
  },
  {
   "cell_type": "code",
   "execution_count": 17,
   "metadata": {},
   "outputs": [
    {
     "data": {
      "text/plain": [
       "(4109, 1)"
      ]
     },
     "execution_count": 17,
     "metadata": {},
     "output_type": "execute_result"
    }
   ],
   "source": [
    "perfil_norm.shape"
   ]
  },
  {
   "cell_type": "code",
   "execution_count": 18,
   "metadata": {},
   "outputs": [],
   "source": [
    "empresas_norm = reviews_norm.merge(perfil_norm,how='inner',on = 'DESC_EXPERIENCIA_NORMALIZADO')"
   ]
  },
  {
   "cell_type": "code",
   "execution_count": 19,
   "metadata": {},
   "outputs": [
    {
     "data": {
      "text/plain": [
       "(207439, 7)"
      ]
     },
     "execution_count": 19,
     "metadata": {},
     "output_type": "execute_result"
    }
   ],
   "source": [
    "empresas_norm.shape #aca se ven las reviews restantes entre los dos cruces al 100%"
   ]
  },
  {
   "cell_type": "code",
   "execution_count": 20,
   "metadata": {},
   "outputs": [
    {
     "data": {
      "text/html": [
       "<div>\n",
       "<style scoped>\n",
       "    .dataframe tbody tr th:only-of-type {\n",
       "        vertical-align: middle;\n",
       "    }\n",
       "\n",
       "    .dataframe tbody tr th {\n",
       "        vertical-align: top;\n",
       "    }\n",
       "\n",
       "    .dataframe thead th {\n",
       "        text-align: right;\n",
       "    }\n",
       "</style>\n",
       "<table border=\"1\" class=\"dataframe\">\n",
       "  <thead>\n",
       "    <tr style=\"text-align: right;\">\n",
       "      <th></th>\n",
       "      <th>Reviews</th>\n",
       "    </tr>\n",
       "    <tr>\n",
       "      <th>DESC_EXPERIENCIA_NORMALIZADO</th>\n",
       "      <th></th>\n",
       "    </tr>\n",
       "  </thead>\n",
       "  <tbody>\n",
       "    <tr>\n",
       "      <th>100 Montaditos</th>\n",
       "      <td>557</td>\n",
       "    </tr>\n",
       "    <tr>\n",
       "      <th>20 Minutos</th>\n",
       "      <td>22</td>\n",
       "    </tr>\n",
       "    <tr>\n",
       "      <th>360 Talent</th>\n",
       "      <td>6</td>\n",
       "    </tr>\n",
       "    <tr>\n",
       "      <th>3ASIDE Consultors</th>\n",
       "      <td>1</td>\n",
       "    </tr>\n",
       "    <tr>\n",
       "      <th>40 Grados a la Sombra</th>\n",
       "      <td>5</td>\n",
       "    </tr>\n",
       "    <tr>\n",
       "      <th>4set TALENT &amp; TECHNOLOGY</th>\n",
       "      <td>4</td>\n",
       "    </tr>\n",
       "    <tr>\n",
       "      <th>7 i TRIA</th>\n",
       "      <td>46</td>\n",
       "    </tr>\n",
       "    <tr>\n",
       "      <th>A Loja do Gato Preto</th>\n",
       "      <td>59</td>\n",
       "    </tr>\n",
       "    <tr>\n",
       "      <th>A&amp;P Formacion</th>\n",
       "      <td>2</td>\n",
       "    </tr>\n",
       "    <tr>\n",
       "      <th>AB Mauri Food</th>\n",
       "      <td>6</td>\n",
       "    </tr>\n",
       "    <tr>\n",
       "      <th>ABAST</th>\n",
       "      <td>8</td>\n",
       "    </tr>\n",
       "    <tr>\n",
       "      <th>ABB</th>\n",
       "      <td>92</td>\n",
       "    </tr>\n",
       "    <tr>\n",
       "      <th>ABC</th>\n",
       "      <td>67</td>\n",
       "    </tr>\n",
       "    <tr>\n",
       "      <th>ABD Associacio Benestar i Desenvolupament</th>\n",
       "      <td>25</td>\n",
       "    </tr>\n",
       "    <tr>\n",
       "      <th>ABDE Business Consulting</th>\n",
       "      <td>1</td>\n",
       "    </tr>\n",
       "    <tr>\n",
       "      <th>ACCIONA Service</th>\n",
       "      <td>191</td>\n",
       "    </tr>\n",
       "    <tr>\n",
       "      <th>ACOMAR SALUD</th>\n",
       "      <td>4</td>\n",
       "    </tr>\n",
       "    <tr>\n",
       "      <th>ACTIO</th>\n",
       "      <td>11</td>\n",
       "    </tr>\n",
       "    <tr>\n",
       "      <th>ACTIVA MUTUA 2008</th>\n",
       "      <td>32</td>\n",
       "    </tr>\n",
       "    <tr>\n",
       "      <th>ACTIVEX</th>\n",
       "      <td>10</td>\n",
       "    </tr>\n",
       "  </tbody>\n",
       "</table>\n",
       "</div>"
      ],
      "text/plain": [
       "                                           Reviews\n",
       "DESC_EXPERIENCIA_NORMALIZADO                      \n",
       "100 Montaditos                                 557\n",
       "20 Minutos                                      22\n",
       "360 Talent                                       6\n",
       "3ASIDE Consultors                                1\n",
       "40 Grados a la Sombra                            5\n",
       "4set TALENT & TECHNOLOGY                         4\n",
       "7 i TRIA                                        46\n",
       "A Loja do Gato Preto                            59\n",
       "A&P Formacion                                    2\n",
       "AB Mauri Food                                    6\n",
       "ABAST                                            8\n",
       "ABB                                             92\n",
       "ABC                                             67\n",
       "ABD Associacio Benestar i Desenvolupament       25\n",
       "ABDE Business Consulting                         1\n",
       "ACCIONA Service                                191\n",
       "ACOMAR SALUD                                     4\n",
       "ACTIO                                           11\n",
       "ACTIVA MUTUA 2008                               32\n",
       "ACTIVEX                                         10"
      ]
     },
     "execution_count": 20,
     "metadata": {},
     "output_type": "execute_result"
    }
   ],
   "source": [
    "grouped_explo = empresas_norm.groupby(['DESC_EXPERIENCIA_NORMALIZADO'])\n",
    "\n",
    "# count the unique users, orders, and total revenue per Group + Period\n",
    "metrics_explo = grouped_explo.agg({'EXPERIENCE_ID': np.count_nonzero\n",
    "                      })\n",
    "\n",
    "# make the column names more meaningful\n",
    "metrics_explo.rename(columns={'EXPERIENCE_ID': 'Reviews'}, inplace=True)\n",
    "metrics_explo.head(20)"
   ]
  },
  {
   "cell_type": "code",
   "execution_count": 21,
   "metadata": {
    "scrolled": true
   },
   "outputs": [],
   "source": [
    "metrics_explo = metrics_explo.reset_index()"
   ]
  },
  {
   "cell_type": "code",
   "execution_count": 22,
   "metadata": {},
   "outputs": [],
   "source": [
    "metrics_explo.to_csv('metrics_explo.csv', index= False)\n",
    "#, sep=';')"
   ]
  },
  {
   "cell_type": "markdown",
   "metadata": {},
   "source": [
    "#### agregar un join con perfiles normalizados (ofertas normalizadas)"
   ]
  },
  {
   "cell_type": "code",
   "execution_count": 23,
   "metadata": {},
   "outputs": [],
   "source": [
    "empresas_norm = metrics_explo.merge(perfil_norm,how='inner',on = 'DESC_EXPERIENCIA_NORMALIZADO')"
   ]
  },
  {
   "cell_type": "code",
   "execution_count": 24,
   "metadata": {},
   "outputs": [
    {
     "data": {
      "text/html": [
       "<div>\n",
       "<style scoped>\n",
       "    .dataframe tbody tr th:only-of-type {\n",
       "        vertical-align: middle;\n",
       "    }\n",
       "\n",
       "    .dataframe tbody tr th {\n",
       "        vertical-align: top;\n",
       "    }\n",
       "\n",
       "    .dataframe thead th {\n",
       "        text-align: right;\n",
       "    }\n",
       "</style>\n",
       "<table border=\"1\" class=\"dataframe\">\n",
       "  <thead>\n",
       "    <tr style=\"text-align: right;\">\n",
       "      <th></th>\n",
       "      <th>DESC_EXPERIENCIA_NORMALIZADO</th>\n",
       "      <th>Reviews</th>\n",
       "    </tr>\n",
       "  </thead>\n",
       "  <tbody>\n",
       "    <tr>\n",
       "      <th>0</th>\n",
       "      <td>100 Montaditos</td>\n",
       "      <td>557</td>\n",
       "    </tr>\n",
       "    <tr>\n",
       "      <th>1</th>\n",
       "      <td>20 Minutos</td>\n",
       "      <td>22</td>\n",
       "    </tr>\n",
       "    <tr>\n",
       "      <th>2</th>\n",
       "      <td>360 Talent</td>\n",
       "      <td>6</td>\n",
       "    </tr>\n",
       "    <tr>\n",
       "      <th>3</th>\n",
       "      <td>3ASIDE Consultors</td>\n",
       "      <td>1</td>\n",
       "    </tr>\n",
       "    <tr>\n",
       "      <th>4</th>\n",
       "      <td>40 Grados a la Sombra</td>\n",
       "      <td>5</td>\n",
       "    </tr>\n",
       "  </tbody>\n",
       "</table>\n",
       "</div>"
      ],
      "text/plain": [
       "  DESC_EXPERIENCIA_NORMALIZADO  Reviews\n",
       "0               100 Montaditos      557\n",
       "1                   20 Minutos       22\n",
       "2                   360 Talent        6\n",
       "3            3ASIDE Consultors        1\n",
       "4        40 Grados a la Sombra        5"
      ]
     },
     "execution_count": 24,
     "metadata": {},
     "output_type": "execute_result"
    }
   ],
   "source": [
    "empresas_norm.head()"
   ]
  },
  {
   "cell_type": "markdown",
   "metadata": {},
   "source": [
    "#### df type"
   ]
  },
  {
   "cell_type": "code",
   "execution_count": 25,
   "metadata": {},
   "outputs": [],
   "source": [
    "exp_df = exp_df.rename(index=str, \n",
    "                             columns={\"ID_EXPERIENCIA\": \"EXPERIENCE_ID\"\n",
    "                                     ,\"DESC_EXPERIENCIA_NORMALIZADO\": \"EMPRESA\"})"
   ]
  },
  {
   "cell_type": "code",
   "execution_count": 26,
   "metadata": {},
   "outputs": [],
   "source": [
    "full_df_review = exp_df.merge(review,how='inner',on = 'EXPERIENCE_ID')"
   ]
  },
  {
   "cell_type": "code",
   "execution_count": 27,
   "metadata": {},
   "outputs": [],
   "source": [
    "full_df_review[[\"TITLE\", \"DESCRIPTION\"]] = full_df_review[[\"TITLE\", \"DESCRIPTION\"]].astype(str) "
   ]
  },
  {
   "cell_type": "code",
   "execution_count": 28,
   "metadata": {},
   "outputs": [],
   "source": [
    "from datetime import datetime"
   ]
  },
  {
   "cell_type": "code",
   "execution_count": 29,
   "metadata": {},
   "outputs": [],
   "source": [
    "full_df_review[[\"DATE_REVIEW\"]] = full_df_review[[\"DATE_REVIEW\"]].astype(datetime)"
   ]
  },
  {
   "cell_type": "code",
   "execution_count": 30,
   "metadata": {},
   "outputs": [],
   "source": [
    "#quitar ultimos caracteres extraños manualmente\n",
    "full_df_review[\"TITLE\"] = full_df_review[\"TITLE\"].apply(lambda x: \n",
    "x.replace(\"!\", \"\").replace(\"?\", \"n\").replace(\"Enter\", \"\").replace(\"enter\", \"\")\n",
    ".replace(\"#\", \"\")\n",
    ")"
   ]
  },
  {
   "cell_type": "code",
   "execution_count": 31,
   "metadata": {},
   "outputs": [],
   "source": [
    "#quitar ultimos caracteres extraños manualmente\n",
    "full_df_review[\"DESCRIPTION\"] = full_df_review[\"DESCRIPTION\"].apply(lambda x: \n",
    "x.replace(\"!\", \"\").replace(\"?\", \"n\").replace(\"Enter\", \"\").replace(\"enter\", \"\")\n",
    ".replace(\"#\", \"\")\n",
    ")"
   ]
  },
  {
   "cell_type": "code",
   "execution_count": 20,
   "metadata": {
    "scrolled": true
   },
   "outputs": [],
   "source": [
    "#From csv\n",
    "full_df_review['MONTH_ID'] = full_df_review['DATE_REVIEW'].str[:7]"
   ]
  },
  {
   "cell_type": "code",
   "execution_count": 32,
   "metadata": {},
   "outputs": [],
   "source": [
    "#From SQL\n",
    "full_df_review['MONTH_ID'] = full_df_review['DATE_REVIEW'].apply(lambda x: x.strftime('%Y-%m'))"
   ]
  },
  {
   "cell_type": "code",
   "execution_count": 33,
   "metadata": {
    "scrolled": false
   },
   "outputs": [
    {
     "data": {
      "text/html": [
       "<div>\n",
       "<style scoped>\n",
       "    .dataframe tbody tr th:only-of-type {\n",
       "        vertical-align: middle;\n",
       "    }\n",
       "\n",
       "    .dataframe tbody tr th {\n",
       "        vertical-align: top;\n",
       "    }\n",
       "\n",
       "    .dataframe thead th {\n",
       "        text-align: right;\n",
       "    }\n",
       "</style>\n",
       "<table border=\"1\" class=\"dataframe\">\n",
       "  <thead>\n",
       "    <tr style=\"text-align: right;\">\n",
       "      <th></th>\n",
       "      <th>EXPERIENCE_ID</th>\n",
       "      <th>ID_EXPERIENCIA_NORM</th>\n",
       "      <th>EMPRESA</th>\n",
       "      <th>DATE_REVIEW</th>\n",
       "      <th>SCORE</th>\n",
       "      <th>TITLE</th>\n",
       "      <th>DESCRIPTION</th>\n",
       "      <th>MONTH_ID</th>\n",
       "    </tr>\n",
       "  </thead>\n",
       "  <tbody>\n",
       "    <tr>\n",
       "      <th>0</th>\n",
       "      <td>1250997994</td>\n",
       "      <td>4622</td>\n",
       "      <td>Bull Espa?a</td>\n",
       "      <td>2019-01-27 00:00:00</td>\n",
       "      <td>3</td>\n",
       "      <td>Empresa con poca fiabilidad laboral</td>\n",
       "      <td>Siempre sembrando rumores de despidos masivos....</td>\n",
       "      <td>2019-01</td>\n",
       "    </tr>\n",
       "    <tr>\n",
       "      <th>1</th>\n",
       "      <td>1311597744</td>\n",
       "      <td>620</td>\n",
       "      <td>Toys \"R\" Us</td>\n",
       "      <td>2019-02-05 00:00:00</td>\n",
       "      <td>0</td>\n",
       "      <td>Responsable y comprometida</td>\n",
       "      <td>Toysrus es una buena empresa para trabajar. He...</td>\n",
       "      <td>2019-02</td>\n",
       "    </tr>\n",
       "    <tr>\n",
       "      <th>2</th>\n",
       "      <td>1371683156</td>\n",
       "      <td>747</td>\n",
       "      <td>Unicaja Banco</td>\n",
       "      <td>2019-10-16 00:00:00</td>\n",
       "      <td>5</td>\n",
       "      <td>Entidad financiera con gran trayectoria</td>\n",
       "      <td>La entidad dispone de una gran cartera de clie...</td>\n",
       "      <td>2019-10</td>\n",
       "    </tr>\n",
       "    <tr>\n",
       "      <th>3</th>\n",
       "      <td>1372350064</td>\n",
       "      <td>627</td>\n",
       "      <td>Jazztel</td>\n",
       "      <td>2019-10-24 00:00:00</td>\n",
       "      <td>4</td>\n",
       "      <td>bien</td>\n",
       "      <td>bien.</td>\n",
       "      <td>2019-10</td>\n",
       "    </tr>\n",
       "    <tr>\n",
       "      <th>4</th>\n",
       "      <td>814034074</td>\n",
       "      <td>-1</td>\n",
       "      <td>autonomo</td>\n",
       "      <td>2019-11-20 00:00:00</td>\n",
       "      <td>3</td>\n",
       "      <td>bueno</td>\n",
       "      <td>bueno</td>\n",
       "      <td>2019-11</td>\n",
       "    </tr>\n",
       "  </tbody>\n",
       "</table>\n",
       "</div>"
      ],
      "text/plain": [
       "   EXPERIENCE_ID ID_EXPERIENCIA_NORM        EMPRESA          DATE_REVIEW  \\\n",
       "0     1250997994                4622    Bull Espa?a  2019-01-27 00:00:00   \n",
       "1     1311597744                 620    Toys \"R\" Us  2019-02-05 00:00:00   \n",
       "2     1371683156                 747  Unicaja Banco  2019-10-16 00:00:00   \n",
       "3     1372350064                 627        Jazztel  2019-10-24 00:00:00   \n",
       "4      814034074                  -1       autonomo  2019-11-20 00:00:00   \n",
       "\n",
       "   SCORE                                    TITLE  \\\n",
       "0      3      Empresa con poca fiabilidad laboral   \n",
       "1      0               Responsable y comprometida   \n",
       "2      5  Entidad financiera con gran trayectoria   \n",
       "3      4                                     bien   \n",
       "4      3                                    bueno   \n",
       "\n",
       "                                         DESCRIPTION MONTH_ID  \n",
       "0  Siempre sembrando rumores de despidos masivos....  2019-01  \n",
       "1  Toysrus es una buena empresa para trabajar. He...  2019-02  \n",
       "2  La entidad dispone de una gran cartera de clie...  2019-10  \n",
       "3                                              bien.  2019-10  \n",
       "4                                              bueno  2019-11  "
      ]
     },
     "execution_count": 33,
     "metadata": {},
     "output_type": "execute_result"
    }
   ],
   "source": [
    "full_df_review.head()"
   ]
  },
  {
   "cell_type": "code",
   "execution_count": 34,
   "metadata": {},
   "outputs": [
    {
     "data": {
      "text/plain": [
       "(375838, 8)"
      ]
     },
     "execution_count": 34,
     "metadata": {},
     "output_type": "execute_result"
    }
   ],
   "source": [
    "full_df_review.shape"
   ]
  },
  {
   "cell_type": "code",
   "execution_count": 35,
   "metadata": {},
   "outputs": [
    {
     "data": {
      "text/html": [
       "<div>\n",
       "<style scoped>\n",
       "    .dataframe tbody tr th:only-of-type {\n",
       "        vertical-align: middle;\n",
       "    }\n",
       "\n",
       "    .dataframe tbody tr th {\n",
       "        vertical-align: top;\n",
       "    }\n",
       "\n",
       "    .dataframe thead th {\n",
       "        text-align: right;\n",
       "    }\n",
       "</style>\n",
       "<table border=\"1\" class=\"dataframe\">\n",
       "  <thead>\n",
       "    <tr style=\"text-align: right;\">\n",
       "      <th></th>\n",
       "      <th>Experiencias_normalizadas</th>\n",
       "    </tr>\n",
       "    <tr>\n",
       "      <th>MONTH_ID</th>\n",
       "      <th></th>\n",
       "    </tr>\n",
       "  </thead>\n",
       "  <tbody>\n",
       "    <tr>\n",
       "      <th>2018-09</th>\n",
       "      <td>497</td>\n",
       "    </tr>\n",
       "    <tr>\n",
       "      <th>2018-10</th>\n",
       "      <td>643</td>\n",
       "    </tr>\n",
       "    <tr>\n",
       "      <th>2018-11</th>\n",
       "      <td>602</td>\n",
       "    </tr>\n",
       "    <tr>\n",
       "      <th>2018-12</th>\n",
       "      <td>435</td>\n",
       "    </tr>\n",
       "    <tr>\n",
       "      <th>2019-01</th>\n",
       "      <td>3205</td>\n",
       "    </tr>\n",
       "    <tr>\n",
       "      <th>2019-02</th>\n",
       "      <td>3382</td>\n",
       "    </tr>\n",
       "    <tr>\n",
       "      <th>2019-03</th>\n",
       "      <td>3626</td>\n",
       "    </tr>\n",
       "    <tr>\n",
       "      <th>2019-04</th>\n",
       "      <td>3477</td>\n",
       "    </tr>\n",
       "    <tr>\n",
       "      <th>2019-05</th>\n",
       "      <td>3817</td>\n",
       "    </tr>\n",
       "    <tr>\n",
       "      <th>2019-06</th>\n",
       "      <td>3535</td>\n",
       "    </tr>\n",
       "    <tr>\n",
       "      <th>2019-07</th>\n",
       "      <td>4214</td>\n",
       "    </tr>\n",
       "    <tr>\n",
       "      <th>2019-08</th>\n",
       "      <td>4230</td>\n",
       "    </tr>\n",
       "    <tr>\n",
       "      <th>2019-09</th>\n",
       "      <td>4686</td>\n",
       "    </tr>\n",
       "    <tr>\n",
       "      <th>2019-10</th>\n",
       "      <td>4607</td>\n",
       "    </tr>\n",
       "    <tr>\n",
       "      <th>2019-11</th>\n",
       "      <td>2354</td>\n",
       "    </tr>\n",
       "    <tr>\n",
       "      <th>2019-12</th>\n",
       "      <td>115</td>\n",
       "    </tr>\n",
       "  </tbody>\n",
       "</table>\n",
       "</div>"
      ],
      "text/plain": [
       "          Experiencias_normalizadas\n",
       "MONTH_ID                           \n",
       "2018-09                         497\n",
       "2018-10                         643\n",
       "2018-11                         602\n",
       "2018-12                         435\n",
       "2019-01                        3205\n",
       "2019-02                        3382\n",
       "2019-03                        3626\n",
       "2019-04                        3477\n",
       "2019-05                        3817\n",
       "2019-06                        3535\n",
       "2019-07                        4214\n",
       "2019-08                        4230\n",
       "2019-09                        4686\n",
       "2019-10                        4607\n",
       "2019-11                        2354\n",
       "2019-12                         115"
      ]
     },
     "execution_count": 35,
     "metadata": {},
     "output_type": "execute_result"
    }
   ],
   "source": [
    "grouped = full_df_review.groupby(['MONTH_ID'])\n",
    "\n",
    "# count the unique users, orders, and total revenue per Group + Period\n",
    "metrics = grouped.agg({'ID_EXPERIENCIA_NORM': pd.Series.nunique\n",
    "                      })\n",
    "\n",
    "# make the column names more meaningful\n",
    "metrics.rename(columns={'ID_EXPERIENCIA_NORM': 'Experiencias_normalizadas'}, inplace=True)\n",
    "metrics.head(20)"
   ]
  },
  {
   "cell_type": "markdown",
   "metadata": {},
   "source": [
    "### Plot V1"
   ]
  },
  {
   "cell_type": "code",
   "execution_count": 36,
   "metadata": {
    "scrolled": true
   },
   "outputs": [
    {
     "data": {
      "image/png": "[encoded data removed]",
      "text/plain": [
       "<Figure size 432x288 with 1 Axes>"
      ]
     },
     "metadata": {
      "needs_background": "light"
     },
     "output_type": "display_data"
    }
   ],
   "source": [
    "import pandas as pd\n",
    "import seaborn as sns\n",
    "import matplotlib.pyplot as plt\n",
    "plt.style.use('ggplot')\n",
    "%matplotlib inline\n",
    "df=full_df_review\n",
    "\n",
    "groupedvalues=df.groupby(['MONTH_ID']).count().reset_index()\n",
    "g=sns.barplot(x='MONTH_ID',y='EXPERIENCE_ID',data=groupedvalues)\n",
    "\n",
    "#v2:\n",
    "#groupedvalues=df.groupby(['MONTH_ID']).count()['EXPERIENCE_ID']#.unstack().plot(kind='bar', stacked=True)\n",
    "#groupedvalues.unstack(level=[1]).plot(kind='bar')\n",
    "\n",
    "# Plot formatting"
   ]
  },
  {
   "cell_type": "code",
   "execution_count": 37,
   "metadata": {},
   "outputs": [
    {
     "data": {
      "image/png": "[encoded data removed]",
      "text/plain": [
       "<Figure size 432x288 with 1 Axes>"
      ]
     },
     "metadata": {
      "needs_background": "light"
     },
     "output_type": "display_data"
    }
   ],
   "source": [
    "import pandas as pd\n",
    "import seaborn as sns\n",
    "import matplotlib.pyplot as plt\n",
    "plt.style.use('ggplot')\n",
    "%matplotlib inline\n",
    "df=full_df_review\n",
    "\n",
    "groupedvalues=df.groupby(['SCORE']).count().reset_index()\n",
    "g=sns.barplot(x='SCORE',y='EXPERIENCE_ID',data=groupedvalues)\n",
    "\n",
    "#v2:\n",
    "#groupedvalues=df.groupby(['MONTH_ID']).count()['EXPERIENCE_ID']#.unstack().plot(kind='bar', stacked=True)\n",
    "#groupedvalues.unstack(level=[1]).plot(kind='bar')\n",
    "\n",
    "# Plot formatting"
   ]
  },
  {
   "cell_type": "markdown",
   "metadata": {},
   "source": [
    "### Export new csv"
   ]
  },
  {
   "cell_type": "code",
   "execution_count": 38,
   "metadata": {},
   "outputs": [],
   "source": [
    "full_df_review.to_csv('reviews_merge_all.csv', index= False)\n",
    "#, sep=';')"
   ]
  },
  {
   "cell_type": "markdown",
   "metadata": {},
   "source": [
    "### Agrupar data por empresa"
   ]
  },
  {
   "cell_type": "code",
   "execution_count": 39,
   "metadata": {},
   "outputs": [
    {
     "data": {
      "text/html": [
       "<div>\n",
       "<style scoped>\n",
       "    .dataframe tbody tr th:only-of-type {\n",
       "        vertical-align: middle;\n",
       "    }\n",
       "\n",
       "    .dataframe tbody tr th {\n",
       "        vertical-align: top;\n",
       "    }\n",
       "\n",
       "    .dataframe thead tr th {\n",
       "        text-align: left;\n",
       "    }\n",
       "\n",
       "    .dataframe thead tr:last-of-type th {\n",
       "        text-align: right;\n",
       "    }\n",
       "</style>\n",
       "<table border=\"1\" class=\"dataframe\">\n",
       "  <thead>\n",
       "    <tr>\n",
       "      <th></th>\n",
       "      <th colspan=\"3\" halign=\"left\">Rating</th>\n",
       "      <th>Reviews</th>\n",
       "    </tr>\n",
       "    <tr>\n",
       "      <th></th>\n",
       "      <th>mean</th>\n",
       "      <th>median</th>\n",
       "      <th>std</th>\n",
       "      <th>count_nonzero</th>\n",
       "    </tr>\n",
       "    <tr>\n",
       "      <th>EMPRESA</th>\n",
       "      <th></th>\n",
       "      <th></th>\n",
       "      <th></th>\n",
       "      <th></th>\n",
       "    </tr>\n",
       "  </thead>\n",
       "  <tbody>\n",
       "    <tr>\n",
       "      <th>Campamentos y Actividades Educativas</th>\n",
       "      <td>4.608696</td>\n",
       "      <td>5.0</td>\n",
       "      <td>0.682423</td>\n",
       "      <td>46</td>\n",
       "    </tr>\n",
       "    <tr>\n",
       "      <th>Universitat de Lleida</th>\n",
       "      <td>4.208333</td>\n",
       "      <td>5.0</td>\n",
       "      <td>1.215092</td>\n",
       "      <td>24</td>\n",
       "    </tr>\n",
       "    <tr>\n",
       "      <th>100 Montaditos</th>\n",
       "      <td>3.721724</td>\n",
       "      <td>4.0</td>\n",
       "      <td>1.339673</td>\n",
       "      <td>557</td>\n",
       "    </tr>\n",
       "    <tr>\n",
       "      <th>13 TV</th>\n",
       "      <td>3.500000</td>\n",
       "      <td>4.0</td>\n",
       "      <td>1.000000</td>\n",
       "      <td>4</td>\n",
       "    </tr>\n",
       "    <tr>\n",
       "      <th>20 Minutos</th>\n",
       "      <td>4.045455</td>\n",
       "      <td>5.0</td>\n",
       "      <td>1.526817</td>\n",
       "      <td>22</td>\n",
       "    </tr>\n",
       "    <tr>\n",
       "      <th>360 Talent</th>\n",
       "      <td>3.833333</td>\n",
       "      <td>4.5</td>\n",
       "      <td>1.602082</td>\n",
       "      <td>6</td>\n",
       "    </tr>\n",
       "    <tr>\n",
       "      <th>3ASIDE Consultors</th>\n",
       "      <td>5.000000</td>\n",
       "      <td>5.0</td>\n",
       "      <td>NaN</td>\n",
       "      <td>1</td>\n",
       "    </tr>\n",
       "    <tr>\n",
       "      <th>40 Grados a la Sombra</th>\n",
       "      <td>2.800000</td>\n",
       "      <td>3.0</td>\n",
       "      <td>1.788854</td>\n",
       "      <td>5</td>\n",
       "    </tr>\n",
       "    <tr>\n",
       "      <th>40Grados</th>\n",
       "      <td>3.437500</td>\n",
       "      <td>3.5</td>\n",
       "      <td>1.547848</td>\n",
       "      <td>16</td>\n",
       "    </tr>\n",
       "    <tr>\n",
       "      <th>4set TALENT &amp; TECHNOLOGY</th>\n",
       "      <td>5.000000</td>\n",
       "      <td>5.0</td>\n",
       "      <td>0.000000</td>\n",
       "      <td>4</td>\n",
       "    </tr>\n",
       "    <tr>\n",
       "      <th>7 i TRIA</th>\n",
       "      <td>4.065217</td>\n",
       "      <td>4.0</td>\n",
       "      <td>1.019851</td>\n",
       "      <td>46</td>\n",
       "    </tr>\n",
       "    <tr>\n",
       "      <th>A Loja do Gato Preto</th>\n",
       "      <td>3.915254</td>\n",
       "      <td>4.0</td>\n",
       "      <td>1.149035</td>\n",
       "      <td>59</td>\n",
       "    </tr>\n",
       "    <tr>\n",
       "      <th>A&amp;P Formacion</th>\n",
       "      <td>5.000000</td>\n",
       "      <td>5.0</td>\n",
       "      <td>0.000000</td>\n",
       "      <td>2</td>\n",
       "    </tr>\n",
       "    <tr>\n",
       "      <th>A+A Imagen y Comunicacion</th>\n",
       "      <td>3.500000</td>\n",
       "      <td>3.5</td>\n",
       "      <td>2.121320</td>\n",
       "      <td>2</td>\n",
       "    </tr>\n",
       "    <tr>\n",
       "      <th>AB Mauri Food</th>\n",
       "      <td>3.833333</td>\n",
       "      <td>4.0</td>\n",
       "      <td>0.983192</td>\n",
       "      <td>6</td>\n",
       "    </tr>\n",
       "    <tr>\n",
       "      <th>ABAST</th>\n",
       "      <td>4.250000</td>\n",
       "      <td>5.0</td>\n",
       "      <td>1.388730</td>\n",
       "      <td>8</td>\n",
       "    </tr>\n",
       "    <tr>\n",
       "      <th>ABB</th>\n",
       "      <td>4.489130</td>\n",
       "      <td>5.0</td>\n",
       "      <td>0.931672</td>\n",
       "      <td>92</td>\n",
       "    </tr>\n",
       "    <tr>\n",
       "      <th>ABC</th>\n",
       "      <td>3.895522</td>\n",
       "      <td>4.0</td>\n",
       "      <td>1.327270</td>\n",
       "      <td>67</td>\n",
       "    </tr>\n",
       "    <tr>\n",
       "      <th>ABD Associacio Benestar i Desenvolupament</th>\n",
       "      <td>4.440000</td>\n",
       "      <td>5.0</td>\n",
       "      <td>0.820569</td>\n",
       "      <td>25</td>\n",
       "    </tr>\n",
       "    <tr>\n",
       "      <th>ABDE Business Consulting</th>\n",
       "      <td>5.000000</td>\n",
       "      <td>5.0</td>\n",
       "      <td>NaN</td>\n",
       "      <td>1</td>\n",
       "    </tr>\n",
       "  </tbody>\n",
       "</table>\n",
       "</div>"
      ],
      "text/plain": [
       "                                             Rating                   \\\n",
       "                                               mean median       std   \n",
       "EMPRESA                                                                \n",
       " Campamentos y Actividades Educativas      4.608696    5.0  0.682423   \n",
       " Universitat de Lleida                     4.208333    5.0  1.215092   \n",
       "100 Montaditos                             3.721724    4.0  1.339673   \n",
       "13 TV                                      3.500000    4.0  1.000000   \n",
       "20 Minutos                                 4.045455    5.0  1.526817   \n",
       "360 Talent                                 3.833333    4.5  1.602082   \n",
       "3ASIDE Consultors                          5.000000    5.0       NaN   \n",
       "40 Grados a la Sombra                      2.800000    3.0  1.788854   \n",
       "40Grados                                   3.437500    3.5  1.547848   \n",
       "4set TALENT & TECHNOLOGY                   5.000000    5.0  0.000000   \n",
       "7 i TRIA                                   4.065217    4.0  1.019851   \n",
       "A Loja do Gato Preto                       3.915254    4.0  1.149035   \n",
       "A&P Formacion                              5.000000    5.0  0.000000   \n",
       "A+A Imagen y Comunicacion                  3.500000    3.5  2.121320   \n",
       "AB Mauri Food                              3.833333    4.0  0.983192   \n",
       "ABAST                                      4.250000    5.0  1.388730   \n",
       "ABB                                        4.489130    5.0  0.931672   \n",
       "ABC                                        3.895522    4.0  1.327270   \n",
       "ABD Associacio Benestar i Desenvolupament  4.440000    5.0  0.820569   \n",
       "ABDE Business Consulting                   5.000000    5.0       NaN   \n",
       "\n",
       "                                                Reviews  \n",
       "                                          count_nonzero  \n",
       "EMPRESA                                                  \n",
       " Campamentos y Actividades Educativas                46  \n",
       " Universitat de Lleida                               24  \n",
       "100 Montaditos                                      557  \n",
       "13 TV                                                 4  \n",
       "20 Minutos                                           22  \n",
       "360 Talent                                            6  \n",
       "3ASIDE Consultors                                     1  \n",
       "40 Grados a la Sombra                                 5  \n",
       "40Grados                                             16  \n",
       "4set TALENT & TECHNOLOGY                              4  \n",
       "7 i TRIA                                             46  \n",
       "A Loja do Gato Preto                                 59  \n",
       "A&P Formacion                                         2  \n",
       "A+A Imagen y Comunicacion                             2  \n",
       "AB Mauri Food                                         6  \n",
       "ABAST                                                 8  \n",
       "ABB                                                  92  \n",
       "ABC                                                  67  \n",
       "ABD Associacio Benestar i Desenvolupament            25  \n",
       "ABDE Business Consulting                              1  "
      ]
     },
     "execution_count": 39,
     "metadata": {},
     "output_type": "execute_result"
    }
   ],
   "source": [
    "\n",
    "grouped2 = full_df_review.groupby(['EMPRESA'])\n",
    "\n",
    "# count the unique users, orders, and total revenue per Group + Period\n",
    "metrics2 = grouped2.agg({'SCORE': [pd.Series.mean, pd.Series.median, pd.Series.std],\n",
    "                       'EXPERIENCE_ID': np.count_nonzero\n",
    "                      })\n",
    "\n",
    "# make the column names more meaningful\n",
    "metrics2.rename(columns={'SCORE': 'Rating',\n",
    "                        'EXPERIENCE_ID': 'Reviews'}, inplace=True)\n",
    "metrics2.head(20)"
   ]
  },
  {
   "cell_type": "code",
   "execution_count": 40,
   "metadata": {},
   "outputs": [],
   "source": [
    "metrics2 = metrics2.round(1)"
   ]
  },
  {
   "cell_type": "code",
   "execution_count": 41,
   "metadata": {
    "scrolled": false
   },
   "outputs": [
    {
     "data": {
      "text/html": [
       "<div>\n",
       "<style scoped>\n",
       "    .dataframe tbody tr th:only-of-type {\n",
       "        vertical-align: middle;\n",
       "    }\n",
       "\n",
       "    .dataframe tbody tr th {\n",
       "        vertical-align: top;\n",
       "    }\n",
       "\n",
       "    .dataframe thead tr th {\n",
       "        text-align: left;\n",
       "    }\n",
       "\n",
       "    .dataframe thead tr:last-of-type th {\n",
       "        text-align: right;\n",
       "    }\n",
       "</style>\n",
       "<table border=\"1\" class=\"dataframe\">\n",
       "  <thead>\n",
       "    <tr>\n",
       "      <th></th>\n",
       "      <th colspan=\"3\" halign=\"left\">Rating</th>\n",
       "      <th>Reviews</th>\n",
       "    </tr>\n",
       "    <tr>\n",
       "      <th></th>\n",
       "      <th>mean</th>\n",
       "      <th>median</th>\n",
       "      <th>std</th>\n",
       "      <th>count_nonzero</th>\n",
       "    </tr>\n",
       "    <tr>\n",
       "      <th>EMPRESA</th>\n",
       "      <th></th>\n",
       "      <th></th>\n",
       "      <th></th>\n",
       "      <th></th>\n",
       "    </tr>\n",
       "  </thead>\n",
       "  <tbody>\n",
       "    <tr>\n",
       "      <th>Campamentos y Actividades Educativas</th>\n",
       "      <td>4.6</td>\n",
       "      <td>5.0</td>\n",
       "      <td>0.7</td>\n",
       "      <td>46</td>\n",
       "    </tr>\n",
       "    <tr>\n",
       "      <th>Universitat de Lleida</th>\n",
       "      <td>4.2</td>\n",
       "      <td>5.0</td>\n",
       "      <td>1.2</td>\n",
       "      <td>24</td>\n",
       "    </tr>\n",
       "    <tr>\n",
       "      <th>100 Montaditos</th>\n",
       "      <td>3.7</td>\n",
       "      <td>4.0</td>\n",
       "      <td>1.3</td>\n",
       "      <td>557</td>\n",
       "    </tr>\n",
       "    <tr>\n",
       "      <th>13 TV</th>\n",
       "      <td>3.5</td>\n",
       "      <td>4.0</td>\n",
       "      <td>1.0</td>\n",
       "      <td>4</td>\n",
       "    </tr>\n",
       "    <tr>\n",
       "      <th>20 Minutos</th>\n",
       "      <td>4.0</td>\n",
       "      <td>5.0</td>\n",
       "      <td>1.5</td>\n",
       "      <td>22</td>\n",
       "    </tr>\n",
       "  </tbody>\n",
       "</table>\n",
       "</div>"
      ],
      "text/plain": [
       "                                      Rating                   Reviews\n",
       "                                        mean median  std count_nonzero\n",
       "EMPRESA                                                               \n",
       " Campamentos y Actividades Educativas    4.6    5.0  0.7            46\n",
       " Universitat de Lleida                   4.2    5.0  1.2            24\n",
       "100 Montaditos                           3.7    4.0  1.3           557\n",
       "13 TV                                    3.5    4.0  1.0             4\n",
       "20 Minutos                               4.0    5.0  1.5            22"
      ]
     },
     "execution_count": 41,
     "metadata": {},
     "output_type": "execute_result"
    }
   ],
   "source": [
    "metrics2.head()"
   ]
  },
  {
   "cell_type": "markdown",
   "metadata": {},
   "source": [
    "### Exporte Final Files"
   ]
  },
  {
   "cell_type": "code",
   "execution_count": 42,
   "metadata": {},
   "outputs": [],
   "source": [
    "metrics2.to_csv('company_metrics_all.csv', index= True)\n",
    "#, sep=';')"
   ]
  },
  {
   "cell_type": "code",
   "execution_count": null,
   "metadata": {},
   "outputs": [],
   "source": []
  }
 ],
 "metadata": {
  "kernelspec": {
   "display_name": "Python 3",
   "language": "python",
   "name": "python3"
  },
  "language_info": {
   "codemirror_mode": {
    "name": "ipython",
    "version": 3
   },
   "file_extension": ".py",
   "mimetype": "text/x-python",
   "name": "python",
   "nbconvert_exporter": "python",
   "pygments_lexer": "ipython3",
   "version": "3.7.2"
  }
 },
 "nbformat": 4,
 "nbformat_minor": 2
}
