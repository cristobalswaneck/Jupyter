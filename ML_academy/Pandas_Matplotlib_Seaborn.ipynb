{
  "nbformat": 4,
  "nbformat_minor": 0,
  "metadata": {
    "colab": {
      "name": "Pandas_Matplotlib_Seaborn.ipynb",
      "provenance": []
    },
    "kernelspec": {
      "display_name": "Python 3",
      "language": "python",
      "name": "python3"
    },
    "language_info": {
      "codemirror_mode": {
        "name": "ipython",
        "version": 3
      },
      "file_extension": ".py",
      "mimetype": "text/x-python",
      "name": "python",
      "nbconvert_exporter": "python",
      "pygments_lexer": "ipython3",
      "version": "3.7.7"
    }
  },
  "cells": [
    {
      "cell_type": "markdown",
      "metadata": {
        "colab_type": "text",
        "id": "2bwH96hViwS7"
      },
      "source": [
        "#### Copyright 2020 Catalit LLC."
      ]
    },
    {
      "cell_type": "code",
      "metadata": {
        "colab_type": "code",
        "id": "bFidPKNdkVPg",
        "colab": {}
      },
      "source": [
        "# Licensed under the Apache License, Version 2.0 (the \"License\");\n",
        "# you may not use this file except in compliance with the License.\n",
        "# You may obtain a copy of the License at\n",
        "#\n",
        "# https://www.apache.org/licenses/LICENSE-2.0\n",
        "#\n",
        "# Unless required by applicable law or agreed to in writing, software\n",
        "# distributed under the License is distributed on an \"AS IS\" BASIS,\n",
        "# WITHOUT WARRANTIES OR CONDITIONS OF ANY KIND, either express or implied.\n",
        "# See the License for the specific language governing permissions and\n",
        "# limitations under the License."
      ],
      "execution_count": 0,
      "outputs": []
    },
    {
      "cell_type": "markdown",
      "metadata": {
        "colab_type": "text",
        "id": "SmEPoIGasbtX"
      },
      "source": [
        "Documentation links:\n",
        "\n",
        "- [Google Colab](https://colab.research.google.com/notebooks/intro.ipynb)\n",
        "- [Numpy](https://docs.scipy.org/doc/)\n",
        "- [Pandas](https://pandas.pydata.org/docs/getting_started/index.html)\n",
        "- [Pandas Cheatsheet](https://pandas.pydata.org/Pandas_Cheat_Sheet.pdf)\n",
        "- [Matplotlib](https://matplotlib.org/)\n",
        "- [Matplotlib Cheat Sheet](https://s3.amazonaws.com/assets.datacamp.com/blog_assets/Python_Matplotlib_Cheat_Sheet.pdf)\n",
        "- [Seaborn](https://seaborn.pydata.org/)\n",
        "- [Scikit-learn](https://scikit-learn.org/stable/user_guide.html)\n",
        "- [Scikit-learn Cheat Sheet](https://s3.amazonaws.com/assets.datacamp.com/blog_assets/Scikit_Learn_Cheat_Sheet_Python.pdf)\n",
        "- [Scikit-learn Flow Chart](https://scikit-learn.org/stable/tutorial/machine_learning_map/index.html)"
      ]
    },
    {
      "cell_type": "markdown",
      "metadata": {
        "colab_type": "text",
        "id": "DvoukA2tkGV4"
      },
      "source": [
        "# Pandas Matplotlib Seaborn"
      ]
    },
    {
      "cell_type": "code",
      "metadata": {
        "colab_type": "code",
        "id": "4FuISqRNH8Pb",
        "colab": {}
      },
      "source": [
        "import numpy as np\n",
        "import pandas as pd\n",
        "import matplotlib.pyplot as plt\n",
        "import seaborn as sns"
      ],
      "execution_count": 0,
      "outputs": []
    },
    {
      "cell_type": "markdown",
      "metadata": {
        "colab_type": "text",
        "id": "bjXXavXGIwAL"
      },
      "source": [
        "## Google Colab\n",
        "\n",
        "Colaboratory is an online environment that allows you to write and execute Python in the browser.\n",
        "\n",
        "- Zero configuration required\n",
        "- Free access to GPUs and TPUs\n",
        "- Easy sharing\n",
        "\n",
        "It's based on [Jupyter Notebook](https://jupyter.org/)\n",
        "\n",
        "If you've never used it before it's a good idea to read the [tutorial here](https://colab.research.google.com/notebooks/intro.ipynb)."
      ]
    },
    {
      "cell_type": "markdown",
      "metadata": {
        "colab_type": "text",
        "id": "0c8gc-GuLufF"
      },
      "source": [
        "### Keyboard shortcuts\n",
        "\n",
        "Here are some of the most common commands. Try them out:\n",
        "\n",
        "\n",
        "- `⌘/Ctrl+M H` => open the keyboard shortcut help\n",
        "- `⌘/Ctrl+M A` => Create a cell above\n",
        "- `⌘/Ctrl+M B` => Create a cell below\n",
        "- `⌘/Ctrl+M D` => Delete current cell\n",
        "- `⌘/Ctrl+M M` => Convert cell to Markdown\n",
        "- `⌘/Ctrl+M Y` => Convert cell to Code\n",
        "- `Shift+Enter` => Run cell and select next cell\n",
        "- `Ctrl+Space`, `Option+Esc` or `Tab` => Autocomplete\n"
      ]
    },
    {
      "cell_type": "code",
      "metadata": {
        "colab_type": "code",
        "id": "Tz9RI9oWIvzM",
        "colab": {}
      },
      "source": [
        ""
      ],
      "execution_count": 0,
      "outputs": []
    },
    {
      "cell_type": "markdown",
      "metadata": {
        "colab_type": "text",
        "id": "dETiZZSmLZd4"
      },
      "source": [
        "### Saving your work\n",
        "\n",
        "- Colab notebooks are automatically saved in your Google Drive\n",
        "- You can export them to Github too\n",
        "- You can download them to your local computer"
      ]
    },
    {
      "cell_type": "code",
      "metadata": {
        "colab_type": "code",
        "id": "OvrFg0S6LcCh",
        "colab": {}
      },
      "source": [
        ""
      ],
      "execution_count": 0,
      "outputs": []
    },
    {
      "cell_type": "markdown",
      "metadata": {
        "colab_type": "text",
        "id": "tk__qLa-Htmu"
      },
      "source": [
        "## Pandas\n",
        "\n",
        "Pandas is an open source library providing high-performance, easy-to-use data structures and data analysis tools for the Python programming language. Let's explore some of its functionality together."
      ]
    },
    {
      "cell_type": "markdown",
      "metadata": {
        "colab_type": "text",
        "id": "KUPl5pxtH6V8"
      },
      "source": [
        "### Reading and exploring data"
      ]
    },
    {
      "cell_type": "code",
      "metadata": {
        "colab_type": "code",
        "id": "X31dwzhPINxQ",
        "colab": {}
      },
      "source": [
        "url = \"https://raw.githubusercontent.com/zerotodeeplearning/ztdl-masterclasses/master/data/\""
      ],
      "execution_count": 0,
      "outputs": []
    },
    {
      "cell_type": "code",
      "metadata": {
        "colab_type": "code",
        "id": "CqLzew9eIJl1",
        "colab": {}
      },
      "source": [
        "df = pd.read_csv(url + \"titanic-train.csv\")"
      ],
      "execution_count": 0,
      "outputs": []
    },
    {
      "cell_type": "code",
      "metadata": {
        "colab_type": "code",
        "id": "kDlHZj4dIWTo",
        "colab": {}
      },
      "source": [
        "df.head()"
      ],
      "execution_count": 0,
      "outputs": []
    },
    {
      "cell_type": "code",
      "metadata": {
        "colab_type": "code",
        "id": "Gfx8dwRhIrqB",
        "colab": {}
      },
      "source": [
        "df.info()"
      ],
      "execution_count": 0,
      "outputs": []
    },
    {
      "cell_type": "code",
      "metadata": {
        "colab_type": "code",
        "id": "A6b2J3tLIt0J",
        "colab": {}
      },
      "source": [
        "df.describe()"
      ],
      "execution_count": 0,
      "outputs": []
    },
    {
      "cell_type": "markdown",
      "metadata": {
        "colab_type": "text",
        "id": "8PRqT_YdL0_u"
      },
      "source": [
        "### Plotting\n",
        "\n",
        "Matplotlib and Seaborn are great libraries for plotting and exploring data visually.\n",
        "\n",
        "You can take inspiration from their plot galleries:\n",
        "\n",
        "- [Matplotlib Gallery](https://matplotlib.org/3.2.1/gallery/index.html)\n",
        "- [Seaborn Gallery](https://seaborn.pydata.org/examples/index.html)"
      ]
    },
    {
      "cell_type": "code",
      "metadata": {
        "colab_type": "code",
        "id": "rCxCrG_-MB6i",
        "colab": {}
      },
      "source": [
        "df[['Age', 'Fare']].plot.scatter(x='Age', y='Fare');"
      ],
      "execution_count": 0,
      "outputs": []
    },
    {
      "cell_type": "code",
      "metadata": {
        "colab_type": "code",
        "id": "7ZYYdKTgMZrB",
        "colab": {}
      },
      "source": [
        "survived_counts = df['Survived'].value_counts()"
      ],
      "execution_count": 0,
      "outputs": []
    },
    {
      "cell_type": "code",
      "metadata": {
        "colab_type": "code",
        "id": "Wena0sjpMNMp",
        "colab": {}
      },
      "source": [
        "survived_counts.plot.bar(title='Dead / Survived');"
      ],
      "execution_count": 0,
      "outputs": []
    },
    {
      "cell_type": "code",
      "metadata": {
        "colab_type": "code",
        "id": "XWQU0k3aMUXA",
        "colab": {}
      },
      "source": [
        "survived_counts.plot.pie(\n",
        "    figsize=(5, 5),\n",
        "    explode=[0, 0.15],\n",
        "    labels=['Dead', 'Survived'],\n",
        "    autopct='%1.1f%%',\n",
        "    shadow=True,\n",
        "    startangle=90,\n",
        "    fontsize=16);"
      ],
      "execution_count": 0,
      "outputs": []
    },
    {
      "cell_type": "code",
      "metadata": {
        "colab_type": "code",
        "id": "ToaNAOR0MaiM",
        "colab": {}
      },
      "source": [
        "df['Age'].plot.hist(\n",
        "    bins=16,\n",
        "    range=(0, 80),\n",
        "    title='Passenger age distribution')\n",
        "plt.xlabel(\"Age\");"
      ],
      "execution_count": 0,
      "outputs": []
    },
    {
      "cell_type": "code",
      "metadata": {
        "colab_type": "code",
        "id": "otALb4pSMcmu",
        "colab": {}
      },
      "source": [
        "sns.pairplot(df[['Age', 'Pclass', 'Fare', 'SibSp', 'Survived']],\n",
        "             hue='Survived');"
      ],
      "execution_count": 0,
      "outputs": []
    },
    {
      "cell_type": "code",
      "metadata": {
        "colab_type": "code",
        "id": "SyKScZ4kMfuR",
        "colab": {}
      },
      "source": [
        "sns.jointplot(x='Age', y='Fare', data=df)"
      ],
      "execution_count": 0,
      "outputs": []
    },
    {
      "cell_type": "markdown",
      "metadata": {
        "colab_type": "text",
        "id": "hHgMurbDMi9k"
      },
      "source": [
        "### Indexing\n",
        "\n",
        "Retrieving elements by row, by column or both. Try to understand each of the following statements"
      ]
    },
    {
      "cell_type": "code",
      "metadata": {
        "colab_type": "code",
        "id": "W8ufAix7NOTi",
        "colab": {}
      },
      "source": [
        "df['Ticket']"
      ],
      "execution_count": 0,
      "outputs": []
    },
    {
      "cell_type": "code",
      "metadata": {
        "colab_type": "code",
        "id": "esCaFAbbNO1_",
        "colab": {}
      },
      "source": [
        "df[['Fare', 'Ticket']]"
      ],
      "execution_count": 0,
      "outputs": []
    },
    {
      "cell_type": "code",
      "metadata": {
        "colab_type": "code",
        "id": "bsNYk5bjNQaX",
        "colab": {}
      },
      "source": [
        "df.iloc[3]"
      ],
      "execution_count": 0,
      "outputs": []
    },
    {
      "cell_type": "code",
      "metadata": {
        "colab_type": "code",
        "id": "eBl5VSbUNUGq",
        "colab": {}
      },
      "source": [
        "df.iloc[0:4, 4:6]"
      ],
      "execution_count": 0,
      "outputs": []
    },
    {
      "cell_type": "code",
      "metadata": {
        "colab_type": "code",
        "id": "Mw15BuPVNnzB",
        "colab": {}
      },
      "source": [
        "df.loc[0:4, 'Ticket']"
      ],
      "execution_count": 0,
      "outputs": []
    },
    {
      "cell_type": "code",
      "metadata": {
        "colab_type": "code",
        "id": "pvH1w856Nowy",
        "colab": {}
      },
      "source": [
        "df.loc[0:4, ['Fare', 'Ticket']]"
      ],
      "execution_count": 0,
      "outputs": []
    },
    {
      "cell_type": "markdown",
      "metadata": {
        "colab_type": "text",
        "id": "jeL2w8oVNppf"
      },
      "source": [
        "### Selections\n",
        "\n",
        "Retrieving part of the dataframe based on a condition. Try to understand each of the following statements."
      ]
    },
    {
      "cell_type": "code",
      "metadata": {
        "colab_type": "code",
        "id": "WaLJee-YNrk6",
        "colab": {}
      },
      "source": [
        "df[df.Age > 70]"
      ],
      "execution_count": 0,
      "outputs": []
    },
    {
      "cell_type": "code",
      "metadata": {
        "colab_type": "code",
        "id": "kTcl3svMNs3A",
        "colab": {}
      },
      "source": [
        "df[(df['Age'] == 11) & (df['SibSp'] == 5)]"
      ],
      "execution_count": 0,
      "outputs": []
    },
    {
      "cell_type": "markdown",
      "metadata": {
        "colab_type": "text",
        "id": "gSU0xGaRNzTt"
      },
      "source": [
        "### Distinct elements"
      ]
    },
    {
      "cell_type": "code",
      "metadata": {
        "colab_type": "code",
        "id": "rJpgvAvNNwjg",
        "colab": {}
      },
      "source": [
        "df['Embarked'].unique()"
      ],
      "execution_count": 0,
      "outputs": []
    },
    {
      "cell_type": "markdown",
      "metadata": {
        "colab_type": "text",
        "id": "UhnkeqBJNyCH"
      },
      "source": [
        "### Group-by & Sorting"
      ]
    },
    {
      "cell_type": "code",
      "metadata": {
        "colab_type": "code",
        "id": "zVWOOC8uN3YH",
        "colab": {}
      },
      "source": [
        "# Find average age of passengers that survived vs. died\n",
        "df.groupby('Survived')['Age'].mean()"
      ],
      "execution_count": 0,
      "outputs": []
    },
    {
      "cell_type": "code",
      "metadata": {
        "colab_type": "code",
        "id": "KOacGI8EN68q",
        "colab": {}
      },
      "source": [
        "df.sort_values('Age', ascending = False).head()"
      ],
      "execution_count": 0,
      "outputs": []
    },
    {
      "cell_type": "markdown",
      "metadata": {
        "colab_type": "text",
        "id": "CZ1N8633N8QP"
      },
      "source": [
        "### Join (merge)"
      ]
    },
    {
      "cell_type": "code",
      "metadata": {
        "colab_type": "code",
        "id": "k17AGoEkN_en",
        "colab": {}
      },
      "source": [
        "df1 = df[['PassengerId', 'Survived']]\n",
        "df2 = df[['PassengerId', 'Age']]\n",
        "\n",
        "pd.merge(df1, df2, on='PassengerId').head()"
      ],
      "execution_count": 0,
      "outputs": []
    },
    {
      "cell_type": "markdown",
      "metadata": {
        "colab_type": "text",
        "id": "1h4k6TzFOBZP"
      },
      "source": [
        "### Pivot Tables"
      ]
    },
    {
      "cell_type": "code",
      "metadata": {
        "colab_type": "code",
        "id": "iE9-Ve4DOE7U",
        "colab": {}
      },
      "source": [
        "df.pivot_table(index='Pclass', columns='Survived', values='PassengerId', aggfunc='count')"
      ],
      "execution_count": 0,
      "outputs": []
    },
    {
      "cell_type": "code",
      "metadata": {
        "colab_type": "code",
        "id": "L57zmq-COGFt",
        "colab": {}
      },
      "source": [
        "df['Pclass'].value_counts()"
      ],
      "execution_count": 0,
      "outputs": []
    },
    {
      "cell_type": "markdown",
      "metadata": {
        "colab_type": "text",
        "id": "Va3bjO0ROHBm"
      },
      "source": [
        "### Time series data"
      ]
    },
    {
      "cell_type": "code",
      "metadata": {
        "colab_type": "code",
        "id": "VlquXzB1OJz0",
        "colab": {}
      },
      "source": [
        "dfts = pd.read_csv(url + 'time_series_covid19_confirmed_global.csv')\n",
        "df1 = dfts.drop(['Lat', 'Long'], axis=1).groupby('Country/Region').sum().transpose()"
      ],
      "execution_count": 0,
      "outputs": []
    },
    {
      "cell_type": "code",
      "metadata": {
        "colab_type": "code",
        "id": "Hgm_iMhAQgXJ",
        "colab": {}
      },
      "source": [
        "df1.head()"
      ],
      "execution_count": 0,
      "outputs": []
    },
    {
      "cell_type": "code",
      "metadata": {
        "colab_type": "code",
        "id": "oKacRI1eQnix",
        "colab": {}
      },
      "source": [
        "df1.index.dtype"
      ],
      "execution_count": 0,
      "outputs": []
    },
    {
      "cell_type": "code",
      "metadata": {
        "colab_type": "code",
        "id": "BCWJdqpDQkkf",
        "colab": {}
      },
      "source": [
        "df1.index = pd.to_datetime(df1.index)"
      ],
      "execution_count": 0,
      "outputs": []
    },
    {
      "cell_type": "code",
      "metadata": {
        "colab_type": "code",
        "id": "T7EOIw_NmMnb",
        "colab": {}
      },
      "source": [
        "df1.index.dtype"
      ],
      "execution_count": 0,
      "outputs": []
    },
    {
      "cell_type": "code",
      "metadata": {
        "colab_type": "code",
        "id": "izzvEieqQxxb",
        "colab": {}
      },
      "source": [
        "df1[['Italy','US']].plot(logy=True)\n",
        "plt.title(\"COVID-19 confirmed Cases\");"
      ],
      "execution_count": 0,
      "outputs": []
    },
    {
      "cell_type": "markdown",
      "metadata": {
        "colab_type": "text",
        "id": "BD4XnZyEQ5lK"
      },
      "source": [
        "### Exercise 1:\n",
        "\n",
        "Use `df`, Pandas and your knowledge of Python to answer the following questions:\n",
        "\n",
        "- What data type is the object `df`? (hint: use the `type()`) function\n",
        "- select passengers that survived\n",
        "- calculate average price paid by survived and dead people in each class (use a pivot table)\n",
        "- Plot the histogram of Fares"
      ]
    },
    {
      "cell_type": "code",
      "metadata": {
        "collapsed": true,
        "id": "2Gjt5nLilAFo",
        "colab_type": "code",
        "colab": {}
      },
      "source": [
        ""
      ],
      "execution_count": 0,
      "outputs": []
    },
    {
      "cell_type": "markdown",
      "metadata": {
        "colab_type": "text",
        "id": "WsDKg3Uiki1P"
      },
      "source": [
        "\n",
        "### Exercise 2:\n",
        "\n",
        "Here are some additional questions you can use to test your skills. Feel free to try as many as you'd like.\n",
        "\n",
        "\n",
        "#### Pandas data types:\n",
        "- What data type is the object `df['Age']`?\n",
        "- What data type are the values contained in the object `df['Age']`. (hint: use the `.dtype` attribute)\n",
        "- What data type is the object `df[['Age', 'Fare']]`\n",
        "\n",
        "#### Selections\n",
        "- select passengers that embarked in port S\n",
        "- select male passengers\n",
        "- select passengers who paid less than 40.000 and were in third class\n",
        "- find the names of passegner Ids 674\n",
        "\n",
        "#### Aggregations\n",
        "- calculate the average age of passengers using the method `.mean()`\n",
        "- count the number of survived and the number of dead passengers using the method `.value_counts()`\n",
        "- count the number of survived and dead by Sex (Use a double Groupby)\n",
        "- calculate average price paid by survived and dead people in each class (use a pivot table)\n",
        "- (Advanced) calculate the average survival rate by Sex and Pclass (use a pivot table). Bonus points if you also count the total number in each group.\n",
        "\n",
        "#### Plots\n",
        "- Plot the histogram of Fares\n",
        "- Use the `.value_counts()` method to count how many passegers there are in each class and plot the counts using either a `bar` or a `pie` chart.\n",
        "- Use a heatmap plot to visualize the survival rates by Sex and Pclass calculated above\n",
        "\n",
        "#### Time Series\n",
        "For these questions use `df1` instead of `df`\n",
        "\n",
        "- Plot the time evolution of another country (not US, not Italy). Bonus point if you add a title.\n",
        "- Use the `.diff()` method to calculate the number of daily new cases\n",
        "- Plot some countries (e.g. US and Italy)\n",
        "- (Advanced) Use the `pd.Grouper` to aggregate the new cases from daily to weekly\n",
        "- (Advanced) Create a new DataFrame with aligned data by shifting every country to the day where 1000 cases where reported. Plot a few countries to compare the evolution from that day forward."
      ]
    },
    {
      "cell_type": "code",
      "metadata": {
        "collapsed": true,
        "id": "SphEE0QdlAFs",
        "colab_type": "code",
        "colab": {}
      },
      "source": [
        ""
      ],
      "execution_count": 0,
      "outputs": []
    }
  ]
}