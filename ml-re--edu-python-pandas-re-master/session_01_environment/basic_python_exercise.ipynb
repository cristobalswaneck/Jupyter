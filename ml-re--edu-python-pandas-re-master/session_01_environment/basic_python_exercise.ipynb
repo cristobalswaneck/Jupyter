{
 "cells": [
  {
   "cell_type": "markdown",
   "metadata": {},
   "source": [
    "# Basic Python: Exercises"
   ]
  },
  {
   "cell_type": "markdown",
   "metadata": {},
   "source": [
    "## Exsercise 1 : Print String\n",
    "\n",
    "Write a Python program to print the following string in a specific format (see the output). Go to the editor\n",
    "Sample String : \"Twinkle, twinkle, little star, How I wonder what you are! Up above the world so high, Like a diamond in the sky. Twinkle, twinkle, little star, How I wonder what you are\" Output :\n",
    "```\n",
    "Twinkle, twinkle, little star,\n",
    "    How I wonder what you are! \n",
    "        Up above the world so high,\n",
    "        Like a diamond in the sky. \n",
    "Twinkle, twinkle, little star, \n",
    "    How I wonder what you are\n",
    "```"
   ]
  },
  {
   "cell_type": "code",
   "execution_count": null,
   "metadata": {},
   "outputs": [],
   "source": [
    "# YOUR CODE HERE"
   ]
  },
  {
   "cell_type": "markdown",
   "metadata": {},
   "source": [
    "## Exsercise 2 : Working with sequences\n",
    "\n",
    "Write a Python program which accepts a sequence of comma-separated numbers from user and generate a list and a tuple with those numbers. \n",
    "\n",
    "```\n",
    "Sample data : 3, 5, 7, 23\n",
    "Output :\n",
    "List : ['3', ' 5', ' 7', ' 23']\n",
    "Tuple : ('3', ' 5', ' 7', ' 23')\n",
    "```"
   ]
  },
  {
   "cell_type": "code",
   "execution_count": null,
   "metadata": {},
   "outputs": [],
   "source": [
    "# YOUR CODE HERE"
   ]
  },
  {
   "cell_type": "markdown",
   "metadata": {},
   "source": [
    "## Exsercise 3 : Working with dictionaries\n",
    "\n",
    "Write a Python script to concatenate following dictionaries to create a new one.\n",
    "\n",
    "```\n",
    "Sample Dictionary :\n",
    "dic1={1:10, 2:20}\n",
    "dic2={3:30, 4:40}\n",
    "dic3={5:50,6:60}\n",
    "\n",
    "Expected Result : {1: 10, 2: 20, 3: 30, 4: 40, 5: 50, 6: 60}\n",
    "```\n",
    "\n",
    "And add a key 70 with value a list ['a','b']\n",
    "\n",
    "```\n",
    "Expected Result : {1: 10, 2: 20, 3: 30, 4: 40, 5: 50, 6: 60, 70:['a','b']}\n",
    "```\n"
   ]
  },
  {
   "cell_type": "code",
   "execution_count": 6,
   "metadata": {},
   "outputs": [],
   "source": [
    "dic1={1:10, 2:20}\n",
    "dic2={3:30, 4:40}\n",
    "dic3={5:50,6:60}"
   ]
  },
  {
   "cell_type": "code",
   "execution_count": null,
   "metadata": {},
   "outputs": [],
   "source": [
    "# YOUR CODE HERE"
   ]
  },
  {
   "cell_type": "markdown",
   "metadata": {},
   "source": [
    "## Exsercise 4 : Fibonacci numbers\n",
    "\n",
    "The Fibonacci numbers are the numbers in the following integer sequence.\n",
    "0, 1, 1, 2, 3, 5, 8, 13, 21, 34, 55, 89, 144, ……..\n",
    "\n",
    "In mathematical terms, the sequence Fn of Fibonacci numbers is defined by the recurrence relation:\n",
    "\n",
    "Fn = Fn-1 + Fn-2 with seed values F0 = 0 and F1 = 1\n",
    "\n",
    "Create a function that returns the sum of the fist n fibonacci numbers.\n",
    "\n",
    "```\n",
    "Input  :  n = 4\n",
    "Output :  7\n",
    "Explanation : 0 + 1 + 1 + 2 + 3  = 7\n",
    "```"
   ]
  },
  {
   "cell_type": "code",
   "execution_count": 24,
   "metadata": {},
   "outputs": [],
   "source": [
    "# YOUR CODE HERE"
   ]
  },
  {
   "cell_type": "markdown",
   "metadata": {},
   "source": [
    "## Exsercise 5 : Dates and time\n",
    "\n",
    "Write a Python script to display the various Date Time formats\n",
    "\n",
    "a) Current date and time\n",
    "\n",
    "b) Current year\n",
    "\n",
    "c) Month of year\n",
    "\n",
    "d) Week number of the year\n",
    "\n",
    "e) Weekday of the week\n",
    "\n",
    "f) Day of year\n",
    "\n",
    "g) Day of the month\n",
    "\n",
    "h) Day of week\n",
    "\n",
    "HINT: https://www.w3schools.com/python/python_datetime.asp"
   ]
  },
  {
   "cell_type": "code",
   "execution_count": null,
   "metadata": {},
   "outputs": [],
   "source": [
    "# YOUR CODE HERE"
   ]
  }
 ],
 "metadata": {
  "kernelspec": {
   "display_name": "Python 3",
   "language": "python",
   "name": "python3"
  },
  "language_info": {
   "codemirror_mode": {
    "name": "ipython",
    "version": 3
   },
   "file_extension": ".py",
   "mimetype": "text/x-python",
   "name": "python",
   "nbconvert_exporter": "python",
   "pygments_lexer": "ipython3",
   "version": "3.7.4"
  }
 },
 "nbformat": 4,
 "nbformat_minor": 2
}
