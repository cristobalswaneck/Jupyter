{
 "cells": [
  {
   "cell_type": "markdown",
   "metadata": {},
   "source": [
    "# 6. Pandas Exercise: Solution"
   ]
  },
  {
   "cell_type": "code",
   "execution_count": 158,
   "metadata": {},
   "outputs": [],
   "source": [
    "import pandas as pd\n",
    "import numpy as np\n",
    "\n",
    "import datetime as dt"
   ]
  },
  {
   "cell_type": "code",
   "execution_count": 293,
   "metadata": {},
   "outputs": [],
   "source": [
    "%matplotlib inline"
   ]
  },
  {
   "cell_type": "markdown",
   "metadata": {},
   "source": [
    "## 6.1. Watermarks\n"
   ]
  },
  {
   "cell_type": "markdown",
   "metadata": {},
   "source": [
    "## 6.1.1 Watermarks: Manage the dataframe\n"
   ]
  },
  {
   "cell_type": "markdown",
   "metadata": {},
   "source": [
    "Read the pickle \"df_wt_text.pkl\" in the data folder into a dataframe name df_wt_text"
   ]
  },
  {
   "cell_type": "code",
   "execution_count": 193,
   "metadata": {},
   "outputs": [
    {
     "name": "stdout",
     "output_type": "stream",
     "text": [
      "df_wt_client.pkl  df_wt_text.pkl\r\n"
     ]
    }
   ],
   "source": [
    "%ls ./data/exercise"
   ]
  },
  {
   "cell_type": "code",
   "execution_count": 194,
   "metadata": {},
   "outputs": [
    {
     "data": {
      "text/plain": [
       "(254951, 22)"
      ]
     },
     "execution_count": 194,
     "metadata": {},
     "output_type": "execute_result"
    }
   ],
   "source": [
    "df_wt_text = pd.read_pickle(\"./data/exercise/df_wt_text.pkl\")\n",
    "df_wt_text.shape"
   ]
  },
  {
   "cell_type": "markdown",
   "metadata": {},
   "source": [
    "Subset the dataframe with the following columns\n",
    "\n",
    "- ExecutionDate : Datetime : timestamp of the service response\n",
    "- Client_Type : Category : Professional or Particular client\n",
    "- ClientId : Integer : id for the client\n",
    "- PropertyId : Integer : Ads property Id\n",
    "- AgencyName : String : Name of the Agency (one-to-one with ClientId)\n",
    "- Id : Integer : Image identifier\n",
    "- Detected_Info : Dict : Response from the text detection service\n",
    "- Url : String : URL of the image\n",
    "\n",
    "Pick only the first 100 thousand registers for better performance"
   ]
  },
  {
   "cell_type": "code",
   "execution_count": 195,
   "metadata": {
    "scrolled": false
   },
   "outputs": [
    {
     "data": {
      "text/html": [
       "<div>\n",
       "<style scoped>\n",
       "    .dataframe tbody tr th:only-of-type {\n",
       "        vertical-align: middle;\n",
       "    }\n",
       "\n",
       "    .dataframe tbody tr th {\n",
       "        vertical-align: top;\n",
       "    }\n",
       "\n",
       "    .dataframe thead th {\n",
       "        text-align: right;\n",
       "    }\n",
       "</style>\n",
       "<table border=\"1\" class=\"dataframe\">\n",
       "  <thead>\n",
       "    <tr style=\"text-align: right;\">\n",
       "      <th></th>\n",
       "      <th>ExecutionDate</th>\n",
       "      <th>ClientId</th>\n",
       "      <th>Client_Type</th>\n",
       "      <th>PropertyId</th>\n",
       "      <th>AgencyName</th>\n",
       "      <th>Id</th>\n",
       "      <th>Detected_Info</th>\n",
       "      <th>Url</th>\n",
       "    </tr>\n",
       "  </thead>\n",
       "  <tbody>\n",
       "    <tr>\n",
       "      <th>0</th>\n",
       "      <td>2020-03-17 05:30:02</td>\n",
       "      <td>900040000042</td>\n",
       "      <td>Profesional</td>\n",
       "      <td>20224813</td>\n",
       "      <td>BARIN</td>\n",
       "      <td>567029556</td>\n",
       "      <td>[{'text': 'shotoNmIplte', 'centroid': [246, 83...</td>\n",
       "      <td>https://images.inmofactory.com/inmofactory/doc...</td>\n",
       "    </tr>\n",
       "    <tr>\n",
       "      <th>1</th>\n",
       "      <td>2020-03-17 05:30:02</td>\n",
       "      <td>9202762585543</td>\n",
       "      <td>Profesional</td>\n",
       "      <td>151261112</td>\n",
       "      <td>Haya Real Estate</td>\n",
       "      <td>567017990</td>\n",
       "      <td>[{'text': '28', 'centroid': [715, 396], 'occup...</td>\n",
       "      <td>https://d.fotocasa.es/anuncio/2019/05/20/15126...</td>\n",
       "    </tr>\n",
       "    <tr>\n",
       "      <th>2</th>\n",
       "      <td>2020-03-17 05:30:02</td>\n",
       "      <td>9202762993528</td>\n",
       "      <td>Profesional</td>\n",
       "      <td>152298490</td>\n",
       "      <td>Haya Real Estate</td>\n",
       "      <td>567028234</td>\n",
       "      <td>[]</td>\n",
       "      <td>https://d.fotocasa.es/anuncio/2019/08/07/15229...</td>\n",
       "    </tr>\n",
       "    <tr>\n",
       "      <th>3</th>\n",
       "      <td>2020-03-17 05:30:02</td>\n",
       "      <td>9202762585543</td>\n",
       "      <td>Profesional</td>\n",
       "      <td>151582418</td>\n",
       "      <td>Haya Real Estate</td>\n",
       "      <td>567018766</td>\n",
       "      <td>[]</td>\n",
       "      <td>https://d.fotocasa.es/anuncio/2019/06/12/15158...</td>\n",
       "    </tr>\n",
       "    <tr>\n",
       "      <th>4</th>\n",
       "      <td>2020-03-17 05:30:02</td>\n",
       "      <td>9202753963841</td>\n",
       "      <td>Profesional</td>\n",
       "      <td>154417275</td>\n",
       "      <td>Haya Real Estate</td>\n",
       "      <td>567017338</td>\n",
       "      <td>[{'text': 'soamnt', 'centroid': [1096, 691], '...</td>\n",
       "      <td>https://d.fotocasa.es/anuncio/2020/02/03/15441...</td>\n",
       "    </tr>\n",
       "  </tbody>\n",
       "</table>\n",
       "</div>"
      ],
      "text/plain": [
       "        ExecutionDate       ClientId  Client_Type PropertyId  \\\n",
       "0 2020-03-17 05:30:02   900040000042  Profesional   20224813   \n",
       "1 2020-03-17 05:30:02  9202762585543  Profesional  151261112   \n",
       "2 2020-03-17 05:30:02  9202762993528  Profesional  152298490   \n",
       "3 2020-03-17 05:30:02  9202762585543  Profesional  151582418   \n",
       "4 2020-03-17 05:30:02  9202753963841  Profesional  154417275   \n",
       "\n",
       "         AgencyName         Id  \\\n",
       "0             BARIN  567029556   \n",
       "1  Haya Real Estate  567017990   \n",
       "2  Haya Real Estate  567028234   \n",
       "3  Haya Real Estate  567018766   \n",
       "4  Haya Real Estate  567017338   \n",
       "\n",
       "                                       Detected_Info  \\\n",
       "0  [{'text': 'shotoNmIplte', 'centroid': [246, 83...   \n",
       "1  [{'text': '28', 'centroid': [715, 396], 'occup...   \n",
       "2                                                 []   \n",
       "3                                                 []   \n",
       "4  [{'text': 'soamnt', 'centroid': [1096, 691], '...   \n",
       "\n",
       "                                                 Url  \n",
       "0  https://images.inmofactory.com/inmofactory/doc...  \n",
       "1  https://d.fotocasa.es/anuncio/2019/05/20/15126...  \n",
       "2  https://d.fotocasa.es/anuncio/2019/08/07/15229...  \n",
       "3  https://d.fotocasa.es/anuncio/2019/06/12/15158...  \n",
       "4  https://d.fotocasa.es/anuncio/2020/02/03/15441...  "
      ]
     },
     "execution_count": 195,
     "metadata": {},
     "output_type": "execute_result"
    }
   ],
   "source": [
    "df_wt_text = df_wt_text[\n",
    "    ['ExecutionDate','ClientId','Client_Type','PropertyId',\n",
    "     'AgencyName','Id','Detected_Info','Url']].head(100000).copy()\n",
    "df_wt_text.head()"
   ]
  },
  {
   "cell_type": "markdown",
   "metadata": {},
   "source": [
    "Rename the column 'Id' to 'ImageId'"
   ]
  },
  {
   "cell_type": "code",
   "execution_count": 336,
   "metadata": {},
   "outputs": [
    {
     "data": {
      "text/plain": [
       "Index(['ExecutionDate', 'ClientId', 'Client_Type', 'PropertyId', 'AgencyName',\n",
       "       'ImageId', 'Url', 'Date', 'Hour'],\n",
       "      dtype='object')"
      ]
     },
     "execution_count": 336,
     "metadata": {},
     "output_type": "execute_result"
    }
   ],
   "source": [
    "df_wt_text.rename(columns={'Id': 'ImageId'}, inplace=True)\n",
    "df_wt_text.columns"
   ]
  },
  {
   "cell_type": "markdown",
   "metadata": {},
   "source": [
    "Filter images where there is not Detected_Info and keep only the ones that have"
   ]
  },
  {
   "cell_type": "code",
   "execution_count": 211,
   "metadata": {},
   "outputs": [
    {
     "data": {
      "text/html": [
       "<div>\n",
       "<style scoped>\n",
       "    .dataframe tbody tr th:only-of-type {\n",
       "        vertical-align: middle;\n",
       "    }\n",
       "\n",
       "    .dataframe tbody tr th {\n",
       "        vertical-align: top;\n",
       "    }\n",
       "\n",
       "    .dataframe thead th {\n",
       "        text-align: right;\n",
       "    }\n",
       "</style>\n",
       "<table border=\"1\" class=\"dataframe\">\n",
       "  <thead>\n",
       "    <tr style=\"text-align: right;\">\n",
       "      <th></th>\n",
       "      <th>ExecutionDate</th>\n",
       "      <th>ClientId</th>\n",
       "      <th>Client_Type</th>\n",
       "      <th>PropertyId</th>\n",
       "      <th>AgencyName</th>\n",
       "      <th>ImageId</th>\n",
       "      <th>Detected_Info</th>\n",
       "      <th>Url</th>\n",
       "    </tr>\n",
       "  </thead>\n",
       "  <tbody>\n",
       "    <tr>\n",
       "      <th>0</th>\n",
       "      <td>2020-03-17 05:30:02</td>\n",
       "      <td>900040000042</td>\n",
       "      <td>Profesional</td>\n",
       "      <td>20224813</td>\n",
       "      <td>BARIN</td>\n",
       "      <td>567029556</td>\n",
       "      <td>[{'text': 'shotoNmIplte', 'centroid': [246, 83...</td>\n",
       "      <td>https://images.inmofactory.com/inmofactory/doc...</td>\n",
       "    </tr>\n",
       "    <tr>\n",
       "      <th>1</th>\n",
       "      <td>2020-03-17 05:30:02</td>\n",
       "      <td>9202762585543</td>\n",
       "      <td>Profesional</td>\n",
       "      <td>151261112</td>\n",
       "      <td>Haya Real Estate</td>\n",
       "      <td>567017990</td>\n",
       "      <td>[{'text': '28', 'centroid': [715, 396], 'occup...</td>\n",
       "      <td>https://d.fotocasa.es/anuncio/2019/05/20/15126...</td>\n",
       "    </tr>\n",
       "    <tr>\n",
       "      <th>4</th>\n",
       "      <td>2020-03-17 05:30:02</td>\n",
       "      <td>9202753963841</td>\n",
       "      <td>Profesional</td>\n",
       "      <td>154417275</td>\n",
       "      <td>Haya Real Estate</td>\n",
       "      <td>567017338</td>\n",
       "      <td>[{'text': 'soamnt', 'centroid': [1096, 691], '...</td>\n",
       "      <td>https://d.fotocasa.es/anuncio/2020/02/03/15441...</td>\n",
       "    </tr>\n",
       "    <tr>\n",
       "      <th>6</th>\n",
       "      <td>2020-03-17 05:30:02</td>\n",
       "      <td>9202759449696</td>\n",
       "      <td>Profesional</td>\n",
       "      <td>20700195</td>\n",
       "      <td>ENGEL &amp; VÖLKERS</td>\n",
       "      <td>567026132</td>\n",
       "      <td>[{'text': 'GVOLKERS', 'centroid': [462, 212], ...</td>\n",
       "      <td>https://d.inmofactory.com/1/110618/20700195/29...</td>\n",
       "    </tr>\n",
       "    <tr>\n",
       "      <th>7</th>\n",
       "      <td>2020-03-17 05:30:02</td>\n",
       "      <td>9202753411770</td>\n",
       "      <td>Profesional</td>\n",
       "      <td>20234724</td>\n",
       "      <td>VIVIZ COMERCIALIZADORA, S.L.</td>\n",
       "      <td>567030989</td>\n",
       "      <td>[{'text': 'ViViz.', 'centroid': [517, 196], 'o...</td>\n",
       "      <td>https://d.inmofactory.com/1/87581/20234724/295...</td>\n",
       "    </tr>\n",
       "  </tbody>\n",
       "</table>\n",
       "</div>"
      ],
      "text/plain": [
       "        ExecutionDate       ClientId  Client_Type  PropertyId  \\\n",
       "0 2020-03-17 05:30:02   900040000042  Profesional    20224813   \n",
       "1 2020-03-17 05:30:02  9202762585543  Profesional   151261112   \n",
       "4 2020-03-17 05:30:02  9202753963841  Profesional   154417275   \n",
       "6 2020-03-17 05:30:02  9202759449696  Profesional    20700195   \n",
       "7 2020-03-17 05:30:02  9202753411770  Profesional    20234724   \n",
       "\n",
       "                     AgencyName    ImageId  \\\n",
       "0                         BARIN  567029556   \n",
       "1              Haya Real Estate  567017990   \n",
       "4              Haya Real Estate  567017338   \n",
       "6               ENGEL & VÖLKERS  567026132   \n",
       "7  VIVIZ COMERCIALIZADORA, S.L.  567030989   \n",
       "\n",
       "                                       Detected_Info  \\\n",
       "0  [{'text': 'shotoNmIplte', 'centroid': [246, 83...   \n",
       "1  [{'text': '28', 'centroid': [715, 396], 'occup...   \n",
       "4  [{'text': 'soamnt', 'centroid': [1096, 691], '...   \n",
       "6  [{'text': 'GVOLKERS', 'centroid': [462, 212], ...   \n",
       "7  [{'text': 'ViViz.', 'centroid': [517, 196], 'o...   \n",
       "\n",
       "                                                 Url  \n",
       "0  https://images.inmofactory.com/inmofactory/doc...  \n",
       "1  https://d.fotocasa.es/anuncio/2019/05/20/15126...  \n",
       "4  https://d.fotocasa.es/anuncio/2020/02/03/15441...  \n",
       "6  https://d.inmofactory.com/1/110618/20700195/29...  \n",
       "7  https://d.inmofactory.com/1/87581/20234724/295...  "
      ]
     },
     "execution_count": 211,
     "metadata": {},
     "output_type": "execute_result"
    }
   ],
   "source": [
    "df_wt_text['Detected_Info_Len'] = \\\n",
    "    df_wt_text.Detected_Info.apply(lambda x : len(x))\n",
    "\n",
    "df_wt_text['Is_Detected_Info'] = \\\n",
    "    df_wt_text.Detected_Info_Len.apply(\n",
    "        lambda x : \"CON_TEXTO\" if x > 0 else \"SIN_TEXTO\")\n",
    "\n",
    "df_wt_text = \\\n",
    "    df_wt_text[df_wt_text.Is_Detected_Info == \"CON_TEXTO\"].copy()\n",
    "\n",
    "df_wt_text = \\\n",
    "    df_wt_text[list(df_wt_text.columns[:-2])].copy()\n",
    "\n",
    "df_wt_text.head()"
   ]
  },
  {
   "cell_type": "markdown",
   "metadata": {},
   "source": [
    "Make sure that all data types are correct and transform them if you need"
   ]
  },
  {
   "cell_type": "code",
   "execution_count": 212,
   "metadata": {},
   "outputs": [
    {
     "data": {
      "text/plain": [
       "ExecutionDate    datetime64[ns]\n",
       "ClientId                  int64\n",
       "Client_Type            category\n",
       "PropertyId                int64\n",
       "AgencyName               string\n",
       "ImageId                   int64\n",
       "Detected_Info            object\n",
       "Url                      string\n",
       "dtype: object"
      ]
     },
     "execution_count": 212,
     "metadata": {},
     "output_type": "execute_result"
    }
   ],
   "source": [
    "df_wt_text.dtypes"
   ]
  },
  {
   "cell_type": "code",
   "execution_count": 213,
   "metadata": {},
   "outputs": [
    {
     "data": {
      "text/plain": [
       "ExecutionDate    datetime64[ns]\n",
       "ClientId                  int64\n",
       "Client_Type            category\n",
       "PropertyId                int64\n",
       "AgencyName               string\n",
       "ImageId                   int64\n",
       "Detected_Info            object\n",
       "Url                      string\n",
       "dtype: object"
      ]
     },
     "execution_count": 213,
     "metadata": {},
     "output_type": "execute_result"
    }
   ],
   "source": [
    "df_wt_text.Client_Type = \\\n",
    "    df_wt_text.Client_Type.astype('category')\n",
    "\n",
    "df_wt_text.PropertyId = \\\n",
    "    df_wt_text.PropertyId.astype('int')\n",
    "\n",
    "df_wt_text.AgencyName = \\\n",
    "    df_wt_text.AgencyName.astype('string')\n",
    "\n",
    "df_wt_text.Url = \\\n",
    "    df_wt_text.Url.astype('string')\n",
    "\n",
    "df_wt_text.dtypes"
   ]
  },
  {
   "cell_type": "markdown",
   "metadata": {},
   "source": [
    "Extract Date as 'yyyy-mm-dd' and Hour as 'MM:SS' from ExecutionDate"
   ]
  },
  {
   "cell_type": "code",
   "execution_count": 214,
   "metadata": {},
   "outputs": [],
   "source": [
    "df_wt_text['Date'] = \\\n",
    "    df_wt_text.ExecutionDate.apply(\n",
    "        lambda x : dt.datetime.strftime(x,'%Y-%m-%d')).astype(str)"
   ]
  },
  {
   "cell_type": "code",
   "execution_count": 215,
   "metadata": {},
   "outputs": [],
   "source": [
    "df_wt_text['Hour'] = \\\n",
    "    df_wt_text.ExecutionDate.apply(\n",
    "        lambda x : dt.datetime.strftime(x,'%H')).astype(str)"
   ]
  },
  {
   "cell_type": "markdown",
   "metadata": {},
   "source": [
    "Parse Information provided by the text detection service 'Detected_Info' and convert it into columns.\n",
    "\n",
    "You want an entry for each text: p.e. ImageId, text, centroid_x, centroid_y...\n",
    "\n",
    "```\n",
    "[{\n",
    "   'text': '28',\n",
    "   'centroid': [715, 396],\n",
    "   'occupancy': 0.0017183883101851852,\n",
    "   'string_category': 'numbers',\n",
    "   'probability': 0.9938117861747742\n",
    " },\n",
    " {\n",
    "   'text': '28',\n",
    "   'centroid': [715, 396],\n",
    "   'occupancy': 0.0017183883101851852,\n",
    "   'string_category': 'numbers',\n",
    "   'probability': 0.9938117861747742\n",
    " }] \n",
    "```\n",
    "\n",
    "Store the results into a dataframe called \"df_wt_info_res\"\n",
    "\n",
    "note: in the process transform the text to lowercase"
   ]
  },
  {
   "cell_type": "code",
   "execution_count": 233,
   "metadata": {},
   "outputs": [],
   "source": [
    "df_wt_info_res = \\\n",
    "    df_wt_info.Detected_Info.apply(pd.Series) \\\n",
    "        .merge(df_wt_text[['ImageId','Detected_Info']], \n",
    "            left_index = True, \n",
    "            right_index = True) \\\n",
    "       .drop([\"Detected_Info\"], axis = 1) \\\n",
    "       .melt(id_vars = ['ImageId'], \n",
    "            value_name = \"Detected_Info\") \\\n",
    "       .dropna()[['ImageId','Detected_Info']]"
   ]
  },
  {
   "cell_type": "code",
   "execution_count": 236,
   "metadata": {},
   "outputs": [],
   "source": [
    "df_wt_info_res['text'] = \\\n",
    "    df_wt_info_res.Detected_Info.apply(\n",
    "        lambda x : x['text'].lower())\n",
    "\n",
    "df_wt_info_res['string_category'] = \\\n",
    "    df_wt_info_res.Detected_Info.apply(\n",
    "        lambda x : x['string_category'])\n",
    "\n",
    "df_wt_info_res['occupancy'] = \\\n",
    "    df_wt_info_res.Detected_Info.apply(\n",
    "        lambda x : x['occupancy'])\n",
    "\n",
    "df_wt_info_res['probability'] = \\\n",
    "    df_wt_info_res.Detected_Info.apply(\n",
    "        lambda x : x['probability'])\n",
    "\n",
    "df_wt_info_res['centroid'] = \\\n",
    "    df_wt_info_res.Detected_Info.apply(\n",
    "        lambda x : x['centroid'])"
   ]
  },
  {
   "cell_type": "code",
   "execution_count": 237,
   "metadata": {},
   "outputs": [
    {
     "data": {
      "text/html": [
       "<div>\n",
       "<style scoped>\n",
       "    .dataframe tbody tr th:only-of-type {\n",
       "        vertical-align: middle;\n",
       "    }\n",
       "\n",
       "    .dataframe tbody tr th {\n",
       "        vertical-align: top;\n",
       "    }\n",
       "\n",
       "    .dataframe thead th {\n",
       "        text-align: right;\n",
       "    }\n",
       "</style>\n",
       "<table border=\"1\" class=\"dataframe\">\n",
       "  <thead>\n",
       "    <tr style=\"text-align: right;\">\n",
       "      <th></th>\n",
       "      <th>ImageId</th>\n",
       "      <th>Detected_Info</th>\n",
       "      <th>text</th>\n",
       "      <th>string_category</th>\n",
       "      <th>occupancy</th>\n",
       "      <th>probability</th>\n",
       "      <th>centroid</th>\n",
       "    </tr>\n",
       "  </thead>\n",
       "  <tbody>\n",
       "    <tr>\n",
       "      <th>0</th>\n",
       "      <td>567029556</td>\n",
       "      <td>{'text': 'shotoNmIplte', 'centroid': [246, 830...</td>\n",
       "      <td>shotonmiplte</td>\n",
       "      <td>letters</td>\n",
       "      <td>0.004013</td>\n",
       "      <td>3.653873e-04</td>\n",
       "      <td>[246, 830]</td>\n",
       "    </tr>\n",
       "    <tr>\n",
       "      <th>1</th>\n",
       "      <td>567017990</td>\n",
       "      <td>{'text': '28', 'centroid': [715, 396], 'occupa...</td>\n",
       "      <td>28</td>\n",
       "      <td>numbers</td>\n",
       "      <td>0.001718</td>\n",
       "      <td>9.938118e-01</td>\n",
       "      <td>[715, 396]</td>\n",
       "    </tr>\n",
       "    <tr>\n",
       "      <th>2</th>\n",
       "      <td>567017338</td>\n",
       "      <td>{'text': 'soamnt', 'centroid': [1096, 691], 'o...</td>\n",
       "      <td>soamnt</td>\n",
       "      <td>letters</td>\n",
       "      <td>0.024159</td>\n",
       "      <td>7.494296e-13</td>\n",
       "      <td>[1096, 691]</td>\n",
       "    </tr>\n",
       "    <tr>\n",
       "      <th>3</th>\n",
       "      <td>567026132</td>\n",
       "      <td>{'text': 'GVOLKERS', 'centroid': [462, 212], '...</td>\n",
       "      <td>gvolkers</td>\n",
       "      <td>letters</td>\n",
       "      <td>0.058802</td>\n",
       "      <td>2.901020e-02</td>\n",
       "      <td>[462, 212]</td>\n",
       "    </tr>\n",
       "    <tr>\n",
       "      <th>4</th>\n",
       "      <td>567030989</td>\n",
       "      <td>{'text': 'ViViz.', 'centroid': [517, 196], 'oc...</td>\n",
       "      <td>viviz.</td>\n",
       "      <td>letters</td>\n",
       "      <td>0.057358</td>\n",
       "      <td>2.030919e-02</td>\n",
       "      <td>[517, 196]</td>\n",
       "    </tr>\n",
       "  </tbody>\n",
       "</table>\n",
       "</div>"
      ],
      "text/plain": [
       "     ImageId                                      Detected_Info          text  \\\n",
       "0  567029556  {'text': 'shotoNmIplte', 'centroid': [246, 830...  shotonmiplte   \n",
       "1  567017990  {'text': '28', 'centroid': [715, 396], 'occupa...            28   \n",
       "2  567017338  {'text': 'soamnt', 'centroid': [1096, 691], 'o...        soamnt   \n",
       "3  567026132  {'text': 'GVOLKERS', 'centroid': [462, 212], '...      gvolkers   \n",
       "4  567030989  {'text': 'ViViz.', 'centroid': [517, 196], 'oc...        viviz.   \n",
       "\n",
       "  string_category  occupancy   probability     centroid  \n",
       "0         letters   0.004013  3.653873e-04   [246, 830]  \n",
       "1         numbers   0.001718  9.938118e-01   [715, 396]  \n",
       "2         letters   0.024159  7.494296e-13  [1096, 691]  \n",
       "3         letters   0.058802  2.901020e-02   [462, 212]  \n",
       "4         letters   0.057358  2.030919e-02   [517, 196]  "
      ]
     },
     "execution_count": 237,
     "metadata": {},
     "output_type": "execute_result"
    }
   ],
   "source": [
    "df_wt_info_res.head()"
   ]
  },
  {
   "cell_type": "markdown",
   "metadata": {},
   "source": [
    "Explode the dataframe to convert centroid list into center_x and center_y columns"
   ]
  },
  {
   "cell_type": "code",
   "execution_count": 238,
   "metadata": {},
   "outputs": [
    {
     "data": {
      "text/html": [
       "<div>\n",
       "<style scoped>\n",
       "    .dataframe tbody tr th:only-of-type {\n",
       "        vertical-align: middle;\n",
       "    }\n",
       "\n",
       "    .dataframe tbody tr th {\n",
       "        vertical-align: top;\n",
       "    }\n",
       "\n",
       "    .dataframe thead th {\n",
       "        text-align: right;\n",
       "    }\n",
       "</style>\n",
       "<table border=\"1\" class=\"dataframe\">\n",
       "  <thead>\n",
       "    <tr style=\"text-align: right;\">\n",
       "      <th></th>\n",
       "      <th>center_x</th>\n",
       "      <th>center_y</th>\n",
       "    </tr>\n",
       "  </thead>\n",
       "  <tbody>\n",
       "    <tr>\n",
       "      <th>0</th>\n",
       "      <td>246</td>\n",
       "      <td>830</td>\n",
       "    </tr>\n",
       "    <tr>\n",
       "      <th>1</th>\n",
       "      <td>715</td>\n",
       "      <td>396</td>\n",
       "    </tr>\n",
       "  </tbody>\n",
       "</table>\n",
       "</div>"
      ],
      "text/plain": [
       "   center_x  center_y\n",
       "0       246       830\n",
       "1       715       396"
      ]
     },
     "execution_count": 238,
     "metadata": {},
     "output_type": "execute_result"
    }
   ],
   "source": [
    "df_centroid = df_wt_info_res.centroid.apply(pd.Series).copy()\n",
    "df_centroid.columns = ['center_x','center_y']\n",
    "df_centroid.head(2)"
   ]
  },
  {
   "cell_type": "code",
   "execution_count": 239,
   "metadata": {},
   "outputs": [
    {
     "data": {
      "text/plain": [
       "Index(['ImageId', 'Detected_Info', 'text', 'string_category', 'occupancy',\n",
       "       'probability', 'center_x', 'center_y'],\n",
       "      dtype='object')"
      ]
     },
     "execution_count": 239,
     "metadata": {},
     "output_type": "execute_result"
    }
   ],
   "source": [
    "df_wt_info_res = pd.merge(\n",
    "    df_wt_info_res, \n",
    "    df_centroid,\n",
    "    how='left',\n",
    "    left_index = True, \n",
    "    right_index = True)\n",
    "\n",
    "df_wt_info_res.drop('centroid', axis=1, inplace=True)\n",
    "df_wt_info_res.columns"
   ]
  },
  {
   "cell_type": "markdown",
   "metadata": {},
   "source": [
    "Merge the extracted data with the original dataframe into a dataframe named df\n",
    "\n",
    "- df_wt_text : orginal data\n",
    "- df_wt_info_res : extracted data"
   ]
  },
  {
   "cell_type": "markdown",
   "metadata": {},
   "source": [
    "Eliminate the Detected_Info column, is no loger useful"
   ]
  },
  {
   "cell_type": "code",
   "execution_count": 240,
   "metadata": {},
   "outputs": [],
   "source": [
    "df_wt_info_res.drop('Detected_Info', axis=1, inplace=True)\n",
    "df_wt_text.drop('Detected_Info', axis=1, inplace=True)"
   ]
  },
  {
   "cell_type": "code",
   "execution_count": 241,
   "metadata": {},
   "outputs": [
    {
     "data": {
      "text/plain": [
       "(73538, 15)"
      ]
     },
     "execution_count": 241,
     "metadata": {},
     "output_type": "execute_result"
    }
   ],
   "source": [
    "df = pd.merge(\n",
    "    df_wt_info_res,\n",
    "    df_wt_text,\n",
    "    how='left',\n",
    "    on='ImageId'\n",
    ")\n",
    "df.shape"
   ]
  },
  {
   "cell_type": "code",
   "execution_count": 242,
   "metadata": {},
   "outputs": [
    {
     "data": {
      "text/html": [
       "<div>\n",
       "<style scoped>\n",
       "    .dataframe tbody tr th:only-of-type {\n",
       "        vertical-align: middle;\n",
       "    }\n",
       "\n",
       "    .dataframe tbody tr th {\n",
       "        vertical-align: top;\n",
       "    }\n",
       "\n",
       "    .dataframe thead th {\n",
       "        text-align: right;\n",
       "    }\n",
       "</style>\n",
       "<table border=\"1\" class=\"dataframe\">\n",
       "  <thead>\n",
       "    <tr style=\"text-align: right;\">\n",
       "      <th></th>\n",
       "      <th>ImageId</th>\n",
       "      <th>text</th>\n",
       "      <th>string_category</th>\n",
       "      <th>occupancy</th>\n",
       "      <th>probability</th>\n",
       "      <th>center_x</th>\n",
       "      <th>center_y</th>\n",
       "      <th>ExecutionDate</th>\n",
       "      <th>ClientId</th>\n",
       "      <th>Client_Type</th>\n",
       "      <th>PropertyId</th>\n",
       "      <th>AgencyName</th>\n",
       "      <th>Url</th>\n",
       "      <th>Date</th>\n",
       "      <th>Hour</th>\n",
       "    </tr>\n",
       "  </thead>\n",
       "  <tbody>\n",
       "    <tr>\n",
       "      <th>0</th>\n",
       "      <td>567029556</td>\n",
       "      <td>shotonmiplte</td>\n",
       "      <td>letters</td>\n",
       "      <td>0.004013</td>\n",
       "      <td>3.653873e-04</td>\n",
       "      <td>246</td>\n",
       "      <td>830</td>\n",
       "      <td>2020-03-17 05:30:02</td>\n",
       "      <td>900040000042</td>\n",
       "      <td>Profesional</td>\n",
       "      <td>20224813</td>\n",
       "      <td>BARIN</td>\n",
       "      <td>https://images.inmofactory.com/inmofactory/doc...</td>\n",
       "      <td>2020-03-17</td>\n",
       "      <td>05</td>\n",
       "    </tr>\n",
       "    <tr>\n",
       "      <th>1</th>\n",
       "      <td>567017990</td>\n",
       "      <td>28</td>\n",
       "      <td>numbers</td>\n",
       "      <td>0.001718</td>\n",
       "      <td>9.938118e-01</td>\n",
       "      <td>715</td>\n",
       "      <td>396</td>\n",
       "      <td>2020-03-17 05:30:02</td>\n",
       "      <td>9202762585543</td>\n",
       "      <td>Profesional</td>\n",
       "      <td>151261112</td>\n",
       "      <td>Haya Real Estate</td>\n",
       "      <td>https://d.fotocasa.es/anuncio/2019/05/20/15126...</td>\n",
       "      <td>2020-03-17</td>\n",
       "      <td>05</td>\n",
       "    </tr>\n",
       "    <tr>\n",
       "      <th>2</th>\n",
       "      <td>567017338</td>\n",
       "      <td>soamnt</td>\n",
       "      <td>letters</td>\n",
       "      <td>0.024159</td>\n",
       "      <td>7.494296e-13</td>\n",
       "      <td>1096</td>\n",
       "      <td>691</td>\n",
       "      <td>2020-03-17 05:30:02</td>\n",
       "      <td>9202753963841</td>\n",
       "      <td>Profesional</td>\n",
       "      <td>154417275</td>\n",
       "      <td>Haya Real Estate</td>\n",
       "      <td>https://d.fotocasa.es/anuncio/2020/02/03/15441...</td>\n",
       "      <td>2020-03-17</td>\n",
       "      <td>05</td>\n",
       "    </tr>\n",
       "    <tr>\n",
       "      <th>3</th>\n",
       "      <td>567026132</td>\n",
       "      <td>gvolkers</td>\n",
       "      <td>letters</td>\n",
       "      <td>0.058802</td>\n",
       "      <td>2.901020e-02</td>\n",
       "      <td>462</td>\n",
       "      <td>212</td>\n",
       "      <td>2020-03-17 05:30:02</td>\n",
       "      <td>9202759449696</td>\n",
       "      <td>Profesional</td>\n",
       "      <td>20700195</td>\n",
       "      <td>ENGEL &amp; VÖLKERS</td>\n",
       "      <td>https://d.inmofactory.com/1/110618/20700195/29...</td>\n",
       "      <td>2020-03-17</td>\n",
       "      <td>05</td>\n",
       "    </tr>\n",
       "    <tr>\n",
       "      <th>4</th>\n",
       "      <td>567030989</td>\n",
       "      <td>viviz.</td>\n",
       "      <td>letters</td>\n",
       "      <td>0.057358</td>\n",
       "      <td>2.030919e-02</td>\n",
       "      <td>517</td>\n",
       "      <td>196</td>\n",
       "      <td>2020-03-17 05:30:02</td>\n",
       "      <td>9202753411770</td>\n",
       "      <td>Profesional</td>\n",
       "      <td>20234724</td>\n",
       "      <td>VIVIZ COMERCIALIZADORA, S.L.</td>\n",
       "      <td>https://d.inmofactory.com/1/87581/20234724/295...</td>\n",
       "      <td>2020-03-17</td>\n",
       "      <td>05</td>\n",
       "    </tr>\n",
       "  </tbody>\n",
       "</table>\n",
       "</div>"
      ],
      "text/plain": [
       "     ImageId          text string_category  occupancy   probability  center_x  \\\n",
       "0  567029556  shotonmiplte         letters   0.004013  3.653873e-04       246   \n",
       "1  567017990            28         numbers   0.001718  9.938118e-01       715   \n",
       "2  567017338        soamnt         letters   0.024159  7.494296e-13      1096   \n",
       "3  567026132      gvolkers         letters   0.058802  2.901020e-02       462   \n",
       "4  567030989        viviz.         letters   0.057358  2.030919e-02       517   \n",
       "\n",
       "   center_y       ExecutionDate       ClientId  Client_Type  PropertyId  \\\n",
       "0       830 2020-03-17 05:30:02   900040000042  Profesional    20224813   \n",
       "1       396 2020-03-17 05:30:02  9202762585543  Profesional   151261112   \n",
       "2       691 2020-03-17 05:30:02  9202753963841  Profesional   154417275   \n",
       "3       212 2020-03-17 05:30:02  9202759449696  Profesional    20700195   \n",
       "4       196 2020-03-17 05:30:02  9202753411770  Profesional    20234724   \n",
       "\n",
       "                     AgencyName  \\\n",
       "0                         BARIN   \n",
       "1              Haya Real Estate   \n",
       "2              Haya Real Estate   \n",
       "3               ENGEL & VÖLKERS   \n",
       "4  VIVIZ COMERCIALIZADORA, S.L.   \n",
       "\n",
       "                                                 Url        Date Hour  \n",
       "0  https://images.inmofactory.com/inmofactory/doc...  2020-03-17   05  \n",
       "1  https://d.fotocasa.es/anuncio/2019/05/20/15126...  2020-03-17   05  \n",
       "2  https://d.fotocasa.es/anuncio/2020/02/03/15441...  2020-03-17   05  \n",
       "3  https://d.inmofactory.com/1/110618/20700195/29...  2020-03-17   05  \n",
       "4  https://d.inmofactory.com/1/87581/20234724/295...  2020-03-17   05  "
      ]
     },
     "execution_count": 242,
     "metadata": {},
     "output_type": "execute_result"
    }
   ],
   "source": [
    "df.head()"
   ]
  },
  {
   "cell_type": "markdown",
   "metadata": {},
   "source": [
    "## 6.1.2 Watermarks: Inspect the results\n",
    "\n",
    "- Describe all the variables\n",
    "\n",
    "- Calculate number of texts and unique images by string_category and client type\n",
    "- Calculate number of texts and unique images by agency_name\n",
    "\n",
    "- Calculate probability of text detection by string_category and client type per image (mean and std)\n",
    "\n",
    "- Calculate occupancy by string_category per property (mean and std)\n",
    "\n",
    "- Get the top 10 agencies with better probability on average (by agency_name)\n",
    "\n",
    "- Get the top 10 text detected with better probability on average by string_category"
   ]
  },
  {
   "cell_type": "markdown",
   "metadata": {},
   "source": [
    "- Describe all the variables"
   ]
  },
  {
   "cell_type": "code",
   "execution_count": 243,
   "metadata": {},
   "outputs": [
    {
     "data": {
      "text/html": [
       "<div>\n",
       "<style scoped>\n",
       "    .dataframe tbody tr th:only-of-type {\n",
       "        vertical-align: middle;\n",
       "    }\n",
       "\n",
       "    .dataframe tbody tr th {\n",
       "        vertical-align: top;\n",
       "    }\n",
       "\n",
       "    .dataframe thead th {\n",
       "        text-align: right;\n",
       "    }\n",
       "</style>\n",
       "<table border=\"1\" class=\"dataframe\">\n",
       "  <thead>\n",
       "    <tr style=\"text-align: right;\">\n",
       "      <th></th>\n",
       "      <th>ImageId</th>\n",
       "      <th>occupancy</th>\n",
       "      <th>probability</th>\n",
       "      <th>center_x</th>\n",
       "      <th>center_y</th>\n",
       "      <th>ClientId</th>\n",
       "      <th>PropertyId</th>\n",
       "    </tr>\n",
       "  </thead>\n",
       "  <tbody>\n",
       "    <tr>\n",
       "      <th>count</th>\n",
       "      <td>7.353800e+04</td>\n",
       "      <td>73538.000000</td>\n",
       "      <td>73538.000000</td>\n",
       "      <td>73538.000000</td>\n",
       "      <td>73538.000000</td>\n",
       "      <td>7.353800e+04</td>\n",
       "      <td>7.353800e+04</td>\n",
       "    </tr>\n",
       "    <tr>\n",
       "      <th>mean</th>\n",
       "      <td>5.672523e+08</td>\n",
       "      <td>0.018192</td>\n",
       "      <td>0.325025</td>\n",
       "      <td>617.254277</td>\n",
       "      <td>468.037300</td>\n",
       "      <td>8.709122e+12</td>\n",
       "      <td>2.484870e+07</td>\n",
       "    </tr>\n",
       "    <tr>\n",
       "      <th>std</th>\n",
       "      <td>3.278903e+05</td>\n",
       "      <td>0.028361</td>\n",
       "      <td>0.357978</td>\n",
       "      <td>379.180281</td>\n",
       "      <td>309.057375</td>\n",
       "      <td>1.968005e+12</td>\n",
       "      <td>2.595083e+07</td>\n",
       "    </tr>\n",
       "    <tr>\n",
       "      <th>min</th>\n",
       "      <td>5.667797e+08</td>\n",
       "      <td>0.000446</td>\n",
       "      <td>0.000000</td>\n",
       "      <td>-63.000000</td>\n",
       "      <td>5.000000</td>\n",
       "      <td>0.000000e+00</td>\n",
       "      <td>4.262923e+06</td>\n",
       "    </tr>\n",
       "    <tr>\n",
       "      <th>25%</th>\n",
       "      <td>5.669993e+08</td>\n",
       "      <td>0.003653</td>\n",
       "      <td>0.008774</td>\n",
       "      <td>315.000000</td>\n",
       "      <td>241.000000</td>\n",
       "      <td>9.202753e+12</td>\n",
       "      <td>1.949296e+07</td>\n",
       "    </tr>\n",
       "    <tr>\n",
       "      <th>50%</th>\n",
       "      <td>5.671719e+08</td>\n",
       "      <td>0.007504</td>\n",
       "      <td>0.159648</td>\n",
       "      <td>597.000000</td>\n",
       "      <td>439.000000</td>\n",
       "      <td>9.202755e+12</td>\n",
       "      <td>2.069420e+07</td>\n",
       "    </tr>\n",
       "    <tr>\n",
       "      <th>75%</th>\n",
       "      <td>5.674778e+08</td>\n",
       "      <td>0.019034</td>\n",
       "      <td>0.610827</td>\n",
       "      <td>853.000000</td>\n",
       "      <td>613.000000</td>\n",
       "      <td>9.202760e+12</td>\n",
       "      <td>2.070946e+07</td>\n",
       "    </tr>\n",
       "    <tr>\n",
       "      <th>max</th>\n",
       "      <td>5.682332e+08</td>\n",
       "      <td>0.481280</td>\n",
       "      <td>0.999989</td>\n",
       "      <td>6842.000000</td>\n",
       "      <td>4391.000000</td>\n",
       "      <td>9.202764e+12</td>\n",
       "      <td>1.550677e+08</td>\n",
       "    </tr>\n",
       "  </tbody>\n",
       "</table>\n",
       "</div>"
      ],
      "text/plain": [
       "            ImageId     occupancy   probability      center_x      center_y  \\\n",
       "count  7.353800e+04  73538.000000  73538.000000  73538.000000  73538.000000   \n",
       "mean   5.672523e+08      0.018192      0.325025    617.254277    468.037300   \n",
       "std    3.278903e+05      0.028361      0.357978    379.180281    309.057375   \n",
       "min    5.667797e+08      0.000446      0.000000    -63.000000      5.000000   \n",
       "25%    5.669993e+08      0.003653      0.008774    315.000000    241.000000   \n",
       "50%    5.671719e+08      0.007504      0.159648    597.000000    439.000000   \n",
       "75%    5.674778e+08      0.019034      0.610827    853.000000    613.000000   \n",
       "max    5.682332e+08      0.481280      0.999989   6842.000000   4391.000000   \n",
       "\n",
       "           ClientId    PropertyId  \n",
       "count  7.353800e+04  7.353800e+04  \n",
       "mean   8.709122e+12  2.484870e+07  \n",
       "std    1.968005e+12  2.595083e+07  \n",
       "min    0.000000e+00  4.262923e+06  \n",
       "25%    9.202753e+12  1.949296e+07  \n",
       "50%    9.202755e+12  2.069420e+07  \n",
       "75%    9.202760e+12  2.070946e+07  \n",
       "max    9.202764e+12  1.550677e+08  "
      ]
     },
     "execution_count": 243,
     "metadata": {},
     "output_type": "execute_result"
    }
   ],
   "source": [
    "df.describe()"
   ]
  },
  {
   "cell_type": "code",
   "execution_count": 245,
   "metadata": {},
   "outputs": [
    {
     "data": {
      "text/html": [
       "<div>\n",
       "<style scoped>\n",
       "    .dataframe tbody tr th:only-of-type {\n",
       "        vertical-align: middle;\n",
       "    }\n",
       "\n",
       "    .dataframe tbody tr th {\n",
       "        vertical-align: top;\n",
       "    }\n",
       "\n",
       "    .dataframe thead th {\n",
       "        text-align: right;\n",
       "    }\n",
       "</style>\n",
       "<table border=\"1\" class=\"dataframe\">\n",
       "  <thead>\n",
       "    <tr style=\"text-align: right;\">\n",
       "      <th></th>\n",
       "      <th>text</th>\n",
       "      <th>string_category</th>\n",
       "      <th>Client_Type</th>\n",
       "      <th>Date</th>\n",
       "      <th>Hour</th>\n",
       "    </tr>\n",
       "  </thead>\n",
       "  <tbody>\n",
       "    <tr>\n",
       "      <th>count</th>\n",
       "      <td>73538</td>\n",
       "      <td>73538</td>\n",
       "      <td>73538</td>\n",
       "      <td>73538</td>\n",
       "      <td>73538</td>\n",
       "    </tr>\n",
       "    <tr>\n",
       "      <th>unique</th>\n",
       "      <td>34459</td>\n",
       "      <td>5</td>\n",
       "      <td>2</td>\n",
       "      <td>7</td>\n",
       "      <td>24</td>\n",
       "    </tr>\n",
       "    <tr>\n",
       "      <th>top</th>\n",
       "      <td>a</td>\n",
       "      <td>letters</td>\n",
       "      <td>Profesional</td>\n",
       "      <td>2020-03-17</td>\n",
       "      <td>18</td>\n",
       "    </tr>\n",
       "    <tr>\n",
       "      <th>freq</th>\n",
       "      <td>646</td>\n",
       "      <td>65238</td>\n",
       "      <td>72976</td>\n",
       "      <td>26698</td>\n",
       "      <td>5196</td>\n",
       "    </tr>\n",
       "  </tbody>\n",
       "</table>\n",
       "</div>"
      ],
      "text/plain": [
       "         text string_category  Client_Type        Date   Hour\n",
       "count   73538           73538        73538       73538  73538\n",
       "unique  34459               5            2           7     24\n",
       "top         a         letters  Profesional  2020-03-17     18\n",
       "freq      646           65238        72976       26698   5196"
      ]
     },
     "execution_count": 245,
     "metadata": {},
     "output_type": "execute_result"
    }
   ],
   "source": [
    "df.describe(include = ['O','category'])"
   ]
  },
  {
   "cell_type": "markdown",
   "metadata": {},
   "source": [
    "- Calculate number of texts and unique images by string_category and client type\n",
    "- Calculate number of texts and unique images by agency_name"
   ]
  },
  {
   "cell_type": "code",
   "execution_count": 246,
   "metadata": {},
   "outputs": [
    {
     "data": {
      "text/html": [
       "<div>\n",
       "<style scoped>\n",
       "    .dataframe tbody tr th:only-of-type {\n",
       "        vertical-align: middle;\n",
       "    }\n",
       "\n",
       "    .dataframe tbody tr th {\n",
       "        vertical-align: top;\n",
       "    }\n",
       "\n",
       "    .dataframe thead tr th {\n",
       "        text-align: left;\n",
       "    }\n",
       "\n",
       "    .dataframe thead tr:last-of-type th {\n",
       "        text-align: right;\n",
       "    }\n",
       "</style>\n",
       "<table border=\"1\" class=\"dataframe\">\n",
       "  <thead>\n",
       "    <tr>\n",
       "      <th></th>\n",
       "      <th colspan=\"2\" halign=\"left\">num_texts</th>\n",
       "      <th colspan=\"2\" halign=\"left\">num_images</th>\n",
       "    </tr>\n",
       "    <tr>\n",
       "      <th>Client_Type</th>\n",
       "      <th>Particular</th>\n",
       "      <th>Profesional</th>\n",
       "      <th>Particular</th>\n",
       "      <th>Profesional</th>\n",
       "    </tr>\n",
       "    <tr>\n",
       "      <th>string_category</th>\n",
       "      <th></th>\n",
       "      <th></th>\n",
       "      <th></th>\n",
       "      <th></th>\n",
       "    </tr>\n",
       "  </thead>\n",
       "  <tbody>\n",
       "    <tr>\n",
       "      <th>letters</th>\n",
       "      <td>403</td>\n",
       "      <td>64835</td>\n",
       "      <td>251</td>\n",
       "      <td>30852</td>\n",
       "    </tr>\n",
       "    <tr>\n",
       "      <th>mixed</th>\n",
       "      <td>21</td>\n",
       "      <td>1239</td>\n",
       "      <td>19</td>\n",
       "      <td>1111</td>\n",
       "    </tr>\n",
       "    <tr>\n",
       "      <th>mostly letters</th>\n",
       "      <td>26</td>\n",
       "      <td>2088</td>\n",
       "      <td>21</td>\n",
       "      <td>1695</td>\n",
       "    </tr>\n",
       "    <tr>\n",
       "      <th>mostly numbers</th>\n",
       "      <td>38</td>\n",
       "      <td>1285</td>\n",
       "      <td>33</td>\n",
       "      <td>1069</td>\n",
       "    </tr>\n",
       "    <tr>\n",
       "      <th>numbers</th>\n",
       "      <td>74</td>\n",
       "      <td>3529</td>\n",
       "      <td>68</td>\n",
       "      <td>2993</td>\n",
       "    </tr>\n",
       "  </tbody>\n",
       "</table>\n",
       "</div>"
      ],
      "text/plain": [
       "                 num_texts             num_images            \n",
       "Client_Type     Particular Profesional Particular Profesional\n",
       "string_category                                              \n",
       "letters                403       64835        251       30852\n",
       "mixed                   21        1239         19        1111\n",
       "mostly letters          26        2088         21        1695\n",
       "mostly numbers          38        1285         33        1069\n",
       "numbers                 74        3529         68        2993"
      ]
     },
     "execution_count": 246,
     "metadata": {},
     "output_type": "execute_result"
    }
   ],
   "source": [
    "df1 = df[['string_category','Client_Type','ImageId']] \\\n",
    "    .groupby(['string_category','Client_Type']) \\\n",
    "    .agg(['count', pd.Series.nunique])['ImageId']\n",
    "df1.columns = ['num_texts','num_images']\n",
    "df1.unstack()"
   ]
  },
  {
   "cell_type": "code",
   "execution_count": 247,
   "metadata": {},
   "outputs": [
    {
     "data": {
      "text/html": [
       "<div>\n",
       "<style scoped>\n",
       "    .dataframe tbody tr th:only-of-type {\n",
       "        vertical-align: middle;\n",
       "    }\n",
       "\n",
       "    .dataframe tbody tr th {\n",
       "        vertical-align: top;\n",
       "    }\n",
       "\n",
       "    .dataframe thead th {\n",
       "        text-align: right;\n",
       "    }\n",
       "</style>\n",
       "<table border=\"1\" class=\"dataframe\">\n",
       "  <thead>\n",
       "    <tr style=\"text-align: right;\">\n",
       "      <th></th>\n",
       "      <th>num_texts</th>\n",
       "      <th>num_images</th>\n",
       "    </tr>\n",
       "    <tr>\n",
       "      <th>AgencyName</th>\n",
       "      <th></th>\n",
       "      <th></th>\n",
       "    </tr>\n",
       "  </thead>\n",
       "  <tbody>\n",
       "    <tr>\n",
       "      <th>CUATRO INMOBILIARIA</th>\n",
       "      <td>3</td>\n",
       "      <td>3</td>\n",
       "    </tr>\n",
       "    <tr>\n",
       "      <th>INMOBILIAIRIA VIVE CACERES</th>\n",
       "      <td>21</td>\n",
       "      <td>4</td>\n",
       "    </tr>\n",
       "    <tr>\n",
       "      <th>INMOBILIARIA ALBASUR LEVATE</th>\n",
       "      <td>32</td>\n",
       "      <td>19</td>\n",
       "    </tr>\n",
       "    <tr>\n",
       "      <th>INMOBILIARIA DEL MAR</th>\n",
       "      <td>15</td>\n",
       "      <td>5</td>\n",
       "    </tr>\n",
       "    <tr>\n",
       "      <th>LUXINMO REAL ESTATE</th>\n",
       "      <td>109</td>\n",
       "      <td>87</td>\n",
       "    </tr>\n",
       "    <tr>\n",
       "      <th>...</th>\n",
       "      <td>...</td>\n",
       "      <td>...</td>\n",
       "    </tr>\n",
       "    <tr>\n",
       "      <th>victor</th>\n",
       "      <td>11</td>\n",
       "      <td>2</td>\n",
       "    </tr>\n",
       "    <tr>\n",
       "      <th>wilson gomez</th>\n",
       "      <td>2</td>\n",
       "      <td>2</td>\n",
       "    </tr>\n",
       "    <tr>\n",
       "      <th>ÁLVAREZ SALMERÓN INMOBILIARIA</th>\n",
       "      <td>132</td>\n",
       "      <td>59</td>\n",
       "    </tr>\n",
       "    <tr>\n",
       "      <th>ÁUREA HOMES</th>\n",
       "      <td>4</td>\n",
       "      <td>2</td>\n",
       "    </tr>\n",
       "    <tr>\n",
       "      <th>Óscar Fernández Ferrer</th>\n",
       "      <td>1</td>\n",
       "      <td>1</td>\n",
       "    </tr>\n",
       "  </tbody>\n",
       "</table>\n",
       "<p>2363 rows × 2 columns</p>\n",
       "</div>"
      ],
      "text/plain": [
       "                                num_texts  num_images\n",
       "AgencyName                                           \n",
       "  CUATRO INMOBILIARIA                   3           3\n",
       "  INMOBILIAIRIA VIVE CACERES           21           4\n",
       "  INMOBILIARIA ALBASUR LEVATE          32          19\n",
       "  INMOBILIARIA DEL MAR                 15           5\n",
       "  LUXINMO REAL ESTATE                 109          87\n",
       "...                                   ...         ...\n",
       "victor                                 11           2\n",
       "wilson gomez                            2           2\n",
       "ÁLVAREZ SALMERÓN INMOBILIARIA         132          59\n",
       "ÁUREA HOMES                             4           2\n",
       "Óscar Fernández Ferrer                  1           1\n",
       "\n",
       "[2363 rows x 2 columns]"
      ]
     },
     "execution_count": 247,
     "metadata": {},
     "output_type": "execute_result"
    }
   ],
   "source": [
    "df2 = df[['AgencyName','ImageId']] \\\n",
    "    .groupby(['AgencyName']) \\\n",
    "    .agg(['count', pd.Series.nunique])['ImageId']\n",
    "df2.columns = ['num_texts','num_images']\n",
    "df2"
   ]
  },
  {
   "cell_type": "markdown",
   "metadata": {},
   "source": [
    "- Calculate probability of text detection by string_category and client type per image (mean and std)"
   ]
  },
  {
   "cell_type": "code",
   "execution_count": 255,
   "metadata": {},
   "outputs": [
    {
     "data": {
      "text/html": [
       "<div>\n",
       "<style scoped>\n",
       "    .dataframe tbody tr th:only-of-type {\n",
       "        vertical-align: middle;\n",
       "    }\n",
       "\n",
       "    .dataframe tbody tr th {\n",
       "        vertical-align: top;\n",
       "    }\n",
       "\n",
       "    .dataframe thead tr th {\n",
       "        text-align: left;\n",
       "    }\n",
       "\n",
       "    .dataframe thead tr:last-of-type th {\n",
       "        text-align: right;\n",
       "    }\n",
       "</style>\n",
       "<table border=\"1\" class=\"dataframe\">\n",
       "  <thead>\n",
       "    <tr>\n",
       "      <th></th>\n",
       "      <th></th>\n",
       "      <th></th>\n",
       "      <th colspan=\"2\" halign=\"left\">probability</th>\n",
       "    </tr>\n",
       "    <tr>\n",
       "      <th></th>\n",
       "      <th></th>\n",
       "      <th></th>\n",
       "      <th>mean</th>\n",
       "      <th>std</th>\n",
       "    </tr>\n",
       "    <tr>\n",
       "      <th>string_category</th>\n",
       "      <th>Client_Type</th>\n",
       "      <th>ImageId</th>\n",
       "      <th></th>\n",
       "      <th></th>\n",
       "    </tr>\n",
       "  </thead>\n",
       "  <tbody>\n",
       "    <tr>\n",
       "      <th rowspan=\"5\" valign=\"top\">letters</th>\n",
       "      <th rowspan=\"5\" valign=\"top\">Particular</th>\n",
       "      <th>566782958</th>\n",
       "      <td>0.007078</td>\n",
       "      <td>0.011771</td>\n",
       "    </tr>\n",
       "    <tr>\n",
       "      <th>566785895</th>\n",
       "      <td>0.725764</td>\n",
       "      <td>0.474244</td>\n",
       "    </tr>\n",
       "    <tr>\n",
       "      <th>566786202</th>\n",
       "      <td>0.693921</td>\n",
       "      <td>0.509907</td>\n",
       "    </tr>\n",
       "    <tr>\n",
       "      <th>566786371</th>\n",
       "      <td>0.339355</td>\n",
       "      <td>0.168511</td>\n",
       "    </tr>\n",
       "    <tr>\n",
       "      <th>566787127</th>\n",
       "      <td>0.005648</td>\n",
       "      <td>0.007988</td>\n",
       "    </tr>\n",
       "    <tr>\n",
       "      <th>...</th>\n",
       "      <th>...</th>\n",
       "      <th>...</th>\n",
       "      <td>...</td>\n",
       "      <td>...</td>\n",
       "    </tr>\n",
       "    <tr>\n",
       "      <th rowspan=\"5\" valign=\"top\">numbers</th>\n",
       "      <th rowspan=\"5\" valign=\"top\">Profesional</th>\n",
       "      <th>568072385</th>\n",
       "      <td>0.000129</td>\n",
       "      <td>0.000138</td>\n",
       "    </tr>\n",
       "    <tr>\n",
       "      <th>568077823</th>\n",
       "      <td>0.998988</td>\n",
       "      <td>0.000965</td>\n",
       "    </tr>\n",
       "    <tr>\n",
       "      <th>568175054</th>\n",
       "      <td>0.649902</td>\n",
       "      <td>0.364692</td>\n",
       "    </tr>\n",
       "    <tr>\n",
       "      <th>568176642</th>\n",
       "      <td>0.001859</td>\n",
       "      <td>0.002322</td>\n",
       "    </tr>\n",
       "    <tr>\n",
       "      <th>568177493</th>\n",
       "      <td>0.000565</td>\n",
       "      <td>0.000761</td>\n",
       "    </tr>\n",
       "  </tbody>\n",
       "</table>\n",
       "<p>16793 rows × 2 columns</p>\n",
       "</div>"
      ],
      "text/plain": [
       "                                      probability          \n",
       "                                             mean       std\n",
       "string_category Client_Type ImageId                        \n",
       "letters         Particular  566782958    0.007078  0.011771\n",
       "                            566785895    0.725764  0.474244\n",
       "                            566786202    0.693921  0.509907\n",
       "                            566786371    0.339355  0.168511\n",
       "                            566787127    0.005648  0.007988\n",
       "...                                           ...       ...\n",
       "numbers         Profesional 568072385    0.000129  0.000138\n",
       "                            568077823    0.998988  0.000965\n",
       "                            568175054    0.649902  0.364692\n",
       "                            568176642    0.001859  0.002322\n",
       "                            568177493    0.000565  0.000761\n",
       "\n",
       "[16793 rows x 2 columns]"
      ]
     },
     "execution_count": 255,
     "metadata": {},
     "output_type": "execute_result"
    }
   ],
   "source": [
    "df3 = df[['string_category','Client_Type','ImageId','probability']] \\\n",
    "    .groupby(['string_category','Client_Type','ImageId']) \\\n",
    "    .agg(['mean','std']).dropna()['probability']\n",
    "df3"
   ]
  },
  {
   "cell_type": "markdown",
   "metadata": {},
   "source": [
    "- Calculate occupancy by string_category per property (mean and std)\n"
   ]
  },
  {
   "cell_type": "code",
   "execution_count": 256,
   "metadata": {},
   "outputs": [
    {
     "data": {
      "text/html": [
       "<div>\n",
       "<style scoped>\n",
       "    .dataframe tbody tr th:only-of-type {\n",
       "        vertical-align: middle;\n",
       "    }\n",
       "\n",
       "    .dataframe tbody tr th {\n",
       "        vertical-align: top;\n",
       "    }\n",
       "\n",
       "    .dataframe thead th {\n",
       "        text-align: right;\n",
       "    }\n",
       "</style>\n",
       "<table border=\"1\" class=\"dataframe\">\n",
       "  <thead>\n",
       "    <tr style=\"text-align: right;\">\n",
       "      <th></th>\n",
       "      <th></th>\n",
       "      <th></th>\n",
       "      <th>mean</th>\n",
       "      <th>std</th>\n",
       "    </tr>\n",
       "    <tr>\n",
       "      <th>string_category</th>\n",
       "      <th>Client_Type</th>\n",
       "      <th>PropertyId</th>\n",
       "      <th></th>\n",
       "      <th></th>\n",
       "    </tr>\n",
       "  </thead>\n",
       "  <tbody>\n",
       "    <tr>\n",
       "      <th rowspan=\"5\" valign=\"top\">letters</th>\n",
       "      <th rowspan=\"5\" valign=\"top\">Particular</th>\n",
       "      <th>152034740</th>\n",
       "      <td>0.025059</td>\n",
       "      <td>0.039807</td>\n",
       "    </tr>\n",
       "    <tr>\n",
       "      <th>152401433</th>\n",
       "      <td>0.006971</td>\n",
       "      <td>0.011687</td>\n",
       "    </tr>\n",
       "    <tr>\n",
       "      <th>153937762</th>\n",
       "      <td>0.001900</td>\n",
       "      <td>0.002686</td>\n",
       "    </tr>\n",
       "    <tr>\n",
       "      <th>154618586</th>\n",
       "      <td>0.565162</td>\n",
       "      <td>0.413824</td>\n",
       "    </tr>\n",
       "    <tr>\n",
       "      <th>154641159</th>\n",
       "      <td>0.597403</td>\n",
       "      <td>0.410644</td>\n",
       "    </tr>\n",
       "    <tr>\n",
       "      <th>...</th>\n",
       "      <th>...</th>\n",
       "      <th>...</th>\n",
       "      <td>...</td>\n",
       "      <td>...</td>\n",
       "    </tr>\n",
       "    <tr>\n",
       "      <th rowspan=\"5\" valign=\"top\">numbers</th>\n",
       "      <th rowspan=\"5\" valign=\"top\">Profesional</th>\n",
       "      <th>155018703</th>\n",
       "      <td>0.919652</td>\n",
       "      <td>0.115474</td>\n",
       "    </tr>\n",
       "    <tr>\n",
       "      <th>155020730</th>\n",
       "      <td>0.746099</td>\n",
       "      <td>0.029633</td>\n",
       "    </tr>\n",
       "    <tr>\n",
       "      <th>155035727</th>\n",
       "      <td>0.150964</td>\n",
       "      <td>0.291664</td>\n",
       "    </tr>\n",
       "    <tr>\n",
       "      <th>155036683</th>\n",
       "      <td>0.989840</td>\n",
       "      <td>0.009907</td>\n",
       "    </tr>\n",
       "    <tr>\n",
       "      <th>155063343</th>\n",
       "      <td>0.983261</td>\n",
       "      <td>0.002873</td>\n",
       "    </tr>\n",
       "  </tbody>\n",
       "</table>\n",
       "<p>9576 rows × 2 columns</p>\n",
       "</div>"
      ],
      "text/plain": [
       "                                            mean       std\n",
       "string_category Client_Type PropertyId                    \n",
       "letters         Particular  152034740   0.025059  0.039807\n",
       "                            152401433   0.006971  0.011687\n",
       "                            153937762   0.001900  0.002686\n",
       "                            154618586   0.565162  0.413824\n",
       "                            154641159   0.597403  0.410644\n",
       "...                                          ...       ...\n",
       "numbers         Profesional 155018703   0.919652  0.115474\n",
       "                            155020730   0.746099  0.029633\n",
       "                            155035727   0.150964  0.291664\n",
       "                            155036683   0.989840  0.009907\n",
       "                            155063343   0.983261  0.002873\n",
       "\n",
       "[9576 rows x 2 columns]"
      ]
     },
     "execution_count": 256,
     "metadata": {},
     "output_type": "execute_result"
    }
   ],
   "source": [
    "df4 = df[['string_category','Client_Type','PropertyId','probability']] \\\n",
    "    .groupby(['string_category','Client_Type','PropertyId']) \\\n",
    "    .agg(['mean','std']).dropna()['probability']\n",
    "df4"
   ]
  },
  {
   "cell_type": "markdown",
   "metadata": {},
   "source": [
    "- Get the top 10 agencies with better probability on average (by agency_name)"
   ]
  },
  {
   "cell_type": "code",
   "execution_count": 260,
   "metadata": {},
   "outputs": [
    {
     "data": {
      "text/html": [
       "<div>\n",
       "<style scoped>\n",
       "    .dataframe tbody tr th:only-of-type {\n",
       "        vertical-align: middle;\n",
       "    }\n",
       "\n",
       "    .dataframe tbody tr th {\n",
       "        vertical-align: top;\n",
       "    }\n",
       "\n",
       "    .dataframe thead th {\n",
       "        text-align: right;\n",
       "    }\n",
       "</style>\n",
       "<table border=\"1\" class=\"dataframe\">\n",
       "  <thead>\n",
       "    <tr style=\"text-align: right;\">\n",
       "      <th></th>\n",
       "      <th>probability</th>\n",
       "    </tr>\n",
       "    <tr>\n",
       "      <th>AgencyName</th>\n",
       "      <th></th>\n",
       "    </tr>\n",
       "  </thead>\n",
       "  <tbody>\n",
       "    <tr>\n",
       "      <th>ARAGON GESTION</th>\n",
       "      <td>0.998672</td>\n",
       "    </tr>\n",
       "    <tr>\n",
       "      <th>MATAGALLS CONSULTING</th>\n",
       "      <td>0.998373</td>\n",
       "    </tr>\n",
       "    <tr>\n",
       "      <th>UNIPISO</th>\n",
       "      <td>0.997770</td>\n",
       "    </tr>\n",
       "    <tr>\n",
       "      <th>ELITE GESTION INMOBILIARIA</th>\n",
       "      <td>0.996981</td>\n",
       "    </tr>\n",
       "    <tr>\n",
       "      <th>BYB SERVICIOS INMOBILIARIOS</th>\n",
       "      <td>0.996287</td>\n",
       "    </tr>\n",
       "    <tr>\n",
       "      <th>PROPERTY OUTLET</th>\n",
       "      <td>0.995340</td>\n",
       "    </tr>\n",
       "    <tr>\n",
       "      <th>Nexonorte</th>\n",
       "      <td>0.993870</td>\n",
       "    </tr>\n",
       "    <tr>\n",
       "      <th>OCASIONCASA C/GERONA</th>\n",
       "      <td>0.993539</td>\n",
       "    </tr>\n",
       "    <tr>\n",
       "      <th>080 REAL ESTATE</th>\n",
       "      <td>0.991573</td>\n",
       "    </tr>\n",
       "    <tr>\n",
       "      <th>PROTEVIAL</th>\n",
       "      <td>0.989470</td>\n",
       "    </tr>\n",
       "  </tbody>\n",
       "</table>\n",
       "</div>"
      ],
      "text/plain": [
       "                             probability\n",
       "AgencyName                              \n",
       "ARAGON GESTION                  0.998672\n",
       "MATAGALLS CONSULTING            0.998373\n",
       "UNIPISO                         0.997770\n",
       "ELITE GESTION INMOBILIARIA      0.996981\n",
       "BYB SERVICIOS INMOBILIARIOS     0.996287\n",
       "PROPERTY OUTLET                 0.995340\n",
       "Nexonorte                       0.993870\n",
       "OCASIONCASA C/GERONA            0.993539\n",
       "080 REAL ESTATE                 0.991573\n",
       "PROTEVIAL                       0.989470"
      ]
     },
     "execution_count": 260,
     "metadata": {},
     "output_type": "execute_result"
    }
   ],
   "source": [
    "df5 = df[['AgencyName','probability']] \\\n",
    "    .groupby(['AgencyName']) \\\n",
    "    .mean() \\\n",
    "    .sort_values(by='probability', ascending=False)\n",
    "df5.head(10)"
   ]
  },
  {
   "cell_type": "markdown",
   "metadata": {},
   "source": [
    "- Get the top 2 text with detected better probability on average by string_category"
   ]
  },
  {
   "cell_type": "code",
   "execution_count": 288,
   "metadata": {},
   "outputs": [
    {
     "data": {
      "text/html": [
       "<div>\n",
       "<style scoped>\n",
       "    .dataframe tbody tr th:only-of-type {\n",
       "        vertical-align: middle;\n",
       "    }\n",
       "\n",
       "    .dataframe tbody tr th {\n",
       "        vertical-align: top;\n",
       "    }\n",
       "\n",
       "    .dataframe thead th {\n",
       "        text-align: right;\n",
       "    }\n",
       "</style>\n",
       "<table border=\"1\" class=\"dataframe\">\n",
       "  <thead>\n",
       "    <tr style=\"text-align: right;\">\n",
       "      <th></th>\n",
       "      <th>probability</th>\n",
       "      <th>text</th>\n",
       "    </tr>\n",
       "    <tr>\n",
       "      <th>string_category</th>\n",
       "      <th></th>\n",
       "      <th></th>\n",
       "    </tr>\n",
       "  </thead>\n",
       "  <tbody>\n",
       "    <tr>\n",
       "      <th>letters</th>\n",
       "      <td>0.999846</td>\n",
       "      <td>equipada</td>\n",
       "    </tr>\n",
       "    <tr>\n",
       "      <th>letters</th>\n",
       "      <td>0.999821</td>\n",
       "      <td>ante</td>\n",
       "    </tr>\n",
       "    <tr>\n",
       "      <th>mixed</th>\n",
       "      <td>0.999530</td>\n",
       "      <td>t2</td>\n",
       "    </tr>\n",
       "    <tr>\n",
       "      <th>mixed</th>\n",
       "      <td>0.970303</td>\n",
       "      <td>gc-381</td>\n",
       "    </tr>\n",
       "    <tr>\n",
       "      <th>mostly letters</th>\n",
       "      <td>0.988500</td>\n",
       "      <td>planta-25-</td>\n",
       "    </tr>\n",
       "    <tr>\n",
       "      <th>mostly letters</th>\n",
       "      <td>0.987956</td>\n",
       "      <td>planta-3</td>\n",
       "    </tr>\n",
       "    <tr>\n",
       "      <th>mostly numbers</th>\n",
       "      <td>0.998671</td>\n",
       "      <td>10:29</td>\n",
       "    </tr>\n",
       "    <tr>\n",
       "      <th>mostly numbers</th>\n",
       "      <td>0.997736</td>\n",
       "      <td>12:43</td>\n",
       "    </tr>\n",
       "    <tr>\n",
       "      <th>numbers</th>\n",
       "      <td>0.999837</td>\n",
       "      <td>302</td>\n",
       "    </tr>\n",
       "    <tr>\n",
       "      <th>numbers</th>\n",
       "      <td>0.999766</td>\n",
       "      <td>663</td>\n",
       "    </tr>\n",
       "  </tbody>\n",
       "</table>\n",
       "</div>"
      ],
      "text/plain": [
       "                 probability        text\n",
       "string_category                         \n",
       "letters             0.999846    equipada\n",
       "letters             0.999821        ante\n",
       "mixed               0.999530          t2\n",
       "mixed               0.970303      gc-381\n",
       "mostly letters      0.988500  planta-25-\n",
       "mostly letters      0.987956    planta-3\n",
       "mostly numbers      0.998671       10:29\n",
       "mostly numbers      0.997736       12:43\n",
       "numbers             0.999837         302\n",
       "numbers             0.999766         663"
      ]
     },
     "execution_count": 288,
     "metadata": {},
     "output_type": "execute_result"
    }
   ],
   "source": [
    "df6 = df[['text','string_category','probability']] \\\n",
    "    .groupby(['text','string_category']) \\\n",
    "    .mean().reset_index()\n",
    "\n",
    "df7 = pd.DataFrame(\n",
    "    df6.groupby(['string_category'])['probability'].nlargest(2)\n",
    ").reset_index().set_index('level_1')\n",
    "df7\n",
    "\n",
    "df8 = pd.merge(\n",
    "    df7,df6['text'],how='left',left_index=True, right_index=True\n",
    ").reset_index().drop('level_1',axis=1)\n",
    "\n",
    "df8.set_index('string_category')"
   ]
  },
  {
   "cell_type": "markdown",
   "metadata": {},
   "source": [
    "## 6.1.3 Watermarks: Detect \"Idealista\" keyword on images\n",
    "\n",
    "Using a levenshtein method and a distance of 2\n",
    "\n",
    "Hint: Create a method 'detect_idealista' where:\n",
    "- given a word and a distance (in our case 2)\n",
    "- checks if the word and \"idealista\" keyword have a distance less than equal to 2\n",
    "- ...by applying the levenshtein method\n",
    "\n",
    "Then calculate the following\n",
    "\n",
    "- Proportion of images that contain the word idealista\n",
    "- Calculate top 10 agencies with the most idealista images"
   ]
  },
  {
   "cell_type": "code",
   "execution_count": 124,
   "metadata": {},
   "outputs": [],
   "source": [
    "import unidecode\n",
    "\n",
    "def levenshtein(seq1, seq2):\n",
    "    \"\"\"\n",
    "        # Levenshtein Distance Algorithm:\n",
    "        # https://dzone.com/articles/the-levenshtein-algorithm-1\n",
    "        # https://stackabuse.com/levenshtein-distance-and-text-similarity-in-python\n",
    "    \"\"\"\n",
    "    seq1 = seq1.lower() # We need to do this conversion, because this\n",
    "    seq2 = seq2.lower() # algorithm is upper and lower case sensitive\n",
    "    \n",
    "    seq1 = unidecode.unidecode(seq1) # We transform strings with special characters to ASCII \n",
    "    seq2 = unidecode.unidecode(seq2) # We transform strings with special characters to ASCII \n",
    "    \n",
    "    size_x = len(seq1) + 1\n",
    "    size_y = len(seq2) + 1\n",
    "    matrix = np.zeros ((size_x, size_y))\n",
    "    for x in range(size_x):\n",
    "        matrix [x, 0] = x\n",
    "    for y in range(size_y):\n",
    "        matrix [0, y] = y\n",
    "\n",
    "    for x in range(1, size_x):\n",
    "        for y in range(1, size_y):\n",
    "            if seq1[x-1] == seq2[y-1]:\n",
    "                matrix [x,y] = min(\n",
    "                    matrix[x-1, y] + 1,\n",
    "                    matrix[x-1, y-1],\n",
    "                    matrix[x, y-1] + 1\n",
    "                )\n",
    "            else:\n",
    "                matrix [x,y] = min(\n",
    "                    matrix[x-1,y] + 1,\n",
    "                    matrix[x-1,y-1] + 1,\n",
    "                    matrix[x,y-1] + 1\n",
    "                )\n",
    "    return (matrix[size_x - 1, size_y - 1])"
   ]
  },
  {
   "cell_type": "markdown",
   "metadata": {},
   "source": [
    "Detect Idealista text"
   ]
  },
  {
   "cell_type": "code",
   "execution_count": 125,
   "metadata": {},
   "outputs": [],
   "source": [
    "def detect_idealista(word, dist):\n",
    "    return (levenshtein(word, 'idealista') <= dist)"
   ]
  },
  {
   "cell_type": "code",
   "execution_count": 128,
   "metadata": {},
   "outputs": [],
   "source": [
    "df['is_idealista'] = \\\n",
    "    df.text.apply(lambda x : detect_idealista(x, 2))"
   ]
  },
  {
   "cell_type": "markdown",
   "metadata": {},
   "source": [
    "Proportion of images that contain the word idealista"
   ]
  },
  {
   "cell_type": "code",
   "execution_count": 130,
   "metadata": {},
   "outputs": [
    {
     "data": {
      "text/plain": [
       "False    0.997785\n",
       "True     0.002215\n",
       "Name: is_idealista, dtype: float64"
      ]
     },
     "execution_count": 130,
     "metadata": {},
     "output_type": "execute_result"
    }
   ],
   "source": [
    "df['is_idealista'].value_counts(normalize=True)"
   ]
  },
  {
   "cell_type": "markdown",
   "metadata": {},
   "source": [
    "Calculate top 10 agencies with the most idealista images"
   ]
  },
  {
   "cell_type": "code",
   "execution_count": 144,
   "metadata": {},
   "outputs": [
    {
     "data": {
      "text/html": [
       "<div>\n",
       "<style scoped>\n",
       "    .dataframe tbody tr th:only-of-type {\n",
       "        vertical-align: middle;\n",
       "    }\n",
       "\n",
       "    .dataframe tbody tr th {\n",
       "        vertical-align: top;\n",
       "    }\n",
       "\n",
       "    .dataframe thead th {\n",
       "        text-align: right;\n",
       "    }\n",
       "</style>\n",
       "<table border=\"1\" class=\"dataframe\">\n",
       "  <thead>\n",
       "    <tr style=\"text-align: right;\">\n",
       "      <th></th>\n",
       "      <th>is_idealista</th>\n",
       "    </tr>\n",
       "    <tr>\n",
       "      <th>AgencyName</th>\n",
       "      <th></th>\n",
       "    </tr>\n",
       "  </thead>\n",
       "  <tbody>\n",
       "    <tr>\n",
       "      <th>MARGAMORA</th>\n",
       "      <td>157.0</td>\n",
       "    </tr>\n",
       "    <tr>\n",
       "      <th>MOLMAR GESTION INMOBILIARIA E</th>\n",
       "      <td>74.0</td>\n",
       "    </tr>\n",
       "    <tr>\n",
       "      <th>SG INMOBILIARIA</th>\n",
       "      <td>48.0</td>\n",
       "    </tr>\n",
       "    <tr>\n",
       "      <th>Ed Real Estate</th>\n",
       "      <td>44.0</td>\n",
       "    </tr>\n",
       "    <tr>\n",
       "      <th>RECAJ INMOBILIARIA</th>\n",
       "      <td>39.0</td>\n",
       "    </tr>\n",
       "    <tr>\n",
       "      <th>ADMINISTRACION DECASA</th>\n",
       "      <td>34.0</td>\n",
       "    </tr>\n",
       "    <tr>\n",
       "      <th>OUTLET DE VIVIENDAS</th>\n",
       "      <td>28.0</td>\n",
       "    </tr>\n",
       "    <tr>\n",
       "      <th>LAS MIL Y UNA CASAS</th>\n",
       "      <td>25.0</td>\n",
       "    </tr>\n",
       "    <tr>\n",
       "      <th>CG INMOBILIARIA</th>\n",
       "      <td>24.0</td>\n",
       "    </tr>\n",
       "    <tr>\n",
       "      <th>FINCAS GETXO</th>\n",
       "      <td>17.0</td>\n",
       "    </tr>\n",
       "  </tbody>\n",
       "</table>\n",
       "</div>"
      ],
      "text/plain": [
       "                               is_idealista\n",
       "AgencyName                                 \n",
       "MARGAMORA                             157.0\n",
       "MOLMAR GESTION INMOBILIARIA E          74.0\n",
       "SG INMOBILIARIA                        48.0\n",
       "Ed Real Estate                         44.0\n",
       "RECAJ INMOBILIARIA                     39.0\n",
       "ADMINISTRACION DECASA                  34.0\n",
       "OUTLET DE VIVIENDAS                    28.0\n",
       "LAS MIL Y UNA CASAS                    25.0\n",
       "CG INMOBILIARIA                        24.0\n",
       "FINCAS GETXO                           17.0"
      ]
     },
     "execution_count": 144,
     "metadata": {},
     "output_type": "execute_result"
    }
   ],
   "source": [
    "dfi = df[['AgencyName','is_idealista']] \\\n",
    "    .groupby(['AgencyName']) \\\n",
    "    .sum() \\\n",
    "    .sort_values(by='is_idealista',ascending=False)\n",
    "dfi.head(10)"
   ]
  },
  {
   "cell_type": "markdown",
   "metadata": {},
   "source": [
    "## 6.1.4 Watermarks: Visualize\n",
    "\n",
    "- Plot the evolution of number of processed images per day (with title font 18)\n",
    "- Plot the evolution of number of processed images per day and hour (x axis hours and a line for each day, title font 18)\n",
    "- Plot the evolution of number of processed images per day and client_type (in two graphs on the same plot)\n",
    "\n",
    "- Plot the average probability distribution of the probability text detected by client_type (hint: boxplot)\n",
    "- Plot the average ocupancy distribution of the ocupancy text detected by string_category (on the same graph)\n",
    "\n",
    "- Plot the top 25 agencies with better probability on average (by agency_name)\n",
    "\n",
    "- Create a heatmap on how they correlate text_probability and occupancy"
   ]
  },
  {
   "cell_type": "markdown",
   "metadata": {},
   "source": [
    "- Plot the evolution of number of processed images per day (with title font 18)\n"
   ]
  },
  {
   "cell_type": "code",
   "execution_count": 298,
   "metadata": {},
   "outputs": [],
   "source": [
    "df_p1 = df[['Date','ImageId']].groupby('Date').nunique()[['ImageId']]"
   ]
  },
  {
   "cell_type": "code",
   "execution_count": 299,
   "metadata": {},
   "outputs": [
    {
     "data": {
      "text/plain": [
       "Text(0.5, 1.0, 'Number of processed images per day\\n')"
      ]
     },
     "execution_count": 299,
     "metadata": {},
     "output_type": "execute_result"
    },
    {
     "data": {
      "image/png": "[encoded data removed]",
      "text/plain": [
       "<Figure size 1440x432 with 1 Axes>"
      ]
     },
     "metadata": {
      "needs_background": "light"
     },
     "output_type": "display_data"
    }
   ],
   "source": [
    "ax = df_p1.plot(figsize=(20,6))\n",
    "ax.set_title(\"Number of processed images per day\\n\", fontsize=18)"
   ]
  },
  {
   "cell_type": "markdown",
   "metadata": {},
   "source": [
    "- Plot the evolution of number of processed images per day and hour (x axis hours and a line for each day, title font 18)\n"
   ]
  },
  {
   "cell_type": "code",
   "execution_count": 301,
   "metadata": {},
   "outputs": [],
   "source": [
    "df_p2 = df[['Date','Hour','ImageId']] \\\n",
    "    .groupby(['Date','Hour']).nunique()[['ImageId']]"
   ]
  },
  {
   "cell_type": "code",
   "execution_count": 304,
   "metadata": {},
   "outputs": [
    {
     "data": {
      "text/plain": [
       "Text(0.5, 1.0, 'Number of processed images per day and hour\\n')"
      ]
     },
     "execution_count": 304,
     "metadata": {},
     "output_type": "execute_result"
    },
    {
     "data": {
      "image/png": "[encoded data removed]",
      "text/plain": [
       "<Figure size 1440x432 with 1 Axes>"
      ]
     },
     "metadata": {
      "needs_background": "light"
     },
     "output_type": "display_data"
    }
   ],
   "source": [
    "df_p2 = df[['Date','Hour','ImageId']] \\\n",
    "    .groupby(['Date','Hour']).nunique()[['ImageId']]\n",
    "\n",
    "ax = df_p2.unstack(0).plot(figsize=(20,6))\n",
    "ax.set_title(\"Number of processed images per day and hour\\n\", fontsize=18)"
   ]
  },
  {
   "cell_type": "markdown",
   "metadata": {},
   "source": [
    "- Plot the evolution of number of processed images per day and client_type (in two graphs on the same plot)\n"
   ]
  },
  {
   "cell_type": "code",
   "execution_count": 317,
   "metadata": {},
   "outputs": [
    {
     "data": {
      "text/plain": [
       "array([<matplotlib.axes._subplots.AxesSubplot object at 0x7ff874462d10>,\n",
       "       <matplotlib.axes._subplots.AxesSubplot object at 0x7ff7a1cd9f90>],\n",
       "      dtype=object)"
      ]
     },
     "execution_count": 317,
     "metadata": {},
     "output_type": "execute_result"
    },
    {
     "data": {
      "image/png": "[encoded data removed]",
      "text/plain": [
       "<Figure size 1440x576 with 2 Axes>"
      ]
     },
     "metadata": {
      "needs_background": "light"
     },
     "output_type": "display_data"
    }
   ],
   "source": [
    "df_p3 = df[['Date','Client_Type','ImageId']] \\\n",
    "    .groupby(['Date','Client_Type']).nunique().unstack()['ImageId']\n",
    "\n",
    "df_p3.plot(subplots=True, figsize=(20, 8))"
   ]
  },
  {
   "cell_type": "markdown",
   "metadata": {},
   "source": [
    "- Plot the average probability distribution of the probability text detected by client_type (hint: boxplot)\n"
   ]
  },
  {
   "cell_type": "code",
   "execution_count": 321,
   "metadata": {},
   "outputs": [
    {
     "data": {
      "text/plain": [
       "Text(0.5, 1.0, 'Average probability distribution of the probability text detected by client_type')"
      ]
     },
     "execution_count": 321,
     "metadata": {},
     "output_type": "execute_result"
    },
    {
     "data": {
      "image/png": "[encoded data removed]",
      "text/plain": [
       "<Figure size 1440x576 with 1 Axes>"
      ]
     },
     "metadata": {
      "needs_background": "light"
     },
     "output_type": "display_data"
    }
   ],
   "source": [
    "df_p4 = df[['Date','Client_Type','probability']] \\\n",
    "    .groupby(['Date','Client_Type']).mean().unstack()\n",
    "\n",
    "ax = df_p4.plot.box(figsize=(20, 8))\n",
    "ax.set_title(\n",
    "    \"Average probability distribution of the probability text detected by client_type\")"
   ]
  },
  {
   "cell_type": "markdown",
   "metadata": {},
   "source": [
    "- Plot the average ocupancy distribution of the occupancy text detected by string_category (on the same graph)\n",
    "\n"
   ]
  },
  {
   "cell_type": "code",
   "execution_count": 323,
   "metadata": {},
   "outputs": [
    {
     "data": {
      "text/plain": [
       "Text(0.5, 1.0, 'Average ocupancy distribution of the occupancy text detected by client_type')"
      ]
     },
     "execution_count": 323,
     "metadata": {},
     "output_type": "execute_result"
    },
    {
     "data": {
      "image/png": "[encoded data removed]",
      "text/plain": [
       "<Figure size 1440x576 with 1 Axes>"
      ]
     },
     "metadata": {
      "needs_background": "light"
     },
     "output_type": "display_data"
    }
   ],
   "source": [
    "df_p5 = df[['Date','string_category','occupancy']] \\\n",
    "    .groupby(['Date','string_category']).mean().unstack()\n",
    "\n",
    "ax = df_p5.plot.box(figsize=(20, 8))\n",
    "ax.set_title(\n",
    "    \"Average ocupancy distribution of the occupancy text detected by client_type\")"
   ]
  },
  {
   "cell_type": "markdown",
   "metadata": {},
   "source": [
    "- Plot the top 25 agencies with better probability on average (by agency_name)\n"
   ]
  },
  {
   "cell_type": "code",
   "execution_count": 333,
   "metadata": {},
   "outputs": [
    {
     "data": {
      "text/plain": [
       "<matplotlib.axes._subplots.AxesSubplot at 0x7ff7b4229550>"
      ]
     },
     "execution_count": 333,
     "metadata": {},
     "output_type": "execute_result"
    },
    {
     "data": {
      "image/png": "[encoded data removed]",
      "text/plain": [
       "<Figure size 1440x720 with 1 Axes>"
      ]
     },
     "metadata": {
      "needs_background": "light"
     },
     "output_type": "display_data"
    }
   ],
   "source": [
    "df_p6 = df[['AgencyName','probability']] \\\n",
    "    .groupby(['AgencyName']) \\\n",
    "    .mean() \\\n",
    "    .sort_values(by='probability', ascending=False)\n",
    "\n",
    "df_p6.head(25).plot(kind='barh', figsize=(20,10))"
   ]
  },
  {
   "cell_type": "markdown",
   "metadata": {},
   "source": [
    "- Create a heatmap on how they correlate text_probability, center_x, center_y and occupancy"
   ]
  },
  {
   "cell_type": "code",
   "execution_count": 332,
   "metadata": {},
   "outputs": [],
   "source": [
    "import seaborn as sns"
   ]
  },
  {
   "cell_type": "code",
   "execution_count": 334,
   "metadata": {},
   "outputs": [
    {
     "data": {
      "text/html": [
       "<div>\n",
       "<style scoped>\n",
       "    .dataframe tbody tr th:only-of-type {\n",
       "        vertical-align: middle;\n",
       "    }\n",
       "\n",
       "    .dataframe tbody tr th {\n",
       "        vertical-align: top;\n",
       "    }\n",
       "\n",
       "    .dataframe thead th {\n",
       "        text-align: right;\n",
       "    }\n",
       "</style>\n",
       "<table border=\"1\" class=\"dataframe\">\n",
       "  <thead>\n",
       "    <tr style=\"text-align: right;\">\n",
       "      <th></th>\n",
       "      <th>probability</th>\n",
       "      <th>occupancy</th>\n",
       "      <th>center_x</th>\n",
       "      <th>center_y</th>\n",
       "    </tr>\n",
       "  </thead>\n",
       "  <tbody>\n",
       "    <tr>\n",
       "      <th>probability</th>\n",
       "      <td>1.000000</td>\n",
       "      <td>0.014877</td>\n",
       "      <td>-0.005091</td>\n",
       "      <td>-0.034487</td>\n",
       "    </tr>\n",
       "    <tr>\n",
       "      <th>occupancy</th>\n",
       "      <td>0.014877</td>\n",
       "      <td>1.000000</td>\n",
       "      <td>0.016689</td>\n",
       "      <td>-0.001756</td>\n",
       "    </tr>\n",
       "    <tr>\n",
       "      <th>center_x</th>\n",
       "      <td>-0.005091</td>\n",
       "      <td>0.016689</td>\n",
       "      <td>1.000000</td>\n",
       "      <td>0.398448</td>\n",
       "    </tr>\n",
       "    <tr>\n",
       "      <th>center_y</th>\n",
       "      <td>-0.034487</td>\n",
       "      <td>-0.001756</td>\n",
       "      <td>0.398448</td>\n",
       "      <td>1.000000</td>\n",
       "    </tr>\n",
       "  </tbody>\n",
       "</table>\n",
       "</div>"
      ],
      "text/plain": [
       "             probability  occupancy  center_x  center_y\n",
       "probability     1.000000   0.014877 -0.005091 -0.034487\n",
       "occupancy       0.014877   1.000000  0.016689 -0.001756\n",
       "center_x       -0.005091   0.016689  1.000000  0.398448\n",
       "center_y       -0.034487  -0.001756  0.398448  1.000000"
      ]
     },
     "execution_count": 334,
     "metadata": {},
     "output_type": "execute_result"
    }
   ],
   "source": [
    "df_p7 = df[['probability','occupancy','center_x','center_y']].corr()\n",
    "df_p7"
   ]
  },
  {
   "cell_type": "code",
   "execution_count": 335,
   "metadata": {},
   "outputs": [
    {
     "data": {
      "text/plain": [
       "(4.0, 0.0)"
      ]
     },
     "execution_count": 335,
     "metadata": {},
     "output_type": "execute_result"
    },
    {
     "data": {
      "image/png": "[encoded data removed]",
      "text/plain": [
       "<Figure size 432x288 with 2 Axes>"
      ]
     },
     "metadata": {
      "needs_background": "light"
     },
     "output_type": "display_data"
    }
   ],
   "source": [
    "ax = sns.heatmap(df_p7, annot=True)\n",
    "b, t = ax.get_ylim() # discover the values for bottom and top\n",
    "b += 0.5 # Add 0.5 to the bottom\n",
    "t -= 0.5 # Subtract 0.5 from the top\n",
    "ax.set_ylim(b,t)"
   ]
  }
 ],
 "metadata": {
  "kernelspec": {
   "display_name": "Python 3",
   "language": "python",
   "name": "python3"
  },
  "language_info": {
   "codemirror_mode": {
    "name": "ipython",
    "version": 3
   },
   "file_extension": ".py",
   "mimetype": "text/x-python",
   "name": "python",
   "nbconvert_exporter": "python",
   "pygments_lexer": "ipython3",
   "version": "3.7.4"
  }
 },
 "nbformat": 4,
 "nbformat_minor": 2
}
