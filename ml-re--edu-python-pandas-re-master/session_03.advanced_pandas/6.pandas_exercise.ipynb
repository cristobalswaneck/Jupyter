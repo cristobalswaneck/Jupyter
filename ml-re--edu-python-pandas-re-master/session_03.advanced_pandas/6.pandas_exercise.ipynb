{
 "cells": [
  {
   "cell_type": "markdown",
   "metadata": {},
   "source": [
    "# 6. Pandas Exercise"
   ]
  },
  {
   "cell_type": "code",
   "execution_count": 1,
   "metadata": {},
   "outputs": [],
   "source": [
    "import pandas as pd\n",
    "import numpy as np\n",
    "import datetime as dt"
   ]
  },
  {
   "cell_type": "code",
   "execution_count": 2,
   "metadata": {},
   "outputs": [],
   "source": [
    "%matplotlib inline"
   ]
  },
  {
   "cell_type": "markdown",
   "metadata": {},
   "source": [
    "## 6.1. Watermarks\n"
   ]
  },
  {
   "cell_type": "markdown",
   "metadata": {},
   "source": [
    "## 6.1.1 Watermarks: Manage the dataframe\n"
   ]
  },
  {
   "cell_type": "markdown",
   "metadata": {},
   "source": [
    "Read the pickle \"df_wt_text.pkl\" in the data folder into a dataframe name df_wt_text"
   ]
  },
  {
   "cell_type": "code",
   "execution_count": 3,
   "metadata": {},
   "outputs": [
    {
     "name": "stdout",
     "output_type": "stream",
     "text": [
      "df_wt_text.pkl\r\n"
     ]
    }
   ],
   "source": [
    "%ls ./data/exercise"
   ]
  },
  {
   "cell_type": "code",
   "execution_count": 6,
   "metadata": {},
   "outputs": [],
   "source": [
    "#DO IT HERE"
   ]
  },
  {
   "cell_type": "code",
   "execution_count": 5,
   "metadata": {},
   "outputs": [
    {
     "data": {
      "text/plain": [
       "(254951, 22)"
      ]
     },
     "execution_count": 5,
     "metadata": {},
     "output_type": "execute_result"
    }
   ],
   "source": [
    "df_wt_text.shape"
   ]
  },
  {
   "cell_type": "markdown",
   "metadata": {},
   "source": [
    "Subset the dataframe with the following columns\n",
    "\n",
    "- ExecutionDate : Datetime : timestamp of the service response\n",
    "- Client_Type : Category : Professional or Particular client\n",
    "- ClientId : Integer : id for the client\n",
    "- PropertyId : Integer : Ads property Id\n",
    "- AgencyName : String : Name of the Agency (one-to-one with ClientId)\n",
    "- Id : Integer : Image identifier\n",
    "- Detected_Info : Dict : Response from the text detection service\n",
    "- Url : String : URL of the image\n",
    "\n",
    "Pick only the first 100 thousand registers for better performance"
   ]
  },
  {
   "cell_type": "code",
   "execution_count": 11,
   "metadata": {},
   "outputs": [],
   "source": [
    "#DO IT HERE"
   ]
  },
  {
   "cell_type": "code",
   "execution_count": 8,
   "metadata": {},
   "outputs": [
    {
     "data": {
      "text/html": [
       "<div>\n",
       "<style scoped>\n",
       "    .dataframe tbody tr th:only-of-type {\n",
       "        vertical-align: middle;\n",
       "    }\n",
       "\n",
       "    .dataframe tbody tr th {\n",
       "        vertical-align: top;\n",
       "    }\n",
       "\n",
       "    .dataframe thead th {\n",
       "        text-align: right;\n",
       "    }\n",
       "</style>\n",
       "<table border=\"1\" class=\"dataframe\">\n",
       "  <thead>\n",
       "    <tr style=\"text-align: right;\">\n",
       "      <th></th>\n",
       "      <th>ExecutionDate</th>\n",
       "      <th>ClientId</th>\n",
       "      <th>Client_Type</th>\n",
       "      <th>PropertyId</th>\n",
       "      <th>AgencyName</th>\n",
       "      <th>Id</th>\n",
       "      <th>Detected_Info</th>\n",
       "      <th>Url</th>\n",
       "    </tr>\n",
       "  </thead>\n",
       "  <tbody>\n",
       "    <tr>\n",
       "      <th>0</th>\n",
       "      <td>2020-03-17 05:30:02</td>\n",
       "      <td>900040000042</td>\n",
       "      <td>Profesional</td>\n",
       "      <td>20224813</td>\n",
       "      <td>BARIN</td>\n",
       "      <td>567029556</td>\n",
       "      <td>[{'text': 'shotoNmIplte', 'centroid': [246, 83...</td>\n",
       "      <td>https://images.inmofactory.com/inmofactory/doc...</td>\n",
       "    </tr>\n",
       "    <tr>\n",
       "      <th>1</th>\n",
       "      <td>2020-03-17 05:30:02</td>\n",
       "      <td>9202762585543</td>\n",
       "      <td>Profesional</td>\n",
       "      <td>151261112</td>\n",
       "      <td>Haya Real Estate</td>\n",
       "      <td>567017990</td>\n",
       "      <td>[{'text': '28', 'centroid': [715, 396], 'occup...</td>\n",
       "      <td>https://d.fotocasa.es/anuncio/2019/05/20/15126...</td>\n",
       "    </tr>\n",
       "  </tbody>\n",
       "</table>\n",
       "</div>"
      ],
      "text/plain": [
       "        ExecutionDate       ClientId  Client_Type PropertyId  \\\n",
       "0 2020-03-17 05:30:02   900040000042  Profesional   20224813   \n",
       "1 2020-03-17 05:30:02  9202762585543  Profesional  151261112   \n",
       "\n",
       "         AgencyName         Id  \\\n",
       "0             BARIN  567029556   \n",
       "1  Haya Real Estate  567017990   \n",
       "\n",
       "                                       Detected_Info  \\\n",
       "0  [{'text': 'shotoNmIplte', 'centroid': [246, 83...   \n",
       "1  [{'text': '28', 'centroid': [715, 396], 'occup...   \n",
       "\n",
       "                                                 Url  \n",
       "0  https://images.inmofactory.com/inmofactory/doc...  \n",
       "1  https://d.fotocasa.es/anuncio/2019/05/20/15126...  "
      ]
     },
     "execution_count": 8,
     "metadata": {},
     "output_type": "execute_result"
    }
   ],
   "source": [
    "df_wt_text.head(2)"
   ]
  },
  {
   "cell_type": "markdown",
   "metadata": {},
   "source": [
    "Rename the column 'Id' to 'ImageId'"
   ]
  },
  {
   "cell_type": "code",
   "execution_count": 10,
   "metadata": {},
   "outputs": [],
   "source": [
    "#DO IT HERE"
   ]
  },
  {
   "cell_type": "code",
   "execution_count": 23,
   "metadata": {},
   "outputs": [
    {
     "data": {
      "text/plain": [
       "Index(['ExecutionDate', 'ClientId', 'Client_Type', 'PropertyId', 'AgencyName',\n",
       "       'ImageId', 'Detected_Info', 'Url', 'Date', 'Hour'],\n",
       "      dtype='object')"
      ]
     },
     "execution_count": 23,
     "metadata": {},
     "output_type": "execute_result"
    }
   ],
   "source": [
    "df_wt_text.columns"
   ]
  },
  {
   "cell_type": "markdown",
   "metadata": {},
   "source": [
    "Filter images where there is not Detected_Info and keep only the ones that have"
   ]
  },
  {
   "cell_type": "code",
   "execution_count": 15,
   "metadata": {},
   "outputs": [],
   "source": [
    "#DO IT HERE"
   ]
  },
  {
   "cell_type": "code",
   "execution_count": 14,
   "metadata": {},
   "outputs": [
    {
     "data": {
      "text/html": [
       "<div>\n",
       "<style scoped>\n",
       "    .dataframe tbody tr th:only-of-type {\n",
       "        vertical-align: middle;\n",
       "    }\n",
       "\n",
       "    .dataframe tbody tr th {\n",
       "        vertical-align: top;\n",
       "    }\n",
       "\n",
       "    .dataframe thead th {\n",
       "        text-align: right;\n",
       "    }\n",
       "</style>\n",
       "<table border=\"1\" class=\"dataframe\">\n",
       "  <thead>\n",
       "    <tr style=\"text-align: right;\">\n",
       "      <th></th>\n",
       "      <th>ExecutionDate</th>\n",
       "      <th>ClientId</th>\n",
       "      <th>Client_Type</th>\n",
       "      <th>PropertyId</th>\n",
       "      <th>AgencyName</th>\n",
       "      <th>Id</th>\n",
       "      <th>Detected_Info</th>\n",
       "      <th>Url</th>\n",
       "    </tr>\n",
       "  </thead>\n",
       "  <tbody>\n",
       "    <tr>\n",
       "      <th>0</th>\n",
       "      <td>2020-03-17 05:30:02</td>\n",
       "      <td>900040000042</td>\n",
       "      <td>Profesional</td>\n",
       "      <td>20224813</td>\n",
       "      <td>BARIN</td>\n",
       "      <td>567029556</td>\n",
       "      <td>[{'text': 'shotoNmIplte', 'centroid': [246, 83...</td>\n",
       "      <td>https://images.inmofactory.com/inmofactory/doc...</td>\n",
       "    </tr>\n",
       "    <tr>\n",
       "      <th>1</th>\n",
       "      <td>2020-03-17 05:30:02</td>\n",
       "      <td>9202762585543</td>\n",
       "      <td>Profesional</td>\n",
       "      <td>151261112</td>\n",
       "      <td>Haya Real Estate</td>\n",
       "      <td>567017990</td>\n",
       "      <td>[{'text': '28', 'centroid': [715, 396], 'occup...</td>\n",
       "      <td>https://d.fotocasa.es/anuncio/2019/05/20/15126...</td>\n",
       "    </tr>\n",
       "    <tr>\n",
       "      <th>4</th>\n",
       "      <td>2020-03-17 05:30:02</td>\n",
       "      <td>9202753963841</td>\n",
       "      <td>Profesional</td>\n",
       "      <td>154417275</td>\n",
       "      <td>Haya Real Estate</td>\n",
       "      <td>567017338</td>\n",
       "      <td>[{'text': 'soamnt', 'centroid': [1096, 691], '...</td>\n",
       "      <td>https://d.fotocasa.es/anuncio/2020/02/03/15441...</td>\n",
       "    </tr>\n",
       "    <tr>\n",
       "      <th>6</th>\n",
       "      <td>2020-03-17 05:30:02</td>\n",
       "      <td>9202759449696</td>\n",
       "      <td>Profesional</td>\n",
       "      <td>20700195</td>\n",
       "      <td>ENGEL &amp; VÖLKERS</td>\n",
       "      <td>567026132</td>\n",
       "      <td>[{'text': 'GVOLKERS', 'centroid': [462, 212], ...</td>\n",
       "      <td>https://d.inmofactory.com/1/110618/20700195/29...</td>\n",
       "    </tr>\n",
       "    <tr>\n",
       "      <th>7</th>\n",
       "      <td>2020-03-17 05:30:02</td>\n",
       "      <td>9202753411770</td>\n",
       "      <td>Profesional</td>\n",
       "      <td>20234724</td>\n",
       "      <td>VIVIZ COMERCIALIZADORA, S.L.</td>\n",
       "      <td>567030989</td>\n",
       "      <td>[{'text': 'ViViz.', 'centroid': [517, 196], 'o...</td>\n",
       "      <td>https://d.inmofactory.com/1/87581/20234724/295...</td>\n",
       "    </tr>\n",
       "  </tbody>\n",
       "</table>\n",
       "</div>"
      ],
      "text/plain": [
       "        ExecutionDate       ClientId  Client_Type PropertyId  \\\n",
       "0 2020-03-17 05:30:02   900040000042  Profesional   20224813   \n",
       "1 2020-03-17 05:30:02  9202762585543  Profesional  151261112   \n",
       "4 2020-03-17 05:30:02  9202753963841  Profesional  154417275   \n",
       "6 2020-03-17 05:30:02  9202759449696  Profesional   20700195   \n",
       "7 2020-03-17 05:30:02  9202753411770  Profesional   20234724   \n",
       "\n",
       "                     AgencyName         Id  \\\n",
       "0                         BARIN  567029556   \n",
       "1              Haya Real Estate  567017990   \n",
       "4              Haya Real Estate  567017338   \n",
       "6               ENGEL & VÖLKERS  567026132   \n",
       "7  VIVIZ COMERCIALIZADORA, S.L.  567030989   \n",
       "\n",
       "                                       Detected_Info  \\\n",
       "0  [{'text': 'shotoNmIplte', 'centroid': [246, 83...   \n",
       "1  [{'text': '28', 'centroid': [715, 396], 'occup...   \n",
       "4  [{'text': 'soamnt', 'centroid': [1096, 691], '...   \n",
       "6  [{'text': 'GVOLKERS', 'centroid': [462, 212], ...   \n",
       "7  [{'text': 'ViViz.', 'centroid': [517, 196], 'o...   \n",
       "\n",
       "                                                 Url  \n",
       "0  https://images.inmofactory.com/inmofactory/doc...  \n",
       "1  https://d.fotocasa.es/anuncio/2019/05/20/15126...  \n",
       "4  https://d.fotocasa.es/anuncio/2020/02/03/15441...  \n",
       "6  https://d.inmofactory.com/1/110618/20700195/29...  \n",
       "7  https://d.inmofactory.com/1/87581/20234724/295...  "
      ]
     },
     "execution_count": 14,
     "metadata": {},
     "output_type": "execute_result"
    }
   ],
   "source": [
    "df_wt_text.head()"
   ]
  },
  {
   "cell_type": "markdown",
   "metadata": {},
   "source": [
    "Make sure that all data types are correct and transform them if you need"
   ]
  },
  {
   "cell_type": "code",
   "execution_count": null,
   "metadata": {},
   "outputs": [],
   "source": [
    "#DO IT HERE"
   ]
  },
  {
   "cell_type": "code",
   "execution_count": 17,
   "metadata": {},
   "outputs": [
    {
     "data": {
      "text/plain": [
       "ExecutionDate    datetime64[ns]\n",
       "ClientId                  int64\n",
       "Client_Type            category\n",
       "PropertyId                int64\n",
       "AgencyName               string\n",
       "Id                        int64\n",
       "Detected_Info            object\n",
       "Url                      string\n",
       "dtype: object"
      ]
     },
     "execution_count": 17,
     "metadata": {},
     "output_type": "execute_result"
    }
   ],
   "source": [
    "df_wt_text.dtypes"
   ]
  },
  {
   "cell_type": "markdown",
   "metadata": {},
   "source": [
    "Extract Date as 'yyyy-mm-dd' and Hour as 'MM:SS' from ExecutionDate"
   ]
  },
  {
   "cell_type": "code",
   "execution_count": 18,
   "metadata": {},
   "outputs": [],
   "source": [
    "#DO IT HERE"
   ]
  },
  {
   "cell_type": "markdown",
   "metadata": {},
   "source": [
    "Parse Information provided by the text detection service 'Detected_Info' and convert it into columns.\n",
    "\n",
    "You want an entry for each text: p.e. ImageId, text, centroid_x, centroid_y...\n",
    "\n",
    "```\n",
    "[{\n",
    "   'text': '28',\n",
    "   'centroid': [715, 396],\n",
    "   'occupancy': 0.0017183883101851852,\n",
    "   'string_category': 'numbers',\n",
    "   'probability': 0.9938117861747742\n",
    " },\n",
    " {\n",
    "   'text': '28',\n",
    "   'centroid': [715, 396],\n",
    "   'occupancy': 0.0017183883101851852,\n",
    "   'string_category': 'numbers',\n",
    "   'probability': 0.9938117861747742\n",
    " }] \n",
    "```\n",
    "\n",
    "Store the results into a dataframe called \"df_wt_info_res\"\n",
    "\n",
    "note: in the process transform the text to lowercase"
   ]
  },
  {
   "cell_type": "code",
   "execution_count": 24,
   "metadata": {},
   "outputs": [],
   "source": [
    "#DO IT HERE"
   ]
  },
  {
   "cell_type": "code",
   "execution_count": 26,
   "metadata": {},
   "outputs": [
    {
     "data": {
      "text/html": [
       "<div>\n",
       "<style scoped>\n",
       "    .dataframe tbody tr th:only-of-type {\n",
       "        vertical-align: middle;\n",
       "    }\n",
       "\n",
       "    .dataframe tbody tr th {\n",
       "        vertical-align: top;\n",
       "    }\n",
       "\n",
       "    .dataframe thead th {\n",
       "        text-align: right;\n",
       "    }\n",
       "</style>\n",
       "<table border=\"1\" class=\"dataframe\">\n",
       "  <thead>\n",
       "    <tr style=\"text-align: right;\">\n",
       "      <th></th>\n",
       "      <th>ImageId</th>\n",
       "      <th>Detected_Info</th>\n",
       "      <th>text</th>\n",
       "      <th>string_category</th>\n",
       "      <th>occupancy</th>\n",
       "      <th>probability</th>\n",
       "      <th>centroid</th>\n",
       "    </tr>\n",
       "  </thead>\n",
       "  <tbody>\n",
       "    <tr>\n",
       "      <th>0</th>\n",
       "      <td>567029556</td>\n",
       "      <td>{'text': 'shotoNmIplte', 'centroid': [246, 830...</td>\n",
       "      <td>shotonmiplte</td>\n",
       "      <td>letters</td>\n",
       "      <td>0.004013</td>\n",
       "      <td>3.653873e-04</td>\n",
       "      <td>[246, 830]</td>\n",
       "    </tr>\n",
       "    <tr>\n",
       "      <th>1</th>\n",
       "      <td>567017990</td>\n",
       "      <td>{'text': '28', 'centroid': [715, 396], 'occupa...</td>\n",
       "      <td>28</td>\n",
       "      <td>numbers</td>\n",
       "      <td>0.001718</td>\n",
       "      <td>9.938118e-01</td>\n",
       "      <td>[715, 396]</td>\n",
       "    </tr>\n",
       "    <tr>\n",
       "      <th>2</th>\n",
       "      <td>567017338</td>\n",
       "      <td>{'text': 'soamnt', 'centroid': [1096, 691], 'o...</td>\n",
       "      <td>soamnt</td>\n",
       "      <td>letters</td>\n",
       "      <td>0.024159</td>\n",
       "      <td>7.494296e-13</td>\n",
       "      <td>[1096, 691]</td>\n",
       "    </tr>\n",
       "    <tr>\n",
       "      <th>3</th>\n",
       "      <td>567026132</td>\n",
       "      <td>{'text': 'GVOLKERS', 'centroid': [462, 212], '...</td>\n",
       "      <td>gvolkers</td>\n",
       "      <td>letters</td>\n",
       "      <td>0.058802</td>\n",
       "      <td>2.901020e-02</td>\n",
       "      <td>[462, 212]</td>\n",
       "    </tr>\n",
       "    <tr>\n",
       "      <th>4</th>\n",
       "      <td>567030989</td>\n",
       "      <td>{'text': 'ViViz.', 'centroid': [517, 196], 'oc...</td>\n",
       "      <td>viviz.</td>\n",
       "      <td>letters</td>\n",
       "      <td>0.057358</td>\n",
       "      <td>2.030919e-02</td>\n",
       "      <td>[517, 196]</td>\n",
       "    </tr>\n",
       "  </tbody>\n",
       "</table>\n",
       "</div>"
      ],
      "text/plain": [
       "     ImageId                                      Detected_Info          text  \\\n",
       "0  567029556  {'text': 'shotoNmIplte', 'centroid': [246, 830...  shotonmiplte   \n",
       "1  567017990  {'text': '28', 'centroid': [715, 396], 'occupa...            28   \n",
       "2  567017338  {'text': 'soamnt', 'centroid': [1096, 691], 'o...        soamnt   \n",
       "3  567026132  {'text': 'GVOLKERS', 'centroid': [462, 212], '...      gvolkers   \n",
       "4  567030989  {'text': 'ViViz.', 'centroid': [517, 196], 'oc...        viviz.   \n",
       "\n",
       "  string_category  occupancy   probability     centroid  \n",
       "0         letters   0.004013  3.653873e-04   [246, 830]  \n",
       "1         numbers   0.001718  9.938118e-01   [715, 396]  \n",
       "2         letters   0.024159  7.494296e-13  [1096, 691]  \n",
       "3         letters   0.058802  2.901020e-02   [462, 212]  \n",
       "4         letters   0.057358  2.030919e-02   [517, 196]  "
      ]
     },
     "execution_count": 26,
     "metadata": {},
     "output_type": "execute_result"
    }
   ],
   "source": [
    "df_wt_info_res.head()"
   ]
  },
  {
   "cell_type": "markdown",
   "metadata": {},
   "source": [
    "Explode the dataframe to convert centroid list into center_x and center_y columns"
   ]
  },
  {
   "cell_type": "code",
   "execution_count": 31,
   "metadata": {},
   "outputs": [],
   "source": [
    "#DO IT HERE"
   ]
  },
  {
   "cell_type": "code",
   "execution_count": 28,
   "metadata": {},
   "outputs": [
    {
     "data": {
      "text/html": [
       "<div>\n",
       "<style scoped>\n",
       "    .dataframe tbody tr th:only-of-type {\n",
       "        vertical-align: middle;\n",
       "    }\n",
       "\n",
       "    .dataframe tbody tr th {\n",
       "        vertical-align: top;\n",
       "    }\n",
       "\n",
       "    .dataframe thead th {\n",
       "        text-align: right;\n",
       "    }\n",
       "</style>\n",
       "<table border=\"1\" class=\"dataframe\">\n",
       "  <thead>\n",
       "    <tr style=\"text-align: right;\">\n",
       "      <th></th>\n",
       "      <th>center_x</th>\n",
       "      <th>center_y</th>\n",
       "    </tr>\n",
       "  </thead>\n",
       "  <tbody>\n",
       "    <tr>\n",
       "      <th>0</th>\n",
       "      <td>246</td>\n",
       "      <td>830</td>\n",
       "    </tr>\n",
       "    <tr>\n",
       "      <th>1</th>\n",
       "      <td>715</td>\n",
       "      <td>396</td>\n",
       "    </tr>\n",
       "  </tbody>\n",
       "</table>\n",
       "</div>"
      ],
      "text/plain": [
       "   center_x  center_y\n",
       "0       246       830\n",
       "1       715       396"
      ]
     },
     "execution_count": 28,
     "metadata": {},
     "output_type": "execute_result"
    }
   ],
   "source": [
    "df_centroid.head(2)"
   ]
  },
  {
   "cell_type": "code",
   "execution_count": 32,
   "metadata": {},
   "outputs": [],
   "source": [
    "#DO IT HERE"
   ]
  },
  {
   "cell_type": "code",
   "execution_count": 30,
   "metadata": {},
   "outputs": [
    {
     "data": {
      "text/plain": [
       "Index(['ImageId', 'Detected_Info', 'text', 'string_category', 'occupancy',\n",
       "       'probability', 'center_x', 'center_y'],\n",
       "      dtype='object')"
      ]
     },
     "execution_count": 30,
     "metadata": {},
     "output_type": "execute_result"
    }
   ],
   "source": [
    "df_wt_info_res.columns"
   ]
  },
  {
   "cell_type": "markdown",
   "metadata": {},
   "source": [
    "Eliminate the Detected_Info column, is no loger useful"
   ]
  },
  {
   "cell_type": "code",
   "execution_count": null,
   "metadata": {},
   "outputs": [],
   "source": [
    "#DO IT HERE"
   ]
  },
  {
   "cell_type": "markdown",
   "metadata": {},
   "source": [
    "Merge the extracted data with the original dataframe into a dataframe named df\n",
    "\n",
    "- df_wt_text : orginal data\n",
    "- df_wt_info_res : extracted data"
   ]
  },
  {
   "cell_type": "code",
   "execution_count": 33,
   "metadata": {},
   "outputs": [],
   "source": [
    "#DO IT HERE"
   ]
  },
  {
   "cell_type": "code",
   "execution_count": 35,
   "metadata": {},
   "outputs": [
    {
     "data": {
      "text/html": [
       "<div>\n",
       "<style scoped>\n",
       "    .dataframe tbody tr th:only-of-type {\n",
       "        vertical-align: middle;\n",
       "    }\n",
       "\n",
       "    .dataframe tbody tr th {\n",
       "        vertical-align: top;\n",
       "    }\n",
       "\n",
       "    .dataframe thead th {\n",
       "        text-align: right;\n",
       "    }\n",
       "</style>\n",
       "<table border=\"1\" class=\"dataframe\">\n",
       "  <thead>\n",
       "    <tr style=\"text-align: right;\">\n",
       "      <th></th>\n",
       "      <th>ImageId</th>\n",
       "      <th>text</th>\n",
       "      <th>string_category</th>\n",
       "      <th>occupancy</th>\n",
       "      <th>probability</th>\n",
       "      <th>center_x</th>\n",
       "      <th>center_y</th>\n",
       "      <th>ExecutionDate</th>\n",
       "      <th>ClientId</th>\n",
       "      <th>Client_Type</th>\n",
       "      <th>PropertyId</th>\n",
       "      <th>AgencyName</th>\n",
       "      <th>Url</th>\n",
       "      <th>Date</th>\n",
       "      <th>Hour</th>\n",
       "    </tr>\n",
       "  </thead>\n",
       "  <tbody>\n",
       "    <tr>\n",
       "      <th>0</th>\n",
       "      <td>567029556</td>\n",
       "      <td>shotonmiplte</td>\n",
       "      <td>letters</td>\n",
       "      <td>0.004013</td>\n",
       "      <td>3.653873e-04</td>\n",
       "      <td>246</td>\n",
       "      <td>830</td>\n",
       "      <td>2020-03-17 05:30:02</td>\n",
       "      <td>900040000042</td>\n",
       "      <td>Profesional</td>\n",
       "      <td>20224813</td>\n",
       "      <td>BARIN</td>\n",
       "      <td>https://images.inmofactory.com/inmofactory/doc...</td>\n",
       "      <td>2020-03-17</td>\n",
       "      <td>05</td>\n",
       "    </tr>\n",
       "    <tr>\n",
       "      <th>1</th>\n",
       "      <td>567017990</td>\n",
       "      <td>28</td>\n",
       "      <td>numbers</td>\n",
       "      <td>0.001718</td>\n",
       "      <td>9.938118e-01</td>\n",
       "      <td>715</td>\n",
       "      <td>396</td>\n",
       "      <td>2020-03-17 05:30:02</td>\n",
       "      <td>9202762585543</td>\n",
       "      <td>Profesional</td>\n",
       "      <td>151261112</td>\n",
       "      <td>Haya Real Estate</td>\n",
       "      <td>https://d.fotocasa.es/anuncio/2019/05/20/15126...</td>\n",
       "      <td>2020-03-17</td>\n",
       "      <td>05</td>\n",
       "    </tr>\n",
       "    <tr>\n",
       "      <th>2</th>\n",
       "      <td>567017338</td>\n",
       "      <td>soamnt</td>\n",
       "      <td>letters</td>\n",
       "      <td>0.024159</td>\n",
       "      <td>7.494296e-13</td>\n",
       "      <td>1096</td>\n",
       "      <td>691</td>\n",
       "      <td>2020-03-17 05:30:02</td>\n",
       "      <td>9202753963841</td>\n",
       "      <td>Profesional</td>\n",
       "      <td>154417275</td>\n",
       "      <td>Haya Real Estate</td>\n",
       "      <td>https://d.fotocasa.es/anuncio/2020/02/03/15441...</td>\n",
       "      <td>2020-03-17</td>\n",
       "      <td>05</td>\n",
       "    </tr>\n",
       "    <tr>\n",
       "      <th>3</th>\n",
       "      <td>567026132</td>\n",
       "      <td>gvolkers</td>\n",
       "      <td>letters</td>\n",
       "      <td>0.058802</td>\n",
       "      <td>2.901020e-02</td>\n",
       "      <td>462</td>\n",
       "      <td>212</td>\n",
       "      <td>2020-03-17 05:30:02</td>\n",
       "      <td>9202759449696</td>\n",
       "      <td>Profesional</td>\n",
       "      <td>20700195</td>\n",
       "      <td>ENGEL &amp; VÖLKERS</td>\n",
       "      <td>https://d.inmofactory.com/1/110618/20700195/29...</td>\n",
       "      <td>2020-03-17</td>\n",
       "      <td>05</td>\n",
       "    </tr>\n",
       "    <tr>\n",
       "      <th>4</th>\n",
       "      <td>567030989</td>\n",
       "      <td>viviz.</td>\n",
       "      <td>letters</td>\n",
       "      <td>0.057358</td>\n",
       "      <td>2.030919e-02</td>\n",
       "      <td>517</td>\n",
       "      <td>196</td>\n",
       "      <td>2020-03-17 05:30:02</td>\n",
       "      <td>9202753411770</td>\n",
       "      <td>Profesional</td>\n",
       "      <td>20234724</td>\n",
       "      <td>VIVIZ COMERCIALIZADORA, S.L.</td>\n",
       "      <td>https://d.inmofactory.com/1/87581/20234724/295...</td>\n",
       "      <td>2020-03-17</td>\n",
       "      <td>05</td>\n",
       "    </tr>\n",
       "  </tbody>\n",
       "</table>\n",
       "</div>"
      ],
      "text/plain": [
       "     ImageId          text string_category  occupancy   probability  center_x  \\\n",
       "0  567029556  shotonmiplte         letters   0.004013  3.653873e-04       246   \n",
       "1  567017990            28         numbers   0.001718  9.938118e-01       715   \n",
       "2  567017338        soamnt         letters   0.024159  7.494296e-13      1096   \n",
       "3  567026132      gvolkers         letters   0.058802  2.901020e-02       462   \n",
       "4  567030989        viviz.         letters   0.057358  2.030919e-02       517   \n",
       "\n",
       "   center_y       ExecutionDate       ClientId  Client_Type  PropertyId  \\\n",
       "0       830 2020-03-17 05:30:02   900040000042  Profesional    20224813   \n",
       "1       396 2020-03-17 05:30:02  9202762585543  Profesional   151261112   \n",
       "2       691 2020-03-17 05:30:02  9202753963841  Profesional   154417275   \n",
       "3       212 2020-03-17 05:30:02  9202759449696  Profesional    20700195   \n",
       "4       196 2020-03-17 05:30:02  9202753411770  Profesional    20234724   \n",
       "\n",
       "                     AgencyName  \\\n",
       "0                         BARIN   \n",
       "1              Haya Real Estate   \n",
       "2              Haya Real Estate   \n",
       "3               ENGEL & VÖLKERS   \n",
       "4  VIVIZ COMERCIALIZADORA, S.L.   \n",
       "\n",
       "                                                 Url        Date Hour  \n",
       "0  https://images.inmofactory.com/inmofactory/doc...  2020-03-17   05  \n",
       "1  https://d.fotocasa.es/anuncio/2019/05/20/15126...  2020-03-17   05  \n",
       "2  https://d.fotocasa.es/anuncio/2020/02/03/15441...  2020-03-17   05  \n",
       "3  https://d.inmofactory.com/1/110618/20700195/29...  2020-03-17   05  \n",
       "4  https://d.inmofactory.com/1/87581/20234724/295...  2020-03-17   05  "
      ]
     },
     "execution_count": 35,
     "metadata": {},
     "output_type": "execute_result"
    }
   ],
   "source": [
    "df.head()"
   ]
  },
  {
   "cell_type": "markdown",
   "metadata": {},
   "source": [
    "## 6.1.2 Watermarks: Inspect the results\n",
    "\n",
    "- Describe all the variables\n",
    "\n",
    "- Calculate number of texts and unique images by string_category and client type\n",
    "- Calculate number of texts and unique images by agency_name\n",
    "\n",
    "- Calculate probability of text detection by string_category and client type per image (mean and std)\n",
    "\n",
    "- Calculate occupancy by string_category per property (mean and std)\n",
    "\n",
    "- Get the top 10 agencies with better probability on average (by agency_name)\n",
    "\n",
    "- Get the top 10 text detected with better probability on average by string_category"
   ]
  },
  {
   "cell_type": "markdown",
   "metadata": {},
   "source": [
    "- Describe all the variables"
   ]
  },
  {
   "cell_type": "code",
   "execution_count": 36,
   "metadata": {},
   "outputs": [],
   "source": [
    "#DO IT HERE"
   ]
  },
  {
   "cell_type": "markdown",
   "metadata": {},
   "source": [
    "- Calculate number of texts and unique images by string_category and client type\n",
    "- Calculate number of texts and unique images by agency_name"
   ]
  },
  {
   "cell_type": "code",
   "execution_count": 38,
   "metadata": {},
   "outputs": [],
   "source": [
    "#DO IT HERE"
   ]
  },
  {
   "cell_type": "code",
   "execution_count": 43,
   "metadata": {},
   "outputs": [
    {
     "data": {
      "text/html": [
       "<div>\n",
       "<style scoped>\n",
       "    .dataframe tbody tr th:only-of-type {\n",
       "        vertical-align: middle;\n",
       "    }\n",
       "\n",
       "    .dataframe tbody tr th {\n",
       "        vertical-align: top;\n",
       "    }\n",
       "\n",
       "    .dataframe thead tr th {\n",
       "        text-align: left;\n",
       "    }\n",
       "\n",
       "    .dataframe thead tr:last-of-type th {\n",
       "        text-align: right;\n",
       "    }\n",
       "</style>\n",
       "<table border=\"1\" class=\"dataframe\">\n",
       "  <thead>\n",
       "    <tr>\n",
       "      <th></th>\n",
       "      <th colspan=\"2\" halign=\"left\">num_texts</th>\n",
       "      <th colspan=\"2\" halign=\"left\">num_images</th>\n",
       "    </tr>\n",
       "    <tr>\n",
       "      <th>Client_Type</th>\n",
       "      <th>Particular</th>\n",
       "      <th>Profesional</th>\n",
       "      <th>Particular</th>\n",
       "      <th>Profesional</th>\n",
       "    </tr>\n",
       "    <tr>\n",
       "      <th>string_category</th>\n",
       "      <th></th>\n",
       "      <th></th>\n",
       "      <th></th>\n",
       "      <th></th>\n",
       "    </tr>\n",
       "  </thead>\n",
       "  <tbody>\n",
       "    <tr>\n",
       "      <th>letters</th>\n",
       "      <td>403</td>\n",
       "      <td>64835</td>\n",
       "      <td>251</td>\n",
       "      <td>30852</td>\n",
       "    </tr>\n",
       "    <tr>\n",
       "      <th>mixed</th>\n",
       "      <td>21</td>\n",
       "      <td>1239</td>\n",
       "      <td>19</td>\n",
       "      <td>1111</td>\n",
       "    </tr>\n",
       "    <tr>\n",
       "      <th>mostly letters</th>\n",
       "      <td>26</td>\n",
       "      <td>2088</td>\n",
       "      <td>21</td>\n",
       "      <td>1695</td>\n",
       "    </tr>\n",
       "    <tr>\n",
       "      <th>mostly numbers</th>\n",
       "      <td>38</td>\n",
       "      <td>1285</td>\n",
       "      <td>33</td>\n",
       "      <td>1069</td>\n",
       "    </tr>\n",
       "    <tr>\n",
       "      <th>numbers</th>\n",
       "      <td>74</td>\n",
       "      <td>3529</td>\n",
       "      <td>68</td>\n",
       "      <td>2993</td>\n",
       "    </tr>\n",
       "  </tbody>\n",
       "</table>\n",
       "</div>"
      ],
      "text/plain": [
       "                 num_texts             num_images            \n",
       "Client_Type     Particular Profesional Particular Profesional\n",
       "string_category                                              \n",
       "letters                403       64835        251       30852\n",
       "mixed                   21        1239         19        1111\n",
       "mostly letters          26        2088         21        1695\n",
       "mostly numbers          38        1285         33        1069\n",
       "numbers                 74        3529         68        2993"
      ]
     },
     "execution_count": 43,
     "metadata": {},
     "output_type": "execute_result"
    }
   ],
   "source": [
    "df1"
   ]
  },
  {
   "cell_type": "code",
   "execution_count": null,
   "metadata": {},
   "outputs": [],
   "source": [
    "#DO IT HERE"
   ]
  },
  {
   "cell_type": "code",
   "execution_count": 40,
   "metadata": {},
   "outputs": [
    {
     "data": {
      "text/html": [
       "<div>\n",
       "<style scoped>\n",
       "    .dataframe tbody tr th:only-of-type {\n",
       "        vertical-align: middle;\n",
       "    }\n",
       "\n",
       "    .dataframe tbody tr th {\n",
       "        vertical-align: top;\n",
       "    }\n",
       "\n",
       "    .dataframe thead th {\n",
       "        text-align: right;\n",
       "    }\n",
       "</style>\n",
       "<table border=\"1\" class=\"dataframe\">\n",
       "  <thead>\n",
       "    <tr style=\"text-align: right;\">\n",
       "      <th></th>\n",
       "      <th>num_texts</th>\n",
       "      <th>num_images</th>\n",
       "    </tr>\n",
       "    <tr>\n",
       "      <th>AgencyName</th>\n",
       "      <th></th>\n",
       "      <th></th>\n",
       "    </tr>\n",
       "  </thead>\n",
       "  <tbody>\n",
       "    <tr>\n",
       "      <th>CUATRO INMOBILIARIA</th>\n",
       "      <td>3</td>\n",
       "      <td>3</td>\n",
       "    </tr>\n",
       "    <tr>\n",
       "      <th>INMOBILIAIRIA VIVE CACERES</th>\n",
       "      <td>21</td>\n",
       "      <td>4</td>\n",
       "    </tr>\n",
       "    <tr>\n",
       "      <th>INMOBILIARIA ALBASUR LEVATE</th>\n",
       "      <td>32</td>\n",
       "      <td>19</td>\n",
       "    </tr>\n",
       "    <tr>\n",
       "      <th>INMOBILIARIA DEL MAR</th>\n",
       "      <td>15</td>\n",
       "      <td>5</td>\n",
       "    </tr>\n",
       "    <tr>\n",
       "      <th>LUXINMO REAL ESTATE</th>\n",
       "      <td>109</td>\n",
       "      <td>87</td>\n",
       "    </tr>\n",
       "    <tr>\n",
       "      <th>...</th>\n",
       "      <td>...</td>\n",
       "      <td>...</td>\n",
       "    </tr>\n",
       "    <tr>\n",
       "      <th>victor</th>\n",
       "      <td>11</td>\n",
       "      <td>2</td>\n",
       "    </tr>\n",
       "    <tr>\n",
       "      <th>wilson gomez</th>\n",
       "      <td>2</td>\n",
       "      <td>2</td>\n",
       "    </tr>\n",
       "    <tr>\n",
       "      <th>ÁLVAREZ SALMERÓN INMOBILIARIA</th>\n",
       "      <td>132</td>\n",
       "      <td>59</td>\n",
       "    </tr>\n",
       "    <tr>\n",
       "      <th>ÁUREA HOMES</th>\n",
       "      <td>4</td>\n",
       "      <td>2</td>\n",
       "    </tr>\n",
       "    <tr>\n",
       "      <th>Óscar Fernández Ferrer</th>\n",
       "      <td>1</td>\n",
       "      <td>1</td>\n",
       "    </tr>\n",
       "  </tbody>\n",
       "</table>\n",
       "<p>2363 rows × 2 columns</p>\n",
       "</div>"
      ],
      "text/plain": [
       "                                num_texts  num_images\n",
       "AgencyName                                           \n",
       "  CUATRO INMOBILIARIA                   3           3\n",
       "  INMOBILIAIRIA VIVE CACERES           21           4\n",
       "  INMOBILIARIA ALBASUR LEVATE          32          19\n",
       "  INMOBILIARIA DEL MAR                 15           5\n",
       "  LUXINMO REAL ESTATE                 109          87\n",
       "...                                   ...         ...\n",
       "victor                                 11           2\n",
       "wilson gomez                            2           2\n",
       "ÁLVAREZ SALMERÓN INMOBILIARIA         132          59\n",
       "ÁUREA HOMES                             4           2\n",
       "Óscar Fernández Ferrer                  1           1\n",
       "\n",
       "[2363 rows x 2 columns]"
      ]
     },
     "execution_count": 40,
     "metadata": {},
     "output_type": "execute_result"
    }
   ],
   "source": [
    "df2"
   ]
  },
  {
   "cell_type": "markdown",
   "metadata": {},
   "source": [
    "- Calculate probability of text detection by string_category and client type per image (mean and std)"
   ]
  },
  {
   "cell_type": "code",
   "execution_count": null,
   "metadata": {},
   "outputs": [],
   "source": [
    "#DO IT HERE"
   ]
  },
  {
   "cell_type": "code",
   "execution_count": 255,
   "metadata": {},
   "outputs": [
    {
     "data": {
      "text/html": [
       "<div>\n",
       "<style scoped>\n",
       "    .dataframe tbody tr th:only-of-type {\n",
       "        vertical-align: middle;\n",
       "    }\n",
       "\n",
       "    .dataframe tbody tr th {\n",
       "        vertical-align: top;\n",
       "    }\n",
       "\n",
       "    .dataframe thead tr th {\n",
       "        text-align: left;\n",
       "    }\n",
       "\n",
       "    .dataframe thead tr:last-of-type th {\n",
       "        text-align: right;\n",
       "    }\n",
       "</style>\n",
       "<table border=\"1\" class=\"dataframe\">\n",
       "  <thead>\n",
       "    <tr>\n",
       "      <th></th>\n",
       "      <th></th>\n",
       "      <th></th>\n",
       "      <th colspan=\"2\" halign=\"left\">probability</th>\n",
       "    </tr>\n",
       "    <tr>\n",
       "      <th></th>\n",
       "      <th></th>\n",
       "      <th></th>\n",
       "      <th>mean</th>\n",
       "      <th>std</th>\n",
       "    </tr>\n",
       "    <tr>\n",
       "      <th>string_category</th>\n",
       "      <th>Client_Type</th>\n",
       "      <th>ImageId</th>\n",
       "      <th></th>\n",
       "      <th></th>\n",
       "    </tr>\n",
       "  </thead>\n",
       "  <tbody>\n",
       "    <tr>\n",
       "      <th rowspan=\"5\" valign=\"top\">letters</th>\n",
       "      <th rowspan=\"5\" valign=\"top\">Particular</th>\n",
       "      <th>566782958</th>\n",
       "      <td>0.007078</td>\n",
       "      <td>0.011771</td>\n",
       "    </tr>\n",
       "    <tr>\n",
       "      <th>566785895</th>\n",
       "      <td>0.725764</td>\n",
       "      <td>0.474244</td>\n",
       "    </tr>\n",
       "    <tr>\n",
       "      <th>566786202</th>\n",
       "      <td>0.693921</td>\n",
       "      <td>0.509907</td>\n",
       "    </tr>\n",
       "    <tr>\n",
       "      <th>566786371</th>\n",
       "      <td>0.339355</td>\n",
       "      <td>0.168511</td>\n",
       "    </tr>\n",
       "    <tr>\n",
       "      <th>566787127</th>\n",
       "      <td>0.005648</td>\n",
       "      <td>0.007988</td>\n",
       "    </tr>\n",
       "    <tr>\n",
       "      <th>...</th>\n",
       "      <th>...</th>\n",
       "      <th>...</th>\n",
       "      <td>...</td>\n",
       "      <td>...</td>\n",
       "    </tr>\n",
       "    <tr>\n",
       "      <th rowspan=\"5\" valign=\"top\">numbers</th>\n",
       "      <th rowspan=\"5\" valign=\"top\">Profesional</th>\n",
       "      <th>568072385</th>\n",
       "      <td>0.000129</td>\n",
       "      <td>0.000138</td>\n",
       "    </tr>\n",
       "    <tr>\n",
       "      <th>568077823</th>\n",
       "      <td>0.998988</td>\n",
       "      <td>0.000965</td>\n",
       "    </tr>\n",
       "    <tr>\n",
       "      <th>568175054</th>\n",
       "      <td>0.649902</td>\n",
       "      <td>0.364692</td>\n",
       "    </tr>\n",
       "    <tr>\n",
       "      <th>568176642</th>\n",
       "      <td>0.001859</td>\n",
       "      <td>0.002322</td>\n",
       "    </tr>\n",
       "    <tr>\n",
       "      <th>568177493</th>\n",
       "      <td>0.000565</td>\n",
       "      <td>0.000761</td>\n",
       "    </tr>\n",
       "  </tbody>\n",
       "</table>\n",
       "<p>16793 rows × 2 columns</p>\n",
       "</div>"
      ],
      "text/plain": [
       "                                      probability          \n",
       "                                             mean       std\n",
       "string_category Client_Type ImageId                        \n",
       "letters         Particular  566782958    0.007078  0.011771\n",
       "                            566785895    0.725764  0.474244\n",
       "                            566786202    0.693921  0.509907\n",
       "                            566786371    0.339355  0.168511\n",
       "                            566787127    0.005648  0.007988\n",
       "...                                           ...       ...\n",
       "numbers         Profesional 568072385    0.000129  0.000138\n",
       "                            568077823    0.998988  0.000965\n",
       "                            568175054    0.649902  0.364692\n",
       "                            568176642    0.001859  0.002322\n",
       "                            568177493    0.000565  0.000761\n",
       "\n",
       "[16793 rows x 2 columns]"
      ]
     },
     "execution_count": 255,
     "metadata": {},
     "output_type": "execute_result"
    }
   ],
   "source": [
    "df3"
   ]
  },
  {
   "cell_type": "markdown",
   "metadata": {},
   "source": [
    "- Calculate occupancy by string_category per property (mean and std)\n"
   ]
  },
  {
   "cell_type": "code",
   "execution_count": null,
   "metadata": {},
   "outputs": [],
   "source": [
    "#DO IT HERE"
   ]
  },
  {
   "cell_type": "code",
   "execution_count": 256,
   "metadata": {},
   "outputs": [
    {
     "data": {
      "text/html": [
       "<div>\n",
       "<style scoped>\n",
       "    .dataframe tbody tr th:only-of-type {\n",
       "        vertical-align: middle;\n",
       "    }\n",
       "\n",
       "    .dataframe tbody tr th {\n",
       "        vertical-align: top;\n",
       "    }\n",
       "\n",
       "    .dataframe thead th {\n",
       "        text-align: right;\n",
       "    }\n",
       "</style>\n",
       "<table border=\"1\" class=\"dataframe\">\n",
       "  <thead>\n",
       "    <tr style=\"text-align: right;\">\n",
       "      <th></th>\n",
       "      <th></th>\n",
       "      <th></th>\n",
       "      <th>mean</th>\n",
       "      <th>std</th>\n",
       "    </tr>\n",
       "    <tr>\n",
       "      <th>string_category</th>\n",
       "      <th>Client_Type</th>\n",
       "      <th>PropertyId</th>\n",
       "      <th></th>\n",
       "      <th></th>\n",
       "    </tr>\n",
       "  </thead>\n",
       "  <tbody>\n",
       "    <tr>\n",
       "      <th rowspan=\"5\" valign=\"top\">letters</th>\n",
       "      <th rowspan=\"5\" valign=\"top\">Particular</th>\n",
       "      <th>152034740</th>\n",
       "      <td>0.025059</td>\n",
       "      <td>0.039807</td>\n",
       "    </tr>\n",
       "    <tr>\n",
       "      <th>152401433</th>\n",
       "      <td>0.006971</td>\n",
       "      <td>0.011687</td>\n",
       "    </tr>\n",
       "    <tr>\n",
       "      <th>153937762</th>\n",
       "      <td>0.001900</td>\n",
       "      <td>0.002686</td>\n",
       "    </tr>\n",
       "    <tr>\n",
       "      <th>154618586</th>\n",
       "      <td>0.565162</td>\n",
       "      <td>0.413824</td>\n",
       "    </tr>\n",
       "    <tr>\n",
       "      <th>154641159</th>\n",
       "      <td>0.597403</td>\n",
       "      <td>0.410644</td>\n",
       "    </tr>\n",
       "    <tr>\n",
       "      <th>...</th>\n",
       "      <th>...</th>\n",
       "      <th>...</th>\n",
       "      <td>...</td>\n",
       "      <td>...</td>\n",
       "    </tr>\n",
       "    <tr>\n",
       "      <th rowspan=\"5\" valign=\"top\">numbers</th>\n",
       "      <th rowspan=\"5\" valign=\"top\">Profesional</th>\n",
       "      <th>155018703</th>\n",
       "      <td>0.919652</td>\n",
       "      <td>0.115474</td>\n",
       "    </tr>\n",
       "    <tr>\n",
       "      <th>155020730</th>\n",
       "      <td>0.746099</td>\n",
       "      <td>0.029633</td>\n",
       "    </tr>\n",
       "    <tr>\n",
       "      <th>155035727</th>\n",
       "      <td>0.150964</td>\n",
       "      <td>0.291664</td>\n",
       "    </tr>\n",
       "    <tr>\n",
       "      <th>155036683</th>\n",
       "      <td>0.989840</td>\n",
       "      <td>0.009907</td>\n",
       "    </tr>\n",
       "    <tr>\n",
       "      <th>155063343</th>\n",
       "      <td>0.983261</td>\n",
       "      <td>0.002873</td>\n",
       "    </tr>\n",
       "  </tbody>\n",
       "</table>\n",
       "<p>9576 rows × 2 columns</p>\n",
       "</div>"
      ],
      "text/plain": [
       "                                            mean       std\n",
       "string_category Client_Type PropertyId                    \n",
       "letters         Particular  152034740   0.025059  0.039807\n",
       "                            152401433   0.006971  0.011687\n",
       "                            153937762   0.001900  0.002686\n",
       "                            154618586   0.565162  0.413824\n",
       "                            154641159   0.597403  0.410644\n",
       "...                                          ...       ...\n",
       "numbers         Profesional 155018703   0.919652  0.115474\n",
       "                            155020730   0.746099  0.029633\n",
       "                            155035727   0.150964  0.291664\n",
       "                            155036683   0.989840  0.009907\n",
       "                            155063343   0.983261  0.002873\n",
       "\n",
       "[9576 rows x 2 columns]"
      ]
     },
     "execution_count": 256,
     "metadata": {},
     "output_type": "execute_result"
    }
   ],
   "source": [
    "df4"
   ]
  },
  {
   "cell_type": "markdown",
   "metadata": {},
   "source": [
    "- Get the top 10 agencies with better probability on average (by agency_name)"
   ]
  },
  {
   "cell_type": "code",
   "execution_count": null,
   "metadata": {},
   "outputs": [],
   "source": [
    "#DO IT HERE"
   ]
  },
  {
   "cell_type": "code",
   "execution_count": 45,
   "metadata": {},
   "outputs": [
    {
     "data": {
      "text/html": [
       "<div>\n",
       "<style scoped>\n",
       "    .dataframe tbody tr th:only-of-type {\n",
       "        vertical-align: middle;\n",
       "    }\n",
       "\n",
       "    .dataframe tbody tr th {\n",
       "        vertical-align: top;\n",
       "    }\n",
       "\n",
       "    .dataframe thead th {\n",
       "        text-align: right;\n",
       "    }\n",
       "</style>\n",
       "<table border=\"1\" class=\"dataframe\">\n",
       "  <thead>\n",
       "    <tr style=\"text-align: right;\">\n",
       "      <th></th>\n",
       "      <th>probability</th>\n",
       "    </tr>\n",
       "    <tr>\n",
       "      <th>AgencyName</th>\n",
       "      <th></th>\n",
       "    </tr>\n",
       "  </thead>\n",
       "  <tbody>\n",
       "    <tr>\n",
       "      <th>ARAGON GESTION</th>\n",
       "      <td>0.998672</td>\n",
       "    </tr>\n",
       "    <tr>\n",
       "      <th>MATAGALLS CONSULTING</th>\n",
       "      <td>0.998373</td>\n",
       "    </tr>\n",
       "    <tr>\n",
       "      <th>UNIPISO</th>\n",
       "      <td>0.997770</td>\n",
       "    </tr>\n",
       "    <tr>\n",
       "      <th>ELITE GESTION INMOBILIARIA</th>\n",
       "      <td>0.996981</td>\n",
       "    </tr>\n",
       "    <tr>\n",
       "      <th>BYB SERVICIOS INMOBILIARIOS</th>\n",
       "      <td>0.996287</td>\n",
       "    </tr>\n",
       "    <tr>\n",
       "      <th>PROPERTY OUTLET</th>\n",
       "      <td>0.995340</td>\n",
       "    </tr>\n",
       "    <tr>\n",
       "      <th>Nexonorte</th>\n",
       "      <td>0.993870</td>\n",
       "    </tr>\n",
       "    <tr>\n",
       "      <th>OCASIONCASA C/GERONA</th>\n",
       "      <td>0.993539</td>\n",
       "    </tr>\n",
       "    <tr>\n",
       "      <th>080 REAL ESTATE</th>\n",
       "      <td>0.991573</td>\n",
       "    </tr>\n",
       "    <tr>\n",
       "      <th>PROTEVIAL</th>\n",
       "      <td>0.989470</td>\n",
       "    </tr>\n",
       "  </tbody>\n",
       "</table>\n",
       "</div>"
      ],
      "text/plain": [
       "                             probability\n",
       "AgencyName                              \n",
       "ARAGON GESTION                  0.998672\n",
       "MATAGALLS CONSULTING            0.998373\n",
       "UNIPISO                         0.997770\n",
       "ELITE GESTION INMOBILIARIA      0.996981\n",
       "BYB SERVICIOS INMOBILIARIOS     0.996287\n",
       "PROPERTY OUTLET                 0.995340\n",
       "Nexonorte                       0.993870\n",
       "OCASIONCASA C/GERONA            0.993539\n",
       "080 REAL ESTATE                 0.991573\n",
       "PROTEVIAL                       0.989470"
      ]
     },
     "execution_count": 45,
     "metadata": {},
     "output_type": "execute_result"
    }
   ],
   "source": [
    "df5"
   ]
  },
  {
   "cell_type": "markdown",
   "metadata": {},
   "source": [
    "- Get the top 2 text with detected better probability on average by string_category"
   ]
  },
  {
   "cell_type": "code",
   "execution_count": 48,
   "metadata": {},
   "outputs": [],
   "source": [
    "#DO IT HERE"
   ]
  },
  {
   "cell_type": "code",
   "execution_count": 47,
   "metadata": {},
   "outputs": [
    {
     "data": {
      "text/html": [
       "<div>\n",
       "<style scoped>\n",
       "    .dataframe tbody tr th:only-of-type {\n",
       "        vertical-align: middle;\n",
       "    }\n",
       "\n",
       "    .dataframe tbody tr th {\n",
       "        vertical-align: top;\n",
       "    }\n",
       "\n",
       "    .dataframe thead th {\n",
       "        text-align: right;\n",
       "    }\n",
       "</style>\n",
       "<table border=\"1\" class=\"dataframe\">\n",
       "  <thead>\n",
       "    <tr style=\"text-align: right;\">\n",
       "      <th></th>\n",
       "      <th>probability</th>\n",
       "      <th>text</th>\n",
       "    </tr>\n",
       "    <tr>\n",
       "      <th>string_category</th>\n",
       "      <th></th>\n",
       "      <th></th>\n",
       "    </tr>\n",
       "  </thead>\n",
       "  <tbody>\n",
       "    <tr>\n",
       "      <th>letters</th>\n",
       "      <td>0.999846</td>\n",
       "      <td>equipada</td>\n",
       "    </tr>\n",
       "    <tr>\n",
       "      <th>letters</th>\n",
       "      <td>0.999821</td>\n",
       "      <td>ante</td>\n",
       "    </tr>\n",
       "    <tr>\n",
       "      <th>mixed</th>\n",
       "      <td>0.999530</td>\n",
       "      <td>t2</td>\n",
       "    </tr>\n",
       "    <tr>\n",
       "      <th>mixed</th>\n",
       "      <td>0.970303</td>\n",
       "      <td>gc-381</td>\n",
       "    </tr>\n",
       "    <tr>\n",
       "      <th>mostly letters</th>\n",
       "      <td>0.988500</td>\n",
       "      <td>planta-25-</td>\n",
       "    </tr>\n",
       "    <tr>\n",
       "      <th>mostly letters</th>\n",
       "      <td>0.987956</td>\n",
       "      <td>planta-3</td>\n",
       "    </tr>\n",
       "    <tr>\n",
       "      <th>mostly numbers</th>\n",
       "      <td>0.998671</td>\n",
       "      <td>10:29</td>\n",
       "    </tr>\n",
       "    <tr>\n",
       "      <th>mostly numbers</th>\n",
       "      <td>0.997736</td>\n",
       "      <td>12:43</td>\n",
       "    </tr>\n",
       "    <tr>\n",
       "      <th>numbers</th>\n",
       "      <td>0.999837</td>\n",
       "      <td>302</td>\n",
       "    </tr>\n",
       "    <tr>\n",
       "      <th>numbers</th>\n",
       "      <td>0.999766</td>\n",
       "      <td>663</td>\n",
       "    </tr>\n",
       "  </tbody>\n",
       "</table>\n",
       "</div>"
      ],
      "text/plain": [
       "                 probability        text\n",
       "string_category                         \n",
       "letters             0.999846    equipada\n",
       "letters             0.999821        ante\n",
       "mixed               0.999530          t2\n",
       "mixed               0.970303      gc-381\n",
       "mostly letters      0.988500  planta-25-\n",
       "mostly letters      0.987956    planta-3\n",
       "mostly numbers      0.998671       10:29\n",
       "mostly numbers      0.997736       12:43\n",
       "numbers             0.999837         302\n",
       "numbers             0.999766         663"
      ]
     },
     "execution_count": 47,
     "metadata": {},
     "output_type": "execute_result"
    }
   ],
   "source": [
    "df8"
   ]
  },
  {
   "cell_type": "markdown",
   "metadata": {},
   "source": [
    "## 6.1.3 Watermarks: Detect \"Idealista\" keyword on images\n",
    "\n",
    "Using a levenshtein method and a distance of 2\n",
    "\n",
    "Hint: Create a method 'detect_idealista' where:\n",
    "- given a word and a distance (in our case 2)\n",
    "- checks if the word and \"idealista\" keyword have a distance less than equal to 2\n",
    "- ...by applying the levenshtein method\n",
    "\n",
    "Then calculate the following\n",
    "\n",
    "- Proportion of images that contain the word idealista\n",
    "- Calculate top 10 agencies with the most idealista images"
   ]
  },
  {
   "cell_type": "code",
   "execution_count": 49,
   "metadata": {},
   "outputs": [],
   "source": [
    "import unidecode\n",
    "\n",
    "def levenshtein(seq1, seq2):\n",
    "    \"\"\"\n",
    "        # Levenshtein Distance Algorithm:\n",
    "        # https://dzone.com/articles/the-levenshtein-algorithm-1\n",
    "        # https://stackabuse.com/levenshtein-distance-and-text-similarity-in-python\n",
    "    \"\"\"\n",
    "    seq1 = seq1.lower() # We need to do this conversion, because this\n",
    "    seq2 = seq2.lower() # algorithm is upper and lower case sensitive\n",
    "    \n",
    "    seq1 = unidecode.unidecode(seq1) # We transform strings with special characters to ASCII \n",
    "    seq2 = unidecode.unidecode(seq2) # We transform strings with special characters to ASCII \n",
    "    \n",
    "    size_x = len(seq1) + 1\n",
    "    size_y = len(seq2) + 1\n",
    "    matrix = np.zeros ((size_x, size_y))\n",
    "    for x in range(size_x):\n",
    "        matrix [x, 0] = x\n",
    "    for y in range(size_y):\n",
    "        matrix [0, y] = y\n",
    "\n",
    "    for x in range(1, size_x):\n",
    "        for y in range(1, size_y):\n",
    "            if seq1[x-1] == seq2[y-1]:\n",
    "                matrix [x,y] = min(\n",
    "                    matrix[x-1, y] + 1,\n",
    "                    matrix[x-1, y-1],\n",
    "                    matrix[x, y-1] + 1\n",
    "                )\n",
    "            else:\n",
    "                matrix [x,y] = min(\n",
    "                    matrix[x-1,y] + 1,\n",
    "                    matrix[x-1,y-1] + 1,\n",
    "                    matrix[x,y-1] + 1\n",
    "                )\n",
    "    return (matrix[size_x - 1, size_y - 1])"
   ]
  },
  {
   "cell_type": "markdown",
   "metadata": {},
   "source": [
    "Detect Idealista text"
   ]
  },
  {
   "cell_type": "code",
   "execution_count": 50,
   "metadata": {},
   "outputs": [],
   "source": [
    "#DO IT HERE"
   ]
  },
  {
   "cell_type": "markdown",
   "metadata": {},
   "source": [
    "Proportion of images that contain the word idealista"
   ]
  },
  {
   "cell_type": "code",
   "execution_count": null,
   "metadata": {},
   "outputs": [],
   "source": [
    "#DO IT HERE"
   ]
  },
  {
   "cell_type": "code",
   "execution_count": 54,
   "metadata": {},
   "outputs": [
    {
     "data": {
      "text/plain": [
       "False    0.99796\n",
       "True     0.00204\n",
       "Name: is_idealista, dtype: float64"
      ]
     },
     "execution_count": 54,
     "metadata": {},
     "output_type": "execute_result"
    }
   ],
   "source": [
    "df_isidealista"
   ]
  },
  {
   "cell_type": "markdown",
   "metadata": {},
   "source": [
    "Calculate top 10 agencies with the most idealista images"
   ]
  },
  {
   "cell_type": "code",
   "execution_count": 56,
   "metadata": {},
   "outputs": [],
   "source": [
    "#DO IT HERE"
   ]
  },
  {
   "cell_type": "code",
   "execution_count": 57,
   "metadata": {},
   "outputs": [
    {
     "data": {
      "text/html": [
       "<div>\n",
       "<style scoped>\n",
       "    .dataframe tbody tr th:only-of-type {\n",
       "        vertical-align: middle;\n",
       "    }\n",
       "\n",
       "    .dataframe tbody tr th {\n",
       "        vertical-align: top;\n",
       "    }\n",
       "\n",
       "    .dataframe thead th {\n",
       "        text-align: right;\n",
       "    }\n",
       "</style>\n",
       "<table border=\"1\" class=\"dataframe\">\n",
       "  <thead>\n",
       "    <tr style=\"text-align: right;\">\n",
       "      <th></th>\n",
       "      <th>is_idealista</th>\n",
       "    </tr>\n",
       "    <tr>\n",
       "      <th>AgencyName</th>\n",
       "      <th></th>\n",
       "    </tr>\n",
       "  </thead>\n",
       "  <tbody>\n",
       "    <tr>\n",
       "      <th>MOLMAR GESTION INMOBILIARIA E</th>\n",
       "      <td>24.0</td>\n",
       "    </tr>\n",
       "    <tr>\n",
       "      <th>RECAJ INMOBILIARIA</th>\n",
       "      <td>13.0</td>\n",
       "    </tr>\n",
       "    <tr>\n",
       "      <th>MARGAMORA</th>\n",
       "      <td>10.0</td>\n",
       "    </tr>\n",
       "    <tr>\n",
       "      <th>INMOGR</th>\n",
       "      <td>9.0</td>\n",
       "    </tr>\n",
       "    <tr>\n",
       "      <th>Infocasa Consulting</th>\n",
       "      <td>8.0</td>\n",
       "    </tr>\n",
       "    <tr>\n",
       "      <th>NACASIÑA INMO</th>\n",
       "      <td>6.0</td>\n",
       "    </tr>\n",
       "    <tr>\n",
       "      <th>BENICASA 2002 SERVICIOS INMOBILIARIOS</th>\n",
       "      <td>5.0</td>\n",
       "    </tr>\n",
       "    <tr>\n",
       "      <th>UNKNOWN</th>\n",
       "      <td>4.0</td>\n",
       "    </tr>\n",
       "    <tr>\n",
       "      <th>Ed Real Estate</th>\n",
       "      <td>4.0</td>\n",
       "    </tr>\n",
       "    <tr>\n",
       "      <th>BERNAL &amp; ARRANZ INMOBILIARIA</th>\n",
       "      <td>4.0</td>\n",
       "    </tr>\n",
       "  </tbody>\n",
       "</table>\n",
       "</div>"
      ],
      "text/plain": [
       "                                       is_idealista\n",
       "AgencyName                                         \n",
       "MOLMAR GESTION INMOBILIARIA E                  24.0\n",
       "RECAJ INMOBILIARIA                             13.0\n",
       "MARGAMORA                                      10.0\n",
       "INMOGR                                          9.0\n",
       "Infocasa Consulting                             8.0\n",
       "NACASIÑA INMO                                   6.0\n",
       "BENICASA 2002 SERVICIOS INMOBILIARIOS           5.0\n",
       "UNKNOWN                                         4.0\n",
       "Ed Real Estate                                  4.0\n",
       "BERNAL & ARRANZ INMOBILIARIA                    4.0"
      ]
     },
     "execution_count": 57,
     "metadata": {},
     "output_type": "execute_result"
    }
   ],
   "source": [
    "dfi"
   ]
  },
  {
   "cell_type": "markdown",
   "metadata": {},
   "source": [
    "## 6.1.4 Watermarks: Visualize\n",
    "\n",
    "- Plot the evolution of number of processed images per day (with title font 18)\n",
    "- Plot the evolution of number of processed images per day and hour (x axis hours and a line for each day, title font 18)\n",
    "- Plot the evolution of number of processed images per day and client_type (in two graphs on the same plot)\n",
    "\n",
    "- Plot the average probability distribution of the probability text detected by client_type (hint: boxplot)\n",
    "- Plot the average ocupancy distribution of the ocupancy text detected by string_category (on the same graph)\n",
    "\n",
    "- Plot the top 25 agencies with better probability on average (by agency_name)\n",
    "\n",
    "- Create a heatmap on how they correlate text_probability and occupancy"
   ]
  },
  {
   "cell_type": "markdown",
   "metadata": {},
   "source": [
    "- Plot the evolution of number of processed images per day (with title font 18)\n"
   ]
  },
  {
   "cell_type": "code",
   "execution_count": 298,
   "metadata": {},
   "outputs": [],
   "source": [
    "#DO IT HERE"
   ]
  },
  {
   "cell_type": "markdown",
   "metadata": {},
   "source": [
    "- Plot the evolution of number of processed images per day and hour (x axis hours and a line for each day, title font 18)\n"
   ]
  },
  {
   "cell_type": "code",
   "execution_count": 301,
   "metadata": {},
   "outputs": [],
   "source": [
    "#DO IT HERE"
   ]
  },
  {
   "cell_type": "markdown",
   "metadata": {},
   "source": [
    "- Plot the evolution of number of processed images per day and client_type (in two graphs on the same plot)\n"
   ]
  },
  {
   "cell_type": "code",
   "execution_count": 58,
   "metadata": {},
   "outputs": [],
   "source": [
    "#DO IT HERE"
   ]
  },
  {
   "cell_type": "markdown",
   "metadata": {},
   "source": [
    "- Plot the average probability distribution of the probability text detected by client_type (hint: boxplot)\n"
   ]
  },
  {
   "cell_type": "code",
   "execution_count": 59,
   "metadata": {},
   "outputs": [],
   "source": [
    "#DO IT HERE"
   ]
  },
  {
   "cell_type": "markdown",
   "metadata": {},
   "source": [
    "- Plot the average ocupancy distribution of the occupancy text detected by string_category (on the same graph)\n",
    "\n"
   ]
  },
  {
   "cell_type": "code",
   "execution_count": 60,
   "metadata": {},
   "outputs": [],
   "source": [
    "#DO IT HERE"
   ]
  },
  {
   "cell_type": "markdown",
   "metadata": {},
   "source": [
    "- Plot the top 25 agencies with better probability on average (by agency_name)\n"
   ]
  },
  {
   "cell_type": "code",
   "execution_count": 61,
   "metadata": {},
   "outputs": [],
   "source": [
    "#DO IT HERE"
   ]
  },
  {
   "cell_type": "markdown",
   "metadata": {},
   "source": [
    "- Create a heatmap on how they correlate text_probability, center_x, center_y and occupancy"
   ]
  },
  {
   "cell_type": "code",
   "execution_count": 332,
   "metadata": {},
   "outputs": [],
   "source": [
    "#DO IT HERE"
   ]
  }
 ],
 "metadata": {
  "kernelspec": {
   "display_name": "Python 3",
   "language": "python",
   "name": "python3"
  },
  "language_info": {
   "codemirror_mode": {
    "name": "ipython",
    "version": 3
   },
   "file_extension": ".py",
   "mimetype": "text/x-python",
   "name": "python",
   "nbconvert_exporter": "python",
   "pygments_lexer": "ipython3",
   "version": "3.7.4"
  }
 },
 "nbformat": 4,
 "nbformat_minor": 2
}
