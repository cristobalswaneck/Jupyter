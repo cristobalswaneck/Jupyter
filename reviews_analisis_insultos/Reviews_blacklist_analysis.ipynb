{
 "cells": [
  {
   "cell_type": "markdown",
   "metadata": {},
   "source": [
    "# Analisis para cuantificar el contenido ofensivo en las \"Reviews\""
   ]
  },
  {
   "cell_type": "code",
   "execution_count": 1,
   "metadata": {},
   "outputs": [],
   "source": [
    "%matplotlib inline\n",
    "from pathlib import Path\n",
    "import numpy as np\n",
    "import pandas as pd\n",
    "from pandas.io.json import json_normalize\n",
    "import matplotlib.pyplot as plt\n",
    "import seaborn as sns\n",
    "from textblob import TextBlob, Word\n",
    "from sklearn.externals import joblib\n",
    "import json\n",
    "import cx_Oracle\n",
    "import nltk"
   ]
  },
  {
   "cell_type": "markdown",
   "metadata": {},
   "source": [
    "### SQL para todas las review"
   ]
  },
  {
   "cell_type": "markdown",
   "metadata": {},
   "source": [
    "Obtener la totaldad de las reviews en DWH de infojobs"
   ]
  },
  {
   "cell_type": "code",
   "execution_count": 2,
   "metadata": {
    "scrolled": true
   },
   "outputs": [
    {
     "name": "stdout",
     "output_type": "stream",
     "text": [
      "11.2.0.3.0\n"
     ]
    }
   ],
   "source": [
    "#TODAS LAS REVIEWS EXISTENTES EN DWH\n",
    "con =  cx_Oracle.connect('comprasweb_ij/Xxxx1234!@10.10.2.223/MKTG')\n",
    "print(con.version)\n",
    "\n",
    "df = pd.read_sql_query('''\n",
    "SELECT * \n",
    "FROM \n",
    "(\n",
    "SELECT \n",
    "\tRATINGEVENTOBJECTTARGETID,\n",
    "\ts.DT,\n",
    "\tTRUNC(s.RATINGEVENTOBJECTINSTANT) AS fecha_review,\n",
    "\ts.RATINGEVENTOBJECTSCORE,\n",
    "\tREPLACE(REPLACE(s.REVIEWNAME, '?', 'n'),'n', 'n') AS REVIEWNAME,\n",
    "    REPLACE(REPLACE(s.REVIEWVALUE, '?', 'n'),'n', 'n') AS REVIEWVALUE\n",
    "FROM DWHPRO.COMPANY_REVIEW s \n",
    ")t \n",
    "pivot (\n",
    "min(REVIEWVALUE) value FOR REVIEWNAME IN ('title', 'description')\n",
    ")\n",
    "''', con)\n",
    "\n",
    "df_save = df\n",
    "\n",
    "con.close()"
   ]
  },
  {
   "cell_type": "code",
   "execution_count": 3,
   "metadata": {},
   "outputs": [
    {
     "data": {
      "text/plain": [
       "(1636215, 6)"
      ]
     },
     "execution_count": 3,
     "metadata": {},
     "output_type": "execute_result"
    }
   ],
   "source": [
    "df.shape"
   ]
  },
  {
   "cell_type": "code",
   "execution_count": 4,
   "metadata": {},
   "outputs": [],
   "source": [
    "#rename para los merge entre df\n",
    "df = df.rename(columns={\"RATINGEVENTOBJECTTARGETID\": \"EXPERIENCE_ID\"\n",
    "                            ,\"DT\": \"FECHA\"\n",
    "                            ,\"RATINGEVENTOBJECTSCORE\": \"RATING\"\n",
    "                            ,\"'title'_VALUE\": \"TITLE\"\n",
    "                            ,\"'description'_VALUE\": \"DESCRIPTION\"\n",
    "                           })"
   ]
  },
  {
   "cell_type": "code",
   "execution_count": 5,
   "metadata": {
    "scrolled": true
   },
   "outputs": [],
   "source": [
    "#df['T+D'] = df[['TITLE', 'DESCRIPTION']].apply(lambda x: ''.join(x), axis=1)\n",
    "df['TD'] = df.TITLE.astype(str).str.cat(df.DESCRIPTION.astype(str), sep=' ')"
   ]
  },
  {
   "cell_type": "markdown",
   "metadata": {},
   "source": [
    "#### Flag para aquellas con score menor a 3"
   ]
  },
  {
   "cell_type": "markdown",
   "metadata": {},
   "source": [
    "Se crea este True/False segun las estrellas para contrastar la informacion de contenido ofensivo ya que es posible que estas reviews tenga una valoracion baja"
   ]
  },
  {
   "cell_type": "code",
   "execution_count": 6,
   "metadata": {
    "scrolled": true
   },
   "outputs": [
    {
     "data": {
      "text/html": [
       "<div>\n",
       "<style scoped>\n",
       "    .dataframe tbody tr th:only-of-type {\n",
       "        vertical-align: middle;\n",
       "    }\n",
       "\n",
       "    .dataframe tbody tr th {\n",
       "        vertical-align: top;\n",
       "    }\n",
       "\n",
       "    .dataframe thead th {\n",
       "        text-align: right;\n",
       "    }\n",
       "</style>\n",
       "<table border=\"1\" class=\"dataframe\">\n",
       "  <thead>\n",
       "    <tr style=\"text-align: right;\">\n",
       "      <th></th>\n",
       "      <th>EXPERIENCE_ID</th>\n",
       "      <th>FECHA</th>\n",
       "      <th>FECHA_REVIEW</th>\n",
       "      <th>RATING</th>\n",
       "      <th>TITLE</th>\n",
       "      <th>DESCRIPTION</th>\n",
       "      <th>TD</th>\n",
       "      <th>is_bad_review</th>\n",
       "    </tr>\n",
       "  </thead>\n",
       "  <tbody>\n",
       "    <tr>\n",
       "      <th>0</th>\n",
       "      <td>24326061658</td>\n",
       "      <td>2019-01-13</td>\n",
       "      <td>2019-01-13</td>\n",
       "      <td>5</td>\n",
       "      <td>df</td>\n",
       "      <td>df</td>\n",
       "      <td>df df</td>\n",
       "      <td>0</td>\n",
       "    </tr>\n",
       "    <tr>\n",
       "      <th>1</th>\n",
       "      <td>34191592200</td>\n",
       "      <td>2019-01-13</td>\n",
       "      <td>2019-01-13</td>\n",
       "      <td>5</td>\n",
       "      <td>Muy buena</td>\n",
       "      <td>Buenas condiciones, trato, profesionalidad</td>\n",
       "      <td>Muy buena Buenas condiciones, trato, profesion...</td>\n",
       "      <td>0</td>\n",
       "    </tr>\n",
       "    <tr>\n",
       "      <th>2</th>\n",
       "      <td>34191589955</td>\n",
       "      <td>2019-01-13</td>\n",
       "      <td>2019-01-13</td>\n",
       "      <td>3</td>\n",
       "      <td>Compa?erismi</td>\n",
       "      <td>Una empresa bastante grande con muchos trabaja...</td>\n",
       "      <td>Compa?erismi Una empresa bastante grande con m...</td>\n",
       "      <td>0</td>\n",
       "    </tr>\n",
       "    <tr>\n",
       "      <th>3</th>\n",
       "      <td>34191631675</td>\n",
       "      <td>2019-01-14</td>\n",
       "      <td>2019-01-14</td>\n",
       "      <td>3</td>\n",
       "      <td>.</td>\n",
       "      <td>.</td>\n",
       "      <td>. .</td>\n",
       "      <td>0</td>\n",
       "    </tr>\n",
       "    <tr>\n",
       "      <th>4</th>\n",
       "      <td>34198040437</td>\n",
       "      <td>2019-08-20</td>\n",
       "      <td>2019-08-20</td>\n",
       "      <td>5</td>\n",
       "      <td>Muy buena</td>\n",
       "      <td>Muy buena</td>\n",
       "      <td>Muy buena Muy buena</td>\n",
       "      <td>0</td>\n",
       "    </tr>\n",
       "  </tbody>\n",
       "</table>\n",
       "</div>"
      ],
      "text/plain": [
       "   EXPERIENCE_ID      FECHA FECHA_REVIEW  RATING         TITLE  \\\n",
       "0    24326061658 2019-01-13   2019-01-13       5            df   \n",
       "1    34191592200 2019-01-13   2019-01-13       5     Muy buena   \n",
       "2    34191589955 2019-01-13   2019-01-13       3  Compa?erismi   \n",
       "3    34191631675 2019-01-14   2019-01-14       3             .   \n",
       "4    34198040437 2019-08-20   2019-08-20       5     Muy buena   \n",
       "\n",
       "                                         DESCRIPTION  \\\n",
       "0                                                 df   \n",
       "1         Buenas condiciones, trato, profesionalidad   \n",
       "2  Una empresa bastante grande con muchos trabaja...   \n",
       "3                                                  .   \n",
       "4                                          Muy buena   \n",
       "\n",
       "                                                  TD  is_bad_review  \n",
       "0                                              df df              0  \n",
       "1  Muy buena Buenas condiciones, trato, profesion...              0  \n",
       "2  Compa?erismi Una empresa bastante grande con m...              0  \n",
       "3                                                . .              0  \n",
       "4                                Muy buena Muy buena              0  "
      ]
     },
     "execution_count": 6,
     "metadata": {},
     "output_type": "execute_result"
    }
   ],
   "source": [
    "df[\"is_bad_review\"] = df[\"RATING\"].apply(lambda x: 1 if x < 3 else 0)\n",
    "df.head()"
   ]
  },
  {
   "cell_type": "code",
   "execution_count": 7,
   "metadata": {},
   "outputs": [],
   "source": [
    "#quitar caracteres extraños de la bbdd manualmente (no es un tratamiento de texto, es un error en el ETL)\n",
    "df[\"TD\"] = df[\"TD\"].apply(lambda x: \n",
    "x.replace(\"!\", \"\").replace(\"?\", \"n\").replace(\"Enter\", \"\").replace(\"enter\", \"\").replace(\"None\", \"\").replace(\"#\", \"\")\n",
    ")"
   ]
  },
  {
   "cell_type": "code",
   "execution_count": 8,
   "metadata": {},
   "outputs": [],
   "source": [
    "#eliminar registros con D y T Null (descripcion + titulo)\n",
    "df_example = df[df['TD'].notnull()]"
   ]
  },
  {
   "cell_type": "code",
   "execution_count": 9,
   "metadata": {},
   "outputs": [
    {
     "data": {
      "text/html": [
       "<div>\n",
       "<style scoped>\n",
       "    .dataframe tbody tr th:only-of-type {\n",
       "        vertical-align: middle;\n",
       "    }\n",
       "\n",
       "    .dataframe tbody tr th {\n",
       "        vertical-align: top;\n",
       "    }\n",
       "\n",
       "    .dataframe thead th {\n",
       "        text-align: right;\n",
       "    }\n",
       "</style>\n",
       "<table border=\"1\" class=\"dataframe\">\n",
       "  <thead>\n",
       "    <tr style=\"text-align: right;\">\n",
       "      <th></th>\n",
       "      <th>EXPERIENCE_ID</th>\n",
       "      <th>FECHA</th>\n",
       "      <th>FECHA_REVIEW</th>\n",
       "      <th>RATING</th>\n",
       "      <th>TITLE</th>\n",
       "      <th>DESCRIPTION</th>\n",
       "      <th>TD</th>\n",
       "      <th>is_bad_review</th>\n",
       "    </tr>\n",
       "  </thead>\n",
       "  <tbody>\n",
       "  </tbody>\n",
       "</table>\n",
       "</div>"
      ],
      "text/plain": [
       "Empty DataFrame\n",
       "Columns: [EXPERIENCE_ID, FECHA, FECHA_REVIEW, RATING, TITLE, DESCRIPTION, TD, is_bad_review]\n",
       "Index: []"
      ]
     },
     "execution_count": 9,
     "metadata": {},
     "output_type": "execute_result"
    }
   ],
   "source": [
    "df[df['TD'].isnull()]"
   ]
  },
  {
   "cell_type": "code",
   "execution_count": 10,
   "metadata": {},
   "outputs": [],
   "source": [
    "df_example = df"
   ]
  },
  {
   "cell_type": "markdown",
   "metadata": {},
   "source": [
    "Existen 1,6MM de reviews, este numero es el total sin considerar la normalización de compañias"
   ]
  },
  {
   "cell_type": "markdown",
   "metadata": {},
   "source": [
    "### Limpieza de texto y reduccion de palabras"
   ]
  },
  {
   "cell_type": "code",
   "execution_count": 11,
   "metadata": {},
   "outputs": [],
   "source": [
    "import string\n",
    "punctuation=string.punctuation"
   ]
  },
  {
   "cell_type": "code",
   "execution_count": 12,
   "metadata": {},
   "outputs": [],
   "source": [
    "from nltk.corpus import stopwords"
   ]
  },
  {
   "cell_type": "code",
   "execution_count": 13,
   "metadata": {},
   "outputs": [],
   "source": [
    "stop = stopwords.words('spanish')"
   ]
  },
  {
   "cell_type": "code",
   "execution_count": 14,
   "metadata": {},
   "outputs": [],
   "source": [
    "#modelo en español\n",
    "import spacy\n",
    "nlp = spacy.load('es_core_news_sm')"
   ]
  },
  {
   "cell_type": "code",
   "execution_count": 15,
   "metadata": {},
   "outputs": [],
   "source": [
    "def cleanup_text(docs, logging=False):\n",
    "    texts = []\n",
    "    doc = nlp(docs, disable=['parser', 'ner'])\n",
    "    tokens = [tok.lemma_.lower().strip() for tok in doc if tok.lemma_ != '-PRON-']\n",
    "    tokens = [tok for tok in tokens if tok not in stop and tok not in punctuation]\n",
    "    tokens = ' '.join(tokens)\n",
    "    texts.append(tokens)\n",
    "    return pd.Series(texts)"
   ]
  },
  {
   "cell_type": "markdown",
   "metadata": {},
   "source": [
    "Se agrega una nueva columna para futuros analisis con el texto limpio (sin puntuaciones, stopword, numeros, entre otros)"
   ]
  },
  {
   "cell_type": "code",
   "execution_count": 16,
   "metadata": {},
   "outputs": [],
   "source": [
    "df_example['clean_text'] = df_example['TD'].apply(lambda x: cleanup_text(x, False))"
   ]
  },
  {
   "cell_type": "code",
   "execution_count": 17,
   "metadata": {},
   "outputs": [],
   "source": [
    "df_example.to_csv('df_example.csv', index= False)\n",
    "#, sep=';')"
   ]
  },
  {
   "cell_type": "code",
   "execution_count": 592,
   "metadata": {},
   "outputs": [],
   "source": [
    "#Load the data con listado de insultos \n",
    "df_example = pd.read_csv('df_example.csv')#, encoding='latin-1', sep='|', header=None)"
   ]
  },
  {
   "cell_type": "code",
   "execution_count": 18,
   "metadata": {},
   "outputs": [
    {
     "data": {
      "text/plain": [
       "(1636215, 9)"
      ]
     },
     "execution_count": 18,
     "metadata": {},
     "output_type": "execute_result"
    }
   ],
   "source": [
    "df_example.shape"
   ]
  },
  {
   "cell_type": "markdown",
   "metadata": {},
   "source": [
    "#### Cantidad de reviews por dia"
   ]
  },
  {
   "cell_type": "code",
   "execution_count": 19,
   "metadata": {},
   "outputs": [],
   "source": [
    "x = df_example['FECHA'].value_counts () \n",
    "y = pd.DataFrame(x)"
   ]
  },
  {
   "cell_type": "code",
   "execution_count": 20,
   "metadata": {},
   "outputs": [],
   "source": [
    "y=y.reset_index(level=0)"
   ]
  },
  {
   "cell_type": "code",
   "execution_count": 21,
   "metadata": {},
   "outputs": [],
   "source": [
    "y = y.rename(columns={\"index\": \"Fecha\"\n",
    "                            ,\"FECHA\": \"count_review\"\n",
    "                           })"
   ]
  },
  {
   "cell_type": "code",
   "execution_count": 22,
   "metadata": {},
   "outputs": [],
   "source": [
    "y['Fecha'] = pd.to_datetime(y['Fecha'])"
   ]
  },
  {
   "cell_type": "code",
   "execution_count": 23,
   "metadata": {},
   "outputs": [
    {
     "data": {
      "image/png": "[encoded data removed]",
      "text/plain": [
       "<Figure size 720x432 with 1 Axes>"
      ]
     },
     "metadata": {
      "needs_background": "light"
     },
     "output_type": "display_data"
    }
   ],
   "source": [
    "plt.figure(figsize = (10,6)) \n",
    "plt.title (\"Reviews por día\") \n",
    "ax = sns.lineplot(x=\"Fecha\", y=\"count_review\", data=y)"
   ]
  },
  {
   "cell_type": "markdown",
   "metadata": {},
   "source": [
    "### Plot resultados segun Score"
   ]
  },
  {
   "cell_type": "code",
   "execution_count": 24,
   "metadata": {},
   "outputs": [
    {
     "data": {
      "image/png": "[encoded data removed]",
      "text/plain": [
       "<Figure size 720x432 with 1 Axes>"
      ]
     },
     "metadata": {
      "needs_background": "light"
     },
     "output_type": "display_data"
    }
   ],
   "source": [
    "x = df_example['RATING'].value_counts () \n",
    "x = x.sort_index () \n",
    "plt.figure(figsize = (10,6)) \n",
    "ax = sns.barplot (x.index, x.values, alpha = 0.8) \n",
    "plt.title (\"Star Rating Distribution\") \n",
    "plt.ylabel ('count') \n",
    "plt.xlabel ('Star Ratings') \n",
    "rects = ax.patches \n",
    "labels = x.values \n",
    "for rect, label in zip (rects, labels): \n",
    "    height = rect.get_height () \n",
    "    ax.text (rect.get_x () + rect.get_width () / 2, height + 5, label, ha = 'center', va = 'bottom') \n",
    "plt.show ();"
   ]
  },
  {
   "cell_type": "markdown",
   "metadata": {},
   "source": [
    "El potencial de Reviews con contenido prohibido son las Bad Reviews (menor a 3 estrellas) que son 91k = 1 y 73k = 2"
   ]
  },
  {
   "cell_type": "markdown",
   "metadata": {},
   "source": [
    "### Agregar Blacklist para etiquetar registros con alguna de las palabras en el listado"
   ]
  },
  {
   "cell_type": "markdown",
   "metadata": {},
   "source": [
    "filtro manual de una lista reducida de palabras claves"
   ]
  },
  {
   "cell_type": "code",
   "execution_count": 25,
   "metadata": {},
   "outputs": [],
   "source": [
    "#Load the data con listado de insultos \n",
    "df_csv = pd.read_csv('listado_v3.csv')#, encoding='latin-1', sep='|', header=None)"
   ]
  },
  {
   "cell_type": "code",
   "execution_count": 26,
   "metadata": {},
   "outputs": [],
   "source": [
    "df_csv=df_csv['Palabra_x2'].str.lower()"
   ]
  },
  {
   "cell_type": "code",
   "execution_count": 27,
   "metadata": {},
   "outputs": [],
   "source": [
    "df_csv = df_csv.tolist()"
   ]
  },
  {
   "cell_type": "markdown",
   "metadata": {},
   "source": [
    "Exploramos nuestra blacklist, que nos sirve para identificar revies que contengan alguna de las palabras del listado"
   ]
  },
  {
   "cell_type": "code",
   "execution_count": 29,
   "metadata": {},
   "outputs": [],
   "source": [
    "lista_insultos = df_csv"
   ]
  },
  {
   "cell_type": "code",
   "execution_count": 30,
   "metadata": {},
   "outputs": [],
   "source": [
    "#tokens dentro de la misma columna\n",
    "def preprocessing(text):\n",
    "    #text = text.decode(\"utf8\")\n",
    "    # tokenize into words\n",
    "    tokens = [word for sent in nltk.sent_tokenize(text) for word in nltk.word_tokenize(sent)]\n",
    "\n",
    "    return tokens\n"
   ]
  },
  {
   "cell_type": "code",
   "execution_count": 31,
   "metadata": {},
   "outputs": [],
   "source": [
    "df_example['clean_text'] = df_example['clean_text'].astype(str)"
   ]
  },
  {
   "cell_type": "code",
   "execution_count": 32,
   "metadata": {},
   "outputs": [],
   "source": [
    "#df_example['token_text'] = df_example['clean_text'].apply(lambda x: preprocessing(x))\n",
    "df_example['token_text'] = df_example['TD'].apply(lambda x: preprocessing(x))"
   ]
  },
  {
   "cell_type": "code",
   "execution_count": 33,
   "metadata": {
    "scrolled": false
   },
   "outputs": [
    {
     "name": "stdout",
     "output_type": "stream",
     "text": [
      "Variable         Type                    Data/Info\n",
      "--------------------------------------------------\n",
      "Path             type                    <class 'pathlib.Path'>\n",
      "TextBlob         type                    <class 'textblob.blob.TextBlob'>\n",
      "Word             type                    <class 'textblob.blob.Word'>\n",
      "ax               AxesSubplot             AxesSubplot(0.125,0.125;0.775x0.755)\n",
      "cleanup_text     function                <function cleanup_text at 0x1a4f2e38c8>\n",
      "con              Connection              <cx_Oracle.Connection to <...>sweb_ij@10.10.2.223/MKTG>\n",
      "cx_Oracle        module                  <module 'cx_Oracle' from <...>e.cpython-37m-darwin.so'>\n",
      "df               DataFrame                        EXPERIENCE_ID   <...>636215 rows x 10 columns]\n",
      "df_csv           list                    n=479\n",
      "df_example       DataFrame                        EXPERIENCE_ID   <...>636215 rows x 10 columns]\n",
      "df_save          DataFrame                        RATINGEVENTOBJEC<...>1636215 rows x 6 columns]\n",
      "height           float64                 907421.0\n",
      "joblib           module                  <module 'sklearn.external<...>nals/joblib/__init__.py'>\n",
      "json             module                  <module 'json' from '/ana<...>hon3.7/json/__init__.py'>\n",
      "json_normalize   function                <function json_normalize at 0x11fca0bf8>\n",
      "label            int64                   907421\n",
      "labels           ndarray                 6: 6 elems, type `int64`, 48 bytes\n",
      "lista_insultos   list                    n=479\n",
      "nlp              Spanish                 <spacy.lang.es.Spanish object at 0x1a5b0a5fd0>\n",
      "nltk             module                  <module 'nltk' from '/ana<...>ckages/nltk/__init__.py'>\n",
      "np               module                  <module 'numpy' from '/an<...>kages/numpy/__init__.py'>\n",
      "pd               module                  <module 'pandas' from '/a<...>ages/pandas/__init__.py'>\n",
      "plt              module                  <module 'matplotlib.pyplo<...>es/matplotlib/pyplot.py'>\n",
      "preprocessing    function                <function preprocessing at 0x1c4e9346a8>\n",
      "punctuation      str                     !\"#$%&'()*+,-./:;<=>?@[\\]^_`{|}~\n",
      "rect             Rectangle               Rectangle(xy=(4.6, 0), wi<...>, height=907421, angle=0)\n",
      "rects            list                    n=6\n",
      "sns              module                  <module 'seaborn' from '/<...>ges/seaborn/__init__.py'>\n",
      "spacy            module                  <module 'spacy' from '/an<...>kages/spacy/__init__.py'>\n",
      "stop             list                    n=313\n",
      "stopwords        WordListCorpusReader    <WordListCorpusReader in <...>_data/corpora/stopwords'>\n",
      "string           module                  <module 'string' from '/a<...>lib/python3.7/string.py'>\n",
      "x                int                     478\n",
      "y                DataFrame                        Fecha  count_rev<...>n\\n[450 rows x 2 columns]\n"
     ]
    }
   ],
   "source": [
    "%whos"
   ]
  },
  {
   "cell_type": "markdown",
   "metadata": {},
   "source": [
    "Agregar nueva columna True/False, que busca dentro del texto que haga match con alguna palabra de la blacklist"
   ]
  },
  {
   "cell_type": "code",
   "execution_count": 34,
   "metadata": {},
   "outputs": [],
   "source": [
    "#Funcion que busca alguna palabra dentro de cada registro y que pertenezca al listado de insultos\n",
    "df_example['es_insulto'] = df_example['token_text'].apply(lambda x: any([k in x for k in lista_insultos]))"
   ]
  },
  {
   "cell_type": "markdown",
   "metadata": {},
   "source": [
    "### Plot del listado vs el total de reviews"
   ]
  },
  {
   "cell_type": "code",
   "execution_count": 35,
   "metadata": {},
   "outputs": [
    {
     "data": {
      "image/png": "[encoded data removed]",
      "text/plain": [
       "<Figure size 720x432 with 1 Axes>"
      ]
     },
     "metadata": {
      "needs_background": "light"
     },
     "output_type": "display_data"
    }
   ],
   "source": [
    "x = df_example['es_insulto'].value_counts () \n",
    "x = x.sort_index () \n",
    "plt.figure(figsize = (10,6)) \n",
    "ax = sns.barplot (x.index, x.values, alpha = 1) \n",
    "plt.title (\"Distribution de bad_words\") \n",
    "plt.ylabel ('count') \n",
    "plt.xlabel ('¿Es insulto?') \n",
    "rects = ax.patches \n",
    "labels = x.values \n",
    "for rect, label in zip (rects, labels): \n",
    "    height = rect.get_height () \n",
    "    ax.text (rect.get_x () + rect.get_width () / 2, height + 5, label, ha = 'center', va = 'bottom') \n",
    "plt.show ();"
   ]
  },
  {
   "cell_type": "markdown",
   "metadata": {},
   "source": [
    "Este primer paso encuentra 1361\n",
    "\n",
    "reviews con posibles insultos en su contenido"
   ]
  },
  {
   "cell_type": "markdown",
   "metadata": {},
   "source": [
    "#### Ver en profundidad si estos insultos tienen una nota mayor o menor a 3"
   ]
  },
  {
   "cell_type": "code",
   "execution_count": 36,
   "metadata": {},
   "outputs": [],
   "source": [
    "#dataframe con solo insulto = True\n",
    "df_insultos = df_example[df_example['es_insulto']==True]"
   ]
  },
  {
   "cell_type": "code",
   "execution_count": 37,
   "metadata": {},
   "outputs": [],
   "source": [
    "df_insultos.to_csv('df_insultos_dicc_2.csv', index= False)\n",
    "#, sep=';')"
   ]
  },
  {
   "cell_type": "code",
   "execution_count": 38,
   "metadata": {
    "scrolled": true
   },
   "outputs": [
    {
     "data": {
      "text/plain": [
       "(1361, 11)"
      ]
     },
     "execution_count": 38,
     "metadata": {},
     "output_type": "execute_result"
    }
   ],
   "source": [
    "df_insultos.shape"
   ]
  },
  {
   "cell_type": "code",
   "execution_count": 39,
   "metadata": {},
   "outputs": [
    {
     "data": {
      "text/html": [
       "<div>\n",
       "<style scoped>\n",
       "    .dataframe tbody tr th:only-of-type {\n",
       "        vertical-align: middle;\n",
       "    }\n",
       "\n",
       "    .dataframe tbody tr th {\n",
       "        vertical-align: top;\n",
       "    }\n",
       "\n",
       "    .dataframe thead th {\n",
       "        text-align: right;\n",
       "    }\n",
       "</style>\n",
       "<table border=\"1\" class=\"dataframe\">\n",
       "  <thead>\n",
       "    <tr style=\"text-align: right;\">\n",
       "      <th></th>\n",
       "      <th>EXPERIENCE_ID</th>\n",
       "      <th>FECHA</th>\n",
       "      <th>FECHA_REVIEW</th>\n",
       "      <th>RATING</th>\n",
       "      <th>TITLE</th>\n",
       "      <th>DESCRIPTION</th>\n",
       "      <th>TD</th>\n",
       "      <th>is_bad_review</th>\n",
       "      <th>clean_text</th>\n",
       "      <th>token_text</th>\n",
       "      <th>es_insulto</th>\n",
       "    </tr>\n",
       "  </thead>\n",
       "  <tbody>\n",
       "    <tr>\n",
       "      <th>869</th>\n",
       "      <td>34199066747</td>\n",
       "      <td>2019-09-19</td>\n",
       "      <td>2019-09-19</td>\n",
       "      <td>3</td>\n",
       "      <td>Estresante.</td>\n",
       "      <td>La satisfaccion de trabajar con personas que n...</td>\n",
       "      <td>Estresante. La satisfaccion de trabajar con pe...</td>\n",
       "      <td>0</td>\n",
       "      <td>estresante satisfaccion trabajar personar nece...</td>\n",
       "      <td>[Estresante, ., La, satisfaccion, de, trabajar...</td>\n",
       "      <td>True</td>\n",
       "    </tr>\n",
       "    <tr>\n",
       "      <th>11076</th>\n",
       "      <td>34195671537</td>\n",
       "      <td>2019-05-20</td>\n",
       "      <td>2019-05-20</td>\n",
       "      <td>3</td>\n",
       "      <td>Buenos compa?eros y siempre satisfactorio trab...</td>\n",
       "      <td>Dificil compatibilizar con otros empleos si no...</td>\n",
       "      <td>Buenos companeros y siempre satisfactorio trab...</td>\n",
       "      <td>0</td>\n",
       "      <td>buenos companeros siempre satisfactorio trabaj...</td>\n",
       "      <td>[Buenos, companeros, y, siempre, satisfactorio...</td>\n",
       "      <td>True</td>\n",
       "    </tr>\n",
       "    <tr>\n",
       "      <th>14620</th>\n",
       "      <td>34199146745</td>\n",
       "      <td>2019-09-21</td>\n",
       "      <td>2019-09-21</td>\n",
       "      <td>5</td>\n",
       "      <td>empresa ejemplar</td>\n",
       "      <td>muy buen trato a sus trabajadores y pagan todo...</td>\n",
       "      <td>empresa ejemplar muy buen trato a sus trabajad...</td>\n",
       "      <td>0</td>\n",
       "      <td>empresa ejemplar bueno tratar trabajador pagar...</td>\n",
       "      <td>[empresa, ejemplar, muy, buen, trato, a, sus, ...</td>\n",
       "      <td>True</td>\n",
       "    </tr>\n",
       "    <tr>\n",
       "      <th>19407</th>\n",
       "      <td>34201092287</td>\n",
       "      <td>2019-11-14</td>\n",
       "      <td>2019-11-14</td>\n",
       "      <td>3</td>\n",
       "      <td>100% recomendado una experiencia nueva</td>\n",
       "      <td>Bien aprendi mucho sobre el sector de la hoste...</td>\n",
       "      <td>100% recomendado una experiencia nueva Bien ap...</td>\n",
       "      <td>0</td>\n",
       "      <td>100 recomendar experiencia nuevo bien aprendi ...</td>\n",
       "      <td>[100, %, recomendado, una, experiencia, nueva,...</td>\n",
       "      <td>True</td>\n",
       "    </tr>\n",
       "    <tr>\n",
       "      <th>22973</th>\n",
       "      <td>34201350973</td>\n",
       "      <td>2019-11-22</td>\n",
       "      <td>2019-11-22</td>\n",
       "      <td>4</td>\n",
       "      <td>Regular</td>\n",
       "      <td>Un trabajo temporal que dependiendo del local ...</td>\n",
       "      <td>Regular Un trabajo temporal que dependiendo de...</td>\n",
       "      <td>0</td>\n",
       "      <td>regular trabajar temporal depender local tocar...</td>\n",
       "      <td>[Regular, Un, trabajo, temporal, que, dependie...</td>\n",
       "      <td>True</td>\n",
       "    </tr>\n",
       "    <tr>\n",
       "      <th>23870</th>\n",
       "      <td>34201349019</td>\n",
       "      <td>2019-11-22</td>\n",
       "      <td>2019-11-22</td>\n",
       "      <td>3</td>\n",
       "      <td>pagos retrasados</td>\n",
       "      <td>La empresa, ha ido en caida.</td>\n",
       "      <td>pagos retrasados La empresa, ha ido en caida.</td>\n",
       "      <td>0</td>\n",
       "      <td>pago retrasar empresa haber ir caida</td>\n",
       "      <td>[pagos, retrasados, La, empresa, ,, ha, ido, e...</td>\n",
       "      <td>True</td>\n",
       "    </tr>\n",
       "    <tr>\n",
       "      <th>24324</th>\n",
       "      <td>34196597363</td>\n",
       "      <td>2019-06-19</td>\n",
       "      <td>2019-06-19</td>\n",
       "      <td>4</td>\n",
       "      <td>Me formo en mis practicas</td>\n",
       "      <td>Una empresa que me ayudo a desarrollar mis put...</td>\n",
       "      <td>Me formo en mis practicas Una empresa que me a...</td>\n",
       "      <td>0</td>\n",
       "      <td>formar practicar empresa ayudar desarrollar pu...</td>\n",
       "      <td>[Me, formo, en, mis, practicas, Una, empresa, ...</td>\n",
       "      <td>True</td>\n",
       "    </tr>\n",
       "  </tbody>\n",
       "</table>\n",
       "</div>"
      ],
      "text/plain": [
       "       EXPERIENCE_ID      FECHA FECHA_REVIEW  RATING  \\\n",
       "869      34199066747 2019-09-19   2019-09-19       3   \n",
       "11076    34195671537 2019-05-20   2019-05-20       3   \n",
       "14620    34199146745 2019-09-21   2019-09-21       5   \n",
       "19407    34201092287 2019-11-14   2019-11-14       3   \n",
       "22973    34201350973 2019-11-22   2019-11-22       4   \n",
       "23870    34201349019 2019-11-22   2019-11-22       3   \n",
       "24324    34196597363 2019-06-19   2019-06-19       4   \n",
       "\n",
       "                                                   TITLE  \\\n",
       "869                                          Estresante.   \n",
       "11076  Buenos compa?eros y siempre satisfactorio trab...   \n",
       "14620                                   empresa ejemplar   \n",
       "19407             100% recomendado una experiencia nueva   \n",
       "22973                                            Regular   \n",
       "23870                                   pagos retrasados   \n",
       "24324                          Me formo en mis practicas   \n",
       "\n",
       "                                             DESCRIPTION  \\\n",
       "869    La satisfaccion de trabajar con personas que n...   \n",
       "11076  Dificil compatibilizar con otros empleos si no...   \n",
       "14620  muy buen trato a sus trabajadores y pagan todo...   \n",
       "19407  Bien aprendi mucho sobre el sector de la hoste...   \n",
       "22973  Un trabajo temporal que dependiendo del local ...   \n",
       "23870                       La empresa, ha ido en caida.   \n",
       "24324  Una empresa que me ayudo a desarrollar mis put...   \n",
       "\n",
       "                                                      TD  is_bad_review  \\\n",
       "869    Estresante. La satisfaccion de trabajar con pe...              0   \n",
       "11076  Buenos companeros y siempre satisfactorio trab...              0   \n",
       "14620  empresa ejemplar muy buen trato a sus trabajad...              0   \n",
       "19407  100% recomendado una experiencia nueva Bien ap...              0   \n",
       "22973  Regular Un trabajo temporal que dependiendo de...              0   \n",
       "23870      pagos retrasados La empresa, ha ido en caida.              0   \n",
       "24324  Me formo en mis practicas Una empresa que me a...              0   \n",
       "\n",
       "                                              clean_text  \\\n",
       "869    estresante satisfaccion trabajar personar nece...   \n",
       "11076  buenos companeros siempre satisfactorio trabaj...   \n",
       "14620  empresa ejemplar bueno tratar trabajador pagar...   \n",
       "19407  100 recomendar experiencia nuevo bien aprendi ...   \n",
       "22973  regular trabajar temporal depender local tocar...   \n",
       "23870               pago retrasar empresa haber ir caida   \n",
       "24324  formar practicar empresa ayudar desarrollar pu...   \n",
       "\n",
       "                                              token_text  es_insulto  \n",
       "869    [Estresante, ., La, satisfaccion, de, trabajar...        True  \n",
       "11076  [Buenos, companeros, y, siempre, satisfactorio...        True  \n",
       "14620  [empresa, ejemplar, muy, buen, trato, a, sus, ...        True  \n",
       "19407  [100, %, recomendado, una, experiencia, nueva,...        True  \n",
       "22973  [Regular, Un, trabajo, temporal, que, dependie...        True  \n",
       "23870  [pagos, retrasados, La, empresa, ,, ha, ido, e...        True  \n",
       "24324  [Me, formo, en, mis, practicas, Una, empresa, ...        True  "
      ]
     },
     "execution_count": 39,
     "metadata": {},
     "output_type": "execute_result"
    }
   ],
   "source": [
    "df_insultos[df_insultos['is_bad_review']==0].head(7)"
   ]
  },
  {
   "cell_type": "markdown",
   "metadata": {},
   "source": [
    "Ahora que tenemos este nuevo dataframe vamos a ver la distribucion segun las estrellas de cada valoracion"
   ]
  },
  {
   "cell_type": "markdown",
   "metadata": {},
   "source": [
    "### Plot de flag = true y con score menor a 3"
   ]
  },
  {
   "cell_type": "code",
   "execution_count": 40,
   "metadata": {
    "scrolled": false
   },
   "outputs": [
    {
     "data": {
      "image/png": "[encoded data removed]",
      "text/plain": [
       "<Figure size 720x432 with 1 Axes>"
      ]
     },
     "metadata": {
      "needs_background": "light"
     },
     "output_type": "display_data"
    }
   ],
   "source": [
    "x = df_insultos['is_bad_review'].value_counts () \n",
    "x = x.sort_index () \n",
    "plt.figure(figsize = (10,6)) \n",
    "ax = sns.barplot (x.index, x.values, alpha = 0.8) \n",
    "plt.title (\"Distribucition: score < 3?\") \n",
    "plt.ylabel ('count') \n",
    "plt.xlabel ('is bad review') \n",
    "rects = ax.patches \n",
    "labels = x.values \n",
    "for rect, label in zip (rects, labels): \n",
    "    height = rect.get_height () \n",
    "    ax.text (rect.get_x () + rect.get_width () / 2, height + 5, label, ha = 'center', va = 'bottom') \n",
    "plt.show ();"
   ]
  },
  {
   "cell_type": "markdown",
   "metadata": {},
   "source": [
    "Existen 950 reviews, las cuales tienen alguna palabra ofensiva y ademas tienen una puntuacion menor a 3 estrellas"
   ]
  },
  {
   "cell_type": "code",
   "execution_count": 41,
   "metadata": {},
   "outputs": [],
   "source": [
    "x = df_insultos['FECHA'].value_counts () \n",
    "y = pd.DataFrame(x)"
   ]
  },
  {
   "cell_type": "code",
   "execution_count": 42,
   "metadata": {},
   "outputs": [],
   "source": [
    "y=y.reset_index(level=0)"
   ]
  },
  {
   "cell_type": "code",
   "execution_count": 43,
   "metadata": {},
   "outputs": [],
   "source": [
    "y = y.rename(columns={\"index\": \"Fecha\"\n",
    "                            ,\"FECHA\": \"count_review\"\n",
    "                           })"
   ]
  },
  {
   "cell_type": "code",
   "execution_count": 44,
   "metadata": {},
   "outputs": [],
   "source": [
    "y['Fecha'] = pd.to_datetime(y['Fecha'])"
   ]
  },
  {
   "cell_type": "code",
   "execution_count": 45,
   "metadata": {
    "scrolled": false
   },
   "outputs": [
    {
     "data": {
      "image/png": "[encoded data removed]",
      "text/plain": [
       "<Figure size 720x432 with 1 Axes>"
      ]
     },
     "metadata": {
      "needs_background": "light"
     },
     "output_type": "display_data"
    }
   ],
   "source": [
    "plt.figure(figsize = (10,6)) \n",
    "plt.title (\"Reviews por día\") \n",
    "ax = sns.lineplot(x=\"Fecha\", y=\"count_review\", data=y)"
   ]
  },
  {
   "cell_type": "markdown",
   "metadata": {},
   "source": [
    "Diariamente no hay mas de 15 Reviews consideradas ofensivas con este primer modelo"
   ]
  },
  {
   "cell_type": "markdown",
   "metadata": {},
   "source": [
    "### Ahora el mismo analisis pero con Normalizacion de Empresas"
   ]
  },
  {
   "cell_type": "markdown",
   "metadata": {},
   "source": [
    "el modelo anterior considera todas las posibles reviews (lo cual debe ser), solo se hará este paso con empresas normalizadas ya que es lo que realmente se esta pintando. Para analizar las reviews se debe considerar el volumen TOTAL"
   ]
  },
  {
   "cell_type": "code",
   "execution_count": 46,
   "metadata": {},
   "outputs": [],
   "source": [
    "#Load the data\n",
    "df_company_reviews = pd.read_csv('reviews_all_df.csv')#, encoding='', sep='|', header=None)"
   ]
  },
  {
   "cell_type": "code",
   "execution_count": 47,
   "metadata": {
    "scrolled": true
   },
   "outputs": [
    {
     "data": {
      "text/plain": [
       "(548272, 8)"
      ]
     },
     "execution_count": 47,
     "metadata": {},
     "output_type": "execute_result"
    }
   ],
   "source": [
    "df_company_reviews.shape"
   ]
  },
  {
   "cell_type": "markdown",
   "metadata": {},
   "source": [
    "se reduce la cantidad de 1,5MM a 548k de reviews, todo el resto no cruza con empresas normalizas por lo cual no se pueden pintar"
   ]
  },
  {
   "cell_type": "code",
   "execution_count": 48,
   "metadata": {
    "scrolled": false
   },
   "outputs": [
    {
     "data": {
      "image/png": "[encoded data removed]",
      "text/plain": [
       "<Figure size 720x432 with 1 Axes>"
      ]
     },
     "metadata": {
      "needs_background": "light"
     },
     "output_type": "display_data"
    }
   ],
   "source": [
    "x = df_company_reviews['SCORE'].value_counts () \n",
    "x = x.sort_index () \n",
    "plt.figure(figsize = (10,6)) \n",
    "ax = sns.barplot (x.index, x.values, alpha = 0.8) \n",
    "plt.title (\"Star Rating Distribution Norm\") \n",
    "plt.ylabel ('count') \n",
    "plt.xlabel ('Star Ratings') \n",
    "rects = ax.patches \n",
    "labels = x.values \n",
    "for rect, label in zip (rects, labels): \n",
    "    height = rect.get_height () \n",
    "    ax.text (rect.get_x () + rect.get_width () / 2, height + 5, label, ha = 'center', va = 'bottom') \n",
    "plt.show ();"
   ]
  },
  {
   "cell_type": "markdown",
   "metadata": {},
   "source": [
    "potencial de revies con contenido ofensivo 32k + 26k"
   ]
  },
  {
   "cell_type": "markdown",
   "metadata": {},
   "source": [
    "Si queremos ver por dia:"
   ]
  },
  {
   "cell_type": "code",
   "execution_count": 49,
   "metadata": {},
   "outputs": [],
   "source": [
    "x = df_company_reviews['DATE_REVIEW'].value_counts () \n",
    "y = pd.DataFrame(x)"
   ]
  },
  {
   "cell_type": "code",
   "execution_count": 50,
   "metadata": {
    "scrolled": true
   },
   "outputs": [],
   "source": [
    "y=y.reset_index(level=0)"
   ]
  },
  {
   "cell_type": "code",
   "execution_count": 51,
   "metadata": {},
   "outputs": [],
   "source": [
    "y = y.rename(columns={\"index\": \"Fecha\"\n",
    "                            ,\"DATE_REVIEW\": \"count_review\"\n",
    "                           })"
   ]
  },
  {
   "cell_type": "code",
   "execution_count": 52,
   "metadata": {},
   "outputs": [],
   "source": [
    "y['Fecha'] = pd.to_datetime(y['Fecha'])"
   ]
  },
  {
   "cell_type": "code",
   "execution_count": 53,
   "metadata": {
    "scrolled": false
   },
   "outputs": [
    {
     "data": {
      "image/png": "[encoded data removed]",
      "text/plain": [
       "<Figure size 720x432 with 1 Axes>"
      ]
     },
     "metadata": {
      "needs_background": "light"
     },
     "output_type": "display_data"
    }
   ],
   "source": [
    "plt.figure(figsize = (10,6)) \n",
    "plt.title (\"Reviews por día\") \n",
    "ax = sns.lineplot(x=\"Fecha\", y=\"count_review\", data=y)"
   ]
  },
  {
   "cell_type": "markdown",
   "metadata": {},
   "source": [
    "Actualmente no supera las 4000 reviews normalizadas por dia"
   ]
  },
  {
   "cell_type": "markdown",
   "metadata": {},
   "source": [
    "A continuacion se aplica la misma funcion que detecta el contenido dentro de la review con alguna palabra de la blacklist"
   ]
  },
  {
   "cell_type": "code",
   "execution_count": 54,
   "metadata": {},
   "outputs": [],
   "source": [
    "#df['T+D'] = df[['TITLE', 'DESCRIPTION']].apply(lambda x: ''.join(x), axis=1)\n",
    "df_company_reviews['TD'] = df_company_reviews.TITLE.astype(str).str.cat(df_company_reviews.DESCRIPTION.astype(str), sep=' ')"
   ]
  },
  {
   "cell_type": "code",
   "execution_count": 55,
   "metadata": {},
   "outputs": [],
   "source": [
    "df_company_reviews = df_company_reviews[df_company_reviews['TD'].notnull()]"
   ]
  },
  {
   "cell_type": "code",
   "execution_count": 56,
   "metadata": {},
   "outputs": [],
   "source": [
    "df_company_reviews['clean_text'] = df_company_reviews['TD'].apply(lambda x: cleanup_text(x, False))"
   ]
  },
  {
   "cell_type": "code",
   "execution_count": 57,
   "metadata": {},
   "outputs": [],
   "source": [
    "df_company_reviews['token_text'] = df_company_reviews['clean_text'].apply(lambda x: preprocessing(x))"
   ]
  },
  {
   "cell_type": "code",
   "execution_count": 58,
   "metadata": {},
   "outputs": [],
   "source": [
    "df_company_reviews['es_insulto'] = df_company_reviews['token_text'].apply(lambda x: \n",
    "                                                                          any([k in x for k in lista_insultos]))"
   ]
  },
  {
   "cell_type": "code",
   "execution_count": 59,
   "metadata": {},
   "outputs": [],
   "source": [
    "df_company_reviews[\"is_bad_review\"] = df_company_reviews[\"SCORE\"].apply(lambda x: 1 if x < 3 else 0)"
   ]
  },
  {
   "cell_type": "code",
   "execution_count": 60,
   "metadata": {
    "scrolled": false
   },
   "outputs": [
    {
     "data": {
      "image/png": "[encoded data removed]",
      "text/plain": [
       "<Figure size 720x432 with 1 Axes>"
      ]
     },
     "metadata": {
      "needs_background": "light"
     },
     "output_type": "display_data"
    }
   ],
   "source": [
    "x = df_company_reviews['es_insulto'].value_counts () \n",
    "x = x.sort_index () \n",
    "plt.figure(figsize = (10,6)) \n",
    "ax = sns.barplot (x.index, x.values, alpha = 0.8) \n",
    "plt.title (\"es insulto Distribution\") \n",
    "plt.ylabel ('count') \n",
    "plt.xlabel ('es insulto') \n",
    "rects = ax.patches \n",
    "labels = x.values \n",
    "for rect, label in zip (rects, labels): \n",
    "    height = rect.get_height () \n",
    "    ax.text (rect.get_x () + rect.get_width () / 2, height + 5, label, ha = 'center', va = 'bottom') \n",
    "plt.show ();"
   ]
  },
  {
   "cell_type": "markdown",
   "metadata": {},
   "source": [
    "Se detectan 540 reviews normalizadas con posible contenido ofensivo"
   ]
  },
  {
   "cell_type": "code",
   "execution_count": 61,
   "metadata": {},
   "outputs": [],
   "source": [
    "df_insultos_norm = df_company_reviews[df_company_reviews['es_insulto']==True]"
   ]
  },
  {
   "cell_type": "code",
   "execution_count": 62,
   "metadata": {},
   "outputs": [
    {
     "data": {
      "text/plain": [
       "(553, 13)"
      ]
     },
     "execution_count": 62,
     "metadata": {},
     "output_type": "execute_result"
    }
   ],
   "source": [
    "df_insultos_norm.shape"
   ]
  },
  {
   "cell_type": "code",
   "execution_count": 63,
   "metadata": {
    "scrolled": false
   },
   "outputs": [
    {
     "data": {
      "image/png": "[encoded data removed]",
      "text/plain": [
       "<Figure size 720x432 with 1 Axes>"
      ]
     },
     "metadata": {
      "needs_background": "light"
     },
     "output_type": "display_data"
    }
   ],
   "source": [
    "x = df_insultos_norm['is_bad_review'].value_counts () \n",
    "x = x.sort_index () \n",
    "plt.figure(figsize = (10,6)) \n",
    "ax = sns.barplot (x.index, x.values, alpha = 0.8) \n",
    "plt.title (\"es insulto Distribution\") \n",
    "plt.ylabel ('count') \n",
    "plt.xlabel ('is_bad_review') \n",
    "rects = ax.patches \n",
    "labels = x.values \n",
    "for rect, label in zip (rects, labels): \n",
    "    height = rect.get_height () \n",
    "    ax.text (rect.get_x () + rect.get_width () / 2, height + 5, label, ha = 'center', va = 'bottom') \n",
    "plt.show ();"
   ]
  },
  {
   "cell_type": "markdown",
   "metadata": {},
   "source": [
    "de las cuales 250 tienen una puntuacion menor a 3 estrellas."
   ]
  },
  {
   "cell_type": "markdown",
   "metadata": {},
   "source": [
    "Exportamos nuestros ID para hacer el cruce en el dashboard:"
   ]
  },
  {
   "cell_type": "code",
   "execution_count": 64,
   "metadata": {
    "scrolled": true
   },
   "outputs": [],
   "source": [
    "id_bad_reviews = df_insultos[['EXPERIENCE_ID']]"
   ]
  },
  {
   "cell_type": "code",
   "execution_count": 65,
   "metadata": {
    "scrolled": false
   },
   "outputs": [
    {
     "data": {
      "text/html": [
       "<div>\n",
       "<style scoped>\n",
       "    .dataframe tbody tr th:only-of-type {\n",
       "        vertical-align: middle;\n",
       "    }\n",
       "\n",
       "    .dataframe tbody tr th {\n",
       "        vertical-align: top;\n",
       "    }\n",
       "\n",
       "    .dataframe thead th {\n",
       "        text-align: right;\n",
       "    }\n",
       "</style>\n",
       "<table border=\"1\" class=\"dataframe\">\n",
       "  <thead>\n",
       "    <tr style=\"text-align: right;\">\n",
       "      <th></th>\n",
       "      <th>EXPERIENCE_ID</th>\n",
       "      <th>FECHA</th>\n",
       "      <th>FECHA_REVIEW</th>\n",
       "      <th>RATING</th>\n",
       "      <th>TITLE</th>\n",
       "      <th>DESCRIPTION</th>\n",
       "      <th>TD</th>\n",
       "      <th>is_bad_review</th>\n",
       "      <th>clean_text</th>\n",
       "      <th>token_text</th>\n",
       "      <th>es_insulto</th>\n",
       "    </tr>\n",
       "  </thead>\n",
       "  <tbody>\n",
       "    <tr>\n",
       "      <th>869</th>\n",
       "      <td>34199066747</td>\n",
       "      <td>2019-09-19</td>\n",
       "      <td>2019-09-19</td>\n",
       "      <td>3</td>\n",
       "      <td>Estresante.</td>\n",
       "      <td>La satisfaccion de trabajar con personas que n...</td>\n",
       "      <td>Estresante. La satisfaccion de trabajar con pe...</td>\n",
       "      <td>0</td>\n",
       "      <td>estresante satisfaccion trabajar personar nece...</td>\n",
       "      <td>[Estresante, ., La, satisfaccion, de, trabajar...</td>\n",
       "      <td>True</td>\n",
       "    </tr>\n",
       "    <tr>\n",
       "      <th>1850</th>\n",
       "      <td>34198200321</td>\n",
       "      <td>2019-09-14</td>\n",
       "      <td>2019-09-14</td>\n",
       "      <td>1</td>\n",
       "      <td>Sueldo mal pagado, horas extras no pagadas, ma...</td>\n",
       "      <td>Personalmente a mi me ofrecieron unas condicio...</td>\n",
       "      <td>Sueldo mal pagado, horas extras no pagadas, ma...</td>\n",
       "      <td>1</td>\n",
       "      <td>sueldo mal pagar hora extra pagar mal tratar t...</td>\n",
       "      <td>[Sueldo, mal, pagado, ,, horas, extras, no, pa...</td>\n",
       "      <td>True</td>\n",
       "    </tr>\n",
       "    <tr>\n",
       "      <th>1938</th>\n",
       "      <td>33610057044</td>\n",
       "      <td>2018-10-22</td>\n",
       "      <td>2018-10-22</td>\n",
       "      <td>2</td>\n",
       "      <td>Tipo de contrato inicial deberia ser indefinid...</td>\n",
       "      <td>Me parece bastante feo que hagan contratos en ...</td>\n",
       "      <td>Tipo de contrato inicial deberia ser indefinid...</td>\n",
       "      <td>1</td>\n",
       "      <td>tipo contratar inicial deberia ser indefinido ...</td>\n",
       "      <td>[Tipo, de, contrato, inicial, deberia, ser, in...</td>\n",
       "      <td>True</td>\n",
       "    </tr>\n",
       "    <tr>\n",
       "      <th>3581</th>\n",
       "      <td>34197931950</td>\n",
       "      <td>2019-08-14</td>\n",
       "      <td>2019-08-14</td>\n",
       "      <td>1</td>\n",
       "      <td>muy mala la valoracion</td>\n",
       "      <td>una mierda</td>\n",
       "      <td>muy mala la valoracion una mierda</td>\n",
       "      <td>1</td>\n",
       "      <td>malo valoracion mierda</td>\n",
       "      <td>[muy, mala, la, valoracion, una, mierda]</td>\n",
       "      <td>True</td>\n",
       "    </tr>\n",
       "    <tr>\n",
       "      <th>5162</th>\n",
       "      <td>30113280474</td>\n",
       "      <td>2019-10-09</td>\n",
       "      <td>2019-10-09</td>\n",
       "      <td>1</td>\n",
       "      <td>lo mas importante es comerle los huevos a los ...</td>\n",
       "      <td>Empresa dediacada a la distribucion de recambi...</td>\n",
       "      <td>lo mas importante es comerle los huevos a los ...</td>\n",
       "      <td>1</td>\n",
       "      <td>mas importante ser comerle huevo jefe secretar...</td>\n",
       "      <td>[lo, mas, importante, es, comerle, los, huevos...</td>\n",
       "      <td>True</td>\n",
       "    </tr>\n",
       "  </tbody>\n",
       "</table>\n",
       "</div>"
      ],
      "text/plain": [
       "      EXPERIENCE_ID      FECHA FECHA_REVIEW  RATING  \\\n",
       "869     34199066747 2019-09-19   2019-09-19       3   \n",
       "1850    34198200321 2019-09-14   2019-09-14       1   \n",
       "1938    33610057044 2018-10-22   2018-10-22       2   \n",
       "3581    34197931950 2019-08-14   2019-08-14       1   \n",
       "5162    30113280474 2019-10-09   2019-10-09       1   \n",
       "\n",
       "                                                  TITLE  \\\n",
       "869                                         Estresante.   \n",
       "1850  Sueldo mal pagado, horas extras no pagadas, ma...   \n",
       "1938  Tipo de contrato inicial deberia ser indefinid...   \n",
       "3581                             muy mala la valoracion   \n",
       "5162  lo mas importante es comerle los huevos a los ...   \n",
       "\n",
       "                                            DESCRIPTION  \\\n",
       "869   La satisfaccion de trabajar con personas que n...   \n",
       "1850  Personalmente a mi me ofrecieron unas condicio...   \n",
       "1938  Me parece bastante feo que hagan contratos en ...   \n",
       "3581                                         una mierda   \n",
       "5162  Empresa dediacada a la distribucion de recambi...   \n",
       "\n",
       "                                                     TD  is_bad_review  \\\n",
       "869   Estresante. La satisfaccion de trabajar con pe...              0   \n",
       "1850  Sueldo mal pagado, horas extras no pagadas, ma...              1   \n",
       "1938  Tipo de contrato inicial deberia ser indefinid...              1   \n",
       "3581                  muy mala la valoracion una mierda              1   \n",
       "5162  lo mas importante es comerle los huevos a los ...              1   \n",
       "\n",
       "                                             clean_text  \\\n",
       "869   estresante satisfaccion trabajar personar nece...   \n",
       "1850  sueldo mal pagar hora extra pagar mal tratar t...   \n",
       "1938  tipo contratar inicial deberia ser indefinido ...   \n",
       "3581                             malo valoracion mierda   \n",
       "5162  mas importante ser comerle huevo jefe secretar...   \n",
       "\n",
       "                                             token_text  es_insulto  \n",
       "869   [Estresante, ., La, satisfaccion, de, trabajar...        True  \n",
       "1850  [Sueldo, mal, pagado, ,, horas, extras, no, pa...        True  \n",
       "1938  [Tipo, de, contrato, inicial, deberia, ser, in...        True  \n",
       "3581           [muy, mala, la, valoracion, una, mierda]        True  \n",
       "5162  [lo, mas, importante, es, comerle, los, huevos...        True  "
      ]
     },
     "execution_count": 65,
     "metadata": {},
     "output_type": "execute_result"
    }
   ],
   "source": [
    "df_insultos.head()"
   ]
  },
  {
   "cell_type": "code",
   "execution_count": 66,
   "metadata": {},
   "outputs": [],
   "source": [
    "id_bad_reviews.to_csv('id_bad_reviews.csv', index= False)\n",
    "#, sep=';')"
   ]
  },
  {
   "cell_type": "markdown",
   "metadata": {},
   "source": [
    "## Analizar distribucion de reviews con caracteres especiales"
   ]
  },
  {
   "cell_type": "markdown",
   "metadata": {},
   "source": [
    "#### Para detectar Emails, caracteres repetidos, numeros y puntos."
   ]
  },
  {
   "cell_type": "code",
   "execution_count": 67,
   "metadata": {
    "scrolled": true
   },
   "outputs": [
    {
     "data": {
      "text/html": [
       "<div>\n",
       "<style scoped>\n",
       "    .dataframe tbody tr th:only-of-type {\n",
       "        vertical-align: middle;\n",
       "    }\n",
       "\n",
       "    .dataframe tbody tr th {\n",
       "        vertical-align: top;\n",
       "    }\n",
       "\n",
       "    .dataframe thead th {\n",
       "        text-align: right;\n",
       "    }\n",
       "</style>\n",
       "<table border=\"1\" class=\"dataframe\">\n",
       "  <thead>\n",
       "    <tr style=\"text-align: right;\">\n",
       "      <th></th>\n",
       "      <th>Name</th>\n",
       "      <th>review</th>\n",
       "      <th>out</th>\n",
       "    </tr>\n",
       "  </thead>\n",
       "  <tbody>\n",
       "    <tr>\n",
       "      <th>0</th>\n",
       "      <td>Amy</td>\n",
       "      <td>hola estaa!, review es ejemplo.</td>\n",
       "      <td>None</td>\n",
       "    </tr>\n",
       "    <tr>\n",
       "      <th>1</th>\n",
       "      <td>Ben</td>\n",
       "      <td>-.,!\"·$%\"</td>\n",
       "      <td>&lt;re.Match object; span=(0, 9), match='-.,!\"·$%\"'&gt;</td>\n",
       "    </tr>\n",
       "    <tr>\n",
       "      <th>2</th>\n",
       "      <td>Christine</td>\n",
       "      <td>hola cris@hola.com</td>\n",
       "      <td>None</td>\n",
       "    </tr>\n",
       "    <tr>\n",
       "      <th>3</th>\n",
       "      <td>David</td>\n",
       "      <td>AA aaaaaaaasssssssaaaaaaaa</td>\n",
       "      <td>None</td>\n",
       "    </tr>\n",
       "  </tbody>\n",
       "</table>\n",
       "</div>"
      ],
      "text/plain": [
       "        Name                           review  \\\n",
       "0        Amy  hola estaa!, review es ejemplo.   \n",
       "1        Ben                        -.,!\"·$%\"   \n",
       "2  Christine               hola cris@hola.com   \n",
       "3      David       AA aaaaaaaasssssssaaaaaaaa   \n",
       "\n",
       "                                                 out  \n",
       "0                                               None  \n",
       "1  <re.Match object; span=(0, 9), match='-.,!\"·$%\"'>  \n",
       "2                                               None  \n",
       "3                                               None  "
      ]
     },
     "execution_count": 67,
     "metadata": {},
     "output_type": "execute_result"
    }
   ],
   "source": [
    "import re\n",
    "\n",
    "df = pd.DataFrame({'Name': ['Amy', 'Ben', 'Christine', 'David'],\n",
    "                    'review': ['hola estaa!, review es ejemplo.',\n",
    "                              '-.,!\"·$%\"',\n",
    "                              'hola cris@hola.com',\n",
    "                              'AA aaaaaaaasssssssaaaaaaaa']},\n",
    "                    columns=['Name', 'review'])\n",
    "df\n",
    "\n",
    "#p = r'[a-z._0-9]+@[a-z]+\\.[a-z]{2,3}' # emails\n",
    "p = r'^[\\W_0-9]+$' #solo numeros y/o caracteres especiales como -.,!\"·$%\"' o %&23,$3253$56%\n",
    "#p = r'^[0-9]+$' #numeros... mejor la anterior ya que cumple con ambos criterios\n",
    "#p = r'(.)\\1{2,}' #algun caracter duplicado mas de dos veces por ejemplo \"hooola\"\n",
    "\n",
    "#p =r'^[0-9 .,!-*%&]+$' #numeros y algunos puntos (para decimales por ejemplo)\n",
    "\n",
    "#df['out'] = df['review'].astype(str).str.lower().apply(lambda x: re.search(p, x))\n",
    "df['out'] = df['review'].apply(lambda x: re.search(p, x))\n",
    "df"
   ]
  },
  {
   "cell_type": "markdown",
   "metadata": {},
   "source": [
    "Esta parte solo hace match con caractere especiales y  numeros"
   ]
  },
  {
   "cell_type": "code",
   "execution_count": 68,
   "metadata": {},
   "outputs": [],
   "source": [
    "df_final = df_example #guardar paso anterior"
   ]
  },
  {
   "cell_type": "code",
   "execution_count": 69,
   "metadata": {},
   "outputs": [],
   "source": [
    "df_final['TITLE'] = df_final['TITLE'].astype(str)\n",
    "df_final['DESCRIPTION'] = df_final['DESCRIPTION'].astype(str)"
   ]
  },
  {
   "cell_type": "code",
   "execution_count": 70,
   "metadata": {},
   "outputs": [],
   "source": [
    "p = r'^[\\W_0-9]+$'\n",
    "\n",
    "df_final['title_is_punct'] = df_final['TITLE'].apply(lambda x: re.search(p, x))\n",
    "df_final['title_is_punct'] = df_final['title_is_punct'].apply(lambda x: True if x != None else False)\n",
    "\n",
    "df_final['desc_is_punct'] = df_final['DESCRIPTION'].apply(lambda x: re.search(p, x))\n",
    "df_final['desc_is_punct'] = df_final['desc_is_punct'].apply(lambda x: True if x != None else False)"
   ]
  },
  {
   "cell_type": "code",
   "execution_count": 71,
   "metadata": {},
   "outputs": [
    {
     "data": {
      "text/html": [
       "<div>\n",
       "<style scoped>\n",
       "    .dataframe tbody tr th:only-of-type {\n",
       "        vertical-align: middle;\n",
       "    }\n",
       "\n",
       "    .dataframe tbody tr th {\n",
       "        vertical-align: top;\n",
       "    }\n",
       "\n",
       "    .dataframe thead th {\n",
       "        text-align: right;\n",
       "    }\n",
       "</style>\n",
       "<table border=\"1\" class=\"dataframe\">\n",
       "  <thead>\n",
       "    <tr style=\"text-align: right;\">\n",
       "      <th></th>\n",
       "      <th>EXPERIENCE_ID</th>\n",
       "      <th>FECHA</th>\n",
       "      <th>FECHA_REVIEW</th>\n",
       "      <th>RATING</th>\n",
       "      <th>TITLE</th>\n",
       "      <th>DESCRIPTION</th>\n",
       "      <th>TD</th>\n",
       "      <th>is_bad_review</th>\n",
       "      <th>clean_text</th>\n",
       "      <th>token_text</th>\n",
       "      <th>es_insulto</th>\n",
       "      <th>title_is_punct</th>\n",
       "      <th>desc_is_punct</th>\n",
       "    </tr>\n",
       "  </thead>\n",
       "  <tbody>\n",
       "    <tr>\n",
       "      <th>3</th>\n",
       "      <td>34191631675</td>\n",
       "      <td>2019-01-14</td>\n",
       "      <td>2019-01-14</td>\n",
       "      <td>3</td>\n",
       "      <td>.</td>\n",
       "      <td>.</td>\n",
       "      <td>. .</td>\n",
       "      <td>0</td>\n",
       "      <td></td>\n",
       "      <td>[., .]</td>\n",
       "      <td>False</td>\n",
       "      <td>True</td>\n",
       "      <td>True</td>\n",
       "    </tr>\n",
       "    <tr>\n",
       "      <th>14</th>\n",
       "      <td>34198055010</td>\n",
       "      <td>2019-08-20</td>\n",
       "      <td>2019-08-20</td>\n",
       "      <td>1</td>\n",
       "      <td>0</td>\n",
       "      <td>0</td>\n",
       "      <td>0 0</td>\n",
       "      <td>1</td>\n",
       "      <td>0 0</td>\n",
       "      <td>[0, 0]</td>\n",
       "      <td>False</td>\n",
       "      <td>True</td>\n",
       "      <td>True</td>\n",
       "    </tr>\n",
       "    <tr>\n",
       "      <th>38</th>\n",
       "      <td>34199791155</td>\n",
       "      <td>2019-10-07</td>\n",
       "      <td>2019-10-07</td>\n",
       "      <td>3</td>\n",
       "      <td>8</td>\n",
       "      <td>8</td>\n",
       "      <td>8 8</td>\n",
       "      <td>0</td>\n",
       "      <td>8 8</td>\n",
       "      <td>[8, 8]</td>\n",
       "      <td>False</td>\n",
       "      <td>True</td>\n",
       "      <td>True</td>\n",
       "    </tr>\n",
       "    <tr>\n",
       "      <th>48</th>\n",
       "      <td>34192317187</td>\n",
       "      <td>2019-02-01</td>\n",
       "      <td>2019-02-01</td>\n",
       "      <td>5</td>\n",
       "      <td>.</td>\n",
       "      <td>.</td>\n",
       "      <td>. .</td>\n",
       "      <td>0</td>\n",
       "      <td></td>\n",
       "      <td>[., .]</td>\n",
       "      <td>False</td>\n",
       "      <td>True</td>\n",
       "      <td>True</td>\n",
       "    </tr>\n",
       "    <tr>\n",
       "      <th>57</th>\n",
       "      <td>34198159219</td>\n",
       "      <td>2019-08-25</td>\n",
       "      <td>2019-08-25</td>\n",
       "      <td>3</td>\n",
       "      <td>.</td>\n",
       "      <td>.</td>\n",
       "      <td>. .</td>\n",
       "      <td>0</td>\n",
       "      <td></td>\n",
       "      <td>[., .]</td>\n",
       "      <td>False</td>\n",
       "      <td>True</td>\n",
       "      <td>True</td>\n",
       "    </tr>\n",
       "  </tbody>\n",
       "</table>\n",
       "</div>"
      ],
      "text/plain": [
       "    EXPERIENCE_ID      FECHA FECHA_REVIEW  RATING TITLE DESCRIPTION   TD  \\\n",
       "3     34191631675 2019-01-14   2019-01-14       3     .           .  . .   \n",
       "14    34198055010 2019-08-20   2019-08-20       1     0           0  0 0   \n",
       "38    34199791155 2019-10-07   2019-10-07       3     8           8  8 8   \n",
       "48    34192317187 2019-02-01   2019-02-01       5     .           .  . .   \n",
       "57    34198159219 2019-08-25   2019-08-25       3     .           .  . .   \n",
       "\n",
       "    is_bad_review clean_text token_text  es_insulto  title_is_punct  \\\n",
       "3               0                [., .]       False            True   \n",
       "14              1        0 0     [0, 0]       False            True   \n",
       "38              0        8 8     [8, 8]       False            True   \n",
       "48              0                [., .]       False            True   \n",
       "57              0                [., .]       False            True   \n",
       "\n",
       "    desc_is_punct  \n",
       "3            True  \n",
       "14           True  \n",
       "38           True  \n",
       "48           True  \n",
       "57           True  "
      ]
     },
     "execution_count": 71,
     "metadata": {},
     "output_type": "execute_result"
    }
   ],
   "source": [
    "df_final[(df_final['title_is_punct']==True)&(df_final['desc_is_punct']==True)].head()"
   ]
  },
  {
   "cell_type": "markdown",
   "metadata": {},
   "source": [
    "Analizar de que plataforma provienen estas review (Titulo y desc con caracteres especiales)"
   ]
  },
  {
   "cell_type": "code",
   "execution_count": 46,
   "metadata": {},
   "outputs": [],
   "source": [
    "df_puntos = df_final[(df_final['title_is_punct']==True)&(df_final['desc_is_punct']==True)]"
   ]
  },
  {
   "cell_type": "code",
   "execution_count": 47,
   "metadata": {},
   "outputs": [
    {
     "name": "stdout",
     "output_type": "stream",
     "text": [
      "11.2.0.3.0\n"
     ]
    }
   ],
   "source": [
    "#TODAS LAS REVIEWS EXISTENTES EN DWH y su plataforma\n",
    "con =  cx_Oracle.connect('comprasweb_ij/Xxxx1234!@10.10.2.223/MKTG')\n",
    "print(con.version)\n",
    "\n",
    "df_platform = pd.read_sql_query('''\n",
    "SELECT \n",
    "RATINGEVENTOBJECTTARGETID as EXPERIENCE_ID\n",
    ",PROVIDERCHANNEL\n",
    "FROM \n",
    "DWHPRO.COMPANY_REVIEW\n",
    "GROUP BY \n",
    "RATINGEVENTOBJECTTARGETID\n",
    ",PROVIDERCHANNEL\n",
    "''', con)\n",
    "\n",
    "con.close()"
   ]
  },
  {
   "cell_type": "code",
   "execution_count": 48,
   "metadata": {},
   "outputs": [
    {
     "data": {
      "text/plain": [
       "(1636184, 2)"
      ]
     },
     "execution_count": 48,
     "metadata": {},
     "output_type": "execute_result"
    }
   ],
   "source": [
    "df_platform.shape"
   ]
  },
  {
   "cell_type": "code",
   "execution_count": 49,
   "metadata": {},
   "outputs": [],
   "source": [
    "df_puntos = df_puntos.merge(df_platform,how='left',on = 'EXPERIENCE_ID')"
   ]
  },
  {
   "cell_type": "code",
   "execution_count": 50,
   "metadata": {},
   "outputs": [],
   "source": [
    "df_puntos.to_csv('df_puntos.csv', index= False)\n",
    "#, sep=';')"
   ]
  },
  {
   "cell_type": "code",
   "execution_count": 51,
   "metadata": {},
   "outputs": [
    {
     "data": {
      "image/png": "[encoded data removed]",
      "text/plain": [
       "<Figure size 720x432 with 1 Axes>"
      ]
     },
     "metadata": {
      "needs_background": "light"
     },
     "output_type": "display_data"
    }
   ],
   "source": [
    "x = df_puntos['PROVIDERCHANNEL'].value_counts () \n",
    "x = x.sort_index () \n",
    "plt.figure(figsize = (10,6)) \n",
    "ax = sns.barplot (x.index, x.values, alpha = 0.8) \n",
    "plt.title (\"platform\") \n",
    "plt.ylabel ('count') \n",
    "plt.xlabel ('platform') \n",
    "rects = ax.patches \n",
    "labels = x.values \n",
    "for rect, label in zip (rects, labels): \n",
    "    height = rect.get_height () \n",
    "    ax.text (rect.get_x () + rect.get_width () / 2, height + 5, label, ha = 'center', va = 'bottom') \n",
    "plt.show ();"
   ]
  },
  {
   "cell_type": "code",
   "execution_count": 52,
   "metadata": {},
   "outputs": [],
   "source": [
    "df_example = df_example.merge(df_platform,how='left',on = 'EXPERIENCE_ID')"
   ]
  },
  {
   "cell_type": "code",
   "execution_count": 53,
   "metadata": {},
   "outputs": [
    {
     "data": {
      "image/png": "[encoded data removed]",
      "text/plain": [
       "<Figure size 720x432 with 1 Axes>"
      ]
     },
     "metadata": {
      "needs_background": "light"
     },
     "output_type": "display_data"
    }
   ],
   "source": [
    "x = df_example['PROVIDERCHANNEL'].value_counts () \n",
    "x = x.sort_index () \n",
    "plt.figure(figsize = (10,6)) \n",
    "ax = sns.barplot (x.index, x.values, alpha = 0.8) \n",
    "plt.title (\"platform\") \n",
    "plt.ylabel ('count') \n",
    "plt.xlabel ('platform') \n",
    "rects = ax.patches \n",
    "labels = x.values \n",
    "for rect, label in zip (rects, labels): \n",
    "    height = rect.get_height () \n",
    "    ax.text (rect.get_x () + rect.get_width () / 2, height + 5, label, ha = 'center', va = 'bottom') \n",
    "plt.show ();"
   ]
  },
  {
   "cell_type": "markdown",
   "metadata": {},
   "source": [
    "Ratio por Plataforma:"
   ]
  },
  {
   "cell_type": "code",
   "execution_count": 54,
   "metadata": {
    "scrolled": true
   },
   "outputs": [
    {
     "name": "stdout",
     "output_type": "stream",
     "text": [
      "Android: 9.95%\n",
      "Desktop: 6.48%\n",
      "iOS: 5.35%\n"
     ]
    }
   ],
   "source": [
    "print('Android: ' + str(round(65.891 / 662.205 * 100,2)) + '%')\n",
    "print('Desktop: ' + str(round(55.519 / 857.373 * 100,2)) + '%')\n",
    "print('iOS: ' + str(round(6.660 / 124.411 * 100,2)) + '%')"
   ]
  },
  {
   "cell_type": "code",
   "execution_count": 55,
   "metadata": {},
   "outputs": [],
   "source": [
    "df_2 = df_final #Save df"
   ]
  },
  {
   "cell_type": "code",
   "execution_count": 72,
   "metadata": {},
   "outputs": [],
   "source": [
    "def short_text(text):\n",
    "    if str.lower(text) == 'ok':\n",
    "        is_short_text = False\n",
    "    elif str.lower(text) == 'ok.':\n",
    "        is_short_text = False\n",
    "    elif str.lower(text) == 'mal':\n",
    "        is_short_text = False\n",
    "    elif len(text) < 4:\n",
    "        is_short_text = True\n",
    "    elif (text) == 'None':\n",
    "        is_short_text = True\n",
    "    else:\n",
    "        is_short_text = False\n",
    "    return is_short_text  "
   ]
  },
  {
   "cell_type": "code",
   "execution_count": null,
   "metadata": {},
   "outputs": [],
   "source": [
    "#OMITO ESTE PASO YA QUE NO ME INTERESA SABER LA CANTIDAD DE REVIEWS CON OK O MAL, Y LO HAGO POR FUNCION TRUE/FALSE.\n",
    "df_final['title_is_ok'] = df_final['TITLE'].apply(lambda x: True if str.lower(x) == 'ok' else False)\n",
    "df_final['desc_is_ok'] = df_final['DESCRIPTION'].apply(lambda x: True if str.lower(x) == 'ok' else False)\n",
    "df_final['title_is_mal'] = df_final['TITLE'].apply(lambda x: True if str.lower(x) == 'mal' else False)\n",
    "df_final['desc_is_mal'] = df_final['DESCRIPTION'].apply(lambda x: True if str.lower(x) == 'mal' else False)\n",
    "#df_final['is_short_title'] = df_final['TITLE'].str.len()\n",
    "#df_final['is_short_desc'] = df_final['DESCRIPTION'].str.len()\n",
    "#df_final['is_short_title']=df_final['is_short_title'].apply(lambda x: True if x < 4 else False)\n",
    "#df_final['is_short_desc']=df_final['is_short_desc'].apply(lambda x: True if x < 4 else False)\n",
    "df_final['is_short_title']=df_final.TITLE.apply(len).apply(lambda x: True if x < 4 else False)\n",
    "df_final['is_short_desc']=df_final.DESCRIPTION.apply(len).apply(lambda x: True if x < 4 else False)"
   ]
  },
  {
   "cell_type": "code",
   "execution_count": 73,
   "metadata": {},
   "outputs": [],
   "source": [
    "df_final['is_short_title']=df_final.TITLE.apply(lambda x: short_text(x))\n",
    "df_final['is_short_desc']=df_final.DESCRIPTION.apply(lambda x: short_text(x))"
   ]
  },
  {
   "cell_type": "markdown",
   "metadata": {},
   "source": [
    "Detectar si algun caractes esta repetido mas de dos veces, (ej: \"Hooola\" o \"aaaaa\" o \"--....\")"
   ]
  },
  {
   "cell_type": "code",
   "execution_count": 74,
   "metadata": {},
   "outputs": [],
   "source": [
    "p = r'(.)\\1{2,}'\n",
    "\n",
    "df_final['title_is_rep'] = df_final['TITLE'].apply(lambda x: re.search(p, x))\n",
    "df_final['title_is_rep'] = df_final['title_is_rep'].apply(lambda x: True if x != None else False)\n",
    "\n",
    "df_final['desc_is_rep'] = df_final['DESCRIPTION'].apply(lambda x: re.search(p, x))\n",
    "df_final['desc_is_rep'] = df_final['desc_is_rep'].apply(lambda x: True if x != None else False)"
   ]
  },
  {
   "cell_type": "code",
   "execution_count": 75,
   "metadata": {},
   "outputs": [
    {
     "data": {
      "text/html": [
       "<div>\n",
       "<style scoped>\n",
       "    .dataframe tbody tr th:only-of-type {\n",
       "        vertical-align: middle;\n",
       "    }\n",
       "\n",
       "    .dataframe tbody tr th {\n",
       "        vertical-align: top;\n",
       "    }\n",
       "\n",
       "    .dataframe thead th {\n",
       "        text-align: right;\n",
       "    }\n",
       "</style>\n",
       "<table border=\"1\" class=\"dataframe\">\n",
       "  <thead>\n",
       "    <tr style=\"text-align: right;\">\n",
       "      <th></th>\n",
       "      <th>EXPERIENCE_ID</th>\n",
       "      <th>FECHA</th>\n",
       "      <th>FECHA_REVIEW</th>\n",
       "      <th>RATING</th>\n",
       "      <th>TITLE</th>\n",
       "      <th>DESCRIPTION</th>\n",
       "      <th>TD</th>\n",
       "      <th>is_bad_review</th>\n",
       "      <th>clean_text</th>\n",
       "      <th>token_text</th>\n",
       "      <th>es_insulto</th>\n",
       "      <th>title_is_punct</th>\n",
       "      <th>desc_is_punct</th>\n",
       "      <th>is_short_title</th>\n",
       "      <th>is_short_desc</th>\n",
       "      <th>title_is_rep</th>\n",
       "      <th>desc_is_rep</th>\n",
       "    </tr>\n",
       "  </thead>\n",
       "  <tbody>\n",
       "    <tr>\n",
       "      <th>446379</th>\n",
       "      <td>34196390019</td>\n",
       "      <td>2019-06-12</td>\n",
       "      <td>2019-06-12</td>\n",
       "      <td>5</td>\n",
       "      <td>oportunidade de aprender y reconocer trabajo...</td>\n",
       "      <td>oportunidade de crescer y aprender, cambiar de...</td>\n",
       "      <td>oportunidade de aprender y reconocer trabajo.....</td>\n",
       "      <td>0</td>\n",
       "      <td>oportunidade aprender reconocer trabajar ... o...</td>\n",
       "      <td>[oportunidade, de, aprender, y, reconocer, tra...</td>\n",
       "      <td>False</td>\n",
       "      <td>False</td>\n",
       "      <td>False</td>\n",
       "      <td>False</td>\n",
       "      <td>False</td>\n",
       "      <td>True</td>\n",
       "      <td>True</td>\n",
       "    </tr>\n",
       "    <tr>\n",
       "      <th>532337</th>\n",
       "      <td>34194034818</td>\n",
       "      <td>2019-03-25</td>\n",
       "      <td>2019-03-25</td>\n",
       "      <td>5</td>\n",
       "      <td>es una   muy buena porque sabes trabajar tamb</td>\n",
       "      <td>Lo positivo de trabajar en Burguer King es la ...</td>\n",
       "      <td>es una   muy buena porque sabes trabajar tamb ...</td>\n",
       "      <td>0</td>\n",
       "      <td>ser bueno saber trabajar tamb positivo trabaja...</td>\n",
       "      <td>[es, una, muy, buena, porque, sabes, trabajar,...</td>\n",
       "      <td>False</td>\n",
       "      <td>False</td>\n",
       "      <td>False</td>\n",
       "      <td>False</td>\n",
       "      <td>False</td>\n",
       "      <td>True</td>\n",
       "      <td>True</td>\n",
       "    </tr>\n",
       "    <tr>\n",
       "      <th>1154109</th>\n",
       "      <td>34196407000</td>\n",
       "      <td>2019-06-12</td>\n",
       "      <td>2019-06-12</td>\n",
       "      <td>1</td>\n",
       "      <td>xxxx</td>\n",
       "      <td>Xxxx</td>\n",
       "      <td>xxxx Xxxx</td>\n",
       "      <td>1</td>\n",
       "      <td>xxxx xxxx</td>\n",
       "      <td>[xxxx, Xxxx]</td>\n",
       "      <td>False</td>\n",
       "      <td>False</td>\n",
       "      <td>False</td>\n",
       "      <td>False</td>\n",
       "      <td>False</td>\n",
       "      <td>True</td>\n",
       "      <td>True</td>\n",
       "    </tr>\n",
       "    <tr>\n",
       "      <th>41819</th>\n",
       "      <td>34199540171</td>\n",
       "      <td>2019-10-01</td>\n",
       "      <td>2019-10-01</td>\n",
       "      <td>5</td>\n",
       "      <td>hvvhhhhhhjj</td>\n",
       "      <td>ggggggg</td>\n",
       "      <td>hvvhhhhhhjj ggggggg</td>\n",
       "      <td>0</td>\n",
       "      <td>hvvhhhhhhjj ggggggg</td>\n",
       "      <td>[hvvhhhhhhjj, ggggggg]</td>\n",
       "      <td>False</td>\n",
       "      <td>False</td>\n",
       "      <td>False</td>\n",
       "      <td>False</td>\n",
       "      <td>False</td>\n",
       "      <td>True</td>\n",
       "      <td>True</td>\n",
       "    </tr>\n",
       "    <tr>\n",
       "      <th>562700</th>\n",
       "      <td>34194803413</td>\n",
       "      <td>2019-04-19</td>\n",
       "      <td>2019-04-19</td>\n",
       "      <td>4</td>\n",
       "      <td>Xxxx</td>\n",
       "      <td>Xxxx</td>\n",
       "      <td>Xxxx Xxxx</td>\n",
       "      <td>0</td>\n",
       "      <td>xxxx xxxx</td>\n",
       "      <td>[Xxxx, Xxxx]</td>\n",
       "      <td>False</td>\n",
       "      <td>False</td>\n",
       "      <td>False</td>\n",
       "      <td>False</td>\n",
       "      <td>False</td>\n",
       "      <td>True</td>\n",
       "      <td>True</td>\n",
       "    </tr>\n",
       "  </tbody>\n",
       "</table>\n",
       "</div>"
      ],
      "text/plain": [
       "         EXPERIENCE_ID      FECHA FECHA_REVIEW  RATING  \\\n",
       "446379     34196390019 2019-06-12   2019-06-12       5   \n",
       "532337     34194034818 2019-03-25   2019-03-25       5   \n",
       "1154109    34196407000 2019-06-12   2019-06-12       1   \n",
       "41819      34199540171 2019-10-01   2019-10-01       5   \n",
       "562700     34194803413 2019-04-19   2019-04-19       4   \n",
       "\n",
       "                                                   TITLE  \\\n",
       "446379   oportunidade de aprender y reconocer trabajo...   \n",
       "532337     es una   muy buena porque sabes trabajar tamb   \n",
       "1154109                                             xxxx   \n",
       "41819                                        hvvhhhhhhjj   \n",
       "562700                                              Xxxx   \n",
       "\n",
       "                                               DESCRIPTION  \\\n",
       "446379   oportunidade de crescer y aprender, cambiar de...   \n",
       "532337   Lo positivo de trabajar en Burguer King es la ...   \n",
       "1154109                                               Xxxx   \n",
       "41819                                              ggggggg   \n",
       "562700                                                Xxxx   \n",
       "\n",
       "                                                        TD  is_bad_review  \\\n",
       "446379   oportunidade de aprender y reconocer trabajo.....              0   \n",
       "532337   es una   muy buena porque sabes trabajar tamb ...              0   \n",
       "1154109                                          xxxx Xxxx              1   \n",
       "41819                                  hvvhhhhhhjj ggggggg              0   \n",
       "562700                                           Xxxx Xxxx              0   \n",
       "\n",
       "                                                clean_text  \\\n",
       "446379   oportunidade aprender reconocer trabajar ... o...   \n",
       "532337   ser bueno saber trabajar tamb positivo trabaja...   \n",
       "1154109                                          xxxx xxxx   \n",
       "41819                                  hvvhhhhhhjj ggggggg   \n",
       "562700                                           xxxx xxxx   \n",
       "\n",
       "                                                token_text  es_insulto  \\\n",
       "446379   [oportunidade, de, aprender, y, reconocer, tra...       False   \n",
       "532337   [es, una, muy, buena, porque, sabes, trabajar,...       False   \n",
       "1154109                                       [xxxx, Xxxx]       False   \n",
       "41819                               [hvvhhhhhhjj, ggggggg]       False   \n",
       "562700                                        [Xxxx, Xxxx]       False   \n",
       "\n",
       "         title_is_punct  desc_is_punct  is_short_title  is_short_desc  \\\n",
       "446379            False          False           False          False   \n",
       "532337            False          False           False          False   \n",
       "1154109           False          False           False          False   \n",
       "41819             False          False           False          False   \n",
       "562700            False          False           False          False   \n",
       "\n",
       "         title_is_rep  desc_is_rep  \n",
       "446379           True         True  \n",
       "532337           True         True  \n",
       "1154109          True         True  \n",
       "41819            True         True  \n",
       "562700           True         True  "
      ]
     },
     "execution_count": 75,
     "metadata": {},
     "output_type": "execute_result"
    }
   ],
   "source": [
    "#explorar la data...\n",
    "#Parte del largo del titulo\n",
    "df_final[((df_final['is_short_title']==False) \n",
    "         &(df_final['is_short_desc']==False))\n",
    "         #parte de los puntos y numeros\n",
    "                  &((df_final['title_is_punct']==False)\n",
    "                  &(df_final['desc_is_punct']==False))\n",
    "         #parte de caracteres repetidos\n",
    "                           &((df_final['title_is_rep']==True)\n",
    "                           &(df_final['desc_is_rep']==True))\n",
    "         #parte del insulto\n",
    "                               &(df_final['es_insulto']==False)\n",
    "        ].sample(n=500,random_state=1).head()"
   ]
  },
  {
   "cell_type": "code",
   "execution_count": 76,
   "metadata": {
    "scrolled": false
   },
   "outputs": [
    {
     "data": {
      "text/html": [
       "<div>\n",
       "<style scoped>\n",
       "    .dataframe tbody tr th:only-of-type {\n",
       "        vertical-align: middle;\n",
       "    }\n",
       "\n",
       "    .dataframe tbody tr th {\n",
       "        vertical-align: top;\n",
       "    }\n",
       "\n",
       "    .dataframe thead th {\n",
       "        text-align: right;\n",
       "    }\n",
       "</style>\n",
       "<table border=\"1\" class=\"dataframe\">\n",
       "  <thead>\n",
       "    <tr style=\"text-align: right;\">\n",
       "      <th></th>\n",
       "      <th>EXPERIENCE_ID</th>\n",
       "      <th>FECHA</th>\n",
       "      <th>FECHA_REVIEW</th>\n",
       "      <th>RATING</th>\n",
       "      <th>TITLE</th>\n",
       "      <th>DESCRIPTION</th>\n",
       "      <th>TD</th>\n",
       "      <th>is_bad_review</th>\n",
       "      <th>clean_text</th>\n",
       "      <th>token_text</th>\n",
       "      <th>es_insulto</th>\n",
       "      <th>title_is_punct</th>\n",
       "      <th>desc_is_punct</th>\n",
       "      <th>is_short_title</th>\n",
       "      <th>is_short_desc</th>\n",
       "      <th>title_is_rep</th>\n",
       "      <th>desc_is_rep</th>\n",
       "    </tr>\n",
       "  </thead>\n",
       "  <tbody>\n",
       "    <tr>\n",
       "      <th>0</th>\n",
       "      <td>24326061658</td>\n",
       "      <td>2019-01-13</td>\n",
       "      <td>2019-01-13</td>\n",
       "      <td>5</td>\n",
       "      <td>df</td>\n",
       "      <td>df</td>\n",
       "      <td>df df</td>\n",
       "      <td>0</td>\n",
       "      <td>df df</td>\n",
       "      <td>[df, df]</td>\n",
       "      <td>False</td>\n",
       "      <td>False</td>\n",
       "      <td>False</td>\n",
       "      <td>True</td>\n",
       "      <td>True</td>\n",
       "      <td>False</td>\n",
       "      <td>False</td>\n",
       "    </tr>\n",
       "    <tr>\n",
       "      <th>1</th>\n",
       "      <td>34191592200</td>\n",
       "      <td>2019-01-13</td>\n",
       "      <td>2019-01-13</td>\n",
       "      <td>5</td>\n",
       "      <td>Muy buena</td>\n",
       "      <td>Buenas condiciones, trato, profesionalidad</td>\n",
       "      <td>Muy buena Buenas condiciones, trato, profesion...</td>\n",
       "      <td>0</td>\n",
       "      <td>bueno buenas condicionar tratar profesionalidad</td>\n",
       "      <td>[Muy, buena, Buenas, condiciones, ,, trato, ,,...</td>\n",
       "      <td>False</td>\n",
       "      <td>False</td>\n",
       "      <td>False</td>\n",
       "      <td>False</td>\n",
       "      <td>False</td>\n",
       "      <td>False</td>\n",
       "      <td>False</td>\n",
       "    </tr>\n",
       "    <tr>\n",
       "      <th>2</th>\n",
       "      <td>34191589955</td>\n",
       "      <td>2019-01-13</td>\n",
       "      <td>2019-01-13</td>\n",
       "      <td>3</td>\n",
       "      <td>Compa?erismi</td>\n",
       "      <td>Una empresa bastante grande con muchos trabaja...</td>\n",
       "      <td>Companerismi Una empresa bastante grande con m...</td>\n",
       "      <td>0</td>\n",
       "      <td>companerismi empresa bastante grande trabajado...</td>\n",
       "      <td>[Companerismi, Una, empresa, bastante, grande,...</td>\n",
       "      <td>False</td>\n",
       "      <td>False</td>\n",
       "      <td>False</td>\n",
       "      <td>False</td>\n",
       "      <td>False</td>\n",
       "      <td>False</td>\n",
       "      <td>False</td>\n",
       "    </tr>\n",
       "    <tr>\n",
       "      <th>3</th>\n",
       "      <td>34191631675</td>\n",
       "      <td>2019-01-14</td>\n",
       "      <td>2019-01-14</td>\n",
       "      <td>3</td>\n",
       "      <td>.</td>\n",
       "      <td>.</td>\n",
       "      <td>. .</td>\n",
       "      <td>0</td>\n",
       "      <td></td>\n",
       "      <td>[., .]</td>\n",
       "      <td>False</td>\n",
       "      <td>True</td>\n",
       "      <td>True</td>\n",
       "      <td>True</td>\n",
       "      <td>True</td>\n",
       "      <td>False</td>\n",
       "      <td>False</td>\n",
       "    </tr>\n",
       "    <tr>\n",
       "      <th>4</th>\n",
       "      <td>34198040437</td>\n",
       "      <td>2019-08-20</td>\n",
       "      <td>2019-08-20</td>\n",
       "      <td>5</td>\n",
       "      <td>Muy buena</td>\n",
       "      <td>Muy buena</td>\n",
       "      <td>Muy buena Muy buena</td>\n",
       "      <td>0</td>\n",
       "      <td>bueno bueno</td>\n",
       "      <td>[Muy, buena, Muy, buena]</td>\n",
       "      <td>False</td>\n",
       "      <td>False</td>\n",
       "      <td>False</td>\n",
       "      <td>False</td>\n",
       "      <td>False</td>\n",
       "      <td>False</td>\n",
       "      <td>False</td>\n",
       "    </tr>\n",
       "  </tbody>\n",
       "</table>\n",
       "</div>"
      ],
      "text/plain": [
       "   EXPERIENCE_ID      FECHA FECHA_REVIEW  RATING         TITLE  \\\n",
       "0    24326061658 2019-01-13   2019-01-13       5            df   \n",
       "1    34191592200 2019-01-13   2019-01-13       5     Muy buena   \n",
       "2    34191589955 2019-01-13   2019-01-13       3  Compa?erismi   \n",
       "3    34191631675 2019-01-14   2019-01-14       3             .   \n",
       "4    34198040437 2019-08-20   2019-08-20       5     Muy buena   \n",
       "\n",
       "                                         DESCRIPTION  \\\n",
       "0                                                 df   \n",
       "1         Buenas condiciones, trato, profesionalidad   \n",
       "2  Una empresa bastante grande con muchos trabaja...   \n",
       "3                                                  .   \n",
       "4                                          Muy buena   \n",
       "\n",
       "                                                  TD  is_bad_review  \\\n",
       "0                                              df df              0   \n",
       "1  Muy buena Buenas condiciones, trato, profesion...              0   \n",
       "2  Companerismi Una empresa bastante grande con m...              0   \n",
       "3                                                . .              0   \n",
       "4                                Muy buena Muy buena              0   \n",
       "\n",
       "                                          clean_text  \\\n",
       "0                                              df df   \n",
       "1    bueno buenas condicionar tratar profesionalidad   \n",
       "2  companerismi empresa bastante grande trabajado...   \n",
       "3                                                      \n",
       "4                                        bueno bueno   \n",
       "\n",
       "                                          token_text  es_insulto  \\\n",
       "0                                           [df, df]       False   \n",
       "1  [Muy, buena, Buenas, condiciones, ,, trato, ,,...       False   \n",
       "2  [Companerismi, Una, empresa, bastante, grande,...       False   \n",
       "3                                             [., .]       False   \n",
       "4                           [Muy, buena, Muy, buena]       False   \n",
       "\n",
       "   title_is_punct  desc_is_punct  is_short_title  is_short_desc  title_is_rep  \\\n",
       "0           False          False            True           True         False   \n",
       "1           False          False           False          False         False   \n",
       "2           False          False           False          False         False   \n",
       "3            True           True            True           True         False   \n",
       "4           False          False           False          False         False   \n",
       "\n",
       "   desc_is_rep  \n",
       "0        False  \n",
       "1        False  \n",
       "2        False  \n",
       "3        False  \n",
       "4        False  "
      ]
     },
     "execution_count": 76,
     "metadata": {},
     "output_type": "execute_result"
    }
   ],
   "source": [
    "df_final.head()"
   ]
  },
  {
   "cell_type": "code",
   "execution_count": 77,
   "metadata": {
    "scrolled": true
   },
   "outputs": [
    {
     "name": "stdout",
     "output_type": "stream",
     "text": [
      "EXPERIENCE_ID\n",
      "FECHA\n",
      "FECHA_REVIEW\n",
      "RATING\n",
      "TITLE\n",
      "DESCRIPTION\n",
      "TD\n",
      "is_bad_review\n",
      "clean_text\n",
      "token_text\n",
      "es_insulto\n",
      "title_is_punct\n",
      "desc_is_punct\n",
      "is_short_title\n",
      "is_short_desc\n",
      "title_is_rep\n",
      "desc_is_rep\n"
     ]
    }
   ],
   "source": [
    "for col in df_final.columns: \n",
    "    print(col)"
   ]
  },
  {
   "cell_type": "code",
   "execution_count": 78,
   "metadata": {},
   "outputs": [],
   "source": [
    "df_final.to_csv('df_final_matriz.csv', index= True)\n",
    "#, sep=';')"
   ]
  },
  {
   "cell_type": "markdown",
   "metadata": {},
   "source": [
    "#### Definir funcion para etiquetar una review como: Aprobada, Moderacion manual y Rechazada."
   ]
  },
  {
   "cell_type": "code",
   "execution_count": 79,
   "metadata": {},
   "outputs": [],
   "source": [
    "#explorar la data...\n",
    "#Parte del largo del titulo\n",
    "df_sample = df_final[((df_final['is_short_title']==False) \n",
    "         &(df_final['is_short_desc']==False))\n",
    "         #parte de los puntos y numeros\n",
    "                  &((df_final['title_is_punct']==False)\n",
    "                  &(df_final['desc_is_punct']==False))\n",
    "         #parte de caracteres repetidos\n",
    "                           &((df_final['title_is_rep']==False)\n",
    "                           &(df_final['desc_is_rep']==False))\n",
    "         #parte del insulto\n",
    "                               &(df_final['es_insulto']==False)\n",
    "         #nota de la review\n",
    "         #                          &((df_final['RATING']==1) | (df_final['RATING']==2))\n",
    "        ].iloc[:,:].sample(n=500,random_state=1)"
   ]
  },
  {
   "cell_type": "code",
   "execution_count": 80,
   "metadata": {},
   "outputs": [],
   "source": [
    "df_sample.to_csv('sample_500_random.csv', index= True)\n",
    "#, sep=';')"
   ]
  },
  {
   "cell_type": "code",
   "execution_count": 81,
   "metadata": {},
   "outputs": [],
   "source": [
    "#explorar la data...\n",
    "#Parte del largo del titulo\n",
    "df_sample = df_final[(df_final['RATING']==2)\n",
    "        ].iloc[:,:6].sample(n=500,random_state=1)"
   ]
  },
  {
   "cell_type": "code",
   "execution_count": 82,
   "metadata": {},
   "outputs": [
    {
     "data": {
      "text/html": [
       "<div>\n",
       "<style scoped>\n",
       "    .dataframe tbody tr th:only-of-type {\n",
       "        vertical-align: middle;\n",
       "    }\n",
       "\n",
       "    .dataframe tbody tr th {\n",
       "        vertical-align: top;\n",
       "    }\n",
       "\n",
       "    .dataframe thead th {\n",
       "        text-align: right;\n",
       "    }\n",
       "</style>\n",
       "<table border=\"1\" class=\"dataframe\">\n",
       "  <thead>\n",
       "    <tr style=\"text-align: right;\">\n",
       "      <th></th>\n",
       "      <th>EXPERIENCE_ID</th>\n",
       "      <th>FECHA</th>\n",
       "      <th>FECHA_REVIEW</th>\n",
       "      <th>RATING</th>\n",
       "      <th>TITLE</th>\n",
       "      <th>DESCRIPTION</th>\n",
       "    </tr>\n",
       "  </thead>\n",
       "  <tbody>\n",
       "    <tr>\n",
       "      <th>1479263</th>\n",
       "      <td>34194585663</td>\n",
       "      <td>2019-04-10</td>\n",
       "      <td>2019-04-10</td>\n",
       "      <td>2</td>\n",
       "      <td>gran experiencia</td>\n",
       "      <td>gran experiencia</td>\n",
       "    </tr>\n",
       "    <tr>\n",
       "      <th>755562</th>\n",
       "      <td>32316233100</td>\n",
       "      <td>2019-08-29</td>\n",
       "      <td>2019-08-29</td>\n",
       "      <td>2</td>\n",
       "      <td>exigen mucho para no percibir por lo trabajado</td>\n",
       "      <td>Me parece una empresa que se trabaja muchas ho...</td>\n",
       "    </tr>\n",
       "    <tr>\n",
       "      <th>1547949</th>\n",
       "      <td>33520686602</td>\n",
       "      <td>2019-07-17</td>\n",
       "      <td>2019-07-17</td>\n",
       "      <td>2</td>\n",
       "      <td>empresa muy grande. mucha suciedad en el ambiente</td>\n",
       "      <td>empresa muy grande. mucha suciedad en el ambiente</td>\n",
       "    </tr>\n",
       "    <tr>\n",
       "      <th>701589</th>\n",
       "      <td>34195817523</td>\n",
       "      <td>2019-05-23</td>\n",
       "      <td>2019-05-23</td>\n",
       "      <td>2</td>\n",
       "      <td>Buenas profesionales</td>\n",
       "      <td>.</td>\n",
       "    </tr>\n",
       "    <tr>\n",
       "      <th>1296658</th>\n",
       "      <td>34199065324</td>\n",
       "      <td>2019-10-10</td>\n",
       "      <td>2019-10-10</td>\n",
       "      <td>2</td>\n",
       "      <td>Bien todo</td>\n",
       "      <td>Bien</td>\n",
       "    </tr>\n",
       "  </tbody>\n",
       "</table>\n",
       "</div>"
      ],
      "text/plain": [
       "         EXPERIENCE_ID      FECHA FECHA_REVIEW  RATING  \\\n",
       "1479263    34194585663 2019-04-10   2019-04-10       2   \n",
       "755562     32316233100 2019-08-29   2019-08-29       2   \n",
       "1547949    33520686602 2019-07-17   2019-07-17       2   \n",
       "701589     34195817523 2019-05-23   2019-05-23       2   \n",
       "1296658    34199065324 2019-10-10   2019-10-10       2   \n",
       "\n",
       "                                                     TITLE  \\\n",
       "1479263                                   gran experiencia   \n",
       "755562      exigen mucho para no percibir por lo trabajado   \n",
       "1547949  empresa muy grande. mucha suciedad en el ambiente   \n",
       "701589                                Buenas profesionales   \n",
       "1296658                                          Bien todo   \n",
       "\n",
       "                                               DESCRIPTION  \n",
       "1479263                                   gran experiencia  \n",
       "755562   Me parece una empresa que se trabaja muchas ho...  \n",
       "1547949  empresa muy grande. mucha suciedad en el ambiente  \n",
       "701589                                                   .  \n",
       "1296658                                               Bien  "
      ]
     },
     "execution_count": 82,
     "metadata": {},
     "output_type": "execute_result"
    }
   ],
   "source": [
    "df_sample.head()"
   ]
  },
  {
   "cell_type": "code",
   "execution_count": null,
   "metadata": {},
   "outputs": [],
   "source": []
  }
 ],
 "metadata": {
  "kernelspec": {
   "display_name": "Python 3",
   "language": "python",
   "name": "python3"
  },
  "language_info": {
   "codemirror_mode": {
    "name": "ipython",
    "version": 3
   },
   "file_extension": ".py",
   "mimetype": "text/x-python",
   "name": "python",
   "nbconvert_exporter": "python",
   "pygments_lexer": "ipython3",
   "version": "3.7.7"
  }
 },
 "nbformat": 4,
 "nbformat_minor": 2
}
