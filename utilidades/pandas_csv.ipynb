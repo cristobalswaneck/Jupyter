{
 "cells": [
  {
   "cell_type": "code",
   "execution_count": 20,
   "id": "d3729995",
   "metadata": {},
   "outputs": [],
   "source": [
    "from openpyxl import Workbook"
   ]
  },
  {
   "cell_type": "code",
   "execution_count": 3,
   "id": "bfe76af8",
   "metadata": {},
   "outputs": [],
   "source": [
    "import pandas as pd"
   ]
  },
  {
   "cell_type": "code",
   "execution_count": 16,
   "id": "f94daa1d",
   "metadata": {},
   "outputs": [],
   "source": [
    "test = pd.read_csv('id_norm_puesto.csv', sep=';',encoding='utf-8', error_bad_lines=False)"
   ]
  },
  {
   "cell_type": "code",
   "execution_count": 17,
   "id": "bd5191cf",
   "metadata": {},
   "outputs": [
    {
     "data": {
      "text/html": [
       "<div>\n",
       "<style scoped>\n",
       "    .dataframe tbody tr th:only-of-type {\n",
       "        vertical-align: middle;\n",
       "    }\n",
       "\n",
       "    .dataframe tbody tr th {\n",
       "        vertical-align: top;\n",
       "    }\n",
       "\n",
       "    .dataframe thead th {\n",
       "        text-align: right;\n",
       "    }\n",
       "</style>\n",
       "<table border=\"1\" class=\"dataframe\">\n",
       "  <thead>\n",
       "    <tr style=\"text-align: right;\">\n",
       "      <th></th>\n",
       "      <th>ID_NORM</th>\n",
       "      <th>NOMBRE_NORM</th>\n",
       "    </tr>\n",
       "  </thead>\n",
       "  <tbody>\n",
       "    <tr>\n",
       "      <th>0</th>\n",
       "      <td>9313_fb7e2f4f-1545-42f1-972e-94082e49c6dc</td>\n",
       "      <td>Obrero de la construcción/Obrera de la constru...</td>\n",
       "    </tr>\n",
       "    <tr>\n",
       "      <th>1</th>\n",
       "      <td>1324_a70315e3-ae41-44a9-9fe5-7fe668469ee0</td>\n",
       "      <td>Director de importación y exportación de muebl...</td>\n",
       "    </tr>\n",
       "    <tr>\n",
       "      <th>2</th>\n",
       "      <td>8219_183d60f2-277f-47c8-a8c6-f5c8eedba2b0</td>\n",
       "      <td>Montador de municiones/Montadora de municiones</td>\n",
       "    </tr>\n",
       "    <tr>\n",
       "      <th>3</th>\n",
       "      <td>2352_02f1ae71-f89c-47b7-af2c-50d7ab1d9b8a</td>\n",
       "      <td>Profesor de alfabetización de adultos/Profesor...</td>\n",
       "    </tr>\n",
       "    <tr>\n",
       "      <th>4</th>\n",
       "      <td>3411_929ef41d-afd0-4d5a-b85b-69eab68fa368</td>\n",
       "      <td>Asistente jurídico</td>\n",
       "    </tr>\n",
       "    <tr>\n",
       "      <th>...</th>\n",
       "      <td>...</td>\n",
       "      <td>...</td>\n",
       "    </tr>\n",
       "    <tr>\n",
       "      <th>2886</th>\n",
       "      <td>7541_bcc199fe-f7df-42a5-bd45-e33ae6160f26</td>\n",
       "      <td>Buzo de rescate</td>\n",
       "    </tr>\n",
       "    <tr>\n",
       "      <th>2887</th>\n",
       "      <td>7113_f3fc11ca-9a72-40da-bf0f-b2aab7e33079</td>\n",
       "      <td>Cantero/Cantera</td>\n",
       "    </tr>\n",
       "    <tr>\n",
       "      <th>2888</th>\n",
       "      <td>1349_a005f8a2-2d8a-433e-8d89-13575f822fd4</td>\n",
       "      <td>Director de eficiencia energética/Directora de...</td>\n",
       "    </tr>\n",
       "    <tr>\n",
       "      <th>2889</th>\n",
       "      <td>9216_207d5c25-46fe-401c-b32f-551684e9a8ea</td>\n",
       "      <td>Mariscador/Mariscadora</td>\n",
       "    </tr>\n",
       "    <tr>\n",
       "      <th>2890</th>\n",
       "      <td>5111_58ff0ec2-08ba-4b21-b765-babb6d76ca36</td>\n",
       "      <td>Azafato/Azafata</td>\n",
       "    </tr>\n",
       "  </tbody>\n",
       "</table>\n",
       "<p>2891 rows × 2 columns</p>\n",
       "</div>"
      ],
      "text/plain": [
       "                                        ID_NORM  \\\n",
       "0     9313_fb7e2f4f-1545-42f1-972e-94082e49c6dc   \n",
       "1     1324_a70315e3-ae41-44a9-9fe5-7fe668469ee0   \n",
       "2     8219_183d60f2-277f-47c8-a8c6-f5c8eedba2b0   \n",
       "3     2352_02f1ae71-f89c-47b7-af2c-50d7ab1d9b8a   \n",
       "4     3411_929ef41d-afd0-4d5a-b85b-69eab68fa368   \n",
       "...                                         ...   \n",
       "2886  7541_bcc199fe-f7df-42a5-bd45-e33ae6160f26   \n",
       "2887  7113_f3fc11ca-9a72-40da-bf0f-b2aab7e33079   \n",
       "2888  1349_a005f8a2-2d8a-433e-8d89-13575f822fd4   \n",
       "2889  9216_207d5c25-46fe-401c-b32f-551684e9a8ea   \n",
       "2890  5111_58ff0ec2-08ba-4b21-b765-babb6d76ca36   \n",
       "\n",
       "                                            NOMBRE_NORM  \n",
       "0     Obrero de la construcción/Obrera de la constru...  \n",
       "1     Director de importación y exportación de muebl...  \n",
       "2        Montador de municiones/Montadora de municiones  \n",
       "3     Profesor de alfabetización de adultos/Profesor...  \n",
       "4                                    Asistente jurídico  \n",
       "...                                                 ...  \n",
       "2886                                    Buzo de rescate  \n",
       "2887                                    Cantero/Cantera  \n",
       "2888  Director de eficiencia energética/Directora de...  \n",
       "2889                             Mariscador/Mariscadora  \n",
       "2890                                    Azafato/Azafata  \n",
       "\n",
       "[2891 rows x 2 columns]"
      ]
     },
     "execution_count": 17,
     "metadata": {},
     "output_type": "execute_result"
    }
   ],
   "source": [
    "test"
   ]
  },
  {
   "cell_type": "code",
   "execution_count": 21,
   "id": "b62b27f6",
   "metadata": {},
   "outputs": [],
   "source": [
    "test.to_excel(\"output.xlsx\")  "
   ]
  },
  {
   "cell_type": "code",
   "execution_count": null,
   "id": "c5ae791c",
   "metadata": {},
   "outputs": [],
   "source": []
  }
 ],
 "metadata": {
  "kernelspec": {
   "display_name": "Python 3",
   "language": "python",
   "name": "python3"
  },
  "language_info": {
   "codemirror_mode": {
    "name": "ipython",
    "version": 3
   },
   "file_extension": ".py",
   "mimetype": "text/x-python",
   "name": "python",
   "nbconvert_exporter": "python",
   "pygments_lexer": "ipython3",
   "version": "3.8.10"
  }
 },
 "nbformat": 4,
 "nbformat_minor": 5
}
